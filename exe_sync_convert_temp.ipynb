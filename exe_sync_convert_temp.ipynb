{
 "cells": [
  {
   "cell_type": "code",
   "execution_count": 1,
   "metadata": {},
   "outputs": [],
   "source": [
    "from utlis.convert_calib_utlis.convert_sync_and_label import *"
   ]
  },
  {
   "cell_type": "code",
   "execution_count": 2,
   "metadata": {},
   "outputs": [
    {
     "name": "stdout",
     "output_type": "stream",
     "text": [
      "converted sync data saved to: /home/lq53/mir_data/sync_test/rawvid_mirstop_30s_light_3/timdataframe_sampleid_rescue/calib_convert_test/df_converted_pos_synced_30s_label3d_dannce.mat\n",
      "converted label data saved to: /home/lq53/mir_data/sync_test/rawvid_mirstop_30s_light_3/timdataframe_sampleid_rescue/df_converted_mir_sampleid_4framelabel_test_20240802_173848_Label3D_dannce.mat\n"
     ]
    }
   ],
   "source": [
    "\n",
    "data_sets = [\n",
    "    {\n",
    "        'old_calib_path': '/home/lq53/mir_data/sync_test/rawvid_mirstop_30s_light_3/timdataframe_sampleid_rescue/calib_convert_test/pos_synced_30s_label3d_dannce.mat',\n",
    "        'label_path': '/home/lq53/mir_data/sync_test/rawvid_mirstop_30s_light_3/timdataframe_sampleid_rescue/mir_sampleid_4framelabel_test_20240802_173848_Label3D_dannce.mat',\n",
    "    },\n",
    "    # Add more data sets as needed\n",
    "]\n",
    "\n",
    "# tested and works well for test sets\n",
    "# data_sets = [\n",
    "#     {\n",
    "#         'old_calib_path': '/home/lq53/mir_data/sync_test/rawvid_mirstop_30s_light_3/timdataframe_sampleid_rescue/calib_convert_test/pos_synced_30s_label3d_dannce.mat',\n",
    "#         'label_path': '/home/lq53/mir_data/sync_test/rawvid_mirstop_30s_light_3/timdataframe_sampleid_rescue/mir_sampleid_4framelabel_test_20240802_173848_Label3D_dannce.mat',\n",
    "#     },\n",
    "#     # Add more data sets as needed\n",
    "# ]\n",
    "\n",
    "process_multiple_sets(data_sets)"
   ]
  }
 ],
 "metadata": {
  "kernelspec": {
   "display_name": "BBOP",
   "language": "python",
   "name": "python3"
  },
  "language_info": {
   "codemirror_mode": {
    "name": "ipython",
    "version": 3
   },
   "file_extension": ".py",
   "mimetype": "text/x-python",
   "name": "python",
   "nbconvert_exporter": "python",
   "pygments_lexer": "ipython3",
   "version": "3.9.18"
  }
 },
 "nbformat": 4,
 "nbformat_minor": 2
}
