{
 "cells": [
  {
   "cell_type": "code",
   "execution_count": 1,
   "metadata": {},
   "outputs": [],
   "source": [
    "from utlis.convert_calib_utlis.convert_sync_and_label import process_calib_and_labels # *"
   ]
  },
  {
   "cell_type": "code",
   "execution_count": 2,
   "metadata": {},
   "outputs": [
    {
     "name": "stdout",
     "output_type": "stream",
     "text": [
      "converted sync data saved to: /home/lq53/mir_data/24summ/2024_06_28/1686941_left_right_2/df_converted_pos_synced_1686941_left_right_2_2024_06_28_1686941_left_label3d_dannce.mat\n",
      "converted label data saved to: /home/lq53/mir_data/24summ/2024_06_28/1686941_left_right_2/label/df_converted_168941B2_20240628rec_Arnavcom_label_20240711_164802_Label3D_dannce.mat\n",
      "removed prior calib files to /home/lq53/mir_data/24summ/2024_06_28/1686941_left_right_2/prev_calib\n",
      "converted sync data saved to: /home/lq53/mir_data/24summ/2024_07_11/1691485BMCFS1547/df_converted_pos_synced_1691485BMCFS1547_calib_before_label3d_dannce.mat\n",
      "converted label data saved to: /home/lq53/mir_data/24summ/2024_07_11/1691485BMCFS1547/label/df_converted_mir_com_240711_1547_20240711_235440_Label3D_dannce.mat\n",
      "removed prior calib files to /home/lq53/mir_data/24summ/2024_07_11/1691485BMCFS1547/prev_calib\n"
     ]
    }
   ],
   "source": [
    "data_sets = [\n",
    "    # {\n",
    "    #     'base_path': '/home/lq53/mir_data/24summ/2024_07_11/1691485BMCFF1505',\n",
    "    #     'label_path': '/home/lq53/mir_data/24summ/2024_07_11/1691485BMCFF1505/labels/mir_com_preload_20240716_225646_Label3D_dannce.mat',\n",
    "    # },\n",
    "    # {\n",
    "    #     'base_path': '/home/lq53/mir_data/24summ/2024_07_10/1691485_no_hole_habituation_13_59',\n",
    "    #     'label_path': '/home/lq53/mir_data/24summ/2024_07_10/1691485_no_hole_habituation_13_59/label_com/arnav_dannce_20240717_095239_Label3D_dannce.mat',\n",
    "    # },\n",
    "    # {\n",
    "    #     'base_path': '/home/lq53/mir_data/24summ/2024_07_11/1691485BMCFF1505',\n",
    "    #     'label_path': '/home/lq53/mir_data/24summ/2024_07_11/1691485BMCFF1505/labels/arnav_dannce_30frames_20240717_153316_Label3D_dannce.mat',\n",
    "    # },\n",
    "    # {\n",
    "    #     'base_path': '/home/lq53/mir_data/24summ/2024_07_11/1691485BMCFF1505',\n",
    "    #     'label_path': '/home/lq53/mir_data/24summ/2024_07_11/1691485BMCFF1505/labels/arnav_dannce_40_edges_20240718_150932_Label3D_dannce.mat',\n",
    "    # },\n",
    "    # {\n",
    "    #     'base_path': '/home/lq53/mir_data/24summ/2024_07_10/1691485_left_hole_saline_10_35',\n",
    "    #     'label_path': '/home/lq53/mir_data/24summ/2024_07_10/1691485_left_hole_saline_10_35/labels/Arnav_dannce_20_20240718_155101_Label3D_dannce.mat',\n",
    "    # },\n",
    "    # {\n",
    "    #     'base_path': '/home/lq53/mir_data/24summ/2024_07_03/1691486_left_right_habituation',\n",
    "    #     'label_path': '/home/lq53/mir_data/24summ/2024_07_03/1691486_left_right_habituation/labels/arnav_dannce_20_20240719_151827_Label3D_dannce.mat',\n",
    "    # },\n",
    "    # {\n",
    "    #     'base_path': '/home/lq53/mir_data/24summ/2024_07_19/240605PMC_window2_right2holes_12_14',\n",
    "    #     'label_path': '/home/lq53/mir_data/24summ/2024_07_19/240605PMC_window2_right2holes_12_14/labels/arnav_10_20240719_161857_Label3D_dannce.mat',\n",
    "    # },\n",
    "    # {\n",
    "    #     'base_path': '/home/lq53/mir_data/24summ/2024_07_03/1691486_left_right_habituation',\n",
    "    #     'label_path': '/home/lq53/mir_data/24summ/2024_07_03/1691486_left_right_habituation/labels/mir_dannce_30_20240723_155236_Label3D_dannce.mat',\n",
    "    # },\n",
    "    # {\n",
    "    #     'base_path': '/home/lq53/mir_data/24summ/2024_07_16/1691485RMHBN1405',\n",
    "    #     'label_path': '/home/lq53/mir_data/24summ/2024_07_16/1691485RMHBN1405/labels/mir_label_walk_10_20240723_162519_Label3D_dannce.mat',\n",
    "    # },\n",
    "    # {\n",
    "    #     'base_path': '/home/lq53/mir_data/24summ/2024_07_15/1691485RMPBS1659',\n",
    "    #     'label_path': '/home/lq53/mir_data/24summ/2024_07_15/1691485RMPBS1659/labels/mir_dannce_walk_40_20240724_111104_Label3D_dannce.mat',\n",
    "    # },\n",
    "    # {\n",
    "    #     'base_path': '/home/lq53/mir_data/24summ/2024_07_19/240605PMC_window2_right2holes_11_30',\n",
    "    #     'label_path': '/home/lq53/mir_data/24summ/2024_07_19/240605PMC_window2_right2holes_11_30/labels/mir_dannce_ran_8_20240724_164907_Label3D_dannce.mat',\n",
    "    # },\n",
    "    # {\n",
    "    #     'base_path': '/home/lq53/mir_data/24summ/2024_07_15/1691485RMHBN1425',\n",
    "    #     'label_path': '/home/lq53/mir_data/24summ/2024_07_15/1691485RMHBN1425/labels/mir_dannce_rand34_20240725_153039_Label3D_dannce.mat',\n",
    "    # },\n",
    "    # {\n",
    "    #     'base_path': '/home/lq53/mir_data/24summ/2024_07_15/1691485RMPBF1531',\n",
    "    #     'label_path': '/home/lq53/mir_data/24summ/2024_07_15/1691485RMPBF1531/labels/mir_dannce_ran13_20240726_185614_Label3D_dannce.mat',\n",
    "    # },\n",
    "    # {\n",
    "    #     'base_path': '/home/lq53/mir_data/24summ/2024_07_15/1691485RMPBF1531',\n",
    "    #     'label_path': '/home/lq53/mir_data/24summ/2024_07_15/1691485RMPBF1531/labels/labels/mir_dannce_walk_21_20240729_115447_Label3D_dannce.mat',\n",
    "    # },\n",
    "    # {\n",
    "    #     'base_path': '/home/lq53/mir_data/24summ/2024_07_12/240605PMC1_right_hole_11_27',\n",
    "    #     'label_path': '/home/lq53/mir_data/24summ/2024_07_12/240605PMC1_right_hole_11_27/labels/mir_dannce_3_20240723_190211_Label3D_dannce.mat',\n",
    "    # },\n",
    "        {\n",
    "        'base_path': '/home/lq53/mir_data/24summ/2024_06_28/1686941_left_right_2',\n",
    "        'label_path': '/home/lq53/mir_data/24summ/2024_06_28/1686941_left_right_2/label/168941B2_20240628rec_Arnavcom_label_20240711_164802_Label3D_dannce.mat'\n",
    "    },\n",
    "        {\n",
    "        'base_path': '/home/lq53/mir_data/24summ/2024_07_11/1691485BMCFS1547',\n",
    "        'label_path': '/home/lq53/mir_data/24summ/2024_07_11/1691485BMCFS1547/label/mir_com_240711_1547_20240711_235440_Label3D_dannce.mat',\n",
    "    },\n",
    "]\n",
    "\n",
    "\n",
    "\n",
    "\n",
    "# data_sets = [\n",
    "#     {\n",
    "#         'base_path': '/home/lq53/mir_data/24summ/2024_07_10/1691485_no_hole_habituation_13_59',\n",
    "#         # 'old_calib_path': '/home/lq53/mir_data/sync_test/rawvid_mirstop_30s_light_3/timdataframe_sampleid_rescue/calib_convert_test/pos_synced_30s_label3d_dannce.mat',\n",
    "#         'label_path': '/home/lq53/mir_data/24summ/2024_07_10/1691485_no_hole_habituation_13_59/label_com/mir_com_labels_20240716_183143_Label3D_dannce.mat',\n",
    "#     },\n",
    "#     # Add more data sets as needed\n",
    "# ]\n",
    "\n",
    "# tested and works well for test sets\n",
    "# data_sets = [\n",
    "#     {\n",
    "#         'old_calib_path': '/home/lq53/mir_data/sync_test/rawvid_mirstop_30s_light_3/timdataframe_sampleid_rescue/calib_convert_test/pos_synced_30s_label3d_dannce.mat',\n",
    "#         'label_path': '/home/lq53/mir_data/sync_test/rawvid_mirstop_30s_light_3/timdataframe_sampleid_rescue/mir_sampleid_4framelabel_test_20240802_173848_Label3D_dannce.mat',\n",
    "#     },    \n",
    "#     # Add more data sets as needed\n",
    "# ]\n",
    "\n",
    "process_calib_and_labels(data_sets)"
   ]
  },
  {
   "cell_type": "code",
   "execution_count": 4,
   "metadata": {},
   "outputs": [
    {
     "ename": "FileNotFoundError",
     "evalue": "Calibration file not found in the /home/lq53/mir_data/24summ/2024_06_26/1686940_left.",
     "output_type": "error",
     "traceback": [
      "\u001b[0;31m---------------------------------------------------------------------------\u001b[0m",
      "\u001b[0;31mFileNotFoundError\u001b[0m                         Traceback (most recent call last)",
      "Cell \u001b[0;32mIn[4], line 8\u001b[0m\n\u001b[1;32m      1\u001b[0m data_sets \u001b[38;5;241m=\u001b[39m [\n\u001b[1;32m      2\u001b[0m     \u001b[38;5;66;03m# {'base_path': '/home/lq53/mir_data/24summ/2024_06_26/1686940_left'},\u001b[39;00m\n\u001b[1;32m      3\u001b[0m     {\u001b[38;5;124m'\u001b[39m\u001b[38;5;124mbase_path\u001b[39m\u001b[38;5;124m'\u001b[39m: \u001b[38;5;124m'\u001b[39m\u001b[38;5;124m/home/lq53/mir_data/24summ/2024_06_26/1686940_left\u001b[39m\u001b[38;5;124m'\u001b[39m},\n\u001b[1;32m      4\u001b[0m     {\u001b[38;5;124m'\u001b[39m\u001b[38;5;124mbase_path\u001b[39m\u001b[38;5;124m'\u001b[39m: \u001b[38;5;124m'\u001b[39m\u001b[38;5;124m/home/lq53/mir_data/24summ/2024_06_26/1686940_left\u001b[39m\u001b[38;5;124m'\u001b[39m},\n\u001b[1;32m      5\u001b[0m     \n\u001b[1;32m      6\u001b[0m ]\n\u001b[0;32m----> 8\u001b[0m \u001b[43mprocess_calibs\u001b[49m\u001b[43m(\u001b[49m\u001b[43mdata_sets\u001b[49m\u001b[43m)\u001b[49m\n",
      "File \u001b[0;32m~/mir_repos/BBOP/utlis/convert_calib_utlis/convert_sync_and_label.py:217\u001b[0m, in \u001b[0;36mprocess_calibs\u001b[0;34m(data_sets)\u001b[0m\n\u001b[1;32m    215\u001b[0m     \u001b[38;5;28;01mraise\u001b[39;00m \u001b[38;5;167;01mFileNotFoundError\u001b[39;00m(\u001b[38;5;124mf\u001b[39m\u001b[38;5;124m'\u001b[39m\u001b[38;5;124mCalibration file not found in the \u001b[39m\u001b[38;5;132;01m{\u001b[39;00mbase_path\u001b[38;5;132;01m}\u001b[39;00m\u001b[38;5;124m.\u001b[39m\u001b[38;5;124m'\u001b[39m)\n\u001b[1;32m    216\u001b[0m \u001b[38;5;28;01mif\u001b[39;00m os\u001b[38;5;241m.\u001b[39mpath\u001b[38;5;241m.\u001b[39mbasename(old_calib_path)\u001b[38;5;241m.\u001b[39mstartswith(\u001b[38;5;124m'\u001b[39m\u001b[38;5;124mdf_\u001b[39m\u001b[38;5;124m'\u001b[39m):\n\u001b[0;32m--> 217\u001b[0m     \u001b[38;5;28;01mraise\u001b[39;00m \u001b[38;5;167;01mFileNotFoundError\u001b[39;00m(\u001b[38;5;124mf\u001b[39m\u001b[38;5;124m'\u001b[39m\u001b[38;5;124mCalibration file not found in the \u001b[39m\u001b[38;5;132;01m{\u001b[39;00mbase_path\u001b[38;5;132;01m}\u001b[39;00m\u001b[38;5;124m.\u001b[39m\u001b[38;5;124m'\u001b[39m)\n\u001b[1;32m    218\u001b[0m \u001b[38;5;66;03m#     old_calib_path = find_calib_file(prev_calib_folder)\u001b[39;00m\n\u001b[1;32m    219\u001b[0m \u001b[38;5;66;03m#     if old_calib_path is None:\u001b[39;00m\n\u001b[1;32m    220\u001b[0m \u001b[38;5;66;03m#         raise FileNotFoundError(f'Calibration file not found in the {base_path}/prev_calib.')   \u001b[39;00m\n\u001b[1;32m    222\u001b[0m old_calib_name \u001b[38;5;241m=\u001b[39m os\u001b[38;5;241m.\u001b[39mpath\u001b[38;5;241m.\u001b[39mbasename(old_calib_path)\n",
      "\u001b[0;31mFileNotFoundError\u001b[0m: Calibration file not found in the /home/lq53/mir_data/24summ/2024_06_26/1686940_left."
     ]
    }
   ],
   "source": [
    "data_sets = [\n",
    "    # {'base_path': '/home/lq53/mir_data/24summ/2024_06_26/1686940_left'},\n",
    "]\n",
    "\n",
    "process_calibs(data_sets)"
   ]
  }
 ],
 "metadata": {
  "kernelspec": {
   "display_name": "BBOP",
   "language": "python",
   "name": "python3"
  },
  "language_info": {
   "codemirror_mode": {
    "name": "ipython",
    "version": 3
   },
   "file_extension": ".py",
   "mimetype": "text/x-python",
   "name": "python",
   "nbconvert_exporter": "python",
   "pygments_lexer": "ipython3",
   "version": "3.9.18"
  }
 },
 "nbformat": 4,
 "nbformat_minor": 2
}
