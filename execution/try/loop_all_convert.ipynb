{
 "cells": [
  {
   "cell_type": "code",
   "execution_count": 1,
   "metadata": {},
   "outputs": [],
   "source": [
    "from utlis.convert_calib_utlis.convert_sync_and_label import process_calibs_auto, check_processed_results\n",
    "import os, re"
   ]
  },
  {
   "cell_type": "code",
   "execution_count": 2,
   "metadata": {},
   "outputs": [],
   "source": [
    "summ_path = '/hpc/group/tdunn/Bryan_Rigs/BigOpenField/24summ'\n",
    "\n",
    "# process_calibs_auto(summ_path)"
   ]
  },
  {
   "cell_type": "code",
   "execution_count": 3,
   "metadata": {},
   "outputs": [
    {
     "name": "stdout",
     "output_type": "stream",
     "text": [
      "['2024_07_03', '2024_08_08', '2024_07_02', '2024_06_27', '2024_07_16', '2024_06_25', '2024_06_26', '2024_07_09', '2024_06_28', '2024_07_08', '2024_07_10', '2024_07_12', '2024_07_15', '2024_07_11', '2024_07_01', '2024_07_19']\n",
      "Skipping already processed folder: /hpc/group/tdunn/Bryan_Rigs/BigOpenField/24summ/2024_07_16/1691486NMCFS1123\n",
      "Skipping already processed folder: /hpc/group/tdunn/Bryan_Rigs/BigOpenField/24summ/2024_07_16/1691485RMCFF1500\n",
      "Skipping already processed folder: /hpc/group/tdunn/Bryan_Rigs/BigOpenField/24summ/2024_07_16/1691485RMHBN1405\n",
      "Skipping already processed folder: /hpc/group/tdunn/Bryan_Rigs/BigOpenField/24summ/2024_07_16/1691485RMCFS1535\n",
      "Skipping already processed folder: /hpc/group/tdunn/Bryan_Rigs/BigOpenField/24summ/2024_07_16/1691486NMHBN0927\n",
      "Skipping already processed folder: /hpc/group/tdunn/Bryan_Rigs/BigOpenField/24summ/2024_07_16/1691486NMCFF1033\n",
      "Skipping already processed folder: /hpc/group/tdunn/Bryan_Rigs/BigOpenField/24summ/2024_07_09/1691485_no_hole_habituation\n",
      "Skipping already processed folder: /hpc/group/tdunn/Bryan_Rigs/BigOpenField/24summ/2024_07_09/1691486_right_hole_caffine_16_18\n",
      "Skipping already processed folder: /hpc/group/tdunn/Bryan_Rigs/BigOpenField/24summ/2024_07_09/1691486_right_hole_habituation_14_39\n",
      "Skipping already processed folder: /hpc/group/tdunn/Bryan_Rigs/BigOpenField/24summ/2024_07_09/1691486_right_hole_caffine_15_31\n",
      "Skipping already processed folder: /hpc/group/tdunn/Bryan_Rigs/BigOpenField/24summ/2024_07_09/1691485_no_hole_caffeine_1118\n",
      "Skipping already processed folder: /hpc/group/tdunn/Bryan_Rigs/BigOpenField/24summ/2024_07_09/1691485_left_hole_habituation\n",
      "Skipping already processed folder: /hpc/group/tdunn/Bryan_Rigs/BigOpenField/24summ/2024_07_09/1691485_no_hole_caffeine_1041\n",
      "Skipping already processed folder: /hpc/group/tdunn/Bryan_Rigs/BigOpenField/24summ/2024_06_28/1686941_no_hole\n",
      "Skipping already processed folder: /hpc/group/tdunn/Bryan_Rigs/BigOpenField/24summ/2024_06_28/1686941_left_right_2\n",
      "Skipping already processed folder: /hpc/group/tdunn/Bryan_Rigs/BigOpenField/24summ/2024_06_28/1686941_no_hole_2\n",
      "Skipping already processed folder: /hpc/group/tdunn/Bryan_Rigs/BigOpenField/24summ/2024_07_08/1691486_no_hole_saline_2_1123_test\n",
      "Skipping already processed folder: /hpc/group/tdunn/Bryan_Rigs/BigOpenField/24summ/2024_07_08/1691486_no_hole_saline_1054_test\n",
      "Skipping already processed folder: /hpc/group/tdunn/Bryan_Rigs/BigOpenField/24summ/2024_07_08/1691486_right_baseline_1500\n",
      "Skipping already processed folder: /hpc/group/tdunn/Bryan_Rigs/BigOpenField/24summ/2024_07_08/1691486_no_hole_saline_1029\n",
      "Skipping already processed folder: /hpc/group/tdunn/Bryan_Rigs/BigOpenField/24summ/2024_07_08/1691486_right_baseline_1353\n",
      "Skipping already processed folder: /hpc/group/tdunn/Bryan_Rigs/BigOpenField/24summ/2024_07_08/1691486_no_hole_habituation_938\n",
      "Skipping already processed folder: /hpc/group/tdunn/Bryan_Rigs/BigOpenField/24summ/2024_07_08/1691486_right_baseline_1533\n",
      "Skipping already processed folder: /hpc/group/tdunn/Bryan_Rigs/BigOpenField/24summ/2024_07_10/1691485_left_right_saline_15_34\n",
      "Skipping already processed folder: /hpc/group/tdunn/Bryan_Rigs/BigOpenField/24summ/2024_07_10/1691485_left_hole_saline_10_35\n",
      "Skipping already processed folder: /hpc/group/tdunn/Bryan_Rigs/BigOpenField/24summ/2024_07_10/1691485_left_hole_saline_11_10\n",
      "Skipping already processed folder: /hpc/group/tdunn/Bryan_Rigs/BigOpenField/24summ/2024_07_10/1691485_no_hole_habituation_13_59\n",
      "Skipping already processed folder: /hpc/group/tdunn/Bryan_Rigs/BigOpenField/24summ/2024_07_10/1691485_left_hole_habituation\n",
      "Skipping already processed folder: /hpc/group/tdunn/Bryan_Rigs/BigOpenField/24summ/2024_07_10/1691485_left_right_habituation_14_46\n",
      "Skipping already processed folder: /hpc/group/tdunn/Bryan_Rigs/BigOpenField/24summ/2024_07_12/240605PMC1_right_hole_11_27\n",
      "Skipping already processed folder: /hpc/group/tdunn/Bryan_Rigs/BigOpenField/24summ/2024_07_12/240626V1_right_hole_10_31\n",
      "Skipping already processed folder: /hpc/group/tdunn/Bryan_Rigs/BigOpenField/24summ/2024_07_15/1691485RMPBF1531\n",
      "Skipping already processed folder: /hpc/group/tdunn/Bryan_Rigs/BigOpenField/24summ/2024_07_15/1691485RMPBS1659\n",
      "Skipping already processed folder: /hpc/group/tdunn/Bryan_Rigs/BigOpenField/24summ/2024_07_15/1691485RMHBN1425\n",
      "Skipping already processed folder: /hpc/group/tdunn/Bryan_Rigs/BigOpenField/24summ/2024_07_11/1691485BMCFF1505\n",
      "Skipping already processed folder: /hpc/group/tdunn/Bryan_Rigs/BigOpenField/24summ/2024_07_11/1691485BMCFS1547\n",
      "Skipping already processed folder: /hpc/group/tdunn/Bryan_Rigs/BigOpenField/24summ/2024_07_11/1691485LMCFS1129\n",
      "Skipping already processed folder: /hpc/group/tdunn/Bryan_Rigs/BigOpenField/24summ/2024_07_11/1691485BMHBN1359\n",
      "Skipping already processed folder: /hpc/group/tdunn/Bryan_Rigs/BigOpenField/24summ/2024_07_01/230815PMC_left_hole_caffeine_15_32\n",
      "Skipping already processed folder: /hpc/group/tdunn/Bryan_Rigs/BigOpenField/24summ/2024_07_01/230815PMC_left_hole_baseline_14_32\n",
      "Skipping already processed folder: /hpc/group/tdunn/Bryan_Rigs/BigOpenField/24summ/2024_07_01/230815PMC_no_hole_caffine_13_56\n",
      "Skipping already processed folder: /hpc/group/tdunn/Bryan_Rigs/BigOpenField/24summ/2024_07_19/240605PMC_window2_right2holes_12_14\n",
      "Skipping already processed folder: /hpc/group/tdunn/Bryan_Rigs/BigOpenField/24summ/2024_07_19/240605PMC_window2_right2holes_11_30\n"
     ]
    }
   ],
   "source": [
    "# check_processed_results(summ_path)"
   ]
  },
  {
   "cell_type": "code",
   "execution_count": null,
   "metadata": {},
   "outputs": [],
   "source": []
  },
  {
   "cell_type": "code",
   "execution_count": null,
   "metadata": {},
   "outputs": [],
   "source": [
    "# import os\n",
    "\n",
    "# def categorize_files(directory):\n",
    "#     df_files = []\n",
    "#     offset_files = []\n",
    "\n",
    "#     for f in os.listdir(directory):\n",
    "#         if f.startswith('df_'):\n",
    "#             df_files.append(f)\n",
    "#         elif 'offset' in f:\n",
    "#             offset_files.append(f)\n",
    "\n",
    "#     return df_files, offset_files\n",
    "\n",
    "# # Example usage\n",
    "# directory_path = '/path/to/your/directory'\n",
    "# df_files, offset_files = categorize_files(directory_path)\n",
    "\n",
    "# # Perform operations based on df_ files\n",
    "# for df_file in df_files:\n",
    "#     print(f\"Performing operation for df_ file: {df_file}\")\n",
    "#     # Add your specific operation here\n",
    "\n",
    "# # Perform operations based on offset files\n",
    "# for offset_file in offset_files:\n",
    "#     print(f\"Performing operation for offset file: {offset_file}\")\n",
    "#     # Add your specific operation here\n"
   ]
  }
 ],
 "metadata": {
  "kernelspec": {
   "display_name": "Python 3 (ipykernel)",
   "language": "python",
   "name": "python3"
  },
  "language_info": {
   "codemirror_mode": {
    "name": "ipython",
    "version": 3
   },
   "file_extension": ".py",
   "mimetype": "text/x-python",
   "name": "python",
   "nbconvert_exporter": "python",
   "pygments_lexer": "ipython3",
   "version": "3.9.18"
  }
 },
 "nbformat": 4,
 "nbformat_minor": 2
}
