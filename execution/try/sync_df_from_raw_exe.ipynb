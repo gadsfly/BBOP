{
 "cells": [
  {
   "cell_type": "code",
   "execution_count": null,
   "metadata": {},
   "outputs": [],
   "source": [
    "from utlis.com_traga_utlis import find_calib_file\n",
    "from utlis.convert_calib_utlis.sync_df_from_raw import calculate_frame_brightness"
   ]
  }
 ],
 "metadata": {
  "language_info": {
   "name": "python"
  }
 },
 "nbformat": 4,
 "nbformat_minor": 2
}
