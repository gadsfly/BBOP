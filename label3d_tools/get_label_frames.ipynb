{
 "cells": [
  {
   "cell_type": "code",
   "execution_count": 31,
   "metadata": {},
   "outputs": [],
   "source": [
    "import scipy.io as sio\n",
    "import numpy as np"
   ]
  },
  {
   "cell_type": "code",
   "execution_count": 10,
   "metadata": {},
   "outputs": [],
   "source": [
    "com_path = '/home/lq53/mir_data/24summ/2024_07_10/1691485_no_hole_habituation_13_59/label_com/df_converted_mir_com_labels_20240716_183143_Label3D_dannce.mat'\n",
    "labeled_com = sio.loadmat(com_path)\n",
    "\n"
   ]
  },
  {
   "cell_type": "code",
   "execution_count": 33,
   "metadata": {},
   "outputs": [],
   "source": [
    "dff = 'data_frame'\n",
    "sid = 'data_sampleID'\n",
    "\n",
    "# labeled_com['sync'][0][0][dff][0][0][0][:100]\n",
    "sid_out = np.array(labeled_com['labelData'][0][0][sid][0][0][0])"
   ]
  },
  {
   "cell_type": "code",
   "execution_count": 41,
   "metadata": {},
   "outputs": [
    {
     "name": "stdout",
     "output_type": "stream",
     "text": [
      "array([1800, 1920, 3630, 7260, 7530, 7650, 8670, 9240, 9480, 9570, 10563, 10710,\n",
      " 11490, 12150, 12870, 15180, 15690, 17430, 17460, 18240, 18360, 18600, 18660,\n",
      " 19320, 21120, 21270, 21930, 22290, 22350, 22500, 24480, 24720, 24780, 24990,\n",
      " 25110, 27390, 33450, 34530, 35640, 35790, 35940])\n"
     ]
    }
   ],
   "source": [
    "# Convert the array to a list for easier manual formatting\n",
    "sid_out.astype(int)\n",
    "# Format the array as a string without decimals\n",
    "array_str = np.array2string(sid_out, separator=', ', formatter={'all':lambda x: str(int(x))}, max_line_width=80)\n",
    "\n",
    "print(f\"array({array_str})\")\n"
   ]
  },
  {
   "cell_type": "code",
   "execution_count": null,
   "metadata": {},
   "outputs": [],
   "source": []
  }
 ],
 "metadata": {
  "kernelspec": {
   "display_name": "BBOP",
   "language": "python",
   "name": "python3"
  },
  "language_info": {
   "codemirror_mode": {
    "name": "ipython",
    "version": 3
   },
   "file_extension": ".py",
   "mimetype": "text/x-python",
   "name": "python",
   "nbconvert_exporter": "python",
   "pygments_lexer": "ipython3",
   "version": "3.9.18"
  }
 },
 "nbformat": 4,
 "nbformat_minor": 2
}
