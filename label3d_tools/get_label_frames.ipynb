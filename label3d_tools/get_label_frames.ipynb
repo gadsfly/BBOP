{
 "cells": [
  {
   "cell_type": "code",
   "execution_count": 45,
   "metadata": {},
   "outputs": [],
   "source": [
    "import scipy.io as sio\n",
    "import numpy as np"
   ]
  },
  {
   "cell_type": "code",
   "execution_count": 46,
   "metadata": {},
   "outputs": [],
   "source": [
    "# com_path = '/home/lq53/mir_data/24summ/2024_07_10/1691485_no_hole_habituation_13_59/label_com/df_converted_mir_com_labels_20240716_183143_Label3D_dannce.mat'\n",
    "com_path = '/home/lq53/mir_data/24summ/2024_07_11/1691485BMCFF1505/labels/df_converted_mir_com_preload_20240716_225646_Label3D_dannce.mat'\n",
    "labeled_com = sio.loadmat(com_path)\n",
    "\n"
   ]
  },
  {
   "cell_type": "code",
   "execution_count": 47,
   "metadata": {},
   "outputs": [],
   "source": [
    "dff = 'data_frame'\n",
    "sid = 'data_sampleID'\n",
    "\n",
    "# labeled_com['sync'][0][0][dff][0][0][0][:100]\n",
    "sid_out = np.array(labeled_com['labelData'][0][0][sid][0][0][0])"
   ]
  },
  {
   "cell_type": "code",
   "execution_count": 48,
   "metadata": {},
   "outputs": [
    {
     "name": "stdout",
     "output_type": "stream",
     "text": [
      "array([18, 27, 102, 107, 120, 123, 129, 141, 144, 170, 174, 188, 190, 192, 198, 249,\n",
      " 301, 303, 307, 325, 348])\n"
     ]
    }
   ],
   "source": [
    "# Convert the array to a list for easier manual formatting\n",
    "sid_out.astype(int)\n",
    "# Format the array as a string without decimals\n",
    "array_str = np.array2string(sid_out, separator=', ', formatter={'all':lambda x: str(int(x))}, max_line_width=80)\n",
    "\n",
    "print(f\"array({array_str})\")\n"
   ]
  },
  {
   "cell_type": "code",
   "execution_count": null,
   "metadata": {},
   "outputs": [],
   "source": []
  }
 ],
 "metadata": {
  "kernelspec": {
   "display_name": "BBOP",
   "language": "python",
   "name": "python3"
  },
  "language_info": {
   "codemirror_mode": {
    "name": "ipython",
    "version": 3
   },
   "file_extension": ".py",
   "mimetype": "text/x-python",
   "name": "python",
   "nbconvert_exporter": "python",
   "pygments_lexer": "ipython3",
   "version": "3.9.18"
  }
 },
 "nbformat": 4,
 "nbformat_minor": 2
}
