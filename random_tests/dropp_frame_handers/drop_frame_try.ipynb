{
 "cells": [
  {
   "cell_type": "code",
   "execution_count": 28,
   "metadata": {},
   "outputs": [
    {
     "name": "stdout",
     "output_type": "stream",
     "text": [
      "Loaded frametimes for Camera1\n",
      "Loaded frametimes for Camera2\n",
      "Loaded frametimes for Camera3\n",
      "Loaded frametimes for Camera4\n",
      "Loaded frametimes for Camera5\n",
      "Loaded frametimes for Camera6\n",
      "Maximum shapes for each camera: {'Camera1': 2535, 'Camera2': 2530, 'Camera3': 2530, 'Camera4': 2532, 'Camera5': 2567, 'Camera6': 2530}\n",
      "max frame number 2567.0\n",
      "2535\n",
      "Aligned data for Camera1 with 32 dropped frames filled.\n",
      "2530\n",
      "Aligned data for Camera2 with 37 dropped frames filled.\n",
      "2530\n",
      "Aligned data for Camera3 with 37 dropped frames filled.\n",
      "2532\n",
      "Aligned data for Camera4 with 35 dropped frames filled.\n",
      "2567\n",
      "skipping Camera5 since no frame is missing\n",
      "2530\n",
      "Aligned data for Camera6 with 37 dropped frames filled.\n",
      "All cameras aligned successfully.\n",
      "Camera1 aligned frame numbers: {'frames': array([1.000e+00, 2.000e+00, 3.000e+00, ..., 2.535e+03, 2.535e+03,\n",
      "       2.535e+03]), 'timestamps': array([0.        , 0.03335118, 0.06670246, ...,        nan,        nan,\n",
      "              nan])}\n",
      "Camera2 aligned frame numbers: {'frames': array([1.00e+00, 2.00e+00, 3.00e+00, ..., 2.53e+03, 2.53e+03, 2.53e+03]), 'timestamps': array([0.        , 0.03335886, 0.06669852, ...,        nan,        nan,\n",
      "              nan])}\n",
      "Camera3 aligned frame numbers: {'frames': array([1.00e+00, 2.00e+00, 3.00e+00, ..., 2.53e+03, 2.53e+03, 2.53e+03]), 'timestamps': array([0.        , 0.03335503, 0.06669854, ...,        nan,        nan,\n",
      "              nan])}\n",
      "Camera4 aligned frame numbers: {'frames': array([1.000e+00, 2.000e+00, 3.000e+00, ..., 2.532e+03, 2.532e+03,\n",
      "       2.532e+03]), 'timestamps': array([0.        , 0.0333512 , 0.06670627, ...,        nan,        nan,\n",
      "              nan])}\n",
      "Camera6 aligned frame numbers: {'frames': array([1.00e+00, 2.00e+00, 3.00e+00, ..., 2.53e+03, 2.53e+03, 2.53e+03]), 'timestamps': array([0.        , 0.03335902, 0.06669862, ...,        nan,        nan,\n",
      "              nan])}\n"
     ]
    }
   ],
   "source": [
    "import numpy as np\n",
    "\n",
    "def load_frametimes(base_path, num_cameras=6):\n",
    "    \"\"\"\n",
    "    Load frametimes.npy files for a specified number of cameras.\n",
    "\n",
    "    Parameters:\n",
    "    - base_path (str): The base path where the main folder is located.\n",
    "    - num_cameras (int): The number of cameras to load frametimes for. Default is 6.\n",
    "\n",
    "    Returns:\n",
    "    - dict: A dictionary with camera names as keys and frametimes data as values.\n",
    "    \"\"\"\n",
    "    frametimes = {}\n",
    "    for i in range(1, num_cameras + 1):\n",
    "        camera_path = f'{base_path}/videos/Camera{i}/frametimes.npy'\n",
    "        try:\n",
    "            frametimes[f'Camera{i}'] = np.load(camera_path)\n",
    "            print(f\"Loaded frametimes for Camera{i}\")\n",
    "        except FileNotFoundError:\n",
    "            print(f\"File not found: {camera_path}\")\n",
    "    return frametimes\n",
    "\n",
    "def check_max_shapes_consistency(frametimes_data):\n",
    "    max_shapes = {camera: data.shape[1] for camera, data in frametimes_data.items()}\n",
    "    print(\"Maximum shapes for each camera:\", max_shapes)\n",
    "    \n",
    "    # Get the set of unique shape values\n",
    "    unique_shapes = set(max_shapes.values())\n",
    "    \n",
    "    # Check if all cameras have the same shape and find the maximum shape value\n",
    "    consistency = len(unique_shapes) == 1\n",
    "    max_shape_value = max(max_shapes.values())\n",
    "    \n",
    "    return consistency, max_shape_value\n",
    "\n",
    "\n",
    "def create_standard_timeline(frametimes_data, max_shape_value, fps=30):\n",
    "    # Extract the end times and frame numbers for each camera\n",
    "    end_times = {camera: frametimes_data[camera][1][-1] for camera in frametimes_data.keys()}\n",
    "    max_frame_numbers = {camera: frametimes_data[camera][0][-1] for camera in frametimes_data.keys()}\n",
    "    \n",
    "    # Determine the maximum end time and frame number across all cameras\n",
    "    max_end_time = int(round(max(end_times.values())))\n",
    "    max_frame_number = max(max_frame_numbers.values())\n",
    "    if max_frame_number > max_shape_value:\n",
    "        max_frame_number = max_shape_value\n",
    "\n",
    "    print(f\"max frame number {max_frame_number}\")\n",
    "    \n",
    "    # Calculate the interval between frames\n",
    "    frame_interval = 1 / fps\n",
    "    \n",
    "    # Generate standard timeline and frame numbers\n",
    "    standard_timeline = np.arange(0, max_end_time, frame_interval)\n",
    "    standard_frame_numbers = np.arange(1, max_frame_number+1)\n",
    "    \n",
    "    return standard_frame_numbers, standard_timeline, max_frame_number\n",
    "\n",
    "# Modified align_to_standard_timeline to align both timestamps and frame numbers\n",
    "def align_to_standard_timeline(frametimes_data, standard_frame_numbers, standard_timeline, max_frame_numbers):\n",
    "    aligned_data = {}\n",
    "    # print(max_frame_numbers)\n",
    "    for camera, data in frametimes_data.items():\n",
    "        frame_numbers, timestamps = data[0], data[1]\n",
    "        print(data[0].shape[0])\n",
    "        if data[0].shape[0] == max_frame_numbers:\n",
    "            print(f\"skipping {camera} since no frame is missing\")\n",
    "            continue\n",
    "        aligned_frames = []\n",
    "        aligned_timestamps = []\n",
    "        last_frame_number = standard_frame_numbers[0]  # Start with the first frame number as the prior value\n",
    "        j = 0\n",
    "\n",
    "        for frame in standard_frame_numbers:\n",
    "            # Check if we are within bounds of frame_numbers and if we have a match\n",
    "            if j < len(frame_numbers) and frame_numbers[j] == frame:\n",
    "                aligned_frames.append(frame_numbers[j])\n",
    "                aligned_timestamps.append(timestamps[j])\n",
    "                last_frame_number = frame_numbers[j]\n",
    "                j += 1  # Move to the next frame in frame_numbers\n",
    "            else:\n",
    "                # Frame is missing, fill with the previous frame number and NaN timestamp\n",
    "                aligned_frames.append(last_frame_number)\n",
    "                aligned_timestamps.append(np.nan)\n",
    "                # print(f\"Missing frame detected, filling with previous frame number {last_frame_number}\")\n",
    "\n",
    "\n",
    "        aligned_data[camera] = {\n",
    "            \"frames\": np.array(aligned_frames),\n",
    "            \"timestamps\": np.array(aligned_timestamps)\n",
    "        }\n",
    "        print(f\"Aligned data for {camera} with {np.isnan(aligned_timestamps).sum()} dropped frames filled.\")\n",
    "    \n",
    "    return aligned_data\n",
    "\n",
    "# Main function to process camera data\n",
    "def process_camera_data(frametimes_data, fps=30):\n",
    "    # Step 1: Check for consistency in frame shapes\n",
    "    consistency, max_shape_value = check_max_shapes_consistency(frametimes_data)\n",
    "    if consistency:\n",
    "        # raise ValueError(\"Cameras have inconsistent shapes.\")\n",
    "        print(\"Cameras have consistent shapes. Skipping alignment.\")\n",
    "        return\n",
    "    \n",
    "    # Step 2: Create the standard timeline and frame numbers\n",
    "    standard_frame_numbers, standard_timeline, max = create_standard_timeline(frametimes_data, max_shape_value)\n",
    "    \n",
    "    # Step 3: Align camera data to the standard timeline\n",
    "    aligned_frametimes = align_to_standard_timeline(frametimes_data, standard_frame_numbers, standard_timeline, max_shape_value)\n",
    "    \n",
    "    print(\"All cameras aligned successfully.\")\n",
    "    return aligned_frametimes, standard_frame_numbers, standard_timeline\n",
    "\n",
    "# # Example usage\n",
    "# base_path = '/hpc/group/tdunn/Bryan_Rigs/BigOpenField/24summ/2024_08_29/20240717_PMCr2'\n",
    "base_path = '/hpc/group/tdunn/Bryan_Rigs/BigOpenField/24summ/2024_10_04/20240916V1r2/'\n",
    "frametimes_data = load_frametimes(base_path)\n",
    "aligned_frametimes, standard_frame_numbers, standard_timeline = process_camera_data(frametimes_data, fps=30)\n",
    "\n",
    "\n",
    "# Print aligned frame numbers\n",
    "for camera, frames in aligned_frametimes.items():\n",
    "    print(f\"{camera} aligned frame numbers:\", frames)"
   ]
  },
  {
   "cell_type": "code",
   "execution_count": 37,
   "metadata": {},
   "outputs": [
    {
     "data": {
      "text/plain": [
       "{'Camera1': {'frames': array([1.000e+00, 2.000e+00, 3.000e+00, ..., 2.535e+03, 2.535e+03,\n",
       "         2.535e+03]),\n",
       "  'timestamps': array([0.        , 0.03335118, 0.06670246, ...,        nan,        nan,\n",
       "                nan])},\n",
       " 'Camera2': {'frames': array([1.00e+00, 2.00e+00, 3.00e+00, ..., 2.53e+03, 2.53e+03, 2.53e+03]),\n",
       "  'timestamps': array([0.        , 0.03335886, 0.06669852, ...,        nan,        nan,\n",
       "                nan])},\n",
       " 'Camera3': {'frames': array([1.00e+00, 2.00e+00, 3.00e+00, ..., 2.53e+03, 2.53e+03, 2.53e+03]),\n",
       "  'timestamps': array([0.        , 0.03335503, 0.06669854, ...,        nan,        nan,\n",
       "                nan])},\n",
       " 'Camera4': {'frames': array([1.000e+00, 2.000e+00, 3.000e+00, ..., 2.532e+03, 2.532e+03,\n",
       "         2.532e+03]),\n",
       "  'timestamps': array([0.        , 0.0333512 , 0.06670627, ...,        nan,        nan,\n",
       "                nan])},\n",
       " 'Camera6': {'frames': array([1.00e+00, 2.00e+00, 3.00e+00, ..., 2.53e+03, 2.53e+03, 2.53e+03]),\n",
       "  'timestamps': array([0.        , 0.03335902, 0.06669862, ...,        nan,        nan,\n",
       "                nan])}}"
      ]
     },
     "execution_count": 37,
     "metadata": {},
     "output_type": "execute_result"
    }
   ],
   "source": [
    "aligned_frametimes"
   ]
  },
  {
   "cell_type": "code",
   "execution_count": 38,
   "metadata": {},
   "outputs": [],
   "source": [
    "def get_shapes(data):\n",
    "    shapes = {}\n",
    "    for camera, values in data.items():\n",
    "        shapes[camera] = {\n",
    "            'frames_shape': len(values['frames']),\n",
    "            'timestamps_shape': len(values['timestamps'])\n",
    "        }\n",
    "    return shapes\n",
    "\n",
    "# Get shapes for each camera\n",
    "shapes = get_shapes(aligned_frametimes)"
   ]
  },
  {
   "cell_type": "code",
   "execution_count": 39,
   "metadata": {},
   "outputs": [
    {
     "data": {
      "text/plain": [
       "{'Camera1': {'frames_shape': 2567, 'timestamps_shape': 2567},\n",
       " 'Camera2': {'frames_shape': 2567, 'timestamps_shape': 2567},\n",
       " 'Camera3': {'frames_shape': 2567, 'timestamps_shape': 2567},\n",
       " 'Camera4': {'frames_shape': 2567, 'timestamps_shape': 2567},\n",
       " 'Camera6': {'frames_shape': 2567, 'timestamps_shape': 2567}}"
      ]
     },
     "execution_count": 39,
     "metadata": {},
     "output_type": "execute_result"
    }
   ],
   "source": [
    "shapes"
   ]
  },
  {
   "cell_type": "code",
   "execution_count": 29,
   "metadata": {},
   "outputs": [
    {
     "data": {
      "text/plain": [
       "(2530,)"
      ]
     },
     "execution_count": 29,
     "metadata": {},
     "output_type": "execute_result"
    }
   ],
   "source": [
    "aligned_frametimes['Camera3']['timestamps'][~np.isnan(aligned_frametimes['Camera3']['timestamps'])].shape"
   ]
  },
  {
   "cell_type": "code",
   "execution_count": 30,
   "metadata": {},
   "outputs": [
    {
     "data": {
      "text/plain": [
       "array([0.        , 0.03335503, 0.06669854, 0.1000537 , 0.13340103,\n",
       "       0.16675217, 0.20010343, 0.23345459, 0.26680574, 0.30015309,\n",
       "       0.33350441, 0.36685556, 0.40020676, 0.43355417, 0.46690149,\n",
       "       0.50025658, 0.53360767, 0.5669513 , 0.60030627, 0.63365747,\n",
       "       0.66700869, 0.70035606, 0.73370723, 0.7670584 , 0.80040967,\n",
       "       0.83375699, 0.86710825, 0.90045943, 0.93381061, 0.96715802,\n",
       "       1.000513  , 1.03386037, 1.06721162, 1.10055894, 1.1339101 ,\n",
       "       1.16726136, 1.2006126 , 1.23396378, 1.26730723, 1.30066619,\n",
       "       1.3340135 , 1.3673647 , 1.40071209, 1.43406717, 1.46741454,\n",
       "       1.50076181, 1.534113  , 1.56746427, 1.60081549, 1.63416663,\n",
       "       1.66751399, 1.70086525, 1.73421639, 1.76756766, 1.80091501,\n",
       "       1.83427013, 1.86761668, 1.90096866, 1.93431978, 1.96767801,\n",
       "       2.00101843, 2.03436952, 2.06772078, 2.10107195, 2.13442323,\n",
       "       2.16777436, 2.20111795, 2.23447683, 2.26782419, 2.30117539,\n",
       "       2.33452266, 2.36787778, 2.40122131, 2.43457242, 2.46792369,\n",
       "       2.50127482, 2.53462221, 2.56797339, 2.60132472, 2.63467975,\n",
       "       2.66802322, 2.70137438, 2.73472563, 2.76808071, 2.80142796,\n",
       "       2.8347754 , 2.86812658, 2.90147779, 2.93483666, 2.96818018,\n",
       "       3.00152751, 3.03487873, 3.06822993, 3.10158112, 3.1349285 ,\n",
       "       3.16828354, 3.20163094, 3.23498212, 3.2683295 , 3.30168846])"
      ]
     },
     "execution_count": 30,
     "metadata": {},
     "output_type": "execute_result"
    }
   ],
   "source": [
    "aligned_frametimes['Camera3']['timestamps'][:100]"
   ]
  },
  {
   "cell_type": "code",
   "execution_count": 32,
   "metadata": {},
   "outputs": [
    {
     "data": {
      "image/png": "[encoded data removed]",
      "text/plain": [
       "<Figure size 1200x600 with 1 Axes>"
      ]
     },
     "metadata": {},
     "output_type": "display_data"
    }
   ],
   "source": [
    "import numpy as np\n",
    "import matplotlib.pyplot as plt\n",
    "\n",
    "# Example data\n",
    "timestamps = aligned_frametimes['Camera3']['timestamps']\n",
    "\n",
    "# Generate indices for each timestamp\n",
    "indices = np.arange(len(timestamps))\n",
    "\n",
    "# Create a boolean array where 1 indicates a non-NaN value and 0 indicates a NaN value\n",
    "nan_status = ~np.isnan(timestamps)  # True for non-NaN, False for NaN\n",
    "\n",
    "# Plot the nan status\n",
    "plt.figure(figsize=(12, 6))\n",
    "plt.plot(indices, nan_status, color='blue', label='Not NaN (1) / NaN (0)', drawstyle='steps-mid')\n",
    "\n",
    "# Labeling the plot\n",
    "plt.xlabel(\"Index\")\n",
    "plt.ylabel(\"NaN Status (1 = Not NaN, 0 = NaN)\")\n",
    "plt.ylim(-0.1, 1.1)  # Adding a bit of space around y-axis\n",
    "plt.title(\"NaN and Non-NaN Status of Timestamps Over Indices\")\n",
    "plt.legend()\n",
    "plt.show()\n"
   ]
  },
  {
   "cell_type": "code",
   "execution_count": 41,
   "metadata": {},
   "outputs": [
    {
     "name": "stdout",
     "output_type": "stream",
     "text": [
      "Original data_frame: [3 4 5 6 7 8]\n",
      "Updated data_frame: [3. 3. 4. 5. 5. 6.]\n"
     ]
    }
   ],
   "source": [
    "import numpy as np\n",
    "\n",
    "# Example aligned frames and timestamps for Camera3\n",
    "aligned_frames = np.array([1.0000e+00, 1.0000e+00, 2.0000e+00, 3.0000e+00, 3.0000e+00, 4.0000e+00])\n",
    "data_frame = np.array([3, 4, 5, 6, 7, 8])  # Example starting with 3\n",
    "\n",
    "# Compute the offset\n",
    "frame_start = data_frame[0]\n",
    "offset = frame_start - 1\n",
    "\n",
    "# Map aligned frames to the adjusted data_frame\n",
    "mapped_frames = aligned_frames + offset\n",
    "\n",
    "# Now you can update data_frame with mapped_frames\n",
    "updated_data_frame = np.where(~np.isnan(mapped_frames), mapped_frames, data_frame)\n",
    "\n",
    "print(\"Original data_frame:\", data_frame)\n",
    "print(\"Updated data_frame:\", updated_data_frame)\n"
   ]
  },
  {
   "cell_type": "code",
   "execution_count": 42,
   "metadata": {},
   "outputs": [
    {
     "data": {
      "text/plain": [
       "array([3., 3., 4., 5., 5., 6.])"
      ]
     },
     "execution_count": 42,
     "metadata": {},
     "output_type": "execute_result"
    }
   ],
   "source": [
    "mapped_frames"
   ]
  },
  {
   "cell_type": "code",
   "execution_count": 46,
   "metadata": {},
   "outputs": [
    {
     "name": "stdout",
     "output_type": "stream",
     "text": [
      "[   6.    7.    8. ... 2528. 2529. 2530.]\n",
      "[1.000e+00 2.000e+00 3.000e+00 ... 2.528e+03 2.529e+03 2.530e+03]\n",
      "[1.000e+00 2.000e+00 3.000e+00 ... 2.528e+03 2.529e+03 2.530e+03]\n",
      "[   3.    4.    5. ... 2528. 2529. 2530.]\n",
      "Camera5 does not exist in aligned_frametimes\n",
      "[1.000e+00 2.000e+00 3.000e+00 ... 2.528e+03 2.529e+03 2.530e+03]\n",
      "Updated frames for Camera1: [   6.    7.    8. ... 2540. 2540. 2540.]\n",
      "Updated frames for Camera2: [1.00e+00 2.00e+00 3.00e+00 ... 2.53e+03 2.53e+03 2.53e+03]\n",
      "Updated frames for Camera3: [1.00e+00 2.00e+00 3.00e+00 ... 2.53e+03 2.53e+03 2.53e+03]\n",
      "Updated frames for Camera4: [   3.    4.    5. ... 2534. 2534. 2534.]\n",
      "Updated frames for Camera6: [1.00e+00 2.00e+00 3.00e+00 ... 2.53e+03 2.53e+03 2.53e+03]\n"
     ]
    }
   ],
   "source": [
    "import sys\n",
    "import os\n",
    "sys.path.append(os.path.abspath('../..'))\n",
    "from utlis.sync_utlis.sync_df_utlis import find_calib_file\n",
    "import scipy.io as sio\n",
    "\n",
    "\n",
    "def update_data_frame(base_path, aligned_frametimes):\n",
    "    calib_path = find_calib_file(base_path)\n",
    "    calib_data = sio.loadmat(calib_path)\n",
    "    sync = calib_data['sync']\n",
    "    cameras = [f'Camera{i}' for i in range(1, 7)]\n",
    "    keyyyyy = 'data_frame'\n",
    "    updated_frames = {}\n",
    "\n",
    "    for cam_idx, camera in enumerate(cameras):\n",
    "        # data_frame = sync[cam_idx][0][keyyyyy][0][0][0]\n",
    "        # print(data_frame)\n",
    "        if camera in aligned_frametimes:\n",
    "            # import pdb\n",
    "            # pdb.set_trace()\n",
    "\n",
    "            data_frame = sync[cam_idx][0][keyyyyy][0][0][0]\n",
    "            # print(data_frame.shape)\n",
    "            print(data_frame)\n",
    "            aligned_frames = aligned_frametimes[camera]['frames']\n",
    "\n",
    "            # Compute the offset based on the starting value of data_frame\n",
    "            frame_start = data_frame[0]\n",
    "            offset = frame_start - 1\n",
    "\n",
    "            # Map aligned frames to the adjusted data_frame\n",
    "            mapped_frames = aligned_frames + offset\n",
    "            # print(mapped_frames.shape, mapped_frames.shape, data_frame.shape)\n",
    "            # Handle NaN values: Replace NaNs with original data_frame values\n",
    "            # updated_data_frame = np.where(~np.isnan(mapped_frames), mapped_frames, data_frame)\n",
    "\n",
    "            # Store the updated data_frame\n",
    "            updated_frames[camera] = mapped_frames\n",
    "            # sync[cam_idx][0][keyyyyy][0][0] = mapped_frames\n",
    "        else:\n",
    "            print(f\"{camera} does not exist in aligned_frametimes\")\n",
    "        \n",
    "        # calib_data['sync'] = sync\n",
    "        # scipy.io.savemat(save_path, calib_data)\n",
    "        # print('dropped_handled data saved to:', save_path)\n",
    "\n",
    "    return updated_frames\n",
    "\n",
    "\n",
    "updated_frames = update_data_frame(base_path, aligned_frametimes)\n",
    "\n",
    "# Print updated frames for each camera if available\n",
    "for cam, frames in updated_frames.items():\n",
    "    print(f\"Updated frames for {cam}: {frames}\")"
   ]
  },
  {
   "cell_type": "code",
   "execution_count": 47,
   "metadata": {},
   "outputs": [
    {
     "data": {
      "text/plain": [
       "'/hpc/group/tdunn/Bryan_Rigs/BigOpenField/24summ/2024_10_04/20240916V1r2'"
      ]
     },
     "execution_count": 47,
     "metadata": {},
     "output_type": "execute_result"
    }
   ],
   "source": [
    "os.path.dirname(base_path)"
   ]
  },
  {
   "cell_type": "code",
   "execution_count": 12,
   "metadata": {},
   "outputs": [
    {
     "name": "stdout",
     "output_type": "stream",
     "text": [
      "Loaded frametimes for Camera1\n",
      "Loaded frametimes for Camera2\n",
      "Loaded frametimes for Camera3\n",
      "Loaded frametimes for Camera4\n",
      "Loaded frametimes for Camera5\n",
      "Loaded frametimes for Camera6\n"
     ]
    }
   ],
   "source": [
    "import numpy as np\n",
    "\n",
    "def load_frametimes(base_path, num_cameras=6):\n",
    "    \"\"\"\n",
    "    Load frametimes.npy files for a specified number of cameras.\n",
    "\n",
    "    Parameters:\n",
    "    - base_path (str): The base path where the main folder is located.\n",
    "    - num_cameras (int): The number of cameras to load frametimes for. Default is 6.\n",
    "\n",
    "    Returns:\n",
    "    - dict: A dictionary with camera names as keys and frametimes data as values.\n",
    "    \"\"\"\n",
    "    frametimes = {}\n",
    "    for i in range(1, num_cameras + 1):\n",
    "        camera_path = f'{base_path}/videos/Camera{i}/frametimes.npy'\n",
    "        try:\n",
    "            frametimes[f'Camera{i}'] = np.load(camera_path)\n",
    "            print(f\"Loaded frametimes for Camera{i}\")\n",
    "        except FileNotFoundError:\n",
    "            print(f\"File not found: {camera_path}\")\n",
    "    return frametimes\n",
    "\n",
    "# Example usage\n",
    "base_path = '/hpc/group/tdunn/Bryan_Rigs/BigOpenField/24summ/2024_08_29/20240717_PMCr2'\n",
    "# base_path = '/hpc/group/tdunn/Bryan_Rigs/BigOpenField/24summ/2024_10_04/20240916V1r2/'\n",
    "frametimes_data = load_frametimes(base_path)\n"
   ]
  },
  {
   "cell_type": "code",
   "execution_count": 13,
   "metadata": {},
   "outputs": [
    {
     "data": {
      "text/plain": [
       "{'Camera1': array([[1.00000000e+00, 2.00000000e+00, 3.00000000e+00, ...,\n",
       "         2.78980000e+04, 2.78990000e+04, 2.79000000e+04],\n",
       "        [0.00000000e+00, 3.33506080e-02, 6.66986720e-02, ...,\n",
       "         9.30371212e+02, 9.30404560e+02, 9.30437911e+02]]),\n",
       " 'Camera2': array([[1.00000000e+00, 2.00000000e+00, 3.00000000e+00, ...,\n",
       "         2.78980000e+04, 2.78990000e+04, 2.79000000e+04],\n",
       "        [0.00000000e+00, 3.33473680e-02, 6.66985600e-02, ...,\n",
       "         9.30369457e+02, 9.30402808e+02, 9.30436159e+02]]),\n",
       " 'Camera3': array([[1.00000000e+00, 2.00000000e+00, 3.00000000e+00, ...,\n",
       "         1.57460000e+04, 1.57470000e+04, 1.57480000e+04],\n",
       "        [0.00000000e+00, 3.33434480e-02, 6.66946720e-02, ...,\n",
       "         5.41338787e+02, 5.41538886e+02, 5.41705645e+02]]),\n",
       " 'Camera4': array([[1.00000000e+00, 2.00000000e+00, 3.00000000e+00, ...,\n",
       "         2.78980000e+04, 2.78990000e+04, 2.79000000e+04],\n",
       "        [0.00000000e+00, 3.33511680e-02, 6.66946960e-02, ...,\n",
       "         9.30369634e+02, 9.30402981e+02, 9.30436329e+02]]),\n",
       " 'Camera5': array([[1.00000000e+00, 2.00000000e+00, 3.00000000e+00, ...,\n",
       "         2.78980000e+04, 2.78990000e+04, 2.79000000e+04],\n",
       "        [0.00000000e+00, 3.33512080e-02, 6.67024160e-02, ...,\n",
       "         9.30368291e+02, 9.30401642e+02, 9.30434993e+02]]),\n",
       " 'Camera6': array([[1.00000000e+00, 2.00000000e+00, 3.00000000e+00, ...,\n",
       "         2.78980000e+04, 2.78990000e+04, 2.79000000e+04],\n",
       "        [0.00000000e+00, 3.33512320e-02, 6.67024560e-02, ...,\n",
       "         9.30369970e+02, 9.30403321e+02, 9.30436672e+02]])}"
      ]
     },
     "execution_count": 13,
     "metadata": {},
     "output_type": "execute_result"
    }
   ],
   "source": [
    "frametimes_data"
   ]
  },
  {
   "cell_type": "code",
   "execution_count": 2,
   "metadata": {},
   "outputs": [
    {
     "name": "stdout",
     "output_type": "stream",
     "text": [
      "Maximum shapes for each camera: {'Camera1': 27900, 'Camera2': 27900, 'Camera3': 15748, 'Camera4': 27900, 'Camera5': 27900, 'Camera6': 27900}\n",
      "All cameras have the same shape: False\n"
     ]
    }
   ],
   "source": [
    "# def check_max_shapes_consistency(frametimes_data):\n",
    "#     max_shapes = {camera: data.shape[1] for camera, data in frametimes_data.items()}\n",
    "#     print(\"Maximum shapes for each camera:\", max_shapes)\n",
    "    \n",
    "#     # Get the set of unique shape values\n",
    "#     unique_shapes = set(max_shapes.values())\n",
    "    \n",
    "#     # Check if all cameras have the same shape\n",
    "#     return len(unique_shapes) == 1\n",
    "\n",
    "# # Example usage:\n",
    "# result = check_max_shapes_consistency(frametimes_data)\n",
    "# print(\"All cameras have the same shape:\", result)\n"
   ]
  },
  {
   "cell_type": "code",
   "execution_count": 33,
   "metadata": {},
   "outputs": [
    {
     "name": "stdout",
     "output_type": "stream",
     "text": [
      "Maximum shapes for each camera: {'Camera1': 27900, 'Camera2': 27900, 'Camera3': 15748, 'Camera4': 27900, 'Camera5': 27900, 'Camera6': 27900}\n",
      "All cameras have the same shape: (False, 27900)\n"
     ]
    }
   ],
   "source": [
    "def check_max_shapes_consistency(frametimes_data):\n",
    "    max_shapes = {camera: data.shape[1] for camera, data in frametimes_data.items()}\n",
    "    print(\"Maximum shapes for each camera:\", max_shapes)\n",
    "    \n",
    "    # Get the set of unique shape values\n",
    "    unique_shapes = set(max_shapes.values())\n",
    "    \n",
    "    # Check if all cameras have the same shape and find the maximum shape value\n",
    "    consistency = len(unique_shapes) == 1\n",
    "    max_shape_value = max(max_shapes.values())\n",
    "    \n",
    "    return consistency, max_shape_value\n",
    "# result = check_max_shapes_consistency(frametimes_data)\n",
    "# print(\"All cameras have the same shape:\", result)"
   ]
  },
  {
   "cell_type": "code",
   "execution_count": 3,
   "metadata": {},
   "outputs": [],
   "source": [
    "#now useless\n",
    "# import numpy as np\n",
    "\n",
    "# def clone_frame_numbers(frametimes_data):\n",
    "#     cloned_frame_numbers = {}\n",
    "#     for camera, data in frametimes_data.items():\n",
    "#         # Clone the frame numbers (data[0]) for each camera\n",
    "#         cloned_frame_numbers[camera] = np.copy(data[0])\n",
    "#     return cloned_frame_numbers\n",
    "\n",
    "# # Usage\n",
    "# cloned_frame_numbers = clone_frame_numbers(frametimes_data)\n"
   ]
  },
  {
   "cell_type": "code",
   "execution_count": 4,
   "metadata": {},
   "outputs": [],
   "source": [
    "import numpy as np\n",
    "\n",
    "def create_standard_timeline(frametimes_data, fps=30):\n",
    "    # Extract the end times and frame numbers for each camera\n",
    "    end_times = {camera: frametimes_data[camera][1][-1] for camera in frametimes_data.keys()}\n",
    "    max_frame_numbers = {camera: frametimes_data[camera][0][-1] for camera in frametimes_data.keys()}\n",
    "    \n",
    "    # Determine the maximum end time and frame number across all cameras\n",
    "    max_end_time = int(round(max(end_times.values())))\n",
    "    max_frame_number = max(max_frame_numbers.values())\n",
    "    \n",
    "    # Calculate the interval between frames\n",
    "    frame_interval = 1 / fps\n",
    "    \n",
    "    # Generate standard timeline and frame numbers\n",
    "    standard_timeline = np.arange(0, max_end_time, frame_interval)\n",
    "    standard_frame_numbers = np.arange(0, max_frame_number + 1)\n",
    "    \n",
    "    return standard_frame_numbers, standard_timeline\n",
    "\n",
    "standard_timeline = create_standard_timeline(frametimes_data)"
   ]
  },
  {
   "cell_type": "code",
   "execution_count": 25,
   "metadata": {},
   "outputs": [
    {
     "name": "stdout",
     "output_type": "stream",
     "text": [
      "max frame number9.0\n",
      "Aligned data for Camera1 with 0 dropped frames filled.\n",
      "Aligned data for Camera5 with 2 dropped frames filled.\n",
      "All cameras aligned successfully.\n",
      "Camera1 aligned frame numbers: {'frames': array([0., 1., 2., 3., 4., 5., 6., 7., 8.]), 'timestamps': array([0.   , 0.033, 0.067, 0.1  , 0.133, 0.167, 0.2  , 0.233, 0.267])}\n",
      "Camera5 aligned frame numbers: {'frames': array([0., 1., 2., 2., 4., 5., 6., 7., 7.]), 'timestamps': array([0.   , 0.033, 0.067,   nan, 0.133, 0.167, 0.2  , 0.233,   nan])}\n"
     ]
    }
   ],
   "source": [
    "frametimes_data = {\n",
    "    'Camera1': np.array([\n",
    "        np.array([0, 1, 2, 3, 4, 5, 6, 7, 8, 9]),       # Frame numbers\n",
    "        np.array([0, 0.033, 0.067, 0.1, 0.133, 0.167, 0.2, 0.233, 0.267, 0.3])  # Timestamps\n",
    "    ]),\n",
    "    'Camera5': np.array([\n",
    "        np.array([0, 1, 2, 4, 5, 6, 7, 9]),             # Frame numbers, with 3 and 8 dropped\n",
    "        np.array([0, 0.033, 0.067, 0.133, 0.167, 0.2, 0.233, 0.3])  # Timestamps\n",
    "    ])\n",
    "}\n",
    "\n",
    "# Modified align_to_standard_timeline to align both timestamps and frame numbers\n",
    "def align_to_standard_timeline(frametimes_data, standard_frame_numbers, standard_timeline):\n",
    "    aligned_data = {}\n",
    "    \n",
    "    for camera, data in frametimes_data.items():\n",
    "        frame_numbers, timestamps = data[0], data[1]\n",
    "        aligned_frames = []\n",
    "        aligned_timestamps = [] \n",
    "        last_frame_number = frame_numbers[0]  # Start with the first frame number as the prior value\n",
    "\n",
    "        for frame in standard_frame_numbers:\n",
    "            idx = np.searchsorted(frame_numbers, frame, side=\"left\")\n",
    "            if idx <= len(frame_numbers) and frame_numbers[idx] == frame:\n",
    "                # Frame matches; use it and update last_frame_number\n",
    "                aligned_frames.append(frame_numbers[idx])\n",
    "                aligned_timestamps.append(timestamps[idx])\n",
    "                last_frame_number = frame_numbers[idx]\n",
    "            else:\n",
    "                # Frame is missing, fill with the previous frame number and NaN timestamp\n",
    "                aligned_frames.append(last_frame_number)\n",
    "                aligned_timestamps.append(np.nan)\n",
    "\n",
    "        aligned_data[camera] = {\n",
    "            \"frames\": np.array(aligned_frames),\n",
    "            \"timestamps\": np.array(aligned_timestamps)\n",
    "        }\n",
    "        print(f\"Aligned data for {camera} with {np.isnan(aligned_timestamps).sum()} dropped frames filled.\")\n",
    "    \n",
    "    return aligned_data\n",
    "\n",
    "# Main function to process camera data\n",
    "def process_camera_data(frametimes_data, fps=30):\n",
    "    # Step 1: Check for consistency in frame shapes\n",
    "    # if not check_max_shapes_consistency(frametimes_data):\n",
    "    #     raise ValueError(\"Cameras have inconsistent shapes.\")\n",
    "    \n",
    "    # Step 2: Create the standard timeline and frame numbers\n",
    "    standard_frame_numbers, standard_timeline = create_standard_timeline(frametimes_data, fps)\n",
    "    \n",
    "    # Step 3: Align camera data to the standard timeline\n",
    "    aligned_frametimes = align_to_standard_timeline(frametimes_data, standard_frame_numbers, standard_timeline)\n",
    "    \n",
    "    print(\"All cameras aligned successfully.\")\n",
    "    return aligned_frametimes, standard_frame_numbers, standard_timeline\n",
    "\n",
    "# Example usage\n",
    "aligned_frametimes, standard_frame_numbers, standard_timeline = process_camera_data(frametimes_data, fps=30)\n",
    "\n",
    "\n",
    "# Print aligned frame numbers\n",
    "for camera, frames in aligned_frametimes.items():\n",
    "    print(f\"{camera} aligned frame numbers:\", frames)"
   ]
  },
  {
   "cell_type": "code",
   "execution_count": 20,
   "metadata": {},
   "outputs": [
    {
     "data": {
      "text/plain": [
       "{'Camera1': {'frames': array([0., 1., 2., 3., 4., 5., 6., 7., 8., 9.]),\n",
       "  'timestamps': array([0.   , 0.033, 0.067, 0.1  , 0.133, 0.167, 0.2  , 0.233, 0.267,\n",
       "         0.3  ])},\n",
       " 'Camera5': {'frames': array([0., 1., 2., 2., 4., 5., 6., 7., 7., 9.]),\n",
       "  'timestamps': array([0.   , 0.033, 0.067,   nan, 0.133, 0.167, 0.2  , 0.233,   nan,\n",
       "         0.3  ])}}"
      ]
     },
     "execution_count": 20,
     "metadata": {},
     "output_type": "execute_result"
    }
   ],
   "source": [
    "aligned_frametimes"
   ]
  },
  {
   "cell_type": "code",
   "execution_count": 8,
   "metadata": {},
   "outputs": [
    {
     "name": "stdout",
     "output_type": "stream",
     "text": [
      "Camera1 aligned frame numbers: [0, 1, 2, 3, 4, 5, 6, 7, 8]\n",
      "Camera5 aligned frame numbers: [0, 1, 2, 2, 2, 2, 2, 2, 2]\n"
     ]
    }
   ],
   "source": [
    "base_path = '/hpc/group/tdunn/Bryan_Rigs/BigOpenField/24summ/2024_08_29/20240717_PMCr2'\n",
    "frametimes_data = load_frametimes(base_path)\n",
    "cloned_frame_numbers = clone_frame_numbers(frametimes_data)\n",
    "standard_frame_numbers, standard_timeline = create_standard_timeline(frametimes_data)\n",
    "aligned_frametimes = align_to_standard_timeline(frametimes_data, standard_frame_numbers)"
   ]
  },
  {
   "cell_type": "code",
   "execution_count": 9,
   "metadata": {},
   "outputs": [],
   "source": [
    "# Align each camera's frame data to the standard timeline\n",
    "def align_to_standard_timeline(frametimes_data, standard_frame_numbers):\n",
    "    aligned_frametimes = {}\n",
    "    \n",
    "    for camera, data in frametimes_data.items():\n",
    "        camera_frame_numbers = data[0]\n",
    "        aligned_frames = []\n",
    "\n",
    "        for frame in standard_frame_numbers:\n",
    "            idx = np.searchsorted(camera_frame_numbers, frame, side=\"left\")\n",
    "            if idx < len(camera_frame_numbers) and camera_frame_numbers[idx] == frame:\n",
    "                aligned_frames.append(data[1][idx])\n",
    "            else:\n",
    "                aligned_frames.append(np.nan)\n",
    "\n",
    "        aligned_frametimes[camera] = np.array(aligned_frames)\n",
    "        print(f\"Aligned data for {camera} with {np.isnan(aligned_frames).sum()} dropped frames filled.\")\n",
    "    \n",
    "    return aligned_frametimes"
   ]
  },
  {
   "cell_type": "code",
   "execution_count": null,
   "metadata": {},
   "outputs": [],
   "source": []
  },
  {
   "cell_type": "code",
   "execution_count": 16,
   "metadata": {},
   "outputs": [
    {
     "name": "stdout",
     "output_type": "stream",
     "text": [
      "Camera1 - Frame Numbers:\n",
      " [1.0000e+00 2.0000e+00 3.0000e+00 ... 2.7898e+04 2.7899e+04 2.7900e+04]\n",
      "Camera1 - Timestamps:\n",
      " [0.00000000e+00 3.33506080e-02 6.66986720e-02 ... 9.30371212e+02\n",
      " 9.30404560e+02 9.30437911e+02]\n"
     ]
    }
   ],
   "source": [
    "# Access frame numbers and timestamps for Camera1\n",
    "camera1_frame_numbers = frametimes_data['Camera1'][0]  # Frame numbers\n",
    "camera1_timestamps = frametimes_data['Camera1'][1]     # Timestamps\n",
    "\n",
    "print(\"Camera1 - Frame Numbers:\\n\", camera1_frame_numbers)\n",
    "print(\"Camera1 - Timestamps:\\n\", camera1_timestamps)\n"
   ]
  },
  {
   "cell_type": "code",
   "execution_count": 17,
   "metadata": {},
   "outputs": [
    {
     "data": {
      "text/plain": [
       "4.0"
      ]
     },
     "execution_count": 17,
     "metadata": {},
     "output_type": "execute_result"
    }
   ],
   "source": [
    "frametimes_data['Camera1'][0][3]"
   ]
  },
  {
   "cell_type": "code",
   "execution_count": 21,
   "metadata": {},
   "outputs": [
    {
     "data": {
      "text/plain": [
       "930.4379109120001"
      ]
     },
     "execution_count": 21,
     "metadata": {},
     "output_type": "execute_result"
    }
   ],
   "source": [
    "frametimes_data['Camera1'][1][-1]"
   ]
  },
  {
   "cell_type": "code",
   "execution_count": 40,
   "metadata": {},
   "outputs": [],
   "source": [
    "end_times = {camera: frametimes_data[camera][1][-1] for camera in frametimes_data.keys()}\n",
    "max_frame_numbers = {camera: frametimes_data[camera][0][-1] for camera in frametimes_data.keys()}\n"
   ]
  },
  {
   "cell_type": "code",
   "execution_count": 23,
   "metadata": {},
   "outputs": [
    {
     "data": {
      "text/plain": [
       "{'Camera1': 930.4379109120001,\n",
       " 'Camera2': 930.436158824,\n",
       " 'Camera3': 541.7056454640001,\n",
       " 'Camera4': 930.436328672,\n",
       " 'Camera5': 930.4349932160001,\n",
       " 'Camera6': 930.436672144}"
      ]
     },
     "execution_count": 23,
     "metadata": {},
     "output_type": "execute_result"
    }
   ],
   "source": [
    "end_times"
   ]
  },
  {
   "cell_type": "code",
   "execution_count": 45,
   "metadata": {},
   "outputs": [],
   "source": [
    "# max_end_time = max(end_times.values())\n",
    "# max_end_time = round(max(end_times.values()), 3)  # Round to 3 decimal places, for example\n",
    "max_end_time = int(round(max(end_times.values())))\n",
    "max_frame_number = max(max_frame_numbers.values())\n",
    "\n"
   ]
  },
  {
   "cell_type": "code",
   "execution_count": 46,
   "metadata": {},
   "outputs": [
    {
     "data": {
      "text/plain": [
       "930"
      ]
     },
     "execution_count": 46,
     "metadata": {},
     "output_type": "execute_result"
    }
   ],
   "source": [
    "max_end_time"
   ]
  },
  {
   "cell_type": "code",
   "execution_count": 44,
   "metadata": {},
   "outputs": [
    {
     "data": {
      "text/plain": [
       "27900.0"
      ]
     },
     "execution_count": 44,
     "metadata": {},
     "output_type": "execute_result"
    }
   ],
   "source": [
    "max_frame_number"
   ]
  },
  {
   "cell_type": "code",
   "execution_count": 50,
   "metadata": {},
   "outputs": [],
   "source": [
    "import numpy as np\n",
    "\n",
    "frame_interval = 1 / 30  # Interval between frames at 30 fps\n",
    "standard_timeline = np.arange(0, max_end_time, frame_interval)\n",
    "standard_frame_numbers = np.arange(0, max_frame_number + 1)\n"
   ]
  },
  {
   "cell_type": "code",
   "execution_count": 48,
   "metadata": {},
   "outputs": [
    {
     "data": {
      "text/plain": [
       "array([0.00000000e+00, 3.33333333e-02, 6.66666667e-02, ...,\n",
       "       9.29900000e+02, 9.29933333e+02, 9.29966667e+02])"
      ]
     },
     "execution_count": 48,
     "metadata": {},
     "output_type": "execute_result"
    }
   ],
   "source": [
    "standard_timeline"
   ]
  },
  {
   "cell_type": "code",
   "execution_count": 53,
   "metadata": {},
   "outputs": [
    {
     "data": {
      "text/plain": [
       "array([0.0000e+00, 1.0000e+00, 2.0000e+00, ..., 2.7898e+04, 2.7899e+04,\n",
       "       2.7900e+04])"
      ]
     },
     "execution_count": 53,
     "metadata": {},
     "output_type": "execute_result"
    }
   ],
   "source": [
    "standard_frame_numbers"
   ]
  },
  {
   "cell_type": "code",
   "execution_count": 52,
   "metadata": {},
   "outputs": [
    {
     "data": {
      "text/plain": [
       "27900.0"
      ]
     },
     "execution_count": 52,
     "metadata": {},
     "output_type": "execute_result"
    }
   ],
   "source": [
    "standard_frame_numbers[-1]"
   ]
  },
  {
   "cell_type": "code",
   "execution_count": 48,
   "metadata": {},
   "outputs": [],
   "source": [
    "import numpy as np\n",
    "\n",
    "def align_to_standard_timeline(frametimes_data, standard_frame_numbers, standard_timeline, max_frame_numbers):\n",
    "    aligned_data = {}\n",
    "    for camera, data in frametimes_data.items():\n",
    "        frame_numbers, timestamps = np.array(data[0]), np.array(data[1])\n",
    "\n",
    "        # Use searchsorted to find indices where standard_timeline would be inserted in timestamps\n",
    "        indices = np.searchsorted(timestamps, standard_timeline)\n",
    "\n",
    "        # Handle edge cases for indices at the boundaries\n",
    "        idx_left = np.clip(indices - 1, 0, len(timestamps) - 1)\n",
    "        idx_right = np.clip(indices, 0, len(timestamps) - 1)\n",
    "\n",
    "        # Get the timestamps and frame numbers at idx_left and idx_right\n",
    "        time_left = timestamps[idx_left]\n",
    "        time_right = timestamps[idx_right]\n",
    "        frame_left = frame_numbers[idx_left]\n",
    "        frame_right = frame_numbers[idx_right]\n",
    "\n",
    "        # Compute absolute differences between the standard timeline and the left/right timestamps\n",
    "        diff_left = np.abs(standard_timeline - time_left)\n",
    "        diff_right = np.abs(time_right - standard_timeline)\n",
    "\n",
    "        # Determine which timestamps are closer to the standard timeline\n",
    "        use_left = diff_left <= diff_right\n",
    "        closest_indices = np.where(use_left, idx_left, idx_right)\n",
    "\n",
    "        # Align frames and timestamps based on the closest indices\n",
    "        aligned_frames = frame_numbers[closest_indices]\n",
    "        aligned_timestamps = timestamps[closest_indices]\n",
    "\n",
    "        aligned_data[camera] = {\n",
    "            \"frames\": aligned_frames,\n",
    "            \"timestamps\": aligned_timestamps\n",
    "        }\n",
    "        print(f\"Aligned data for {camera} with {len(standard_timeline)} entries.\")\n",
    "\n",
    "    return aligned_data\n"
   ]
  },
  {
   "cell_type": "code",
   "execution_count": 49,
   "metadata": {},
   "outputs": [
    {
     "name": "stdout",
     "output_type": "stream",
     "text": [
      "Aligned data for camera1 with 6 entries.\n",
      "Aligned data for camera2 with 6 entries.\n"
     ]
    }
   ],
   "source": [
    "# Example data\n",
    "frametimes_data = {\n",
    "    'camera1': (np.array([1, 2, 4, 5]), np.array([0.1, 0.2, 0.4, 0.5])),\n",
    "    'camera2': (np.array([1, 3, 4, 6]), np.array([0.15, 0.35, 0.45, 0.65]))\n",
    "}\n",
    "standard_frame_numbers = np.array([1, 2, 3, 4, 5, 6])\n",
    "standard_timeline = np.array([0.1, 0.2, 0.3, 0.4, 0.5, 0.6])\n",
    "max_frame_numbers = 6\n",
    "\n",
    "aligned_data = align_to_standard_timeline(frametimes_data, standard_frame_numbers, standard_timeline, max_frame_numbers)\n"
   ]
  },
  {
   "cell_type": "code",
   "execution_count": 50,
   "metadata": {},
   "outputs": [
    {
     "data": {
      "text/plain": [
       "{'camera1': {'frames': array([1, 2, 2, 4, 5, 5]),\n",
       "  'timestamps': array([0.1, 0.2, 0.2, 0.4, 0.5, 0.5])},\n",
       " 'camera2': {'frames': array([1, 1, 3, 4, 4, 6]),\n",
       "  'timestamps': array([0.15, 0.15, 0.35, 0.45, 0.45, 0.65])}}"
      ]
     },
     "execution_count": 50,
     "metadata": {},
     "output_type": "execute_result"
    }
   ],
   "source": [
    "aligned_data"
   ]
  },
  {
   "cell_type": "code",
   "execution_count": null,
   "metadata": {},
   "outputs": [],
   "source": [
    "# Example data\n",
    "frametimes_data = {\n",
    "    'camera1': (np.array([1, 2, 4, 5]), np.array([0.1, 0.2, 0.4, 0.5])),\n",
    "    'camera2': (np.array([1, 3, 4, 6]), np.array([0.15, 0.35, 0.45, 0.65]))\n",
    "}\n",
    "standard_frame_numbers = np.array([1, 2, 3, 4, 5, 6])\n",
    "standard_timeline = np.array([0.1, 0.2, 0.3, 0.4, 0.5, 0.6])\n",
    "max_frame_numbers = 6\n",
    "\n",
    "aligned_data = align_to_standard_timeline(frametimes_data, standard_frame_numbers, standard_timeline, max_frame_numbers)\n"
   ]
  }
 ],
 "metadata": {
  "kernelspec": {
   "display_name": "BBOP",
   "language": "python",
   "name": "python3"
  },
  "language_info": {
   "codemirror_mode": {
    "name": "ipython",
    "version": 3
   },
   "file_extension": ".py",
   "mimetype": "text/x-python",
   "name": "python",
   "nbconvert_exporter": "python",
   "pygments_lexer": "ipython3",
   "version": "3.9.18"
  }
 },
 "nbformat": 4,
 "nbformat_minor": 2
}
