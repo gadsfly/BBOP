{
 "cells": [
  {
   "cell_type": "code",
   "execution_count": 5,
   "metadata": {},
   "outputs": [],
   "source": [
    "import pickle\n",
    "import os\n",
    "\n",
    "dts_p = \"/home/lq53/mir_repos/dappy_24_nov/byws_version/250116_wav_ffix_ang_pos/50_p/datastruct.p\"\n",
    "# f\"/home/lq53/mir_repos/dappy_24_nov/byws_version/250109_opti/{trrrry}/datastruct.p\"\n",
    "rec_path = \"/data/big_rim/rsync_dcc_sum/Oct3V1/2024_10_25/20241002PMCr2_17_05\"\n",
    "# Load the data structure\n",
    "with open(dts_p, \"rb\") as f:\n",
    "    data_obj = pickle.load(f)\n",
    "    rec_mat_path = os.path.join(rec_path, \"DANNCE/predict00/save_data_AVG.mat\")\n",
    "    path_data = data_obj.data[data_obj.data[\"Prediction_path\"] == rec_mat_path].copy()\n",
    "    "
   ]
  },
  {
   "cell_type": "code",
   "execution_count": 9,
   "metadata": {},
   "outputs": [
    {
     "data": {
      "text/plain": [
       "Index(['id', 'frame', 'AnimalID', 'Sex', 'Condition', 'date', 'time',\n",
       "       'Prediction_path', 'miniscope', 'after_oxytocin', 'before_oxytocin',\n",
       "       'social', 'habituation', 'saline', 'test', 'caffeine', 'cricket',\n",
       "       'baseline', 'recording_time', 'features', 'embed_vals', 'Cluster'],\n",
       "      dtype='object')"
      ]
     },
     "execution_count": 9,
     "metadata": {},
     "output_type": "execute_result"
    }
   ],
   "source": [
    "path_data.columns"
   ]
  },
  {
   "cell_type": "code",
   "execution_count": 10,
   "metadata": {},
   "outputs": [],
   "source": [
    "new_df = path_data[['frame','features','embed_vals', 'Cluster', 'id']]"
   ]
  },
  {
   "cell_type": "code",
   "execution_count": 27,
   "metadata": {},
   "outputs": [],
   "source": [
    "import numpy as np"
   ]
  },
  {
   "cell_type": "code",
   "execution_count": 28,
   "metadata": {},
   "outputs": [
    {
     "data": {
      "text/plain": [
       "True"
      ]
     },
     "execution_count": 28,
     "metadata": {},
     "output_type": "execute_result"
    }
   ],
   "source": [
    "np.array([new_df.features.iloc[i].shape == new_df.features.iloc[0].shape  for i in range(len(new_df.features))]).all()"
   ]
  },
  {
   "cell_type": "code",
   "execution_count": null,
   "metadata": {},
   "outputs": [],
   "source": [
    "new_df"
   ]
  }
 ],
 "metadata": {
  "kernelspec": {
   "display_name": "neuroposelib",
   "language": "python",
   "name": "python3"
  },
  "language_info": {
   "codemirror_mode": {
    "name": "ipython",
    "version": 3
   },
   "file_extension": ".py",
   "mimetype": "text/x-python",
   "name": "python",
   "nbconvert_exporter": "python",
   "pygments_lexer": "ipython3",
   "version": "3.9.19"
  }
 },
 "nbformat": 4,
 "nbformat_minor": 2
}
