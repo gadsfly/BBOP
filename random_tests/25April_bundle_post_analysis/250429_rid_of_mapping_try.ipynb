{
 "cells": [
  {
   "cell_type": "code",
   "execution_count": 1,
   "metadata": {},
   "outputs": [
    {
     "name": "stdout",
     "output_type": "stream",
     "text": [
      "Done writing sidecar files for all pairs with time_diff < 60s.\n"
     ]
    }
   ],
   "source": [
    "#!/usr/bin/env python3\n",
    "import json\n",
    "from pathlib import Path\n",
    "\n",
    "# ————— CONFIG —————\n",
    "MAPPING_FILE   = \"/home/lq53/mir_repos/BBOP/random_tests/25April_bundle_post_analysis/mini_to_rec_mapping_trimmed.json\"  # path to your JSON\n",
    "TIME_THRESHOLD = 60                    # seconds\n",
    "\n",
    "# ————— LOAD & FILTER —————\n",
    "with open(MAPPING_FILE, \"r\") as f:\n",
    "    mapping = json.load(f)\n",
    "\n",
    "for mini_path, info in mapping.items():\n",
    "    td = info.get(\"time_diff\")\n",
    "    rec = info.get(\"rec_path\")\n",
    "    if rec and td is not None and td < TIME_THRESHOLD:\n",
    "        mini_dir = Path(mini_path)\n",
    "        rec_dir  = Path(rec)\n",
    "\n",
    "        # ensure folders exist (won't overwrite existing files/folders)\n",
    "        mini_dir.mkdir(parents=True, exist_ok=True)\n",
    "        rec_dir.mkdir(parents=True, exist_ok=True)\n",
    "\n",
    "        # write sync file in mini folder\n",
    "        (mini_dir / \"sync_to_rec_path.txt\").write_text(rec)\n",
    "\n",
    "        # write sync file in rec folder\n",
    "        (rec_dir  / \"sync_to_mini_path.txt\").write_text(mini_path)\n",
    "\n",
    "print(\"Done writing sidecar files for all pairs with time_diff < 60s.\")\n"
   ]
  }
 ],
 "metadata": {
  "kernelspec": {
   "display_name": "bbop241209",
   "language": "python",
   "name": "python3"
  },
  "language_info": {
   "codemirror_mode": {
    "name": "ipython",
    "version": 3
   },
   "file_extension": ".py",
   "mimetype": "text/x-python",
   "name": "python",
   "nbconvert_exporter": "python",
   "pygments_lexer": "ipython3",
   "version": "3.9.18"
  }
 },
 "nbformat": 4,
 "nbformat_minor": 2
}
