{
 "cells": [
  {
   "cell_type": "code",
   "execution_count": null,
   "metadata": {},
   "outputs": [],
   "source": [
    "# generate png for the overlays in a place tha ti can also access, lol\n",
    "#however, generate the aligned df, seems like that i can either use the function or i just scan and use the function, detailed thingbs in something called:\n",
    "# \n",
    "import os\n",
    "import sys\n",
    "sys.path.append(os.path.abspath('../..'))\n",
    "from utlis.Ca_tools.mini_param_vis_utlis import vis_param_all_with_mapping\n",
    "import json\n",
    "\n",
    "# here, is for overlay mappings.\n",
    "\n",
    "csv_path = \"/home/lq53/mir_repos/BBOP/random_tests/25mar_minibbop_integration/mini_nc_mapping_250327.csv\"\n",
    "mapping_json = \"/home/lq53/mir_repos/BBOP/random_tests/25mar_minibbop_integration/mini_to_rec_mapping.json\"\n",
    "vis_param_all_with_mapping(csv_path, mapping_json, threshold=10, display_only=False)\n"
   ]
  },
  {
   "cell_type": "code",
   "execution_count": null,
   "metadata": {},
   "outputs": [],
   "source": []
  }
 ],
 "metadata": {
  "language_info": {
   "name": "python"
  }
 },
 "nbformat": 4,
 "nbformat_minor": 2
}
