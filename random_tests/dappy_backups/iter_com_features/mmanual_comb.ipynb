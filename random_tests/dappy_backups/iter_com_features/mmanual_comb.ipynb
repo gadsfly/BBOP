{
 "cells": [
  {
   "cell_type": "code",
   "execution_count": 2,
   "metadata": {},
   "outputs": [
    {
     "name": "stderr",
     "output_type": "stream",
     "text": [
      "115it [00:06, 17.41it/s]\n"
     ]
    },
    {
     "name": "stdout",
     "output_type": "stream",
     "text": [
      "Centering poses to mid spine ...\n",
      "Rotating spine to xz plane ... \n",
      "Detected centered pose input - calculating relative velocities ... \n"
     ]
    },
    {
     "name": "stderr",
     "output_type": "stream",
     "text": [
      "100%|██████████| 115/115 [01:18<00:00,  1.47it/s]\n"
     ]
    },
    {
     "name": "stdout",
     "output_type": "stream",
     "text": [
      "Calculating joint angles ... \n"
     ]
    },
    {
     "name": "stderr",
     "output_type": "stream",
     "text": [
      "100%|██████████| 55/55 [00:04<00:00, 11.53it/s]\n"
     ]
    },
    {
     "name": "stdout",
     "output_type": "stream",
     "text": [
      "Reformatting pose to egocentric pose features ... \n"
     ]
    }
   ],
   "source": [
    "from neuroposelib import read\n",
    "from neuroposelib import vis\n",
    "import numpy as np\n",
    "import time\n",
    "from IPython.display import Video\n",
    "from pathlib import Path\n",
    "import matplotlib.pyplot as plt\n",
    "# %matplotlib inline\n",
    "from neuroposelib import preprocess\n",
    "from neuroposelib import write\n",
    "from neuroposelib import features\n",
    "from neuroposelib import DataStruct as ds\n",
    "from neuroposelib.embed import Embed\n",
    "from neuroposelib import analysis\n",
    "import pandas as pd\n",
    "from neuroposelib.embed import Watershed\n",
    "\n",
    "config = read.config('/home/lq53/mir_repos/BBOP/random tests/dappy_backups/iter_com_features/mir_1.yaml')\n",
    "\n",
    "connectivity = read.connectivity(\n",
    "    path=config[\"skeleton_path\"], skeleton_name=config[\"skeleton_name\"]\n",
    ")\n",
    "\n",
    "# Make out_path\n",
    "Path(config[\"out_path\"]).mkdir(parents=True, exist_ok=True)\n",
    "\n",
    "# meta, meta_by_frame = read.meta(config[\"data_path\"] + \"demo_meta.csv\", id=ids)\n",
    "pose, ids, meta, meta_by_frame = read.pose_from_meta(\n",
    "    path=config[\"meta_path\"], connectivity=connectivity, key=\"Prediction_path\", file_type=\"dannce\"\n",
    ")\n",
    "\n",
    "Path(config[\"out_path\"]).mkdir(parents=True, exist_ok=True)\n",
    "\n",
    "# write.pose_h5(pose,ids, config['out_path'] + 'pose_merged_newcol.h5')\n",
    "\n",
    "\n",
    "pose = preprocess.rotate_spine(preprocess.center_spine(pose, keypt_idx=4), keypt_idx=[4, 3])\n",
    "\n",
    "\n",
    "rel_vel, rel_vel_labels = features.get_velocities(\n",
    "    pose,\n",
    "    ids,\n",
    "    connectivity.joint_names,\n",
    "    joints=np.delete(np.arange(18), 4),\n",
    "    widths=[5, 11, 51],\n",
    "    f_s = 30\n",
    ")\n",
    "\n",
    "angles, angle_labels = features.get_angles(pose, connectivity.angles)\n",
    "\n",
    "ego_pose, labels = features.get_ego_pose(pose, connectivity.joint_names)\n",
    "# # Ensure all feature datasets have the same number of samples\n",
    "\n",
    "# Angular Velocities\n",
    "angular_vel, angular_vel_labels = features.get_angular_vel(\n",
    "        angles,\n",
    "        angle_labels,\n",
    "        ids,\n",
    "        widths=[5, 11, 51],\n",
    "    )\n",
    "# write.features_h5(\n",
    "#     angular_vel, angular_vel_labels, path=config[\"out_path\"] + \"angular_velocity.h5\"\n",
    "# )\n",
    "\n",
    "# Compute and save Euler angles (if applicable)\n",
    "euler_angles, euler_labels = features.get_euler_angles(pose, connectivity.angles)\n",
    "# write.features_h5(\n",
    "#     euler_angles, euler_labels, path=config[\"out_path\"] + \"euler_angles.h5\"\n",
    "# )\n",
    "\n",
    "# Compute and save head angular velocities\n",
    "head_angular = features.get_head_angular(pose, ids, widths=[5, 10, 50])\n",
    "# write.features_h5(\n",
    "#     head_angular, [\"head_angular\"], path=config[\"out_path\"] + \"head_angular.h5\"\n",
    "# )\n"
   ]
  },
  {
   "cell_type": "code",
   "execution_count": 6,
   "metadata": {},
   "outputs": [],
   "source": [
    "config = read.config('/home/lq53/mir_repos/dappy_24_nov/byws_version/mir_1.yaml')"
   ]
  },
  {
   "cell_type": "code",
   "execution_count": 13,
   "metadata": {},
   "outputs": [
    {
     "data": {
      "text/plain": [
       "'/home/lq53/mir_repos/dappy_24_nov/byws_version/250115pti_comb_all/50_p/'"
      ]
     },
     "execution_count": 13,
     "metadata": {},
     "output_type": "execute_result"
    }
   ],
   "source": [
    "config[\"out_path\"]"
   ]
  },
  {
   "cell_type": "code",
   "execution_count": 17,
   "metadata": {},
   "outputs": [],
   "source": [
    "# Make out_path\n",
    "Path(config[\"out_path\"]).mkdir(parents=True, exist_ok=True)"
   ]
  },
  {
   "cell_type": "code",
   "execution_count": 3,
   "metadata": {},
   "outputs": [
    {
     "name": "stdout",
     "output_type": "stream",
     "text": [
      "Calculating velocities of angles ... \n"
     ]
    },
    {
     "name": "stderr",
     "output_type": "stream",
     "text": [
      "100%|██████████| 115/115 [00:51<00:00,  2.23it/s]\n"
     ]
    },
    {
     "name": "stdout",
     "output_type": "stream",
     "text": [
      "Calculating joint angles - Euler ... \n"
     ]
    },
    {
     "name": "stderr",
     "output_type": "stream",
     "text": [
      "  4%|▎         | 2/55 [00:01<00:34,  1.53it/s]/home/lq53/mir_repos/dappy_24_nov/neuroposelib/src/neuroposelib/features.py:165: RuntimeWarning: invalid value encountered in divide\n",
      "  v2_u = v2[:, plane_dict[key]] / np.expand_dims(\n",
      "  9%|▉         | 5/55 [00:02<00:14,  3.36it/s]/home/lq53/mir_repos/dappy_24_nov/neuroposelib/src/neuroposelib/features.py:162: RuntimeWarning: invalid value encountered in divide\n",
      "  v1_u = v1[:, plane_dict[key]] / np.expand_dims(\n",
      "100%|██████████| 55/55 [00:12<00:00,  4.43it/s]\n",
      "100%|██████████| 115/115 [00:01<00:00, 70.48it/s]\n"
     ]
    }
   ],
   "source": [
    "# # Angular Velocities\n",
    "# angular_vel, angular_vel_labels = features.get_angular_vel(\n",
    "#         angles,\n",
    "#         angle_labels,\n",
    "#         ids,\n",
    "#         widths=[5, 11, 51],\n",
    "#     )\n",
    "# # write.features_h5(\n",
    "# #     angular_vel, angular_vel_labels, path=config[\"out_path\"] + \"angular_velocity.h5\"\n",
    "# # )\n",
    "\n",
    "# # Compute and save Euler angles (if applicable)\n",
    "# euler_angles, euler_labels = features.get_euler_angles(pose, connectivity.angles)\n",
    "# # write.features_h5(\n",
    "# #     euler_angles, euler_labels, path=config[\"out_path\"] + \"euler_angles.h5\"\n",
    "# # )\n",
    "\n",
    "# # Compute and save head angular velocities\n",
    "# head_angular = features.get_head_angular(pose, ids, widths=[5, 10, 50])\n",
    "# # write.features_h5(\n",
    "# #     head_angular, [\"head_angular\"], path=config[\"out_path\"] + \"head_angular.h5\"\n",
    "# # )\n"
   ]
  },
  {
   "cell_type": "code",
   "execution_count": 18,
   "metadata": {},
   "outputs": [
    {
     "name": "stdout",
     "output_type": "stream",
     "text": [
      "Calculating wavelets ... \n",
      "Calculating wavelets for video 0.0\n"
     ]
    },
    {
     "name": "stderr",
     "output_type": "stream",
     "text": [
      "100%|██████████| 60/60 [00:02<00:00, 26.38it/s]\n"
     ]
    },
    {
     "name": "stdout",
     "output_type": "stream",
     "text": [
      "Calculating wavelets for video 1.0\n"
     ]
    },
    {
     "name": "stderr",
     "output_type": "stream",
     "text": [
      "100%|██████████| 60/60 [00:02<00:00, 26.57it/s]\n"
     ]
    },
    {
     "name": "stdout",
     "output_type": "stream",
     "text": [
      "Calculating wavelets for video 2.0\n"
     ]
    },
    {
     "name": "stderr",
     "output_type": "stream",
     "text": [
      "100%|██████████| 60/60 [00:02<00:00, 26.63it/s]\n"
     ]
    },
    {
     "name": "stdout",
     "output_type": "stream",
     "text": [
      "Calculating wavelets for video 3.0\n"
     ]
    },
    {
     "name": "stderr",
     "output_type": "stream",
     "text": [
      "100%|██████████| 60/60 [00:02<00:00, 26.37it/s]\n"
     ]
    },
    {
     "name": "stdout",
     "output_type": "stream",
     "text": [
      "Calculating wavelets for video 4.0\n"
     ]
    },
    {
     "name": "stderr",
     "output_type": "stream",
     "text": [
      "100%|██████████| 60/60 [00:02<00:00, 26.17it/s]\n"
     ]
    },
    {
     "name": "stdout",
     "output_type": "stream",
     "text": [
      "Calculating wavelets for video 5.0\n"
     ]
    },
    {
     "name": "stderr",
     "output_type": "stream",
     "text": [
      "100%|██████████| 60/60 [00:02<00:00, 26.41it/s]\n"
     ]
    },
    {
     "name": "stdout",
     "output_type": "stream",
     "text": [
      "Calculating wavelets for video 6.0\n"
     ]
    },
    {
     "name": "stderr",
     "output_type": "stream",
     "text": [
      "100%|██████████| 60/60 [00:02<00:00, 26.30it/s]\n"
     ]
    },
    {
     "name": "stdout",
     "output_type": "stream",
     "text": [
      "Calculating wavelets for video 7.0\n"
     ]
    },
    {
     "name": "stderr",
     "output_type": "stream",
     "text": [
      "100%|██████████| 60/60 [00:02<00:00, 26.68it/s]\n"
     ]
    },
    {
     "name": "stdout",
     "output_type": "stream",
     "text": [
      "Calculating wavelets for video 8.0\n"
     ]
    },
    {
     "name": "stderr",
     "output_type": "stream",
     "text": [
      "100%|██████████| 60/60 [00:02<00:00, 26.54it/s]\n"
     ]
    },
    {
     "name": "stdout",
     "output_type": "stream",
     "text": [
      "Calculating wavelets for video 9.0\n"
     ]
    },
    {
     "name": "stderr",
     "output_type": "stream",
     "text": [
      "100%|██████████| 60/60 [00:02<00:00, 26.22it/s]\n"
     ]
    },
    {
     "name": "stdout",
     "output_type": "stream",
     "text": [
      "Calculating wavelets for video 10.0\n"
     ]
    },
    {
     "name": "stderr",
     "output_type": "stream",
     "text": [
      "100%|██████████| 60/60 [00:01<00:00, 36.25it/s]\n"
     ]
    },
    {
     "name": "stdout",
     "output_type": "stream",
     "text": [
      "Calculating wavelets for video 11.0\n"
     ]
    },
    {
     "name": "stderr",
     "output_type": "stream",
     "text": [
      "100%|██████████| 60/60 [00:01<00:00, 36.55it/s]\n"
     ]
    },
    {
     "name": "stdout",
     "output_type": "stream",
     "text": [
      "Calculating wavelets for video 12.0\n"
     ]
    },
    {
     "name": "stderr",
     "output_type": "stream",
     "text": [
      "100%|██████████| 60/60 [00:01<00:00, 35.91it/s]\n"
     ]
    },
    {
     "name": "stdout",
     "output_type": "stream",
     "text": [
      "Calculating wavelets for video 13.0\n"
     ]
    },
    {
     "name": "stderr",
     "output_type": "stream",
     "text": [
      "100%|██████████| 60/60 [00:01<00:00, 36.26it/s]\n"
     ]
    },
    {
     "name": "stdout",
     "output_type": "stream",
     "text": [
      "Calculating wavelets for video 14.0\n"
     ]
    },
    {
     "name": "stderr",
     "output_type": "stream",
     "text": [
      "100%|██████████| 60/60 [00:01<00:00, 36.52it/s]\n"
     ]
    },
    {
     "name": "stdout",
     "output_type": "stream",
     "text": [
      "Calculating wavelets for video 15.0\n"
     ]
    },
    {
     "name": "stderr",
     "output_type": "stream",
     "text": [
      "100%|██████████| 60/60 [00:01<00:00, 36.24it/s]\n"
     ]
    },
    {
     "name": "stdout",
     "output_type": "stream",
     "text": [
      "Calculating wavelets for video 16.0\n"
     ]
    },
    {
     "name": "stderr",
     "output_type": "stream",
     "text": [
      "100%|██████████| 60/60 [00:01<00:00, 35.96it/s]\n"
     ]
    },
    {
     "name": "stdout",
     "output_type": "stream",
     "text": [
      "Calculating wavelets for video 17.0\n"
     ]
    },
    {
     "name": "stderr",
     "output_type": "stream",
     "text": [
      "100%|██████████| 60/60 [00:01<00:00, 36.07it/s]\n"
     ]
    },
    {
     "name": "stdout",
     "output_type": "stream",
     "text": [
      "Calculating wavelets for video 18.0\n"
     ]
    },
    {
     "name": "stderr",
     "output_type": "stream",
     "text": [
      "100%|██████████| 60/60 [00:01<00:00, 36.12it/s]\n"
     ]
    },
    {
     "name": "stdout",
     "output_type": "stream",
     "text": [
      "Calculating wavelets for video 19.0\n"
     ]
    },
    {
     "name": "stderr",
     "output_type": "stream",
     "text": [
      "100%|██████████| 60/60 [00:01<00:00, 35.97it/s]\n"
     ]
    },
    {
     "name": "stdout",
     "output_type": "stream",
     "text": [
      "Calculating wavelets for video 20.0\n"
     ]
    },
    {
     "name": "stderr",
     "output_type": "stream",
     "text": [
      "100%|██████████| 60/60 [00:01<00:00, 36.32it/s]\n"
     ]
    },
    {
     "name": "stdout",
     "output_type": "stream",
     "text": [
      "Calculating wavelets for video 21.0\n"
     ]
    },
    {
     "name": "stderr",
     "output_type": "stream",
     "text": [
      "100%|██████████| 60/60 [00:01<00:00, 36.28it/s]\n"
     ]
    },
    {
     "name": "stdout",
     "output_type": "stream",
     "text": [
      "Calculating wavelets for video 22.0\n"
     ]
    },
    {
     "name": "stderr",
     "output_type": "stream",
     "text": [
      "100%|██████████| 60/60 [00:01<00:00, 36.37it/s]\n"
     ]
    },
    {
     "name": "stdout",
     "output_type": "stream",
     "text": [
      "Calculating wavelets for video 23.0\n"
     ]
    },
    {
     "name": "stderr",
     "output_type": "stream",
     "text": [
      "100%|██████████| 60/60 [00:01<00:00, 36.21it/s]\n"
     ]
    },
    {
     "name": "stdout",
     "output_type": "stream",
     "text": [
      "Calculating wavelets for video 24.0\n"
     ]
    },
    {
     "name": "stderr",
     "output_type": "stream",
     "text": [
      "100%|██████████| 60/60 [00:01<00:00, 36.03it/s]\n"
     ]
    },
    {
     "name": "stdout",
     "output_type": "stream",
     "text": [
      "Calculating wavelets for video 25.0\n"
     ]
    },
    {
     "name": "stderr",
     "output_type": "stream",
     "text": [
      "100%|██████████| 60/60 [00:01<00:00, 36.34it/s]\n"
     ]
    },
    {
     "name": "stdout",
     "output_type": "stream",
     "text": [
      "Calculating wavelets for video 26.0\n"
     ]
    },
    {
     "name": "stderr",
     "output_type": "stream",
     "text": [
      "100%|██████████| 60/60 [00:01<00:00, 35.91it/s]\n"
     ]
    },
    {
     "name": "stdout",
     "output_type": "stream",
     "text": [
      "Calculating wavelets for video 27.0\n"
     ]
    },
    {
     "name": "stderr",
     "output_type": "stream",
     "text": [
      "100%|██████████| 60/60 [00:01<00:00, 36.29it/s]\n"
     ]
    },
    {
     "name": "stdout",
     "output_type": "stream",
     "text": [
      "Calculating wavelets for video 28.0\n"
     ]
    },
    {
     "name": "stderr",
     "output_type": "stream",
     "text": [
      "100%|██████████| 60/60 [00:01<00:00, 35.24it/s]\n"
     ]
    },
    {
     "name": "stdout",
     "output_type": "stream",
     "text": [
      "Calculating wavelets for video 29.0\n"
     ]
    },
    {
     "name": "stderr",
     "output_type": "stream",
     "text": [
      "100%|██████████| 60/60 [00:01<00:00, 35.80it/s]\n"
     ]
    },
    {
     "name": "stdout",
     "output_type": "stream",
     "text": [
      "Calculating wavelets for video 30.0\n"
     ]
    },
    {
     "name": "stderr",
     "output_type": "stream",
     "text": [
      "100%|██████████| 60/60 [00:01<00:00, 36.40it/s]\n"
     ]
    },
    {
     "name": "stdout",
     "output_type": "stream",
     "text": [
      "Calculating wavelets for video 31.0\n"
     ]
    },
    {
     "name": "stderr",
     "output_type": "stream",
     "text": [
      "100%|██████████| 60/60 [00:01<00:00, 36.22it/s]\n"
     ]
    },
    {
     "name": "stdout",
     "output_type": "stream",
     "text": [
      "Calculating wavelets for video 32.0\n"
     ]
    },
    {
     "name": "stderr",
     "output_type": "stream",
     "text": [
      "100%|██████████| 60/60 [00:01<00:00, 36.09it/s]\n"
     ]
    },
    {
     "name": "stdout",
     "output_type": "stream",
     "text": [
      "Calculating wavelets for video 33.0\n"
     ]
    },
    {
     "name": "stderr",
     "output_type": "stream",
     "text": [
      "100%|██████████| 60/60 [00:01<00:00, 35.84it/s]\n"
     ]
    },
    {
     "name": "stdout",
     "output_type": "stream",
     "text": [
      "Calculating wavelets for video 34.0\n"
     ]
    },
    {
     "name": "stderr",
     "output_type": "stream",
     "text": [
      "100%|██████████| 60/60 [00:01<00:00, 36.40it/s]\n"
     ]
    },
    {
     "name": "stdout",
     "output_type": "stream",
     "text": [
      "Calculating wavelets for video 35.0\n"
     ]
    },
    {
     "name": "stderr",
     "output_type": "stream",
     "text": [
      "100%|██████████| 60/60 [00:01<00:00, 36.76it/s]\n"
     ]
    },
    {
     "name": "stdout",
     "output_type": "stream",
     "text": [
      "Calculating wavelets for video 36.0\n"
     ]
    },
    {
     "name": "stderr",
     "output_type": "stream",
     "text": [
      "100%|██████████| 60/60 [00:01<00:00, 36.93it/s]\n"
     ]
    },
    {
     "name": "stdout",
     "output_type": "stream",
     "text": [
      "Calculating wavelets for video 37.0\n"
     ]
    },
    {
     "name": "stderr",
     "output_type": "stream",
     "text": [
      "100%|██████████| 60/60 [00:01<00:00, 36.25it/s]\n"
     ]
    },
    {
     "name": "stdout",
     "output_type": "stream",
     "text": [
      "Calculating wavelets for video 38.0\n"
     ]
    },
    {
     "name": "stderr",
     "output_type": "stream",
     "text": [
      "100%|██████████| 60/60 [00:01<00:00, 36.42it/s]\n"
     ]
    },
    {
     "name": "stdout",
     "output_type": "stream",
     "text": [
      "Calculating wavelets for video 39.0\n"
     ]
    },
    {
     "name": "stderr",
     "output_type": "stream",
     "text": [
      "100%|██████████| 60/60 [00:01<00:00, 35.92it/s]\n"
     ]
    },
    {
     "name": "stdout",
     "output_type": "stream",
     "text": [
      "Calculating wavelets for video 40.0\n"
     ]
    },
    {
     "name": "stderr",
     "output_type": "stream",
     "text": [
      "100%|██████████| 60/60 [00:01<00:00, 36.87it/s]\n"
     ]
    },
    {
     "name": "stdout",
     "output_type": "stream",
     "text": [
      "Calculating wavelets for video 41.0\n"
     ]
    },
    {
     "name": "stderr",
     "output_type": "stream",
     "text": [
      "100%|██████████| 60/60 [00:01<00:00, 35.91it/s]\n"
     ]
    },
    {
     "name": "stdout",
     "output_type": "stream",
     "text": [
      "Calculating wavelets for video 42.0\n"
     ]
    },
    {
     "name": "stderr",
     "output_type": "stream",
     "text": [
      "100%|██████████| 60/60 [00:01<00:00, 36.42it/s]\n"
     ]
    },
    {
     "name": "stdout",
     "output_type": "stream",
     "text": [
      "Calculating wavelets for video 43.0\n"
     ]
    },
    {
     "name": "stderr",
     "output_type": "stream",
     "text": [
      "100%|██████████| 60/60 [00:01<00:00, 54.46it/s]\n"
     ]
    },
    {
     "name": "stdout",
     "output_type": "stream",
     "text": [
      "Calculating wavelets for video 44.0\n"
     ]
    },
    {
     "name": "stderr",
     "output_type": "stream",
     "text": [
      "100%|██████████| 60/60 [00:01<00:00, 54.35it/s]\n"
     ]
    },
    {
     "name": "stdout",
     "output_type": "stream",
     "text": [
      "Calculating wavelets for video 45.0\n"
     ]
    },
    {
     "name": "stderr",
     "output_type": "stream",
     "text": [
      "100%|██████████| 60/60 [00:01<00:00, 36.79it/s]\n"
     ]
    },
    {
     "name": "stdout",
     "output_type": "stream",
     "text": [
      "Calculating wavelets for video 46.0\n"
     ]
    },
    {
     "name": "stderr",
     "output_type": "stream",
     "text": [
      "100%|██████████| 60/60 [00:01<00:00, 36.32it/s]\n"
     ]
    },
    {
     "name": "stdout",
     "output_type": "stream",
     "text": [
      "Calculating wavelets for video 47.0\n"
     ]
    },
    {
     "name": "stderr",
     "output_type": "stream",
     "text": [
      "100%|██████████| 60/60 [00:01<00:00, 36.08it/s]\n"
     ]
    },
    {
     "name": "stdout",
     "output_type": "stream",
     "text": [
      "Calculating wavelets for video 48.0\n"
     ]
    },
    {
     "name": "stderr",
     "output_type": "stream",
     "text": [
      "100%|██████████| 60/60 [00:01<00:00, 53.74it/s]\n"
     ]
    },
    {
     "name": "stdout",
     "output_type": "stream",
     "text": [
      "Calculating wavelets for video 49.0\n"
     ]
    },
    {
     "name": "stderr",
     "output_type": "stream",
     "text": [
      "100%|██████████| 60/60 [00:01<00:00, 53.46it/s]\n"
     ]
    },
    {
     "name": "stdout",
     "output_type": "stream",
     "text": [
      "Calculating wavelets for video 50.0\n"
     ]
    },
    {
     "name": "stderr",
     "output_type": "stream",
     "text": [
      "100%|██████████| 60/60 [00:01<00:00, 54.08it/s]\n"
     ]
    },
    {
     "name": "stdout",
     "output_type": "stream",
     "text": [
      "Calculating wavelets for video 51.0\n"
     ]
    },
    {
     "name": "stderr",
     "output_type": "stream",
     "text": [
      "100%|██████████| 60/60 [00:01<00:00, 54.07it/s]\n"
     ]
    },
    {
     "name": "stdout",
     "output_type": "stream",
     "text": [
      "Calculating wavelets for video 52.0\n"
     ]
    },
    {
     "name": "stderr",
     "output_type": "stream",
     "text": [
      "100%|██████████| 60/60 [00:01<00:00, 54.42it/s]\n"
     ]
    },
    {
     "name": "stdout",
     "output_type": "stream",
     "text": [
      "Calculating wavelets for video 53.0\n"
     ]
    },
    {
     "name": "stderr",
     "output_type": "stream",
     "text": [
      "100%|██████████| 60/60 [00:01<00:00, 54.33it/s]\n"
     ]
    },
    {
     "name": "stdout",
     "output_type": "stream",
     "text": [
      "Calculating wavelets for video 54.0\n"
     ]
    },
    {
     "name": "stderr",
     "output_type": "stream",
     "text": [
      "100%|██████████| 60/60 [00:01<00:00, 54.00it/s]\n"
     ]
    },
    {
     "name": "stdout",
     "output_type": "stream",
     "text": [
      "Calculating wavelets for video 55.0\n"
     ]
    },
    {
     "name": "stderr",
     "output_type": "stream",
     "text": [
      "100%|██████████| 60/60 [00:01<00:00, 54.13it/s]\n"
     ]
    },
    {
     "name": "stdout",
     "output_type": "stream",
     "text": [
      "Calculating wavelets for video 56.0\n"
     ]
    },
    {
     "name": "stderr",
     "output_type": "stream",
     "text": [
      "100%|██████████| 60/60 [00:01<00:00, 51.90it/s]\n"
     ]
    },
    {
     "name": "stdout",
     "output_type": "stream",
     "text": [
      "Calculating wavelets for video 57.0\n"
     ]
    },
    {
     "name": "stderr",
     "output_type": "stream",
     "text": [
      "100%|██████████| 60/60 [00:01<00:00, 55.08it/s]\n"
     ]
    },
    {
     "name": "stdout",
     "output_type": "stream",
     "text": [
      "Calculating wavelets for video 58.0\n"
     ]
    },
    {
     "name": "stderr",
     "output_type": "stream",
     "text": [
      "100%|██████████| 60/60 [00:01<00:00, 42.01it/s]\n"
     ]
    },
    {
     "name": "stdout",
     "output_type": "stream",
     "text": [
      "Calculating wavelets for video 59.0\n"
     ]
    },
    {
     "name": "stderr",
     "output_type": "stream",
     "text": [
      "100%|██████████| 60/60 [00:01<00:00, 44.76it/s]\n"
     ]
    },
    {
     "name": "stdout",
     "output_type": "stream",
     "text": [
      "Calculating wavelets for video 60.0\n"
     ]
    },
    {
     "name": "stderr",
     "output_type": "stream",
     "text": [
      "100%|██████████| 60/60 [00:01<00:00, 48.18it/s]\n"
     ]
    },
    {
     "name": "stdout",
     "output_type": "stream",
     "text": [
      "Calculating wavelets for video 61.0\n"
     ]
    },
    {
     "name": "stderr",
     "output_type": "stream",
     "text": [
      "100%|██████████| 60/60 [00:00<00:00, 64.40it/s]\n"
     ]
    },
    {
     "name": "stdout",
     "output_type": "stream",
     "text": [
      "Calculating wavelets for video 62.0\n"
     ]
    },
    {
     "name": "stderr",
     "output_type": "stream",
     "text": [
      "100%|██████████| 60/60 [00:01<00:00, 44.25it/s]\n"
     ]
    },
    {
     "name": "stdout",
     "output_type": "stream",
     "text": [
      "Calculating wavelets for video 63.0\n"
     ]
    },
    {
     "name": "stderr",
     "output_type": "stream",
     "text": [
      "100%|██████████| 60/60 [00:01<00:00, 44.56it/s]\n"
     ]
    },
    {
     "name": "stdout",
     "output_type": "stream",
     "text": [
      "Calculating wavelets for video 64.0\n"
     ]
    },
    {
     "name": "stderr",
     "output_type": "stream",
     "text": [
      "100%|██████████| 60/60 [00:01<00:00, 43.93it/s]\n"
     ]
    },
    {
     "name": "stdout",
     "output_type": "stream",
     "text": [
      "Calculating wavelets for video 65.0\n"
     ]
    },
    {
     "name": "stderr",
     "output_type": "stream",
     "text": [
      "100%|██████████| 60/60 [00:01<00:00, 43.99it/s]\n"
     ]
    },
    {
     "name": "stdout",
     "output_type": "stream",
     "text": [
      "Calculating wavelets for video 66.0\n"
     ]
    },
    {
     "name": "stderr",
     "output_type": "stream",
     "text": [
      "100%|██████████| 60/60 [00:01<00:00, 44.39it/s]\n"
     ]
    },
    {
     "name": "stdout",
     "output_type": "stream",
     "text": [
      "Calculating wavelets for video 67.0\n"
     ]
    },
    {
     "name": "stderr",
     "output_type": "stream",
     "text": [
      "100%|██████████| 60/60 [00:01<00:00, 45.01it/s]\n"
     ]
    },
    {
     "name": "stdout",
     "output_type": "stream",
     "text": [
      "Calculating wavelets for video 68.0\n"
     ]
    },
    {
     "name": "stderr",
     "output_type": "stream",
     "text": [
      "100%|██████████| 60/60 [00:01<00:00, 44.33it/s]\n"
     ]
    },
    {
     "name": "stdout",
     "output_type": "stream",
     "text": [
      "Calculating wavelets for video 69.0\n"
     ]
    },
    {
     "name": "stderr",
     "output_type": "stream",
     "text": [
      "100%|██████████| 60/60 [00:01<00:00, 43.76it/s]\n"
     ]
    },
    {
     "name": "stdout",
     "output_type": "stream",
     "text": [
      "Calculating wavelets for video 70.0\n"
     ]
    },
    {
     "name": "stderr",
     "output_type": "stream",
     "text": [
      "100%|██████████| 60/60 [00:01<00:00, 44.12it/s]\n"
     ]
    },
    {
     "name": "stdout",
     "output_type": "stream",
     "text": [
      "Calculating wavelets for video 71.0\n"
     ]
    },
    {
     "name": "stderr",
     "output_type": "stream",
     "text": [
      "100%|██████████| 60/60 [00:00<00:00, 132.49it/s]\n"
     ]
    },
    {
     "name": "stdout",
     "output_type": "stream",
     "text": [
      "Calculating wavelets for video 72.0\n"
     ]
    },
    {
     "name": "stderr",
     "output_type": "stream",
     "text": [
      "100%|██████████| 60/60 [00:02<00:00, 26.02it/s]\n"
     ]
    },
    {
     "name": "stdout",
     "output_type": "stream",
     "text": [
      "Calculating wavelets for video 73.0\n"
     ]
    },
    {
     "name": "stderr",
     "output_type": "stream",
     "text": [
      "100%|██████████| 60/60 [00:01<00:00, 44.67it/s]\n"
     ]
    },
    {
     "name": "stdout",
     "output_type": "stream",
     "text": [
      "Calculating wavelets for video 74.0\n"
     ]
    },
    {
     "name": "stderr",
     "output_type": "stream",
     "text": [
      "100%|██████████| 60/60 [00:01<00:00, 44.83it/s]\n"
     ]
    },
    {
     "name": "stdout",
     "output_type": "stream",
     "text": [
      "Calculating wavelets for video 75.0\n"
     ]
    },
    {
     "name": "stderr",
     "output_type": "stream",
     "text": [
      "100%|██████████| 60/60 [00:01<00:00, 44.45it/s]\n"
     ]
    },
    {
     "name": "stdout",
     "output_type": "stream",
     "text": [
      "Calculating wavelets for video 76.0\n"
     ]
    },
    {
     "name": "stderr",
     "output_type": "stream",
     "text": [
      "100%|██████████| 60/60 [00:01<00:00, 45.62it/s]\n"
     ]
    },
    {
     "name": "stdout",
     "output_type": "stream",
     "text": [
      "Calculating wavelets for video 77.0\n"
     ]
    },
    {
     "name": "stderr",
     "output_type": "stream",
     "text": [
      "100%|██████████| 60/60 [00:01<00:00, 45.54it/s]\n"
     ]
    },
    {
     "name": "stdout",
     "output_type": "stream",
     "text": [
      "Calculating wavelets for video 78.0\n"
     ]
    },
    {
     "name": "stderr",
     "output_type": "stream",
     "text": [
      "100%|██████████| 60/60 [00:01<00:00, 44.81it/s]\n"
     ]
    },
    {
     "name": "stdout",
     "output_type": "stream",
     "text": [
      "Calculating wavelets for video 79.0\n"
     ]
    },
    {
     "name": "stderr",
     "output_type": "stream",
     "text": [
      "100%|██████████| 60/60 [00:01<00:00, 44.42it/s]\n"
     ]
    },
    {
     "name": "stdout",
     "output_type": "stream",
     "text": [
      "Calculating wavelets for video 80.0\n"
     ]
    },
    {
     "name": "stderr",
     "output_type": "stream",
     "text": [
      "100%|██████████| 60/60 [00:01<00:00, 44.48it/s]\n"
     ]
    },
    {
     "name": "stdout",
     "output_type": "stream",
     "text": [
      "Calculating wavelets for video 81.0\n"
     ]
    },
    {
     "name": "stderr",
     "output_type": "stream",
     "text": [
      "100%|██████████| 60/60 [00:01<00:00, 44.62it/s]\n"
     ]
    },
    {
     "name": "stdout",
     "output_type": "stream",
     "text": [
      "Calculating wavelets for video 82.0\n"
     ]
    },
    {
     "name": "stderr",
     "output_type": "stream",
     "text": [
      "100%|██████████| 60/60 [00:01<00:00, 44.78it/s]\n"
     ]
    },
    {
     "name": "stdout",
     "output_type": "stream",
     "text": [
      "Calculating wavelets for video 83.0\n"
     ]
    },
    {
     "name": "stderr",
     "output_type": "stream",
     "text": [
      "100%|██████████| 60/60 [00:01<00:00, 44.80it/s]\n"
     ]
    },
    {
     "name": "stdout",
     "output_type": "stream",
     "text": [
      "Calculating wavelets for video 84.0\n"
     ]
    },
    {
     "name": "stderr",
     "output_type": "stream",
     "text": [
      "100%|██████████| 60/60 [00:01<00:00, 44.76it/s]\n"
     ]
    },
    {
     "name": "stdout",
     "output_type": "stream",
     "text": [
      "Calculating wavelets for video 85.0\n"
     ]
    },
    {
     "name": "stderr",
     "output_type": "stream",
     "text": [
      "100%|██████████| 60/60 [00:01<00:00, 44.74it/s]\n"
     ]
    },
    {
     "name": "stdout",
     "output_type": "stream",
     "text": [
      "Calculating wavelets for video 86.0\n"
     ]
    },
    {
     "name": "stderr",
     "output_type": "stream",
     "text": [
      "100%|██████████| 60/60 [00:01<00:00, 44.81it/s]\n"
     ]
    },
    {
     "name": "stdout",
     "output_type": "stream",
     "text": [
      "Calculating wavelets for video 87.0\n"
     ]
    },
    {
     "name": "stderr",
     "output_type": "stream",
     "text": [
      "100%|██████████| 60/60 [00:01<00:00, 43.53it/s]\n"
     ]
    },
    {
     "name": "stdout",
     "output_type": "stream",
     "text": [
      "Calculating wavelets for video 88.0\n"
     ]
    },
    {
     "name": "stderr",
     "output_type": "stream",
     "text": [
      "100%|██████████| 60/60 [00:01<00:00, 44.32it/s]\n"
     ]
    },
    {
     "name": "stdout",
     "output_type": "stream",
     "text": [
      "Calculating wavelets for video 89.0\n"
     ]
    },
    {
     "name": "stderr",
     "output_type": "stream",
     "text": [
      "100%|██████████| 60/60 [00:01<00:00, 44.58it/s]\n"
     ]
    },
    {
     "name": "stdout",
     "output_type": "stream",
     "text": [
      "Calculating wavelets for video 90.0\n"
     ]
    },
    {
     "name": "stderr",
     "output_type": "stream",
     "text": [
      "100%|██████████| 60/60 [00:01<00:00, 44.56it/s]\n"
     ]
    },
    {
     "name": "stdout",
     "output_type": "stream",
     "text": [
      "Calculating wavelets for video 91.0\n"
     ]
    },
    {
     "name": "stderr",
     "output_type": "stream",
     "text": [
      "100%|██████████| 60/60 [00:01<00:00, 43.98it/s]\n"
     ]
    },
    {
     "name": "stdout",
     "output_type": "stream",
     "text": [
      "Calculating wavelets for video 92.0\n"
     ]
    },
    {
     "name": "stderr",
     "output_type": "stream",
     "text": [
      "100%|██████████| 60/60 [00:01<00:00, 44.38it/s]\n"
     ]
    },
    {
     "name": "stdout",
     "output_type": "stream",
     "text": [
      "Calculating wavelets for video 93.0\n"
     ]
    },
    {
     "name": "stderr",
     "output_type": "stream",
     "text": [
      "100%|██████████| 60/60 [00:01<00:00, 44.70it/s]\n"
     ]
    },
    {
     "name": "stdout",
     "output_type": "stream",
     "text": [
      "Calculating wavelets for video 94.0\n"
     ]
    },
    {
     "name": "stderr",
     "output_type": "stream",
     "text": [
      "100%|██████████| 60/60 [00:01<00:00, 44.43it/s]\n"
     ]
    },
    {
     "name": "stdout",
     "output_type": "stream",
     "text": [
      "Calculating wavelets for video 95.0\n"
     ]
    },
    {
     "name": "stderr",
     "output_type": "stream",
     "text": [
      "100%|██████████| 60/60 [00:01<00:00, 43.70it/s]\n"
     ]
    },
    {
     "name": "stdout",
     "output_type": "stream",
     "text": [
      "Calculating wavelets for video 96.0\n"
     ]
    },
    {
     "name": "stderr",
     "output_type": "stream",
     "text": [
      "100%|██████████| 60/60 [00:01<00:00, 44.01it/s]\n"
     ]
    },
    {
     "name": "stdout",
     "output_type": "stream",
     "text": [
      "Calculating wavelets for video 97.0\n"
     ]
    },
    {
     "name": "stderr",
     "output_type": "stream",
     "text": [
      "100%|██████████| 60/60 [00:01<00:00, 44.64it/s]\n"
     ]
    },
    {
     "name": "stdout",
     "output_type": "stream",
     "text": [
      "Calculating wavelets for video 98.0\n"
     ]
    },
    {
     "name": "stderr",
     "output_type": "stream",
     "text": [
      "100%|██████████| 60/60 [00:01<00:00, 44.42it/s]\n"
     ]
    },
    {
     "name": "stdout",
     "output_type": "stream",
     "text": [
      "Calculating wavelets for video 99.0\n"
     ]
    },
    {
     "name": "stderr",
     "output_type": "stream",
     "text": [
      "100%|██████████| 60/60 [00:01<00:00, 44.39it/s]\n"
     ]
    },
    {
     "name": "stdout",
     "output_type": "stream",
     "text": [
      "Calculating wavelets for video 100.0\n"
     ]
    },
    {
     "name": "stderr",
     "output_type": "stream",
     "text": [
      "100%|██████████| 60/60 [00:01<00:00, 43.96it/s]\n"
     ]
    },
    {
     "name": "stdout",
     "output_type": "stream",
     "text": [
      "Calculating wavelets for video 101.0\n"
     ]
    },
    {
     "name": "stderr",
     "output_type": "stream",
     "text": [
      "100%|██████████| 60/60 [00:01<00:00, 44.55it/s]\n"
     ]
    },
    {
     "name": "stdout",
     "output_type": "stream",
     "text": [
      "Calculating wavelets for video 102.0\n"
     ]
    },
    {
     "name": "stderr",
     "output_type": "stream",
     "text": [
      "100%|██████████| 60/60 [00:01<00:00, 44.39it/s]\n"
     ]
    },
    {
     "name": "stdout",
     "output_type": "stream",
     "text": [
      "Calculating wavelets for video 103.0\n"
     ]
    },
    {
     "name": "stderr",
     "output_type": "stream",
     "text": [
      "100%|██████████| 60/60 [00:01<00:00, 44.52it/s]\n"
     ]
    },
    {
     "name": "stdout",
     "output_type": "stream",
     "text": [
      "Calculating wavelets for video 104.0\n"
     ]
    },
    {
     "name": "stderr",
     "output_type": "stream",
     "text": [
      "100%|██████████| 60/60 [00:01<00:00, 44.36it/s]\n"
     ]
    },
    {
     "name": "stdout",
     "output_type": "stream",
     "text": [
      "Calculating wavelets for video 105.0\n"
     ]
    },
    {
     "name": "stderr",
     "output_type": "stream",
     "text": [
      "100%|██████████| 60/60 [00:01<00:00, 44.27it/s]\n"
     ]
    },
    {
     "name": "stdout",
     "output_type": "stream",
     "text": [
      "Calculating wavelets for video 106.0\n"
     ]
    },
    {
     "name": "stderr",
     "output_type": "stream",
     "text": [
      "100%|██████████| 60/60 [00:01<00:00, 44.60it/s]\n"
     ]
    },
    {
     "name": "stdout",
     "output_type": "stream",
     "text": [
      "Calculating wavelets for video 107.0\n"
     ]
    },
    {
     "name": "stderr",
     "output_type": "stream",
     "text": [
      "100%|██████████| 60/60 [00:01<00:00, 44.73it/s]\n"
     ]
    },
    {
     "name": "stdout",
     "output_type": "stream",
     "text": [
      "Calculating wavelets for video 108.0\n"
     ]
    },
    {
     "name": "stderr",
     "output_type": "stream",
     "text": [
      "100%|██████████| 60/60 [00:01<00:00, 44.44it/s]\n"
     ]
    },
    {
     "name": "stdout",
     "output_type": "stream",
     "text": [
      "Calculating wavelets for video 109.0\n"
     ]
    },
    {
     "name": "stderr",
     "output_type": "stream",
     "text": [
      "100%|██████████| 60/60 [00:01<00:00, 44.53it/s]\n"
     ]
    },
    {
     "name": "stdout",
     "output_type": "stream",
     "text": [
      "Calculating wavelets for video 110.0\n"
     ]
    },
    {
     "name": "stderr",
     "output_type": "stream",
     "text": [
      "100%|██████████| 60/60 [00:01<00:00, 44.80it/s]\n"
     ]
    },
    {
     "name": "stdout",
     "output_type": "stream",
     "text": [
      "Calculating wavelets for video 111.0\n"
     ]
    },
    {
     "name": "stderr",
     "output_type": "stream",
     "text": [
      "100%|██████████| 60/60 [00:01<00:00, 44.68it/s]\n"
     ]
    },
    {
     "name": "stdout",
     "output_type": "stream",
     "text": [
      "Calculating wavelets for video 112.0\n"
     ]
    },
    {
     "name": "stderr",
     "output_type": "stream",
     "text": [
      "100%|██████████| 60/60 [00:01<00:00, 44.62it/s]\n"
     ]
    },
    {
     "name": "stdout",
     "output_type": "stream",
     "text": [
      "Calculating wavelets for video 113.0\n"
     ]
    },
    {
     "name": "stderr",
     "output_type": "stream",
     "text": [
      "100%|██████████| 60/60 [00:00<00:00, 88.25it/s]\n"
     ]
    },
    {
     "name": "stdout",
     "output_type": "stream",
     "text": [
      "Calculating wavelets for video 114.0\n"
     ]
    },
    {
     "name": "stderr",
     "output_type": "stream",
     "text": [
      "100%|██████████| 60/60 [00:01<00:00, 44.63it/s]\n"
     ]
    },
    {
     "name": "stdout",
     "output_type": "stream",
     "text": [
      "Calculating principal components ... \n"
     ]
    },
    {
     "name": "stderr",
     "output_type": "stream",
     "text": [
      "  0%|          | 0/1 [00:00<?, ?it/s]"
     ]
    },
    {
     "name": "stdout",
     "output_type": "stream",
     "text": [
      "Category: wlet_ang_, Columns: [250, 251, 252, 253, 254, 255, 256, 257, 258, 259, 260, 261, 262, 263, 264, 265, 266, 267, 268, 269, 270, 271, 272, 273, 274, 275, 276, 277, 278, 279, 280, 281, 282, 283, 284, 285, 286, 287, 288, 289, 290, 291, 292, 293, 294, 295, 296, 297, 298, 299, 300, 301, 302, 303, 304, 305, 306, 307, 308, 309, 310, 311, 312, 313, 314, 315, 316, 317, 318, 319, 320, 321, 322, 323, 324, 325, 326, 327, 328, 329, 330, 331, 332, 333, 334, 335, 336, 337, 338, 339, 340, 341, 342, 343, 344, 345, 346, 347, 348, 349, 350, 351, 352, 353, 354, 355, 356, 357, 358, 359, 360, 361, 362, 363, 364, 365, 366, 367, 368, 369, 370, 371, 372, 373, 374, 375, 376, 377, 378, 379, 380, 381, 382, 383, 384, 385, 386, 387, 388, 389, 390, 391, 392, 393, 394, 395, 396, 397, 398, 399, 400, 401, 402, 403, 404, 405, 406, 407, 408, 409, 410, 411, 412, 413, 414, 415, 416, 417, 418, 419, 420, 421, 422, 423, 424, 425, 426, 427, 428, 429, 430, 431, 432, 433, 434, 435, 436, 437, 438, 439, 440, 441, 442, 443, 444, 445, 446, 447, 448, 449, 450, 451, 452, 453, 454, 455, 456, 457, 458, 459, 460, 461, 462, 463, 464, 465, 466, 467, 468, 469, 470, 471, 472, 473, 474, 475, 476, 477, 478, 479, 480, 481, 482, 483, 484, 485, 486, 487, 488, 489, 490, 491, 492, 493, 494, 495, 496, 497, 498, 499], Feature shape: (3539000, 250)\n"
     ]
    },
    {
     "name": "stderr",
     "output_type": "stream",
     "text": [
      "100%|██████████| 1/1 [00:44<00:00, 44.98s/it]\n"
     ]
    },
    {
     "name": "stdout",
     "output_type": "stream",
     "text": [
      "Running fitsne via openTSNE\n",
      "--------------------------------------------------------------------------------\n",
      "TSNE(early_exaggeration=12, exaggeration=1.5, n_jobs=-1,\n",
      "     negative_gradient_method='fft', neighbors='annoy', perplexity=50,\n",
      "     verbose=True)\n",
      "--------------------------------------------------------------------------------\n",
      "===> Finding 150 nearest neighbors using Annoy approximate search using euclidean distance...\n",
      "   --> Time elapsed: 64.34 seconds\n",
      "===> Calculating affinity matrix...\n",
      "   --> Time elapsed: 10.11 seconds\n",
      "===> Calculating PCA-based initialization...\n",
      "   --> Time elapsed: 0.10 seconds\n",
      "===> Running optimization with exaggeration=12.00, lr=29491.67 for 250 iterations...\n",
      "Iteration   50, KL divergence 7.1586, 50 iterations in 3.3971 sec\n",
      "Iteration  100, KL divergence 7.1447, 50 iterations in 3.4516 sec\n",
      "Iteration  150, KL divergence 7.1346, 50 iterations in 3.4117 sec\n",
      "Iteration  200, KL divergence 7.1320, 50 iterations in 3.4106 sec\n",
      "Iteration  250, KL divergence 7.1310, 50 iterations in 3.4818 sec\n",
      "   --> Time elapsed: 17.15 seconds\n",
      "===> Running optimization with exaggeration=1.50, lr=235933.33 for 500 iterations...\n",
      "Iteration   50, KL divergence 5.2045, 50 iterations in 3.4788 sec\n",
      "Iteration  100, KL divergence 4.9537, 50 iterations in 3.5712 sec\n",
      "Iteration  150, KL divergence 4.8237, 50 iterations in 3.8160 sec\n",
      "Iteration  200, KL divergence 4.7402, 50 iterations in 3.9655 sec\n",
      "Iteration  250, KL divergence 4.6798, 50 iterations in 4.1701 sec\n",
      "Iteration  300, KL divergence 4.6335, 50 iterations in 4.4054 sec\n",
      "Iteration  350, KL divergence 4.5962, 50 iterations in 4.4919 sec\n",
      "Iteration  400, KL divergence 4.5654, 50 iterations in 4.7304 sec\n",
      "Iteration  450, KL divergence 4.5391, 50 iterations in 4.9790 sec\n",
      "Iteration  500, KL divergence 4.5165, 50 iterations in 5.4529 sec\n",
      "   --> Time elapsed: 43.06 seconds\n",
      "Calculating new histogram ranges\n",
      "Calculating watershed\n",
      "121 clusters detected\n",
      "(117,) unique clusters detected\n",
      "[  1   2   3   4   5   6   7   8   9  10  11  12  13  14  15  16  17  18\n",
      "  19  20  21  22  23  24  25  26  27  28  29  30  31  32  33  34  35  36\n",
      "  37  38  39  40  41  42  43  44  45  47  48  49  50  51  52  53  54  55\n",
      "  56  57  58  59  60  61  62  63  64  65  66  67  68  69  70  71  72  73\n",
      "  74  75  76  77  78  79  80  81  82  83  84  85  86  87  88  89  90  91\n",
      "  92  93  94  95  96  97  98  99 100 101 103 104 105 106 107 108 109 110\n",
      " 111 113 114 115 116 117 118 119 120]\n",
      "Writing Data Object to pickle\n",
      "Calculating cluster occupancies \n"
     ]
    },
    {
     "name": "stderr",
     "output_type": "stream",
     "text": [
      "100%|██████████| 115/115 [00:00<00:00, 8863.87it/s]\n"
     ]
    },
    {
     "name": "stdout",
     "output_type": "stream",
     "text": [
      "Detected labels not the same shape as pose...\n",
      "Assuming labels downsampled by 10\n"
     ]
    },
    {
     "name": "stderr",
     "output_type": "stream",
     "text": [
      "  0%|          | 0/117 [00:00<?, ?it/s]"
     ]
    },
    {
     "name": "stdout",
     "output_type": "stream",
     "text": [
      "[1300400, 931810, 602830, 212630, 1370890, 1018640, 775450, 602490, 1684790]\n"
     ]
    },
    {
     "name": "stderr",
     "output_type": "stream",
     "text": [
      "100%|██████████| 100/100 [00:33<00:00,  2.98it/s]\n",
      "  1%|          | 1/117 [00:34<1:06:08, 34.22s/it]"
     ]
    },
    {
     "name": "stdout",
     "output_type": "stream",
     "text": [
      "[1808420, 1449450, 296190, 1674060, 1864060, 1744950, 659560, 2559570, 252280]\n"
     ]
    },
    {
     "name": "stderr",
     "output_type": "stream",
     "text": [
      "100%|██████████| 100/100 [00:33<00:00,  2.98it/s]\n",
      "  2%|▏         | 2/117 [01:08<1:05:34, 34.22s/it]"
     ]
    },
    {
     "name": "stdout",
     "output_type": "stream",
     "text": [
      "[1522700, 1162880, 991820, 1116270, 2395040, 396430, 2267970, 52040, 1524160]\n"
     ]
    },
    {
     "name": "stderr",
     "output_type": "stream",
     "text": [
      "100%|██████████| 100/100 [00:33<00:00,  2.94it/s]\n",
      "  3%|▎         | 3/117 [01:43<1:05:22, 34.41s/it]"
     ]
    },
    {
     "name": "stdout",
     "output_type": "stream",
     "text": [
      "[332440, 1232580, 3501750, 2636690, 757500, 547360, 993310, 570810, 1654170]\n"
     ]
    },
    {
     "name": "stderr",
     "output_type": "stream",
     "text": [
      "100%|██████████| 100/100 [00:33<00:00,  2.95it/s]\n",
      "  3%|▎         | 4/117 [02:17<1:04:52, 34.44s/it]"
     ]
    },
    {
     "name": "stdout",
     "output_type": "stream",
     "text": [
      "[689830, 728750, 1980880, 2590230, 336320, 2170520, 714300, 1366480, 2236610]\n"
     ]
    },
    {
     "name": "stderr",
     "output_type": "stream",
     "text": [
      "100%|██████████| 100/100 [00:34<00:00,  2.91it/s]\n",
      "  4%|▍         | 5/117 [02:52<1:04:41, 34.66s/it]"
     ]
    },
    {
     "name": "stdout",
     "output_type": "stream",
     "text": [
      "[1606720, 1928040, 1085620, 1651930, 1235170, 1844210, 971810, 556210, 187420]\n"
     ]
    },
    {
     "name": "stderr",
     "output_type": "stream",
     "text": [
      "100%|██████████| 100/100 [00:33<00:00,  2.97it/s]\n",
      "  5%|▌         | 6/117 [03:26<1:03:53, 34.54s/it]"
     ]
    },
    {
     "name": "stdout",
     "output_type": "stream",
     "text": [
      "[3488780, 1827840, 666340, 1812020, 2699500, 1933700, 2935580, 1651940, 1381510]\n"
     ]
    },
    {
     "name": "stderr",
     "output_type": "stream",
     "text": [
      "100%|██████████| 100/100 [00:34<00:00,  2.93it/s]\n",
      "  6%|▌         | 7/117 [04:01<1:03:26, 34.60s/it]"
     ]
    },
    {
     "name": "stdout",
     "output_type": "stream",
     "text": [
      "[3530240, 2270540, 3525780, 2251430, 1354880, 828520, 2318400, 597620, 1281510]\n"
     ]
    },
    {
     "name": "stderr",
     "output_type": "stream",
     "text": [
      "100%|██████████| 100/100 [00:33<00:00,  2.95it/s]\n",
      "  7%|▋         | 8/117 [04:36<1:02:50, 34.59s/it]"
     ]
    },
    {
     "name": "stdout",
     "output_type": "stream",
     "text": [
      "[1100990, 1964560, 864300, 1344720, 2857960, 2990150, 1464140, 2942720, 639070]\n"
     ]
    },
    {
     "name": "stderr",
     "output_type": "stream",
     "text": [
      "100%|██████████| 100/100 [00:33<00:00,  2.95it/s]\n",
      "  8%|▊         | 9/117 [05:10<1:02:13, 34.57s/it]"
     ]
    },
    {
     "name": "stdout",
     "output_type": "stream",
     "text": [
      "[628140, 1300050, 143040, 1885800, 1827420, 1948000, 593480, 962540, 156930]\n"
     ]
    },
    {
     "name": "stderr",
     "output_type": "stream",
     "text": [
      "100%|██████████| 100/100 [00:33<00:00,  2.96it/s]\n",
      "  9%|▊         | 10/117 [05:45<1:01:35, 34.53s/it]"
     ]
    },
    {
     "name": "stdout",
     "output_type": "stream",
     "text": [
      "[319710, 866910, 638200, 204220, 1481190, 304740, 152030, 652430, 1791950]\n"
     ]
    },
    {
     "name": "stderr",
     "output_type": "stream",
     "text": [
      "100%|██████████| 100/100 [00:33<00:00,  3.02it/s]\n",
      "  9%|▉         | 11/117 [06:19<1:00:37, 34.31s/it]"
     ]
    },
    {
     "name": "stdout",
     "output_type": "stream",
     "text": [
      "[113900, 3471110, 2480170, 3002940, 2896370, 826580, 1558150, 494850, 221400]\n"
     ]
    },
    {
     "name": "stderr",
     "output_type": "stream",
     "text": [
      "100%|██████████| 100/100 [00:32<00:00,  3.05it/s]\n",
      " 10%|█         | 12/117 [06:52<59:35, 34.05s/it]  "
     ]
    },
    {
     "name": "stdout",
     "output_type": "stream",
     "text": [
      "[3154900, 2622640, 342200, 1321240, 1285250, 2208430, 2447630, 1924360, 3199680]\n"
     ]
    },
    {
     "name": "stderr",
     "output_type": "stream",
     "text": [
      "100%|██████████| 100/100 [00:33<00:00,  3.03it/s]\n",
      " 11%|█         | 13/117 [07:26<58:48, 33.93s/it]"
     ]
    },
    {
     "name": "stdout",
     "output_type": "stream",
     "text": [
      "[1266030, 1165080, 1525800, 178790, 1606930, 1555660, 575970, 1433840, 1560870]\n"
     ]
    },
    {
     "name": "stderr",
     "output_type": "stream",
     "text": [
      "100%|██████████| 100/100 [00:33<00:00,  3.00it/s]\n",
      " 12%|█▏        | 14/117 [08:00<58:16, 33.94s/it]"
     ]
    },
    {
     "name": "stdout",
     "output_type": "stream",
     "text": [
      "[2845760, 1145740, 1743040, 1989040, 960860, 2801820, 2349960, 1179600, 1314670]\n"
     ]
    },
    {
     "name": "stderr",
     "output_type": "stream",
     "text": [
      "100%|██████████| 100/100 [00:33<00:00,  3.03it/s]\n",
      " 13%|█▎        | 15/117 [08:33<57:34, 33.87s/it]"
     ]
    },
    {
     "name": "stdout",
     "output_type": "stream",
     "text": [
      "[1212520, 2394900, 1697540, 1177340, 1533970, 2421830, 1182720, 2544350, 2147590]\n"
     ]
    },
    {
     "name": "stderr",
     "output_type": "stream",
     "text": [
      "100%|██████████| 100/100 [00:33<00:00,  2.98it/s]\n",
      " 14%|█▎        | 16/117 [09:08<57:12, 33.99s/it]"
     ]
    },
    {
     "name": "stdout",
     "output_type": "stream",
     "text": [
      "[3048240, 2816240, 1969130, 2371830, 3204590, 1716720, 1710100, 290500, 1714400]\n"
     ]
    },
    {
     "name": "stderr",
     "output_type": "stream",
     "text": [
      "100%|██████████| 100/100 [00:33<00:00,  3.01it/s]\n",
      " 15%|█▍        | 17/117 [09:41<56:37, 33.97s/it]"
     ]
    },
    {
     "name": "stdout",
     "output_type": "stream",
     "text": [
      "[3074230, 1195160, 3085830, 1714210, 3005740, 1513970, 3402230, 2321960, 1195470]\n"
     ]
    },
    {
     "name": "stderr",
     "output_type": "stream",
     "text": [
      "100%|██████████| 100/100 [00:33<00:00,  3.03it/s]\n",
      " 15%|█▌        | 18/117 [10:15<55:54, 33.88s/it]"
     ]
    },
    {
     "name": "stdout",
     "output_type": "stream",
     "text": [
      "[2377970, 2415930, 3204350, 1960890, 3099860, 3372690, 1573850, 2421770, 3212190]\n"
     ]
    },
    {
     "name": "stderr",
     "output_type": "stream",
     "text": [
      "100%|██████████| 100/100 [00:33<00:00,  3.02it/s]\n",
      " 16%|█▌        | 19/117 [10:49<55:18, 33.87s/it]"
     ]
    },
    {
     "name": "stdout",
     "output_type": "stream",
     "text": [
      "[457040, 27370, 686520, 399350, 3509260, 531670, 1582790, 374020, 1945570]\n"
     ]
    },
    {
     "name": "stderr",
     "output_type": "stream",
     "text": [
      "100%|██████████| 100/100 [00:33<00:00,  3.00it/s]\n",
      " 17%|█▋        | 20/117 [11:23<54:46, 33.89s/it]"
     ]
    },
    {
     "name": "stdout",
     "output_type": "stream",
     "text": [
      "[781120, 2692470, 2215410, 2497200, 1281710, 2389970, 2899770, 2479890, 3210040]\n"
     ]
    },
    {
     "name": "stderr",
     "output_type": "stream",
     "text": [
      "100%|██████████| 100/100 [00:33<00:00,  3.00it/s]\n",
      " 18%|█▊        | 21/117 [11:57<54:16, 33.92s/it]"
     ]
    },
    {
     "name": "stdout",
     "output_type": "stream",
     "text": [
      "[2554780, 2678410, 1653050, 1627150, 932930, 610320, 101130, 1346570, 1224550]\n"
     ]
    },
    {
     "name": "stderr",
     "output_type": "stream",
     "text": [
      "100%|██████████| 100/100 [00:33<00:00,  3.01it/s]\n",
      " 19%|█▉        | 22/117 [12:31<53:40, 33.90s/it]"
     ]
    },
    {
     "name": "stdout",
     "output_type": "stream",
     "text": [
      "[1814220, 1287750, 828010, 378160, 1126520, 2895090, 576410, 2501060, 1466140]\n"
     ]
    },
    {
     "name": "stderr",
     "output_type": "stream",
     "text": [
      "100%|██████████| 100/100 [00:33<00:00,  3.03it/s]\n",
      " 20%|█▉        | 23/117 [13:04<53:01, 33.85s/it]"
     ]
    },
    {
     "name": "stdout",
     "output_type": "stream",
     "text": [
      "[138330, 1781420, 329950, 107580, 1802180, 36120, 2321100, 206550, 224930]\n"
     ]
    },
    {
     "name": "stderr",
     "output_type": "stream",
     "text": [
      "100%|██████████| 100/100 [00:33<00:00,  2.98it/s]\n",
      " 21%|██        | 24/117 [13:39<52:37, 33.95s/it]"
     ]
    },
    {
     "name": "stdout",
     "output_type": "stream",
     "text": [
      "[782470, 731940, 2637200, 1422310, 1649940, 209420, 1729690, 3196910, 742180]\n"
     ]
    },
    {
     "name": "stderr",
     "output_type": "stream",
     "text": [
      "100%|██████████| 100/100 [00:33<00:00,  3.01it/s]\n",
      " 21%|██▏       | 25/117 [14:13<52:00, 33.92s/it]"
     ]
    },
    {
     "name": "stdout",
     "output_type": "stream",
     "text": [
      "[222120, 1717210, 1639160, 701750, 1619030, 583200, 916060, 2344430, 523620]\n"
     ]
    },
    {
     "name": "stderr",
     "output_type": "stream",
     "text": [
      "100%|██████████| 100/100 [00:33<00:00,  3.02it/s]\n",
      " 22%|██▏       | 26/117 [14:46<51:22, 33.88s/it]"
     ]
    },
    {
     "name": "stdout",
     "output_type": "stream",
     "text": [
      "[3386510, 3364820, 1173370, 2264690, 3445870, 1124680, 1588300, 1975400, 740440]\n"
     ]
    },
    {
     "name": "stderr",
     "output_type": "stream",
     "text": [
      "100%|██████████| 100/100 [00:33<00:00,  3.02it/s]\n",
      " 23%|██▎       | 27/117 [15:20<50:48, 33.88s/it]"
     ]
    },
    {
     "name": "stdout",
     "output_type": "stream",
     "text": [
      "[3475850, 2230830, 2763770, 1702140, 2468690, 1764330, 2427450, 2904680, 1817290]\n"
     ]
    },
    {
     "name": "stderr",
     "output_type": "stream",
     "text": [
      "100%|██████████| 100/100 [00:33<00:00,  3.00it/s]\n",
      " 24%|██▍       | 28/117 [15:54<50:18, 33.92s/it]"
     ]
    },
    {
     "name": "stdout",
     "output_type": "stream",
     "text": [
      "[1512440, 946720, 104800, 94010, 3469140, 1090020, 483060, 3283200, 3144680]\n"
     ]
    },
    {
     "name": "stderr",
     "output_type": "stream",
     "text": [
      "100%|██████████| 100/100 [00:33<00:00,  2.97it/s]\n",
      " 25%|██▍       | 29/117 [16:28<49:54, 34.03s/it]"
     ]
    },
    {
     "name": "stdout",
     "output_type": "stream",
     "text": [
      "[2302710, 2985490, 763060, 688330, 3404790, 1601550, 2989080, 1792300, 128490]\n"
     ]
    },
    {
     "name": "stderr",
     "output_type": "stream",
     "text": [
      "100%|██████████| 100/100 [00:33<00:00,  3.01it/s]\n",
      " 26%|██▌       | 30/117 [17:02<49:15, 33.97s/it]"
     ]
    },
    {
     "name": "stdout",
     "output_type": "stream",
     "text": [
      "[2794380, 1445540, 1926060, 379210, 550750, 2461960, 2868790, 1347450, 17940]\n"
     ]
    },
    {
     "name": "stderr",
     "output_type": "stream",
     "text": [
      "100%|██████████| 100/100 [00:34<00:00,  2.93it/s]\n",
      " 26%|██▋       | 31/117 [17:37<49:03, 34.23s/it]"
     ]
    },
    {
     "name": "stdout",
     "output_type": "stream",
     "text": [
      "[1261950, 1330950, 888440, 2515960, 224410, 792100, 511830, 380260, 2458240]\n"
     ]
    },
    {
     "name": "stderr",
     "output_type": "stream",
     "text": [
      "100%|██████████| 100/100 [00:34<00:00,  2.89it/s]\n",
      " 27%|██▋       | 32/117 [18:12<48:54, 34.52s/it]"
     ]
    },
    {
     "name": "stdout",
     "output_type": "stream",
     "text": [
      "[1163930, 1441740, 3442100, 519170, 1591230, 1182660, 1502840, 919340, 3056440]\n"
     ]
    },
    {
     "name": "stderr",
     "output_type": "stream",
     "text": [
      "100%|██████████| 100/100 [00:33<00:00,  2.96it/s]\n",
      " 28%|██▊       | 33/117 [18:47<48:18, 34.50s/it]"
     ]
    },
    {
     "name": "stdout",
     "output_type": "stream",
     "text": [
      "[755190, 1717510, 1533930, 2551030, 693580, 1952070, 2316510, 2829830, 139870]\n"
     ]
    },
    {
     "name": "stderr",
     "output_type": "stream",
     "text": [
      "100%|██████████| 100/100 [00:34<00:00,  2.93it/s]\n",
      " 29%|██▉       | 34/117 [19:22<47:50, 34.58s/it]"
     ]
    },
    {
     "name": "stdout",
     "output_type": "stream",
     "text": [
      "[352420, 1529180, 2243780, 1154900, 1543850, 1838800, 1890990, 3306300, 2603290]\n"
     ]
    },
    {
     "name": "stderr",
     "output_type": "stream",
     "text": [
      "100%|██████████| 100/100 [00:33<00:00,  2.96it/s]\n",
      " 30%|██▉       | 35/117 [19:56<47:12, 34.55s/it]"
     ]
    },
    {
     "name": "stdout",
     "output_type": "stream",
     "text": [
      "[1352420, 1771250, 64800, 2727310, 356050, 757620, 138280, 1399080, 1527820]\n"
     ]
    },
    {
     "name": "stderr",
     "output_type": "stream",
     "text": [
      "100%|██████████| 100/100 [00:33<00:00,  3.01it/s]\n",
      " 31%|███       | 36/117 [20:30<46:21, 34.34s/it]"
     ]
    },
    {
     "name": "stdout",
     "output_type": "stream",
     "text": [
      "[1158520, 2182570, 751470, 2284760, 2358220, 3055620, 2135000, 1650270, 2627590]\n"
     ]
    },
    {
     "name": "stderr",
     "output_type": "stream",
     "text": [
      "100%|██████████| 100/100 [00:32<00:00,  3.04it/s]\n",
      " 32%|███▏      | 37/117 [21:03<45:27, 34.09s/it]"
     ]
    },
    {
     "name": "stdout",
     "output_type": "stream",
     "text": [
      "[1499930, 754330, 3484110, 3388910, 2287440, 2310460, 762830, 3131030, 1173960]\n"
     ]
    },
    {
     "name": "stderr",
     "output_type": "stream",
     "text": [
      "100%|██████████| 100/100 [00:32<00:00,  3.07it/s]\n",
      " 32%|███▏      | 38/117 [21:37<44:31, 33.82s/it]"
     ]
    },
    {
     "name": "stdout",
     "output_type": "stream",
     "text": [
      "[1884680, 621870, 816110, 2171820, 504450, 2357420, 593940, 92170, 3327760]\n"
     ]
    },
    {
     "name": "stderr",
     "output_type": "stream",
     "text": [
      "100%|██████████| 100/100 [00:32<00:00,  3.05it/s]\n",
      " 33%|███▎      | 39/117 [22:10<43:48, 33.69s/it]"
     ]
    },
    {
     "name": "stdout",
     "output_type": "stream",
     "text": [
      "[3331170, 3211300, 1434770, 425030, 802370, 1775870, 2989880, 3392690, 1923330]\n"
     ]
    },
    {
     "name": "stderr",
     "output_type": "stream",
     "text": [
      "100%|██████████| 100/100 [00:33<00:00,  2.99it/s]\n",
      " 34%|███▍      | 40/117 [22:44<43:24, 33.82s/it]"
     ]
    },
    {
     "name": "stdout",
     "output_type": "stream",
     "text": [
      "[2466080, 3166720, 767190, 3201320, 1425680, 3201730, 297480, 821870, 1188590]\n"
     ]
    },
    {
     "name": "stderr",
     "output_type": "stream",
     "text": [
      "100%|██████████| 100/100 [00:33<00:00,  3.03it/s]\n",
      " 35%|███▌      | 41/117 [23:18<42:47, 33.78s/it]"
     ]
    },
    {
     "name": "stdout",
     "output_type": "stream",
     "text": [
      "[2641810, 328970, 2245530, 2425350, 3032530, 2999730, 2439220, 2160980, 2641560]\n"
     ]
    },
    {
     "name": "stderr",
     "output_type": "stream",
     "text": [
      "100%|██████████| 100/100 [00:32<00:00,  3.06it/s]\n",
      " 36%|███▌      | 42/117 [23:51<42:03, 33.65s/it]"
     ]
    },
    {
     "name": "stdout",
     "output_type": "stream",
     "text": [
      "[2735650, 2440560, 2734290, 1278970, 1608880, 1917250, 845170, 2760810, 2722220]\n"
     ]
    },
    {
     "name": "stderr",
     "output_type": "stream",
     "text": [
      "100%|██████████| 100/100 [00:32<00:00,  3.05it/s]\n",
      " 37%|███▋      | 43/117 [24:25<41:25, 33.59s/it]"
     ]
    },
    {
     "name": "stdout",
     "output_type": "stream",
     "text": [
      "[36170, 1698690, 567220, 3067100, 2303680, 175510, 1441250, 3434570, 2713510]\n"
     ]
    },
    {
     "name": "stderr",
     "output_type": "stream",
     "text": [
      "100%|██████████| 100/100 [00:32<00:00,  3.03it/s]\n",
      " 38%|███▊      | 44/117 [24:58<40:53, 33.61s/it]"
     ]
    },
    {
     "name": "stdout",
     "output_type": "stream",
     "text": [
      "[1889790, 1418960, 3085090, 1367270, 3196060, 501930, 1502820, 1055210, 711240]\n"
     ]
    },
    {
     "name": "stderr",
     "output_type": "stream",
     "text": [
      "100%|██████████| 100/100 [00:32<00:00,  3.04it/s]\n",
      " 38%|███▊      | 45/117 [25:32<40:17, 33.57s/it]"
     ]
    },
    {
     "name": "stdout",
     "output_type": "stream",
     "text": [
      "[2357980, 3400220, 261020, 1143650, 2251970, 3303840, 539330, 3121900, 1147070]\n"
     ]
    },
    {
     "name": "stderr",
     "output_type": "stream",
     "text": [
      "100%|██████████| 100/100 [00:32<00:00,  3.04it/s]\n",
      " 39%|███▉      | 46/117 [26:05<39:44, 33.59s/it]"
     ]
    },
    {
     "name": "stdout",
     "output_type": "stream",
     "text": [
      "[604060, 1593580, 1831070, 3051010, 492770, 682870, 1591220, 915950, 1136940]\n"
     ]
    },
    {
     "name": "stderr",
     "output_type": "stream",
     "text": [
      "100%|██████████| 100/100 [00:32<00:00,  3.04it/s]\n",
      " 40%|████      | 47/117 [26:39<39:10, 33.58s/it]"
     ]
    },
    {
     "name": "stdout",
     "output_type": "stream",
     "text": [
      "[625770, 1699930, 2389110, 823440, 621830, 2733390, 683810, 2988330, 1649830]\n"
     ]
    },
    {
     "name": "stderr",
     "output_type": "stream",
     "text": [
      "100%|██████████| 100/100 [00:32<00:00,  3.04it/s]\n",
      " 41%|████      | 48/117 [27:12<38:36, 33.57s/it]"
     ]
    },
    {
     "name": "stdout",
     "output_type": "stream",
     "text": [
      "[506160]\n"
     ]
    },
    {
     "name": "stderr",
     "output_type": "stream",
     "text": [
      "100%|██████████| 100/100 [00:05<00:00, 16.95it/s]\n",
      " 42%|████▏     | 49/117 [27:19<28:47, 25.41s/it]"
     ]
    },
    {
     "name": "stdout",
     "output_type": "stream",
     "text": [
      "[3069130, 2999520, 2133590, 3152410, 2625360, 2137150, 745430, 1690790, 2956650]\n"
     ]
    },
    {
     "name": "stderr",
     "output_type": "stream",
     "text": [
      "100%|██████████| 100/100 [00:33<00:00,  3.03it/s]\n",
      " 43%|████▎     | 50/117 [27:53<31:08, 27.89s/it]"
     ]
    },
    {
     "name": "stdout",
     "output_type": "stream",
     "text": [
      "[183870, 1599900, 254280, 890610, 2426490, 2576020, 1221430, 1387200, 3229640]\n"
     ]
    },
    {
     "name": "stderr",
     "output_type": "stream",
     "text": [
      "100%|██████████| 100/100 [00:32<00:00,  3.07it/s]\n",
      " 44%|████▎     | 51/117 [28:26<32:27, 29.50s/it]"
     ]
    },
    {
     "name": "stdout",
     "output_type": "stream",
     "text": [
      "[1517190, 3286160, 2876090, 1436580, 1379440, 1477130, 3129640, 2631640, 588380]\n"
     ]
    },
    {
     "name": "stderr",
     "output_type": "stream",
     "text": [
      "100%|██████████| 100/100 [00:32<00:00,  3.04it/s]\n",
      " 44%|████▍     | 52/117 [28:59<33:19, 30.76s/it]"
     ]
    },
    {
     "name": "stdout",
     "output_type": "stream",
     "text": [
      "[2933140, 2161370, 3165160, 2385060, 3496230, 2496680, 2219300, 2742300, 3441640]\n"
     ]
    },
    {
     "name": "stderr",
     "output_type": "stream",
     "text": [
      "100%|██████████| 100/100 [00:33<00:00,  3.02it/s]\n",
      " 45%|████▌     | 53/117 [29:33<33:45, 31.65s/it]"
     ]
    },
    {
     "name": "stdout",
     "output_type": "stream",
     "text": [
      "[97740, 2736430, 309810, 2750770, 1911400, 2725940, 1287490, 956130, 2724030]\n"
     ]
    },
    {
     "name": "stderr",
     "output_type": "stream",
     "text": [
      "100%|██████████| 100/100 [00:33<00:00,  3.02it/s]\n",
      " 46%|████▌     | 54/117 [30:07<33:54, 32.29s/it]"
     ]
    },
    {
     "name": "stdout",
     "output_type": "stream",
     "text": [
      "[957540, 2755540, 2171480, 2918500, 2726320, 634860, 2924690, 3142810, 3194780]\n"
     ]
    },
    {
     "name": "stderr",
     "output_type": "stream",
     "text": [
      "100%|██████████| 100/100 [00:32<00:00,  3.07it/s]\n",
      " 47%|████▋     | 55/117 [30:40<33:38, 32.56s/it]"
     ]
    },
    {
     "name": "stdout",
     "output_type": "stream",
     "text": [
      "[423760, 1081810, 2736050, 456250, 451510, 758830, 845930, 449750, 2739020]\n"
     ]
    },
    {
     "name": "stderr",
     "output_type": "stream",
     "text": [
      "100%|██████████| 100/100 [00:32<00:00,  3.11it/s]\n",
      " 48%|████▊     | 56/117 [31:13<33:09, 32.62s/it]"
     ]
    },
    {
     "name": "stdout",
     "output_type": "stream",
     "text": [
      "[465210, 3158110, 2750640, 2735020, 2738140, 2922210, 2738840, 97690, 612750]\n"
     ]
    },
    {
     "name": "stderr",
     "output_type": "stream",
     "text": [
      "100%|██████████| 100/100 [00:32<00:00,  3.06it/s]\n",
      " 49%|████▊     | 57/117 [31:46<32:49, 32.83s/it]"
     ]
    },
    {
     "name": "stdout",
     "output_type": "stream",
     "text": [
      "[996160, 1265890, 2742650, 199750, 325670, 900140, 244600, 1650540, 1877310]\n"
     ]
    },
    {
     "name": "stderr",
     "output_type": "stream",
     "text": [
      "100%|██████████| 100/100 [00:32<00:00,  3.04it/s]\n",
      " 50%|████▉     | 58/117 [32:20<32:29, 33.04s/it]"
     ]
    },
    {
     "name": "stdout",
     "output_type": "stream",
     "text": [
      "[160330, 2642070, 1041930, 170790, 1458370, 3123960, 1939760, 923900, 486320]\n"
     ]
    },
    {
     "name": "stderr",
     "output_type": "stream",
     "text": [
      "100%|██████████| 100/100 [00:33<00:00,  3.03it/s]\n",
      " 50%|█████     | 59/117 [32:53<32:07, 33.24s/it]"
     ]
    },
    {
     "name": "stdout",
     "output_type": "stream",
     "text": [
      "[446750, 3238270, 996860, 1876030, 654820, 854840, 1733510, 378630, 1026300]\n"
     ]
    },
    {
     "name": "stderr",
     "output_type": "stream",
     "text": [
      "100%|██████████| 100/100 [00:32<00:00,  3.07it/s]\n",
      " 51%|█████▏    | 60/117 [33:27<31:34, 33.24s/it]"
     ]
    },
    {
     "name": "stdout",
     "output_type": "stream",
     "text": [
      "[3303080, 1458170, 1219290, 2760010, 1520090, 593550, 1977900, 2658720, 908540]\n"
     ]
    },
    {
     "name": "stderr",
     "output_type": "stream",
     "text": [
      "100%|██████████| 100/100 [00:32<00:00,  3.05it/s]\n",
      " 52%|█████▏    | 61/117 [34:00<31:05, 33.31s/it]"
     ]
    },
    {
     "name": "stdout",
     "output_type": "stream",
     "text": [
      "[2278450, 2710920, 2839970, 1916420, 2221730, 3104980, 2868360, 2938470, 2458630]\n"
     ]
    },
    {
     "name": "stderr",
     "output_type": "stream",
     "text": [
      "100%|██████████| 100/100 [00:32<00:00,  3.06it/s]\n",
      " 53%|█████▎    | 62/117 [34:34<30:32, 33.31s/it]"
     ]
    },
    {
     "name": "stdout",
     "output_type": "stream",
     "text": [
      "[1388320, 3197760, 3206540, 1800770, 2380190, 2867200, 495060, 934630, 164750]\n"
     ]
    },
    {
     "name": "stderr",
     "output_type": "stream",
     "text": [
      "100%|██████████| 100/100 [00:33<00:00,  2.99it/s]\n",
      " 54%|█████▍    | 63/117 [35:08<30:12, 33.57s/it]"
     ]
    },
    {
     "name": "stdout",
     "output_type": "stream",
     "text": [
      "[3322940, 3405350, 1309080, 2373280, 2670520, 896690, 571520, 3383970, 1967290]\n"
     ]
    },
    {
     "name": "stderr",
     "output_type": "stream",
     "text": [
      "100%|██████████| 100/100 [00:33<00:00,  2.94it/s]\n",
      " 55%|█████▍    | 64/117 [35:42<29:56, 33.90s/it]"
     ]
    },
    {
     "name": "stdout",
     "output_type": "stream",
     "text": [
      "[482010, 3310540, 867880, 1001820, 2509400, 2406750, 264060, 2374020, 2751590]\n"
     ]
    },
    {
     "name": "stderr",
     "output_type": "stream",
     "text": [
      "100%|██████████| 100/100 [00:33<00:00,  2.95it/s]\n",
      " 56%|█████▌    | 65/117 [36:17<29:33, 34.10s/it]"
     ]
    },
    {
     "name": "stdout",
     "output_type": "stream",
     "text": [
      "[2834860, 2330660, 2238060, 2423290, 2263970, 1919790, 2952790, 838750, 3173140]\n"
     ]
    },
    {
     "name": "stderr",
     "output_type": "stream",
     "text": [
      "100%|██████████| 100/100 [00:33<00:00,  2.97it/s]\n",
      " 56%|█████▋    | 66/117 [36:51<29:03, 34.19s/it]"
     ]
    },
    {
     "name": "stdout",
     "output_type": "stream",
     "text": [
      "[1934870, 1273560, 437430, 942760, 669380, 1273260, 105710, 663730, 940950]\n"
     ]
    },
    {
     "name": "stderr",
     "output_type": "stream",
     "text": [
      "100%|██████████| 100/100 [00:34<00:00,  2.94it/s]\n",
      " 57%|█████▋    | 67/117 [37:26<28:36, 34.33s/it]"
     ]
    },
    {
     "name": "stdout",
     "output_type": "stream",
     "text": [
      "[2862790, 3119820, 3066130, 2390390, 1721400, 1156620, 3533110, 3024470, 489840]\n"
     ]
    },
    {
     "name": "stderr",
     "output_type": "stream",
     "text": [
      "100%|██████████| 100/100 [00:33<00:00,  2.96it/s]\n",
      " 58%|█████▊    | 68/117 [38:00<28:03, 34.35s/it]"
     ]
    },
    {
     "name": "stdout",
     "output_type": "stream",
     "text": [
      "[1940900, 3418240, 2638330, 413740, 808540, 2322810, 3310930, 3511860, 1317940]\n"
     ]
    },
    {
     "name": "stderr",
     "output_type": "stream",
     "text": [
      "100%|██████████| 100/100 [00:33<00:00,  2.95it/s]\n",
      " 59%|█████▉    | 69/117 [38:35<27:32, 34.42s/it]"
     ]
    },
    {
     "name": "stdout",
     "output_type": "stream",
     "text": [
      "[2554920, 3047300, 3396310, 1949950, 2151750, 2208860, 2968490, 2295350, 372490]\n"
     ]
    },
    {
     "name": "stderr",
     "output_type": "stream",
     "text": [
      "100%|██████████| 100/100 [00:34<00:00,  2.93it/s]\n",
      " 60%|█████▉    | 70/117 [39:10<27:03, 34.54s/it]"
     ]
    },
    {
     "name": "stdout",
     "output_type": "stream",
     "text": [
      "[2969580, 2982810, 1710930, 2836910, 2237670, 2264140, 972740, 1369180, 2361540]\n"
     ]
    },
    {
     "name": "stderr",
     "output_type": "stream",
     "text": [
      "100%|██████████| 100/100 [00:33<00:00,  2.96it/s]\n",
      " 61%|██████    | 71/117 [39:44<26:28, 34.53s/it]"
     ]
    },
    {
     "name": "stdout",
     "output_type": "stream",
     "text": [
      "[3113690, 364280, 389200, 3084610, 3210900, 2461370, 3126290, 3415790, 3398010]\n"
     ]
    },
    {
     "name": "stderr",
     "output_type": "stream",
     "text": [
      "100%|██████████| 100/100 [00:33<00:00,  3.01it/s]\n",
      " 62%|██████▏   | 72/117 [40:18<25:47, 34.38s/it]"
     ]
    },
    {
     "name": "stdout",
     "output_type": "stream",
     "text": [
      "[439660, 2510570, 1295500, 1411380]\n"
     ]
    },
    {
     "name": "stderr",
     "output_type": "stream",
     "text": [
      "100%|██████████| 100/100 [00:16<00:00,  6.12it/s]\n",
      " 62%|██████▏   | 73/117 [40:35<21:21, 29.12s/it]"
     ]
    },
    {
     "name": "stdout",
     "output_type": "stream",
     "text": [
      "[3414370, 3532870, 2252530, 325630, 1686570, 321570, 2991130, 3033600, 3173050]\n"
     ]
    },
    {
     "name": "stderr",
     "output_type": "stream",
     "text": [
      "100%|██████████| 100/100 [00:33<00:00,  2.98it/s]\n",
      " 63%|██████▎   | 74/117 [41:09<21:57, 30.65s/it]"
     ]
    },
    {
     "name": "stdout",
     "output_type": "stream",
     "text": [
      "[448750, 443320, 2519410, 462000, 453000, 477000, 469460, 1829910, 442240]\n"
     ]
    },
    {
     "name": "stderr",
     "output_type": "stream",
     "text": [
      "100%|██████████| 100/100 [00:33<00:00,  2.96it/s]\n",
      " 64%|██████▍   | 75/117 [41:44<22:16, 31.82s/it]"
     ]
    },
    {
     "name": "stdout",
     "output_type": "stream",
     "text": [
      "[3184670, 461110, 661540, 1874750, 1503900, 662250, 455450, 1145250, 448220]\n"
     ]
    },
    {
     "name": "stderr",
     "output_type": "stream",
     "text": [
      "100%|██████████| 100/100 [00:33<00:00,  2.99it/s]\n",
      " 65%|██████▍   | 76/117 [42:18<22:11, 32.48s/it]"
     ]
    },
    {
     "name": "stdout",
     "output_type": "stream",
     "text": [
      "[3211530, 512790, 1874240, 3191810, 439600, 2154880, 448170, 2510070, 1891160]\n"
     ]
    },
    {
     "name": "stderr",
     "output_type": "stream",
     "text": [
      "100%|██████████| 100/100 [00:33<00:00,  3.02it/s]\n",
      " 66%|██████▌   | 77/117 [42:52<21:54, 32.86s/it]"
     ]
    },
    {
     "name": "stdout",
     "output_type": "stream",
     "text": [
      "[1888160, 1326570, 1296800, 1876560, 1088430, 1598430, 2510060, 477460, 1295690]\n"
     ]
    },
    {
     "name": "stderr",
     "output_type": "stream",
     "text": [
      "100%|██████████| 100/100 [00:33<00:00,  2.96it/s]\n",
      " 67%|██████▋   | 78/117 [43:26<21:39, 33.33s/it]"
     ]
    },
    {
     "name": "stdout",
     "output_type": "stream",
     "text": [
      "[2373220, 2239450, 2379380, 3153960, 3329830, 3025070, 2588230, 1986100, 2667830]\n"
     ]
    },
    {
     "name": "stderr",
     "output_type": "stream",
     "text": [
      "100%|██████████| 100/100 [00:33<00:00,  2.97it/s]\n",
      " 68%|██████▊   | 79/117 [44:00<21:17, 33.61s/it]"
     ]
    },
    {
     "name": "stdout",
     "output_type": "stream",
     "text": [
      "[663560, 382040, 1845120, 2368160, 455280, 1101210, 965530, 652350, 3192980]\n"
     ]
    },
    {
     "name": "stderr",
     "output_type": "stream",
     "text": [
      "100%|██████████| 100/100 [00:34<00:00,  2.94it/s]\n",
      " 68%|██████▊   | 80/117 [44:35<20:54, 33.90s/it]"
     ]
    },
    {
     "name": "stdout",
     "output_type": "stream",
     "text": [
      "[1749270, 2275460, 3365430, 3517680, 2579250, 2388810, 2476400, 1369340, 3511430]\n"
     ]
    },
    {
     "name": "stderr",
     "output_type": "stream",
     "text": [
      "100%|██████████| 100/100 [00:33<00:00,  3.03it/s]\n",
      " 69%|██████▉   | 81/117 [45:09<20:18, 33.84s/it]"
     ]
    },
    {
     "name": "stdout",
     "output_type": "stream",
     "text": [
      "[1926870, 2356810, 234690, 3084790, 2840930, 2699210, 2497840, 2138930, 2537760]\n"
     ]
    },
    {
     "name": "stderr",
     "output_type": "stream",
     "text": [
      "100%|██████████| 100/100 [00:32<00:00,  3.05it/s]\n",
      " 70%|███████   | 82/117 [45:42<19:40, 33.72s/it]"
     ]
    },
    {
     "name": "stdout",
     "output_type": "stream",
     "text": [
      "[3497840, 2809170, 3476810, 3113570, 2146270, 3203030, 3303900, 428580, 3179010]\n"
     ]
    },
    {
     "name": "stderr",
     "output_type": "stream",
     "text": [
      "100%|██████████| 100/100 [00:33<00:00,  2.99it/s]\n",
      " 71%|███████   | 83/117 [46:16<19:10, 33.83s/it]"
     ]
    },
    {
     "name": "stdout",
     "output_type": "stream",
     "text": [
      "[1033720, 1779890, 1227160, 1350090, 2146350, 3027730, 481130, 221130, 1614100]\n"
     ]
    },
    {
     "name": "stderr",
     "output_type": "stream",
     "text": [
      "100%|██████████| 100/100 [00:33<00:00,  3.00it/s]\n",
      " 72%|███████▏  | 84/117 [46:50<18:38, 33.89s/it]"
     ]
    },
    {
     "name": "stdout",
     "output_type": "stream",
     "text": [
      "[2722460, 2439350, 118750, 1630540, 2454900, 265550, 1428480, 1462420, 772460]\n"
     ]
    },
    {
     "name": "stderr",
     "output_type": "stream",
     "text": [
      "100%|██████████| 100/100 [00:33<00:00,  3.00it/s]\n",
      " 73%|███████▎  | 85/117 [47:24<18:04, 33.90s/it]"
     ]
    },
    {
     "name": "stdout",
     "output_type": "stream",
     "text": [
      "[1965900, 274350, 2502130, 1634860, 3489900, 1549010, 2194560, 1489030, 2313260]\n"
     ]
    },
    {
     "name": "stderr",
     "output_type": "stream",
     "text": [
      "100%|██████████| 100/100 [00:33<00:00,  3.00it/s]\n",
      " 74%|███████▎  | 86/117 [47:58<17:32, 33.94s/it]"
     ]
    },
    {
     "name": "stdout",
     "output_type": "stream",
     "text": [
      "[1292300, 2441190, 645180, 1616700, 1617720, 2380850, 260390, 76640, 2625870]\n"
     ]
    },
    {
     "name": "stderr",
     "output_type": "stream",
     "text": [
      "100%|██████████| 100/100 [00:33<00:00,  2.99it/s]\n",
      " 74%|███████▍  | 87/117 [48:32<16:59, 34.00s/it]"
     ]
    },
    {
     "name": "stdout",
     "output_type": "stream",
     "text": [
      "[1932260, 2176260, 2919520, 2758290, 97800, 2920840, 2952310, 3012030, 1090620]\n"
     ]
    },
    {
     "name": "stderr",
     "output_type": "stream",
     "text": [
      "100%|██████████| 100/100 [00:33<00:00,  2.97it/s]\n",
      " 75%|███████▌  | 88/117 [49:07<16:28, 34.07s/it]"
     ]
    },
    {
     "name": "stdout",
     "output_type": "stream",
     "text": [
      "[2827440, 98800, 427870, 1051830, 1527880, 2709920, 1076620, 1250560, 2746200]\n"
     ]
    },
    {
     "name": "stderr",
     "output_type": "stream",
     "text": [
      "100%|██████████| 100/100 [00:33<00:00,  2.95it/s]\n",
      " 76%|███████▌  | 89/117 [49:41<15:57, 34.21s/it]"
     ]
    },
    {
     "name": "stdout",
     "output_type": "stream",
     "text": [
      "[2491230, 2547530, 2166820, 927910, 2779960, 1764390, 2697770, 2563020, 3013910]\n"
     ]
    },
    {
     "name": "stderr",
     "output_type": "stream",
     "text": [
      "100%|██████████| 100/100 [00:33<00:00,  2.95it/s]\n",
      " 77%|███████▋  | 90/117 [50:16<15:26, 34.31s/it]"
     ]
    },
    {
     "name": "stdout",
     "output_type": "stream",
     "text": [
      "[1963330, 2224550, 3285380, 3354760, 2394650, 3285960, 3139520, 2408580, 1907120]\n"
     ]
    },
    {
     "name": "stderr",
     "output_type": "stream",
     "text": [
      "100%|██████████| 100/100 [00:33<00:00,  2.98it/s]\n",
      " 78%|███████▊  | 91/117 [50:50<14:51, 34.29s/it]"
     ]
    },
    {
     "name": "stdout",
     "output_type": "stream",
     "text": [
      "[2458190, 3376720, 1185020, 1708260, 2332530, 2189920, 2481500, 2936820, 2218020]\n"
     ]
    },
    {
     "name": "stderr",
     "output_type": "stream",
     "text": [
      "100%|██████████| 100/100 [00:33<00:00,  2.94it/s]\n",
      " 79%|███████▊  | 92/117 [51:25<14:20, 34.40s/it]"
     ]
    },
    {
     "name": "stdout",
     "output_type": "stream",
     "text": [
      "[928390, 1133200, 90470, 1194200, 3279950, 3137200, 1136440, 2547640, 1047100]\n"
     ]
    },
    {
     "name": "stderr",
     "output_type": "stream",
     "text": [
      "100%|██████████| 100/100 [00:34<00:00,  2.89it/s]\n",
      " 79%|███████▉  | 93/117 [52:00<13:51, 34.65s/it]"
     ]
    },
    {
     "name": "stdout",
     "output_type": "stream",
     "text": [
      "[2924190, 2813320, 3189340, 2797160, 785130, 3254500, 3181090, 3085060, 3217430]\n"
     ]
    },
    {
     "name": "stderr",
     "output_type": "stream",
     "text": [
      "100%|██████████| 100/100 [00:34<00:00,  2.93it/s]\n",
      " 80%|████████  | 94/117 [52:35<13:17, 34.68s/it]"
     ]
    },
    {
     "name": "stdout",
     "output_type": "stream",
     "text": [
      "[3467340, 2889660, 3296460, 2611350, 3259650, 2847620, 3241650, 2627160, 2294130]\n"
     ]
    },
    {
     "name": "stderr",
     "output_type": "stream",
     "text": [
      "100%|██████████| 100/100 [00:33<00:00,  2.95it/s]\n",
      " 81%|████████  | 95/117 [53:09<12:42, 34.65s/it]"
     ]
    },
    {
     "name": "stdout",
     "output_type": "stream",
     "text": [
      "[2875470, 391830, 1014370, 996280, 1024370, 1052050, 2263390, 2457020, 2901820]\n"
     ]
    },
    {
     "name": "stderr",
     "output_type": "stream",
     "text": [
      "100%|██████████| 100/100 [00:34<00:00,  2.86it/s]\n",
      " 82%|████████▏ | 96/117 [53:45<12:13, 34.93s/it]"
     ]
    },
    {
     "name": "stdout",
     "output_type": "stream",
     "text": [
      "[2718800, 3288160, 2202200, 2976380, 2053040, 2533710, 3277540, 3063660, 760290]\n"
     ]
    },
    {
     "name": "stderr",
     "output_type": "stream",
     "text": [
      "100%|██████████| 100/100 [00:34<00:00,  2.94it/s]\n",
      " 83%|████████▎ | 97/117 [54:19<11:37, 34.85s/it]"
     ]
    },
    {
     "name": "stdout",
     "output_type": "stream",
     "text": [
      "[2602190, 3028550, 2220270, 3073450, 2964340, 3288830, 3261380, 3062380, 3358330]\n"
     ]
    },
    {
     "name": "stderr",
     "output_type": "stream",
     "text": [
      "100%|██████████| 100/100 [00:33<00:00,  2.96it/s]\n",
      " 84%|████████▍ | 98/117 [54:54<10:59, 34.71s/it]"
     ]
    },
    {
     "name": "stdout",
     "output_type": "stream",
     "text": [
      "[2680960, 1036300, 2536440, 1035870, 1284300, 1327500, 1632120, 1948630, 436540]\n"
     ]
    },
    {
     "name": "stderr",
     "output_type": "stream",
     "text": [
      "100%|██████████| 100/100 [00:34<00:00,  2.89it/s]\n",
      " 85%|████████▍ | 99/117 [55:29<10:27, 34.87s/it]"
     ]
    },
    {
     "name": "stdout",
     "output_type": "stream",
     "text": [
      "[3344410, 1761750, 1018550, 3418280, 2539530, 179020, 449650, 2607900, 977160]\n"
     ]
    },
    {
     "name": "stderr",
     "output_type": "stream",
     "text": [
      "100%|██████████| 100/100 [00:37<00:00,  2.65it/s]\n",
      " 85%|████████▌ | 100/117 [56:07<10:09, 35.88s/it]"
     ]
    },
    {
     "name": "stdout",
     "output_type": "stream",
     "text": [
      "[605570, 98260, 320390, 913930, 3321530, 1528970, 1485650, 913690, 1396930]\n"
     ]
    },
    {
     "name": "stderr",
     "output_type": "stream",
     "text": [
      "100%|██████████| 100/100 [00:36<00:00,  2.72it/s]\n",
      " 86%|████████▋ | 101/117 [56:44<09:40, 36.30s/it]"
     ]
    },
    {
     "name": "stdout",
     "output_type": "stream",
     "text": [
      "[3259790, 2205320, 703880, 3250060, 2583620, 3058050, 3318310, 3007000, 259620]\n"
     ]
    },
    {
     "name": "stderr",
     "output_type": "stream",
     "text": [
      "100%|██████████| 100/100 [00:38<00:00,  2.60it/s]\n",
      " 87%|████████▋ | 102/117 [57:23<09:16, 37.11s/it]"
     ]
    },
    {
     "name": "stdout",
     "output_type": "stream",
     "text": [
      "[711220, 861790, 432220, 401840, 2651860, 1301190, 2570770, 516650, 1026820]\n"
     ]
    },
    {
     "name": "stderr",
     "output_type": "stream",
     "text": [
      "100%|██████████| 100/100 [00:35<00:00,  2.81it/s]\n",
      " 88%|████████▊ | 103/117 [58:00<08:36, 36.86s/it]"
     ]
    },
    {
     "name": "stdout",
     "output_type": "stream",
     "text": [
      "[3186400, 1520200, 2453390, 2139850, 1063880, 1061050, 411170, 1081370, 1820200]\n"
     ]
    },
    {
     "name": "stderr",
     "output_type": "stream",
     "text": [
      "100%|██████████| 100/100 [00:34<00:00,  2.90it/s]\n",
      " 89%|████████▉ | 104/117 [58:35<07:52, 36.33s/it]"
     ]
    },
    {
     "name": "stdout",
     "output_type": "stream",
     "text": [
      "[3289240, 3256710, 3251200, 3240980, 2698390, 3313760, 1997110, 3259860, 2036580]\n"
     ]
    },
    {
     "name": "stderr",
     "output_type": "stream",
     "text": [
      "100%|██████████| 100/100 [00:34<00:00,  2.88it/s]\n",
      " 90%|████████▉ | 105/117 [59:10<07:12, 36.03s/it]"
     ]
    },
    {
     "name": "stdout",
     "output_type": "stream",
     "text": [
      "[2068430, 1037940, 2090930, 2040730, 2017170, 2058730, 2063220, 2109370, 2075790]\n"
     ]
    },
    {
     "name": "stderr",
     "output_type": "stream",
     "text": [
      "100%|██████████| 100/100 [00:34<00:00,  2.91it/s]\n",
      " 91%|█████████ | 106/117 [59:45<06:32, 35.71s/it]"
     ]
    },
    {
     "name": "stdout",
     "output_type": "stream",
     "text": [
      "[2084550, 2001570, 2036930, 2059980, 2078930, 2083680, 2100890, 2105100, 2099960]\n"
     ]
    },
    {
     "name": "stderr",
     "output_type": "stream",
     "text": [
      "100%|██████████| 100/100 [00:34<00:00,  2.90it/s]\n",
      " 91%|█████████▏| 107/117 [1:00:20<05:55, 35.52s/it]"
     ]
    },
    {
     "name": "stdout",
     "output_type": "stream",
     "text": [
      "[2020520, 2083150, 2051070, 2004590, 2017080, 1993220, 2033020, 2032450, 2023250]\n"
     ]
    },
    {
     "name": "stderr",
     "output_type": "stream",
     "text": [
      "100%|██████████| 100/100 [00:34<00:00,  2.93it/s]\n",
      " 92%|█████████▏| 108/117 [1:00:55<05:18, 35.34s/it]"
     ]
    },
    {
     "name": "stdout",
     "output_type": "stream",
     "text": [
      "[2045800, 2027890, 1993520, 2006930, 2010930, 984290, 2031450, 2002650, 2043470]\n"
     ]
    },
    {
     "name": "stderr",
     "output_type": "stream",
     "text": [
      "100%|██████████| 100/100 [00:34<00:00,  2.89it/s]\n",
      " 93%|█████████▎| 109/117 [1:01:30<04:42, 35.30s/it]"
     ]
    },
    {
     "name": "stdout",
     "output_type": "stream",
     "text": [
      "[2105220, 2081470, 2089270, 2100930, 2079610, 2077220, 2080850, 2061840, 2104630]\n"
     ]
    },
    {
     "name": "stderr",
     "output_type": "stream",
     "text": [
      "100%|██████████| 100/100 [00:34<00:00,  2.90it/s]\n",
      " 94%|█████████▍| 110/117 [1:02:06<04:06, 35.26s/it]"
     ]
    },
    {
     "name": "stdout",
     "output_type": "stream",
     "text": [
      "[2075910, 2096600, 2060330, 2089200, 2104930, 2099700, 2099320, 2062620, 2080020]\n"
     ]
    },
    {
     "name": "stderr",
     "output_type": "stream",
     "text": [
      "100%|██████████| 100/100 [00:34<00:00,  2.86it/s]\n",
      " 95%|█████████▍| 111/117 [1:02:41<03:32, 35.34s/it]"
     ]
    },
    {
     "name": "stdout",
     "output_type": "stream",
     "text": [
      "[2073140, 2063400, 2076760, 2097840, 2074950, 2084160, 2081630, 2109490, 2099210]\n"
     ]
    },
    {
     "name": "stderr",
     "output_type": "stream",
     "text": [
      "100%|██████████| 100/100 [00:34<00:00,  2.88it/s]\n",
      " 96%|█████████▌| 112/117 [1:03:16<02:56, 35.33s/it]"
     ]
    },
    {
     "name": "stdout",
     "output_type": "stream",
     "text": [
      "[2072760, 2079750, 2091500, 2095760, 2069880, 2073040, 2078600, 2090320, 2082710]\n"
     ]
    },
    {
     "name": "stderr",
     "output_type": "stream",
     "text": [
      "100%|██████████| 100/100 [00:34<00:00,  2.87it/s]\n",
      " 97%|█████████▋| 113/117 [1:03:52<02:21, 35.36s/it]"
     ]
    },
    {
     "name": "stdout",
     "output_type": "stream",
     "text": [
      "[2110530, 2113060, 2122560, 2110300, 2117400, 2121910, 2113510, 2114030, 2116600]\n"
     ]
    },
    {
     "name": "stderr",
     "output_type": "stream",
     "text": [
      "100%|██████████| 100/100 [00:33<00:00,  2.94it/s]\n",
      " 97%|█████████▋| 114/117 [1:04:26<01:45, 35.13s/it]"
     ]
    },
    {
     "name": "stdout",
     "output_type": "stream",
     "text": [
      "[3455800, 3459980, 606310, 3461310, 3458120, 2103400, 2093030, 2108970, 3466000]\n"
     ]
    },
    {
     "name": "stderr",
     "output_type": "stream",
     "text": [
      "100%|██████████| 100/100 [00:34<00:00,  2.87it/s]\n",
      " 98%|█████████▊| 115/117 [1:05:02<01:10, 35.21s/it]"
     ]
    },
    {
     "name": "stdout",
     "output_type": "stream",
     "text": [
      "[2066320, 2067940, 2077720, 2073730, 2063850, 2097580, 2112320, 2060270, 2098370]\n"
     ]
    },
    {
     "name": "stderr",
     "output_type": "stream",
     "text": [
      "100%|██████████| 100/100 [00:34<00:00,  2.88it/s]\n",
      " 99%|█████████▉| 116/117 [1:05:37<00:35, 35.27s/it]"
     ]
    },
    {
     "name": "stdout",
     "output_type": "stream",
     "text": [
      "[2076890, 2093900, 2107510, 2102610, 2107880, 2088940, 2102330, 2064100, 2088590]\n"
     ]
    },
    {
     "name": "stderr",
     "output_type": "stream",
     "text": [
      "100%|██████████| 100/100 [00:34<00:00,  2.90it/s]\n",
      "100%|██████████| 117/117 [1:06:12<00:00, 33.96s/it]\n"
     ]
    }
   ],
   "source": [
    "# # assert rel_vel.shape[0] == angles.shape[0] == ego_pose.shape[0]\n",
    "\n",
    "# # # Combine features\n",
    "# # combined_features = np.hstack([rel_vel, angles, ego_pose])\n",
    "\n",
    "# # # Concatenate labels\n",
    "# # combined_labels = rel_vel_labels + angle_labels + labels\n",
    "\n",
    "# assert head_angular.shape[0] == euler_angles.shape[0] == angular_vel.shape[0] == rel_vel.shape[0]\n",
    "\n",
    "# # Combine all features\n",
    "# combined_features = np.hstack([rel_vel, angles, ego_pose, head_angular, euler_angles, angular_vel])\n",
    "# combined_features = np.nan_to_num(combined_features, nan=0.0, posinf=0.0, neginf=0.0)\n",
    "\n",
    "# # Combine all labels\n",
    "# combined_labels = rel_vel_labels + angle_labels + labels + [\"head_angular\"] + euler_labels + angular_vel_labels\n",
    "\n",
    "\n",
    "\n",
    "# # Perform PCA on the combined features\n",
    "# pca_features, pca_labels = pca(\n",
    "#     features=combined_features,\n",
    "#     labels=combined_labels,\n",
    "#     categories=[\"vel\", \"ang\", \"ego_pose\", \"head_ang\", \"eluer_ang\", \"avel\"], #[\"vel\", \"ego_euc\", \"ang\", \"avel\"],\n",
    "#     n_pcs=10,\n",
    "#     downsample=1,\n",
    "#     method=\"fbpca\",\n",
    "# )\n",
    "\n",
    "write.features_h5(pca_features, pca_labels, path=config[\"out_path\"] + \"_combined_pca.h5\")\n",
    "\n",
    "\n",
    "pc_feats, pc_labels = pca_features, pca_labels\n",
    "\n",
    "wlet_feats, wlet_labels = features.wavelet(\n",
    "    pc_feats, pc_labels, ids, f_s=30, freq=np.linspace(1, 25, 25), w0=5\n",
    ")\n",
    "\n",
    "write.features_h5(wlet_feats, wlet_labels, path=config[\"out_path\"] + \"_wavelets.h5\")\n",
    "\n",
    "# PCA on wavelet features\n",
    "pc_wlet, pc_wlet_labels = pca(\n",
    "    wlet_feats,\n",
    "    wlet_labels,\n",
    "    # categories=[\"wlet_ego_euc\"],\n",
    "    categories=[\"wlet_ang\"],\n",
    "    n_pcs=5,\n",
    "    method=\"fbpca\",\n",
    ")\n",
    "\n",
    "del wlet_feats, wlet_labels\n",
    "pc_feats = np.hstack((pc_feats, pc_wlet))\n",
    "pc_labels += pc_wlet_labels\n",
    "del pc_wlet, pc_wlet_labels\n",
    "\n",
    "write.features_h5(\n",
    "    pc_feats, pc_labels, path=\"\".join([config[\"out_path\"], \"_pca_on_wavelets.h5\"])\n",
    ")\n",
    "\n",
    "\n",
    "\n",
    "\n",
    "data_obj = ds.DataStruct(\n",
    "    pose=pose,\n",
    "    id=ids,\n",
    "    meta=meta,\n",
    "    meta_by_frame=meta_by_frame,\n",
    "    connectivity=connectivity,\n",
    ")\n",
    "\n",
    "data_obj.features = pc_feats\n",
    "# When using high framerate data, downsampling may be necessary in order to \n",
    "# discover granular structure in embedding\n",
    "data_obj = data_obj[:: config[\"downsample\"], :]\n",
    "\n",
    "\n",
    "embedder = Embed(\n",
    "    embed_method=config[\"single_embed\"][\"method\"],\n",
    "    perplexity=config[\"single_embed\"][\"perplexity\"],\n",
    "    lr=config[\"single_embed\"][\"lr\"],\n",
    ")\n",
    "data_obj.embed_vals = embedder.embed(data_obj.features, save_self=True)\n",
    "\n",
    "# Watershed clustering\n",
    "data_obj.ws = Watershed(\n",
    "    sigma=config[\"single_embed\"][\"sigma\"], max_clip=1, log_out=True, pad_factor=0.05\n",
    ")\n",
    "data_obj.data[\"Cluster\"] = data_obj.ws.fit_predict(data=data_obj.embed_vals)\n",
    "print(\"Writing Data Object to pickle\")\n",
    "data_obj.write_pickle(''.join([config['out_path'],'/']))\n",
    "\n",
    "\n",
    "\n",
    "freq, combined_keys = analysis.cluster_freq_by_cat(\n",
    "                        data_obj.data[\"Cluster\"].values, cat=data_obj.id\n",
    "                    )\n",
    "freq_df = pd.DataFrame(freq.T, columns=combined_keys)\n",
    "freq_df.to_csv(''.join([config['out_path'],'/cluster_occupancy.csv']))\n",
    "\n",
    "vis.pose.sample_grid3D(\n",
    "    pose-pose.mean(axis=-2, keepdims=True),\n",
    "    connectivity=connectivity,\n",
    "    \n",
    "    labels=data_obj.data[\"Cluster\"],\n",
    "    n_samples=9,\n",
    "    centered=True,\n",
    "    N_FRAMES=100,\n",
    "    fps=30,\n",
    "    dpi=100,\n",
    "    watershed=data_obj.ws,\n",
    "    embed_vals=None,\n",
    "    VID_NAME = \"cluster\",\n",
    "    filepath=config[\"out_path\"],\n",
    ")\n"
   ]
  },
  {
   "cell_type": "code",
   "execution_count": 12,
   "metadata": {},
   "outputs": [],
   "source": [
    "# nan_indices = np.isnan(combined_features)\n",
    "# inf_indices = np.isinf(combined_features)\n",
    "# print(\"NaN values at:\", np.argwhere(nan_indices))\n",
    "# print(\"Inf values at:\", np.argwhere(inf_indices))\n",
    "combined_features = np.nan_to_num(combined_features, nan=0.0, posinf=0.0, neginf=0.0)\n"
   ]
  },
  {
   "cell_type": "code",
   "execution_count": 15,
   "metadata": {},
   "outputs": [],
   "source": [
    "from tqdm import tqdm\n",
    "from typing import Optional, Union, List, Tuple, Type\n",
    "\n",
    "def pca(\n",
    "    features: np.ndarray,\n",
    "    labels: List,\n",
    "    categories: List[str] = [\"vel\", \"ego_euc\", \"ang\", \"avel\"],\n",
    "    n_pcs: int = 10,\n",
    "    downsample: int = 1,\n",
    "    method=\"fbpca\",\n",
    "):\n",
    "    print(\"Calculating principal components ... \")\n",
    "\n",
    "    # Initializing the PCA method\n",
    "    # if method.startswith(\"torch\"):\n",
    "    #     import torch\n",
    "\n",
    "    #     pca_feats = torch.zeros(features.shape[0], len(categories) * n_pcs)\n",
    "    #     features = torch.tensor(features)\n",
    "    # else:\n",
    "    # Centering the features if not torch (pytorch does it itself)\n",
    "    features = features - features.mean(axis=0)\n",
    "    pca_feats = np.zeros(\n",
    "        (features.shape[0], len(categories) * n_pcs), dtype=features.dtype\n",
    "    )\n",
    "\n",
    "    if method == \"ipca\":\n",
    "        from sklearn.decomposition import IncrementalPCA\n",
    "\n",
    "        pca = IncrementalPCA(n_components=n_pcs, batch_size=None)\n",
    "    elif method.startswith(\"fbpca\"):\n",
    "        import fbpca\n",
    "\n",
    "    num_cols = 0\n",
    "    for i, cat in enumerate(tqdm(categories)):  # Iterate through each feature category\n",
    "        cat += \"_\"\n",
    "    \n",
    "        cols_idx = [\n",
    "            i\n",
    "            for i, col in enumerate(labels)\n",
    "            if (col.startswith(cat) or (\"_\" + cat in col))\n",
    "            # if (col.decode('utf-8').startswith(cat) or (\"_\" + cat in col.decode('utf-8')))\n",
    "\n",
    "        ]\n",
    "        num_cols += len(cols_idx)\n",
    "        # print(f\"Category: {cat}, Matching labels: {[label for label in combined_labels if cat in label]}\")\n",
    "        if not cols_idx:\n",
    "            print(f\"Skipping category {cat}: no matching columns found.\")\n",
    "            continue\n",
    "\n",
    "        if method == \"ipca\" or method == \"sklearn_pca\":\n",
    "            # import pdb; pdb.set_trace()\n",
    "            pca_feats[:, i * n_pcs : (i + 1) * n_pcs] = pca.fit_transform(\n",
    "                features[:, cols_idx]\n",
    "            )\n",
    "\n",
    "        # elif method.startswith(\"torch\"):\n",
    "        #     feat_cat = features[:, cols_idx]\n",
    "        #     if method.endswith(\"_gpu\"):\n",
    "        #         feat_cat = feat_cat.cuda()\n",
    "\n",
    "        #     if \"pca\" in method:\n",
    "        #         (_, _, V) = torch.pca_lowrank(feat_cat)\n",
    "        #     elif \"svd\" in method:\n",
    "        #         feat_cat -= feat_cat.mean()\n",
    "        #         (_, _, V) = torch.linalg.svd(feat_cat)\n",
    "\n",
    "        #     if method.endswith(\"_gpu\"):\n",
    "        #         pca_feats[:, i * n_pcs : (i + 1) * n_pcs] = (\n",
    "        #             torch.matmul(feat_cat, V[:, :n_pcs]).detach().cpu()\n",
    "        #         )\n",
    "        #         feat_cat.detach().cpu()\n",
    "        #         V.detach().cpu()\n",
    "        #     else:\n",
    "        #         pca_feats[:, i * n_pcs : (i + 1) * n_pcs] = torch.matmul(\n",
    "        #             feat_cat, V[:, :n_pcs]\n",
    "        #         )\n",
    "\n",
    "        elif method == \"fbpca\":\n",
    "            print(f\"Category: {cat}, Columns: {cols_idx}, Feature shape: {features[:, cols_idx].shape}\")\n",
    "\n",
    "            (_, _, V) = fbpca.pca(\n",
    "                features[::downsample, cols_idx].astype(np.float64), k=n_pcs\n",
    "            )\n",
    "            pca_feats[:, i * n_pcs : (i + 1) * n_pcs] = np.matmul(\n",
    "                features[:, cols_idx], V.astype(features.dtype).T\n",
    "            )\n",
    "\n",
    "    # if method.startswith(\"torch_pca\"):\n",
    "    #     pca_feats = pca_feats.numpy()\n",
    "\n",
    "    # assert num_cols == features.shape[1]\n",
    "\n",
    "    pc_labels = [\n",
    "        \"_\".join([cat, \"pc\" + str(i)]) for cat in categories for i in range(n_pcs)\n",
    "    ]\n",
    "\n",
    "    return pca_feats, pc_labels"
   ]
  }
 ],
 "metadata": {
  "kernelspec": {
   "display_name": "neuroposelib",
   "language": "python",
   "name": "python3"
  },
  "language_info": {
   "codemirror_mode": {
    "name": "ipython",
    "version": 3
   },
   "file_extension": ".py",
   "mimetype": "text/x-python",
   "name": "python",
   "nbconvert_exporter": "python",
   "pygments_lexer": "ipython3",
   "version": "3.9.19"
  }
 },
 "nbformat": 4,
 "nbformat_minor": 2
}
