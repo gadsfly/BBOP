{
 "cells": [
  {
   "cell_type": "code",
   "execution_count": 1,
   "metadata": {},
   "outputs": [
    {
     "name": "stdout",
     "output_type": "stream",
     "text": [
      "Conversion complete. Total frames: 1000\n"
     ]
    }
   ],
   "source": [
    "from utlis.Ca_tools.avi_to_tiff import *\n",
    "# Example usage:\n",
    "avi_file = '/home/lq53/mir_data/24summ/2024_08_16/20240717_PMC_r2_11_00/20240717-PMC-r2/customEntValHere/2024_08_16/11_00_40/analysis_try/0.avi'  # Path to the input AVI file\n",
    "output_folder = '/home/lq53/mir_data/24summ/2024_08_16/20240717_PMC_r2_11_00/20240717-PMC-r2/customEntValHere/2024_08_16/11_00_40/analysis_try/imagej_try'  # Output folder for TIFF frames\n",
    "\n",
    "avi_to_tiff(avi_file, output_folder)"
   ]
  }
 ],
 "metadata": {
  "kernelspec": {
   "display_name": "BBOP",
   "language": "python",
   "name": "python3"
  },
  "language_info": {
   "codemirror_mode": {
    "name": "ipython",
    "version": 3
   },
   "file_extension": ".py",
   "mimetype": "text/x-python",
   "name": "python",
   "nbconvert_exporter": "python",
   "pygments_lexer": "ipython3",
   "version": "3.9.18"
  }
 },
 "nbformat": 4,
 "nbformat_minor": 2
}
