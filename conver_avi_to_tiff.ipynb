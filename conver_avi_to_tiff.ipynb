{
 "cells": [
  {
   "cell_type": "code",
   "execution_count": null,
   "metadata": {},
   "outputs": [],
   "source": [
    "from utlis.Ca_tools.avi_to_tiff import *\n",
    "# Example usage:\n",
    "avi_file = '/home/lq53/mir_data/24summ/2024_08_16/20240717_PMC_r2_11_00/20240717-PMC-r2/customEntValHere/2024_08_16/11_00_40/analysis_try/0.avi'  # Path to the input AVI file\n",
    "output_folder = '/home/lq53/mir_data/24summ/2024_08_16/20240717_PMC_r2_11_00/20240717-PMC-r2/customEntValHere/2024_08_16/11_00_40/analysis_try/imagej_try'  # Output folder for TIFF frames\n",
    "\n",
    "avi_to_tiff(avi_file, output_folder)"
   ]
  }
 ],
 "metadata": {
  "language_info": {
   "name": "python"
  }
 },
 "nbformat": 4,
 "nbformat_minor": 2
}
