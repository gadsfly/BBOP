{
 "cells": [
  {
   "cell_type": "code",
   "execution_count": 4,
   "metadata": {},
   "outputs": [],
   "source": [
    "import numpy as np\n",
    "import scipy.io as sio\n",
    "import os\n",
    "import copy"
   ]
  },
  {
   "cell_type": "code",
   "execution_count": 2,
   "metadata": {},
   "outputs": [],
   "source": [
    "def count_leading_nans(arr):\n",
    "    count = 0\n",
    "    for val in arr:\n",
    "        if np.isnan(val):\n",
    "            count += 1\n",
    "        else:\n",
    "            break\n",
    "    return count\n",
    "\n",
    "def convert_sync(old_calib_path, new_calib_name):\n",
    "    old_calib_data = sio.loadmat(old_calib_path)\n",
    "    sync = old_calib_data['sync']\n",
    "    new_sync = copy.deepcopy(sync)\n",
    "\n",
    "    dff = 'data_frame'\n",
    "    sid = 'data_sampleID'\n",
    "\n",
    "    for camera in range(6):\n",
    "        old_data_sampleID = sync[camera][0][sid][0][0][0]\n",
    "\n",
    "        # # change all sampleID to actually one, note that this starts with 1, instead of 0. the old one started with 0\n",
    "        lenn = len(old_data_sampleID)\n",
    "        new_data_sampleID = list(range(1,lenn+1))\n",
    "        new_sync[camera][0][sid][0][0][0] = new_data_sampleID\n",
    "\n",
    "        # now, if sampleID starts with nan, then we need to adjust the new data_frame for it. if it is not nan, then it stays the same\n",
    "        if old_data_sampleID[0]==0:\n",
    "            # print(f'camera {camera+1} does not have nan, remains unchanged')\n",
    "            continue\n",
    "        else:\n",
    "            nan_counts = count_leading_nans(old_data_sampleID)\n",
    "            # print(f'camera {camera+1} has nan count of {nan_counts}, now starts with {nan_counts+1}')\n",
    "            new_data_frame = list(range(nan_counts+1,lenn+1))\n",
    "            new_sync[camera][0][dff][0][0] = np.array(new_data_frame)\n",
    "    \n",
    "    base_path = os.path.dirname(old_calib_path)\n",
    "    save_path = os.path.join(base_path, new_calib_name)\n",
    "\n",
    "    old_calib_data['sync'] = new_sync\n",
    "    sio.savemat(save_path, old_calib_data)\n",
    "    print('converted sync data saved to:', save_path)\n"
   ]
  },
  {
   "cell_type": "code",
   "execution_count": 5,
   "metadata": {},
   "outputs": [
    {
     "name": "stdout",
     "output_type": "stream",
     "text": [
      "converted sync data saved to: /home/lq53/mir_data/sync_test/rawvid_mirstop_30s_light_3/timdataframe_sampleid_rescue/calib_convert_test/func_test_converted_label3d_dannce.mat\n"
     ]
    }
   ],
   "source": [
    "old_calib_path = '/home/lq53/mir_data/sync_test/rawvid_mirstop_30s_light_3/timdataframe_sampleid_rescue/calib_convert_test/pos_synced_30s_label3d_dannce.mat'\n",
    "new_calib_name = 'func_test_converted_label3d_dannce.mat'\n",
    "convert_sync(old_calib_path, new_calib_name)"
   ]
  }
 ],
 "metadata": {
  "kernelspec": {
   "display_name": "BBOP",
   "language": "python",
   "name": "python3"
  },
  "language_info": {
   "codemirror_mode": {
    "name": "ipython",
    "version": 3
   },
   "file_extension": ".py",
   "mimetype": "text/x-python",
   "name": "python",
   "nbconvert_exporter": "python",
   "pygments_lexer": "ipython3",
   "version": "3.9.18"
  }
 },
 "nbformat": 4,
 "nbformat_minor": 2
}
