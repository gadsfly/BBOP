{
 "cells": [
  {
   "cell_type": "code",
   "execution_count": null,
   "metadata": {},
   "outputs": [],
   "source": [
    "old_calib_path = '/hpc/group/tdunn/lq53/sync_camera_/rawvid_mirstop_30s_light_3/timdataframe_sampleid_rescue/calib_convert_test/dataframetest240801_synced_30s_label3d_dannce.mat'\n",
    "new_calib_name = 'converted_label3d_dannce.mat'"
   ]
  }
 ],
 "metadata": {
  "kernelspec": {
   "display_name": "BBOP",
   "language": "python",
   "name": "python3"
  },
  "language_info": {
   "name": "python",
   "version": "undefined.undefined.undefined"
  }
 },
 "nbformat": 4,
 "nbformat_minor": 2
}
