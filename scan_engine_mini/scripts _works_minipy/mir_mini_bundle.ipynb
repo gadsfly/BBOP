{
 "cells": [
  {
   "cell_type": "code",
   "execution_count": 1,
   "metadata": {},
   "outputs": [],
   "source": [
    "import glob\n",
    "import shutil\n",
    "import os\n",
    "import subprocess\n",
    "\n",
    "parent_directory = \"/home/lq53/mir_data/24cont_miniscope/*/*/*/My_V4_Miniscope\"  # Adjust the pattern as needed\n",
    "locations = glob.glob(parent_directory)"
   ]
  },
  {
   "cell_type": "code",
   "execution_count": 2,
   "metadata": {},
   "outputs": [
    {
     "data": {
      "text/plain": [
       "['/home/lq53/mir_data/24cont_miniscope/240918v1r1/2024_10_08/14_41_53/My_V4_Miniscope',\n",
       " '/home/lq53/mir_data/24cont_miniscope/240918v1r1/2024_10_08/15_36_19/My_V4_Miniscope',\n",
       " '/home/lq53/mir_data/24cont_miniscope/240918v1r1/2024_10_08/16_23_13/My_V4_Miniscope',\n",
       " '/home/lq53/mir_data/24cont_miniscope/240918v1r1/2024_10_08/16_06_49/My_V4_Miniscope',\n",
       " '/home/lq53/mir_data/24cont_miniscope/240918v1r1/2024_10_08/15_53_33/My_V4_Miniscope',\n",
       " '/home/lq53/mir_data/24cont_miniscope/240918v1r1/2024_10_08/14_24_58/My_V4_Miniscope',\n",
       " '/home/lq53/mir_data/24cont_miniscope/240918v1r1/2024_10_08/14_08_38/My_V4_Miniscope',\n",
       " '/home/lq53/mir_data/24cont_miniscope/240819v1r1/2024_10_08/20_48_38/My_V4_Miniscope',\n",
       " '/home/lq53/mir_data/24cont_miniscope/240819v1r1/2024_10_08/20_32_38/My_V4_Miniscope',\n",
       " '/home/lq53/mir_data/24cont_miniscope/240819v1r1/2024_10_08/20_16_41/My_V4_Miniscope',\n",
       " '/home/lq53/mir_data/24cont_miniscope/240819v1r1/2024_10_08/19_44_49/My_V4_Miniscope',\n",
       " '/home/lq53/mir_data/24cont_miniscope/240819v1r1/2024_10_08/20_00_58/My_V4_Miniscope']"
      ]
     },
     "execution_count": 2,
     "metadata": {},
     "output_type": "execute_result"
    }
   ],
   "source": [
    "locations"
   ]
  },
  {
   "cell_type": "code",
   "execution_count": 3,
   "metadata": {},
   "outputs": [],
   "source": [
    "source_file = \"/home/lq53/mir_data/24cont_miniscope/240918v1r1/2024_10_08/14_41_53/minian_simp_test/minian_mirpy_set.py\"\n",
    "for location in locations:\n",
    "    destination_file = os.path.join(location, \"minian_mirpy_set.py\")\n",
    "    if not os.path.exists(destination_file):\n",
    "        shutil.copy(source_file, location)\n",
    "        print(f\"Copied script to {location}\")\n",
    "    else:\n",
    "        print(f\"Script already exists in {location}, skipping copy.\")\n",
    "# source_file = \"/home/lq53/mir_data/24cont_miniscope/240918v1r1/2024_10_08/14_41_53/minian_simp_test/minian_mirpy_set.py\"\n",
    "# for location in locations:\n",
    "#     shutil.copy(source_file, location) "
   ]
  },
  {
   "cell_type": "code",
   "execution_count": 8,
   "metadata": {},
   "outputs": [
    {
     "name": "stdout",
     "output_type": "stream",
     "text": [
      "Copied parameter file for 240918v1r1 to /home/lq53/mir_data/24cont_miniscope/240918v1r1/2024_10_08/14_41_53/My_V4_Miniscope\n",
      "Copied parameter file for 240918v1r1 to /home/lq53/mir_data/24cont_miniscope/240918v1r1/2024_10_08/15_36_19/My_V4_Miniscope\n",
      "Copied parameter file for 240918v1r1 to /home/lq53/mir_data/24cont_miniscope/240918v1r1/2024_10_08/16_23_13/My_V4_Miniscope\n",
      "Copied parameter file for 240918v1r1 to /home/lq53/mir_data/24cont_miniscope/240918v1r1/2024_10_08/16_06_49/My_V4_Miniscope\n",
      "Copied parameter file for 240918v1r1 to /home/lq53/mir_data/24cont_miniscope/240918v1r1/2024_10_08/15_53_33/My_V4_Miniscope\n",
      "Copied parameter file for 240918v1r1 to /home/lq53/mir_data/24cont_miniscope/240918v1r1/2024_10_08/14_24_58/My_V4_Miniscope\n",
      "Copied parameter file for 240918v1r1 to /home/lq53/mir_data/24cont_miniscope/240918v1r1/2024_10_08/14_08_38/My_V4_Miniscope\n",
      "Copied parameter file for 240819v1r1 to /home/lq53/mir_data/24cont_miniscope/240819v1r1/2024_10_08/20_48_38/My_V4_Miniscope\n",
      "Copied parameter file for 240819v1r1 to /home/lq53/mir_data/24cont_miniscope/240819v1r1/2024_10_08/20_32_38/My_V4_Miniscope\n",
      "Copied parameter file for 240819v1r1 to /home/lq53/mir_data/24cont_miniscope/240819v1r1/2024_10_08/20_16_41/My_V4_Miniscope\n",
      "Copied parameter file for 240819v1r1 to /home/lq53/mir_data/24cont_miniscope/240819v1r1/2024_10_08/19_44_49/My_V4_Miniscope\n",
      "Copied parameter file for 240819v1r1 to /home/lq53/mir_data/24cont_miniscope/240819v1r1/2024_10_08/20_00_58/My_V4_Miniscope\n"
     ]
    }
   ],
   "source": [
    "#a very good try, but prob copy and pasting is easiest...\n",
    "# Loop through each location and copy the parameter file if it doesn't already exist\n",
    "for location in locations:\n",
    "    # Extract the animal ID from the folder structure\n",
    "    path_parts = location.split('/')\n",
    "    animal_id = path_parts[5]  # Adjust this index based on your folder structure\n",
    "\n",
    "    # Define the animal-specific parameter file path\n",
    "    source_param_file = f\"/home/lq53/mir_data/24cont_miniscope/{animal_id}/minian_param_mir.py\"\n",
    "    destination_param_file = os.path.join(location, \"minian_param_mir.py\")\n",
    "\n",
    "    if not os.path.exists(destination_param_file):\n",
    "        if os.path.exists(source_param_file):\n",
    "            shutil.copy(source_param_file, location)\n",
    "            print(f\"Copied parameter file for {animal_id} to {location}\")\n",
    "        else:\n",
    "            print(f\"Parameter file for {animal_id} not found. Skipping {location}.\")\n",
    "    else:\n",
    "        print(f\"Parameter file already exists in {location}, skipping copy.\")\n",
    "\n",
    "\n",
    "# for location in locations:\n",
    "#     # Extract the animal ID from the folder structure\n",
    "#     path_parts = location.split('/')\n",
    "#     animal_id = path_parts[5]  # Adjust this index based on where the animal ID is in the path\n",
    "\n",
    "#     # Set the path to the parameter file for this specific animal\n",
    "#     param_file = f\"/home/lq53/mir_data/24cont_miniscope/{animal_id}/minian_param_mir.py\"\n",
    "    \n",
    "#     # Check if the parameter file exists\n",
    "#     if os.path.exists(param_file):\n",
    "#         # Check if any .nc files exist in the location\n",
    "#         nc_files = glob.glob(os.path.join(location, \"*.nc\"))\n",
    "        \n",
    "#         if nc_files:\n",
    "#             # Skip execution if .nc files are found\n",
    "#             print(f\".nc files found in {location}. Skipping execution.\")\n",
    "#         else:\n",
    "#             # Path to the script\n",
    "#             script_path = os.path.join(location, \"minian_mirpy_set.py\")\n",
    "\n",
    "#             # Command to execute the script with the correct parameter file\n",
    "#             command = f\"PYTHONPATH=$(dirname {param_file}) python {script_path}\"\n",
    "#             subprocess.run(command, shell=True)\n",
    "#     else:\n",
    "#         # Print a message if the parameter file does not exist\n",
    "#         print(f\"Parameter file for animal {animal_id} not found at {param_file}\")"
   ]
  },
  {
   "cell_type": "code",
   "execution_count": null,
   "metadata": {},
   "outputs": [],
   "source": [
    "# Loop through each location and run the script\n",
    "for location in locations:\n",
    "    # Check if the necessary script and parameter file exist in the folder\n",
    "    script_file = os.path.join(location, \"minian_mirpy_set.py\")\n",
    "    param_file = os.path.join(location, \"minian_param_mir.py\")\n",
    "    \n",
    "    if os.path.exists(script_file) and os.path.exists(param_file):\n",
    "        # Execute the script in the current location\n",
    "        print(f\"Running script in {location}\")\n",
    "        subprocess.run([\"python\", script_file], cwd=location)\n",
    "    else:\n",
    "        print(f\"Missing script or parameter file in {location}, skipping execution.\")\n"
   ]
  },
  {
   "cell_type": "code",
   "execution_count": null,
   "metadata": {},
   "outputs": [],
   "source": [
    "# # Path to your parameter file\n",
    "# param_file = \"/home/lq53/mir_data/24cont_miniscope/240918v1r1/2024_10_08/14_41_53/minian_simp_test/minian_param_mir.py\"\n",
    "\n",
    "# # Run the script in each location\n",
    "# for location in locations:\n",
    "#     script_path = os.path.join(location, \"minian_mirpy_set.py\")\n",
    "#     command = f\"PYTHONPATH={param_file} python {script_path}\"\n",
    "#     subprocess.run(command, shell=True)"
   ]
  }
 ],
 "metadata": {
  "kernelspec": {
   "display_name": "minian2",
   "language": "python",
   "name": "python3"
  },
  "language_info": {
   "codemirror_mode": {
    "name": "ipython",
    "version": 3
   },
   "file_extension": ".py",
   "mimetype": "text/x-python",
   "name": "python",
   "nbconvert_exporter": "python",
   "pygments_lexer": "ipython3",
   "version": "3.8.15"
  }
 },
 "nbformat": 4,
 "nbformat_minor": 2
}
