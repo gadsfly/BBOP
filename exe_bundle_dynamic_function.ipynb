{
 "cells": [
  {
   "cell_type": "code",
   "execution_count": 12,
   "metadata": {},
   "outputs": [],
   "source": [
    "import os\n",
    "import re\n",
    "import numpy as np\n",
    "import scipy.io as sio\n",
    "import imageio\n",
    "import tqdm\n",
    "import matplotlib.pyplot as plt\n",
    "from matplotlib.animation import FFMpegWriter\n",
    "# from utlis.projection import *\n",
    "from utlis.com_traga_utlis import *"
   ]
  },
  {
   "cell_type": "code",
   "execution_count": null,
   "metadata": {},
   "outputs": [],
   "source": [
    "dates = [\"2024_06_26\"] #, \"2024_06_27\", \"2024_06_28\", \"2024_07_01\", \"2024_07_02\", \"2024_07_03\"\n",
    "\n",
    "synced_name_path =\"/hpc/group/tdunn/Bryan_Rigs/BigOpenField/24summ/mir_bundle_run/synced_folders\"\n",
    "summ_folder = '/hpc/group/tdunn/Bryan_Rigs/BigOpenField/24summ/'\n",
    "\n",
    "\n",
    "# operations = [\n",
    "#     (my_operation, {'perform_jump_indices': True, 'perform_video_generation': True}),\n",
    "#     (another_operation, {'additional_param1': 'value1', 'additional_param2': 'value2'})\n",
    "# ]\n",
    "\n",
    "process_folders(dates, synced_name_path, summ_folder, operations)"
   ]
  },
  {
   "cell_type": "code",
   "execution_count": null,
   "metadata": {},
   "outputs": [],
   "source": [
    "\n"
   ]
  }
 ],
 "metadata": {
  "kernelspec": {
   "display_name": "vispy",
   "language": "python",
   "name": "python3"
  },
  "language_info": {
   "codemirror_mode": {
    "name": "ipython",
    "version": 3
   },
   "file_extension": ".py",
   "mimetype": "text/x-python",
   "name": "python",
   "nbconvert_exporter": "python",
   "pygments_lexer": "ipython3",
   "version": "3.9.18"
  }
 },
 "nbformat": 4,
 "nbformat_minor": 2
}
