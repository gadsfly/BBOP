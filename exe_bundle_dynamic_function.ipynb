{
 "cells": [
  {
   "cell_type": "code",
   "execution_count": 1,
   "metadata": {},
   "outputs": [],
   "source": [
    "import os\n",
    "import re\n",
    "import numpy as np\n",
    "import scipy.io as sio\n",
    "import imageio\n",
    "import tqdm\n",
    "import matplotlib.pyplot as plt\n",
    "from matplotlib.animation import FFMpegWriter\n",
    "# from utlis.projection import *\n",
    "from utlis.com_traga_utlis import *"
   ]
  },
  {
   "cell_type": "code",
   "execution_count": 3,
   "metadata": {},
   "outputs": [
    {
     "name": "stdout",
     "output_type": "stream",
     "text": [
      "Missing folders: 35\n",
      "Processing folder: /hpc/group/tdunn/Bryan_Rigs/BigOpenField/24summ/2024_06_26/1686940_left2\n",
      "Original .mat file moved to /hpc/group/tdunn/Bryan_Rigs/BigOpenField/24summ/2024_06_26/1686940_left2/prev_calib\n",
      "Modified .mat file saved as /hpc/group/tdunn/Bryan_Rigs/BigOpenField/24summ/2024_06_26/1686940_left2/0_synced_1686940_left2_2024_06_26_1686940_label3d_dannce.mat\n",
      "Processing folder: /hpc/group/tdunn/Bryan_Rigs/BigOpenField/24summ/2024_06_26/1686940_left\n",
      "Original .mat file moved to /hpc/group/tdunn/Bryan_Rigs/BigOpenField/24summ/2024_06_26/1686940_left/prev_calib\n",
      "Modified .mat file saved as /hpc/group/tdunn/Bryan_Rigs/BigOpenField/24summ/2024_06_26/1686940_left/0_synced_1686940_left_2024_06_26_1686940_label3d_dannce.mat\n",
      "Processing folder: /hpc/group/tdunn/Bryan_Rigs/BigOpenField/24summ/2024_06_26/1686940_no_holes\n",
      "Original .mat file moved to /hpc/group/tdunn/Bryan_Rigs/BigOpenField/24summ/2024_06_26/1686940_no_holes/prev_calib\n",
      "Modified .mat file saved as /hpc/group/tdunn/Bryan_Rigs/BigOpenField/24summ/2024_06_26/1686940_no_holes/0_synced_1686940_no_holes_2024_06_26_1686940_label3d_dannce.mat\n",
      "processed folder:  3\n"
     ]
    }
   ],
   "source": [
    "dates = [\"2024_06_26\"] #, \"2024_06_27\", \"2024_06_28\", \"2024_07_01\", \"2024_07_02\", \"2024_07_03\"\n",
    "\n",
    "synced_name_path =\"/hpc/group/tdunn/Bryan_Rigs/BigOpenField/24summ/mir_bundle_run/synced_folders\"\n",
    "summ_folder = '/hpc/group/tdunn/Bryan_Rigs/BigOpenField/24summ/'\n",
    "\n",
    "operations = [\n",
    "    (temp_change_calib_pos_to_0, None)\n",
    "]\n",
    "# operations = [\n",
    "#     (my_operation, {'perform_jump_indices': True, 'perform_video_generation': True}),\n",
    "#     (another_operation, {'additional_param1': 'value1', 'additional_param2': 'value2'})\n",
    "# ]\n",
    "\n",
    "process_folders(dates, synced_name_path, summ_folder, operations)"
   ]
  },
  {
   "cell_type": "code",
   "execution_count": 1,
   "metadata": {},
   "outputs": [
    {
     "name": "stdout",
     "output_type": "stream",
     "text": [
      "Modified .mat file saved as /hpc/group/tdunn/Bryan_Rigs/BigOpenField/24summ/2024_06_26/1686940_left2/0_synced_1686940_left2_2024_06_26_1686940_label3d_dannce.mat\n"
     ]
    }
   ],
   "source": [
    "# from utlis.com_traga_utlis import temp_change_calib_pos_to_0\n",
    "# test_path = \"/hpc/group/tdunn/Bryan_Rigs/BigOpenField/24summ/2024_06_26/1686940_left2\"\n",
    "# temp_change_calib_pos_to_0(test_path)"
   ]
  }
 ],
 "metadata": {
  "kernelspec": {
   "display_name": "vispy",
   "language": "python",
   "name": "python3"
  },
  "language_info": {
   "codemirror_mode": {
    "name": "ipython",
    "version": 3
   },
   "file_extension": ".py",
   "mimetype": "text/x-python",
   "name": "python",
   "nbconvert_exporter": "python",
   "pygments_lexer": "ipython3",
   "version": "3.9.18"
  }
 },
 "nbformat": 4,
 "nbformat_minor": 2
}
