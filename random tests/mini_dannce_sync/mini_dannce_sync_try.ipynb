{
 "cells": [
  {
   "cell_type": "code",
   "execution_count": 1,
   "metadata": {},
   "outputs": [],
   "source": [
    "import os\n",
    "import csv\n",
    "import scipy.io\n",
    "# from utlis. import find_calib_file\n",
    "\n",
    "def load_mini_timestamps(csv_path):\n",
    "    timestamps = []\n",
    "    with open(csv_path, 'r') as csvfile:\n",
    "        reader = csv.reader(csvfile)\n",
    "        next(reader)  # Skip header row\n",
    "        for row in reader:\n",
    "            frame_number, timestamp_ms, _ = row\n",
    "            timestamps.append(int(timestamp_ms))\n",
    "    return timestamps\n",
    "\n",
    "#for dannce:\n",
    "def find_calib_file(base_folder):\n",
    "    for file_name in os.listdir(base_folder):\n",
    "        if file_name.endswith('label3d_dannce.mat'):\n",
    "            return os.path.join(base_folder, file_name)\n",
    "    return None\n",
    "\n",
    "def load_frametimes_6cam(base_path, num_cameras=6):\n",
    "    \"\"\"\n",
    "    Load frametimes.npy files for a specified number of cameras.\n",
    "\n",
    "    Parameters:\n",
    "    - base_path (str): The base path where the main folder is located.\n",
    "    - num_cameras (int): The number of cameras to load frametimes for. Default is 6.\n",
    "\n",
    "    Returns:\n",
    "    - dict: A dictionary with camera names as keys and frametimes data as values.\n",
    "    \"\"\"\n",
    "    frametimes = {}\n",
    "    for i in range(1, num_cameras + 1):\n",
    "        camera_path = f'{base_path}/videos/Camera{i}/frametimes.npy'\n",
    "        try:\n",
    "            frametimes[f'Camera{i}'] = np.load(camera_path)\n",
    "            print(f\"Loaded frametimes for Camera{i}\")\n",
    "        except FileNotFoundError:\n",
    "            print(f\"File not found: {camera_path}\")\n",
    "    return frametimes\n"
   ]
  },
  {
   "cell_type": "code",
   "execution_count": 6,
   "metadata": {},
   "outputs": [],
   "source": [
    "def find_camera_with_frame_start(base_folder):\n",
    "    calib_file = find_calib_file(rec_path)\n",
    "    calib_data = scipy.io.loadmat(calib_file)\n",
    "    sync_data = calib_data['sync']\n",
    "    for cam_idx in range(sync_data.shape[0]):\n",
    "        cam_sync = sync_data[cam_idx][0]\n",
    "        data_frame = cam_sync['data_frame'][0][0][0]  # Directly access the known key\n",
    "        if data_frame[0] == 1:\n",
    "            print(f\"Camera index with data_frame starting at 1: {cam_idx}\")\n",
    "            return cam_idx\n",
    "    print(\"No camera with data_frame starting at 1 found.\")\n",
    "    return None\n",
    "    \n",
    "# def find_camera_with_frame_start(sync_data):\n",
    "#     for cam_idx in range(sync_data.shape[0]):\n",
    "#         cam_sync = sync_data[cam_idx][0]\n",
    "#         keys = cam_sync.dtype.names\n",
    "#         for key in keys:\n",
    "#             data_frame = cam_sync[key][0][0][0]\n",
    "#             if data_frame[0] == 1:\n",
    "#                 print(f\"Camera index with data_frame starting at 1: {cam_idx}\")\n",
    "#                 print(f\"Key used: {key}\")\n",
    "#                 return cam_idx, key\n",
    "#     print(\"No camera with data_frame starting at 1 found.\")\n",
    "#     return None, None\n",
    "\n",
    "# calib_file = find_calib_file(rec_path)\n",
    "# calib_data = scipy.io.loadmat(calib_file)\n",
    "# sync = calib_data['sync']\n",
    "# camera_index, key_used = find_camera_with_frame_start(sync)"
   ]
  },
  {
   "cell_type": "code",
   "execution_count": 7,
   "metadata": {},
   "outputs": [
    {
     "name": "stdout",
     "output_type": "stream",
     "text": [
      "Camera index with data_frame starting at 1: 0\n"
     ]
    }
   ],
   "source": [
    "rec_path = '/hpc/group/tdunn/Bryan_Rigs/BigOpenField/Oct3V1/2024_11_01/20240910V1r_BO_11_35'\n",
    "mini_path = '/hpc/group/tdunn/Bryan_Rigs/BigOpenField/Oct3V1mini_sorted/20240910-V1-R/customEntValHere/2024_11_01/11_39_00'\n",
    "\n",
    "mini_cam_path = os.path.join(mini_path, 'My_First_WebCam')\n",
    "mini_cam_timestamps = os.path.join(mini_cam_path, 'timeStamps.csv')\n",
    "mini_cam_vid = os.path.join(mini_cam_path, '0.avi')\n",
    "\n",
    "miniscope_path = os.path.join(mini_path, 'My_V4_Miniscope')\n",
    "miniscope_timestamps = os.path.join(miniscope_path, 'timeStamps.csv')\n",
    "\n",
    "\n",
    "\n",
    "camera_index = find_camera_with_frame_start(rec_path)"
   ]
  },
  {
   "cell_type": "code",
   "execution_count": null,
   "metadata": {},
   "outputs": [],
   "source": [
    "\n",
    "\n",
    "# miniscope_vid = os.path.join(miniscope_path, '0.avi')\n",
    "\n",
    "\n",
    "miniscope_timestamps_ms = load_mini_timestamps(miniscope_timestamps)\n"
   ]
  }
 ],
 "metadata": {
  "kernelspec": {
   "display_name": "BBOP",
   "language": "python",
   "name": "python3"
  },
  "language_info": {
   "codemirror_mode": {
    "name": "ipython",
    "version": 3
   },
   "file_extension": ".py",
   "mimetype": "text/x-python",
   "name": "python",
   "nbconvert_exporter": "python",
   "pygments_lexer": "ipython3",
   "version": "3.9.18"
  }
 },
 "nbformat": 4,
 "nbformat_minor": 2
}
