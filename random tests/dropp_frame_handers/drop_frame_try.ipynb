{
 "cells": [
  {
   "cell_type": "code",
   "execution_count": 12,
   "metadata": {},
   "outputs": [
    {
     "name": "stdout",
     "output_type": "stream",
     "text": [
      "Loaded frametimes for Camera1\n",
      "Loaded frametimes for Camera2\n",
      "Loaded frametimes for Camera3\n",
      "Loaded frametimes for Camera4\n",
      "Loaded frametimes for Camera5\n",
      "Loaded frametimes for Camera6\n"
     ]
    }
   ],
   "source": [
    "import numpy as np\n",
    "\n",
    "def load_frametimes(base_path, num_cameras=6):\n",
    "    \"\"\"\n",
    "    Load frametimes.npy files for a specified number of cameras.\n",
    "\n",
    "    Parameters:\n",
    "    - base_path (str): The base path where the main folder is located.\n",
    "    - num_cameras (int): The number of cameras to load frametimes for. Default is 6.\n",
    "\n",
    "    Returns:\n",
    "    - dict: A dictionary with camera names as keys and frametimes data as values.\n",
    "    \"\"\"\n",
    "    frametimes = {}\n",
    "    for i in range(1, num_cameras + 1):\n",
    "        camera_path = f'{base_path}/videos/Camera{i}/frametimes.npy'\n",
    "        try:\n",
    "            frametimes[f'Camera{i}'] = np.load(camera_path)\n",
    "            print(f\"Loaded frametimes for Camera{i}\")\n",
    "        except FileNotFoundError:\n",
    "            print(f\"File not found: {camera_path}\")\n",
    "    return frametimes\n",
    "\n",
    "# Example usage\n",
    "base_path = '/hpc/group/tdunn/Bryan_Rigs/BigOpenField/24summ/2024_08_29/20240717_PMCr2'\n",
    "# base_path = '/hpc/group/tdunn/Bryan_Rigs/BigOpenField/24summ/2024_10_04/20240916V1r2/'\n",
    "frametimes_data = load_frametimes(base_path)\n"
   ]
  },
  {
   "cell_type": "code",
   "execution_count": 13,
   "metadata": {},
   "outputs": [
    {
     "data": {
      "text/plain": [
       "{'Camera1': array([[1.00000000e+00, 2.00000000e+00, 3.00000000e+00, ...,\n",
       "         2.78980000e+04, 2.78990000e+04, 2.79000000e+04],\n",
       "        [0.00000000e+00, 3.33506080e-02, 6.66986720e-02, ...,\n",
       "         9.30371212e+02, 9.30404560e+02, 9.30437911e+02]]),\n",
       " 'Camera2': array([[1.00000000e+00, 2.00000000e+00, 3.00000000e+00, ...,\n",
       "         2.78980000e+04, 2.78990000e+04, 2.79000000e+04],\n",
       "        [0.00000000e+00, 3.33473680e-02, 6.66985600e-02, ...,\n",
       "         9.30369457e+02, 9.30402808e+02, 9.30436159e+02]]),\n",
       " 'Camera3': array([[1.00000000e+00, 2.00000000e+00, 3.00000000e+00, ...,\n",
       "         1.57460000e+04, 1.57470000e+04, 1.57480000e+04],\n",
       "        [0.00000000e+00, 3.33434480e-02, 6.66946720e-02, ...,\n",
       "         5.41338787e+02, 5.41538886e+02, 5.41705645e+02]]),\n",
       " 'Camera4': array([[1.00000000e+00, 2.00000000e+00, 3.00000000e+00, ...,\n",
       "         2.78980000e+04, 2.78990000e+04, 2.79000000e+04],\n",
       "        [0.00000000e+00, 3.33511680e-02, 6.66946960e-02, ...,\n",
       "         9.30369634e+02, 9.30402981e+02, 9.30436329e+02]]),\n",
       " 'Camera5': array([[1.00000000e+00, 2.00000000e+00, 3.00000000e+00, ...,\n",
       "         2.78980000e+04, 2.78990000e+04, 2.79000000e+04],\n",
       "        [0.00000000e+00, 3.33512080e-02, 6.67024160e-02, ...,\n",
       "         9.30368291e+02, 9.30401642e+02, 9.30434993e+02]]),\n",
       " 'Camera6': array([[1.00000000e+00, 2.00000000e+00, 3.00000000e+00, ...,\n",
       "         2.78980000e+04, 2.78990000e+04, 2.79000000e+04],\n",
       "        [0.00000000e+00, 3.33512320e-02, 6.67024560e-02, ...,\n",
       "         9.30369970e+02, 9.30403321e+02, 9.30436672e+02]])}"
      ]
     },
     "execution_count": 13,
     "metadata": {},
     "output_type": "execute_result"
    }
   ],
   "source": [
    "frametimes_data"
   ]
  },
  {
   "cell_type": "code",
   "execution_count": 2,
   "metadata": {},
   "outputs": [
    {
     "name": "stdout",
     "output_type": "stream",
     "text": [
      "Maximum shapes for each camera: {'Camera1': 27900, 'Camera2': 27900, 'Camera3': 15748, 'Camera4': 27900, 'Camera5': 27900, 'Camera6': 27900}\n",
      "All cameras have the same shape: False\n"
     ]
    }
   ],
   "source": [
    "def check_max_shapes_consistency(frametimes_data):\n",
    "    max_shapes = {camera: data.shape[1] for camera, data in frametimes_data.items()}\n",
    "    print(\"Maximum shapes for each camera:\", max_shapes)\n",
    "    \n",
    "    # Get the set of unique shape values\n",
    "    unique_shapes = set(max_shapes.values())\n",
    "    \n",
    "    # Check if all cameras have the same shape\n",
    "    return len(unique_shapes) == 1\n",
    "\n",
    "# Example usage:\n",
    "result = check_max_shapes_consistency(frametimes_data)\n",
    "print(\"All cameras have the same shape:\", result)\n"
   ]
  },
  {
   "cell_type": "code",
   "execution_count": 3,
   "metadata": {},
   "outputs": [],
   "source": [
    "import numpy as np\n",
    "\n",
    "def clone_frame_numbers(frametimes_data):\n",
    "    cloned_frame_numbers = {}\n",
    "    for camera, data in frametimes_data.items():\n",
    "        # Clone the frame numbers (data[0]) for each camera\n",
    "        cloned_frame_numbers[camera] = np.copy(data[0])\n",
    "    return cloned_frame_numbers\n",
    "\n",
    "# Usage\n",
    "cloned_frame_numbers = clone_frame_numbers(frametimes_data)\n"
   ]
  },
  {
   "cell_type": "code",
   "execution_count": 4,
   "metadata": {},
   "outputs": [],
   "source": [
    "import numpy as np\n",
    "\n",
    "def create_standard_timeline(frametimes_data, fps=30):\n",
    "    # Extract the end times and frame numbers for each camera\n",
    "    end_times = {camera: frametimes_data[camera][1][-1] for camera in frametimes_data.keys()}\n",
    "    max_frame_numbers = {camera: frametimes_data[camera][0][-1] for camera in frametimes_data.keys()}\n",
    "    \n",
    "    # Determine the maximum end time and frame number across all cameras\n",
    "    max_end_time = int(round(max(end_times.values())))\n",
    "    max_frame_number = max(max_frame_numbers.values())\n",
    "    \n",
    "    # Calculate the interval between frames\n",
    "    frame_interval = 1 / fps\n",
    "    \n",
    "    # Generate standard timeline and frame numbers\n",
    "    standard_timeline = np.arange(0, max_end_time, frame_interval)\n",
    "    standard_frame_numbers = np.arange(0, max_frame_number + 1)\n",
    "    \n",
    "    return standard_frame_numbers, standard_timeline\n",
    "\n",
    "standard_timeline = create_standard_timeline(frametimes_data)"
   ]
  },
  {
   "cell_type": "code",
   "execution_count": 19,
   "metadata": {},
   "outputs": [
    {
     "name": "stdout",
     "output_type": "stream",
     "text": [
      "Aligned data for Camera1 with 0 dropped frames filled.\n",
      "Aligned data for Camera5 with 2 dropped frames filled.\n",
      "All cameras aligned successfully.\n",
      "Camera1 aligned frame numbers: {'frames': array([0., 1., 2., 3., 4., 5., 6., 7., 8., 9.]), 'timestamps': array([0.   , 0.033, 0.067, 0.1  , 0.133, 0.167, 0.2  , 0.233, 0.267,\n",
      "       0.3  ])}\n",
      "Camera5 aligned frame numbers: {'frames': array([0., 1., 2., 2., 4., 5., 6., 7., 7., 9.]), 'timestamps': array([0.   , 0.033, 0.067,   nan, 0.133, 0.167, 0.2  , 0.233,   nan,\n",
      "       0.3  ])}\n"
     ]
    }
   ],
   "source": [
    "frametimes_data = {\n",
    "    'Camera1': np.array([\n",
    "        np.array([0, 1, 2, 3, 4, 5, 6, 7, 8, 9]),       # Frame numbers\n",
    "        np.array([0, 0.033, 0.067, 0.1, 0.133, 0.167, 0.2, 0.233, 0.267, 0.3])  # Timestamps\n",
    "    ]),\n",
    "    'Camera5': np.array([\n",
    "        np.array([0, 1, 2, 4, 5, 6, 7, 9]),             # Frame numbers, with 3 and 8 dropped\n",
    "        np.array([0, 0.033, 0.067, 0.133, 0.167, 0.2, 0.233, 0.3])  # Timestamps\n",
    "    ])\n",
    "}\n",
    "\n",
    "# Modified align_to_standard_timeline to align both timestamps and frame numbers\n",
    "def align_to_standard_timeline(frametimes_data, standard_frame_numbers, standard_timeline):\n",
    "    aligned_data = {}\n",
    "    \n",
    "    for camera, data in frametimes_data.items():\n",
    "        frame_numbers, timestamps = data[0], data[1]\n",
    "        aligned_frames = []\n",
    "        aligned_timestamps = []\n",
    "        last_frame_number = frame_numbers[0]  # Start with the first frame number as the prior value\n",
    "\n",
    "        for frame in standard_frame_numbers:\n",
    "            idx = np.searchsorted(frame_numbers, frame, side=\"left\")\n",
    "            if idx < len(frame_numbers) and frame_numbers[idx] == frame:\n",
    "                # Frame matches; use it and update last_frame_number\n",
    "                aligned_frames.append(frame_numbers[idx])\n",
    "                aligned_timestamps.append(timestamps[idx])\n",
    "                last_frame_number = frame_numbers[idx]\n",
    "            else:\n",
    "                # Frame is missing, fill with the previous frame number and NaN timestamp\n",
    "                aligned_frames.append(last_frame_number)\n",
    "                aligned_timestamps.append(np.nan)\n",
    "\n",
    "        aligned_data[camera] = {\n",
    "            \"frames\": np.array(aligned_frames),\n",
    "            \"timestamps\": np.array(aligned_timestamps)\n",
    "        }\n",
    "        print(f\"Aligned data for {camera} with {np.isnan(aligned_timestamps).sum()} dropped frames filled.\")\n",
    "    \n",
    "    return aligned_data\n",
    "\n",
    "# Main function to process camera data\n",
    "def process_camera_data(frametimes_data, fps=30):\n",
    "    # Step 1: Check for consistency in frame shapes\n",
    "    # if not check_max_shapes_consistency(frametimes_data):\n",
    "    #     raise ValueError(\"Cameras have inconsistent shapes.\")\n",
    "    \n",
    "    # Step 2: Create the standard timeline and frame numbers\n",
    "    standard_frame_numbers, standard_timeline = create_standard_timeline(frametimes_data, fps)\n",
    "    \n",
    "    # Step 3: Align camera data to the standard timeline\n",
    "    aligned_frametimes = align_to_standard_timeline(frametimes_data, standard_frame_numbers, standard_timeline)\n",
    "    \n",
    "    print(\"All cameras aligned successfully.\")\n",
    "    return aligned_frametimes, standard_frame_numbers, standard_timeline\n",
    "\n",
    "# Example usage\n",
    "aligned_frametimes, standard_frame_numbers, standard_timeline = process_camera_data(frametimes_data, fps=30)\n",
    "\n",
    "\n",
    "# Print aligned frame numbers\n",
    "for camera, frames in aligned_frametimes.items():\n",
    "    print(f\"{camera} aligned frame numbers:\", frames)"
   ]
  },
  {
   "cell_type": "code",
   "execution_count": 17,
   "metadata": {},
   "outputs": [
    {
     "data": {
      "text/plain": [
       "{'Camera1': array([0.   , 0.033, 0.067, 0.1  , 0.133, 0.167, 0.2  , 0.233, 0.267,\n",
       "        0.3  ]),\n",
       " 'Camera5': array([0.   , 0.033, 0.067,   nan, 0.133, 0.167, 0.2  , 0.233,   nan,\n",
       "        0.3  ])}"
      ]
     },
     "execution_count": 17,
     "metadata": {},
     "output_type": "execute_result"
    }
   ],
   "source": [
    "aligned_frametimes"
   ]
  },
  {
   "cell_type": "code",
   "execution_count": 8,
   "metadata": {},
   "outputs": [
    {
     "name": "stdout",
     "output_type": "stream",
     "text": [
      "Camera1 aligned frame numbers: [0, 1, 2, 3, 4, 5, 6, 7, 8]\n",
      "Camera5 aligned frame numbers: [0, 1, 2, 2, 2, 2, 2, 2, 2]\n"
     ]
    }
   ],
   "source": [
    "base_path = '/hpc/group/tdunn/Bryan_Rigs/BigOpenField/24summ/2024_08_29/20240717_PMCr2'\n",
    "frametimes_data = load_frametimes(base_path)\n",
    "cloned_frame_numbers = clone_frame_numbers(frametimes_data)\n",
    "standard_frame_numbers, standard_timeline = create_standard_timeline(frametimes_data)\n",
    "aligned_frametimes = align_to_standard_timeline(frametimes_data, standard_frame_numbers)"
   ]
  },
  {
   "cell_type": "code",
   "execution_count": 9,
   "metadata": {},
   "outputs": [],
   "source": [
    "# Align each camera's frame data to the standard timeline\n",
    "def align_to_standard_timeline(frametimes_data, standard_frame_numbers):\n",
    "    aligned_frametimes = {}\n",
    "    \n",
    "    for camera, data in frametimes_data.items():\n",
    "        camera_frame_numbers = data[0]\n",
    "        aligned_frames = []\n",
    "\n",
    "        for frame in standard_frame_numbers:\n",
    "            idx = np.searchsorted(camera_frame_numbers, frame, side=\"left\")\n",
    "            if idx < len(camera_frame_numbers) and camera_frame_numbers[idx] == frame:\n",
    "                aligned_frames.append(data[1][idx])\n",
    "            else:\n",
    "                aligned_frames.append(np.nan)\n",
    "\n",
    "        aligned_frametimes[camera] = np.array(aligned_frames)\n",
    "        print(f\"Aligned data for {camera} with {np.isnan(aligned_frames).sum()} dropped frames filled.\")\n",
    "    \n",
    "    return aligned_frametimes"
   ]
  },
  {
   "cell_type": "code",
   "execution_count": null,
   "metadata": {},
   "outputs": [],
   "source": []
  },
  {
   "cell_type": "code",
   "execution_count": 16,
   "metadata": {},
   "outputs": [
    {
     "name": "stdout",
     "output_type": "stream",
     "text": [
      "Camera1 - Frame Numbers:\n",
      " [1.0000e+00 2.0000e+00 3.0000e+00 ... 2.7898e+04 2.7899e+04 2.7900e+04]\n",
      "Camera1 - Timestamps:\n",
      " [0.00000000e+00 3.33506080e-02 6.66986720e-02 ... 9.30371212e+02\n",
      " 9.30404560e+02 9.30437911e+02]\n"
     ]
    }
   ],
   "source": [
    "# Access frame numbers and timestamps for Camera1\n",
    "camera1_frame_numbers = frametimes_data['Camera1'][0]  # Frame numbers\n",
    "camera1_timestamps = frametimes_data['Camera1'][1]     # Timestamps\n",
    "\n",
    "print(\"Camera1 - Frame Numbers:\\n\", camera1_frame_numbers)\n",
    "print(\"Camera1 - Timestamps:\\n\", camera1_timestamps)\n"
   ]
  },
  {
   "cell_type": "code",
   "execution_count": 17,
   "metadata": {},
   "outputs": [
    {
     "data": {
      "text/plain": [
       "4.0"
      ]
     },
     "execution_count": 17,
     "metadata": {},
     "output_type": "execute_result"
    }
   ],
   "source": [
    "frametimes_data['Camera1'][0][3]"
   ]
  },
  {
   "cell_type": "code",
   "execution_count": 21,
   "metadata": {},
   "outputs": [
    {
     "data": {
      "text/plain": [
       "930.4379109120001"
      ]
     },
     "execution_count": 21,
     "metadata": {},
     "output_type": "execute_result"
    }
   ],
   "source": [
    "frametimes_data['Camera1'][1][-1]"
   ]
  },
  {
   "cell_type": "code",
   "execution_count": 40,
   "metadata": {},
   "outputs": [],
   "source": [
    "end_times = {camera: frametimes_data[camera][1][-1] for camera in frametimes_data.keys()}\n",
    "max_frame_numbers = {camera: frametimes_data[camera][0][-1] for camera in frametimes_data.keys()}\n"
   ]
  },
  {
   "cell_type": "code",
   "execution_count": 23,
   "metadata": {},
   "outputs": [
    {
     "data": {
      "text/plain": [
       "{'Camera1': 930.4379109120001,\n",
       " 'Camera2': 930.436158824,\n",
       " 'Camera3': 541.7056454640001,\n",
       " 'Camera4': 930.436328672,\n",
       " 'Camera5': 930.4349932160001,\n",
       " 'Camera6': 930.436672144}"
      ]
     },
     "execution_count": 23,
     "metadata": {},
     "output_type": "execute_result"
    }
   ],
   "source": [
    "end_times"
   ]
  },
  {
   "cell_type": "code",
   "execution_count": 45,
   "metadata": {},
   "outputs": [],
   "source": [
    "# max_end_time = max(end_times.values())\n",
    "# max_end_time = round(max(end_times.values()), 3)  # Round to 3 decimal places, for example\n",
    "max_end_time = int(round(max(end_times.values())))\n",
    "max_frame_number = max(max_frame_numbers.values())\n",
    "\n"
   ]
  },
  {
   "cell_type": "code",
   "execution_count": 46,
   "metadata": {},
   "outputs": [
    {
     "data": {
      "text/plain": [
       "930"
      ]
     },
     "execution_count": 46,
     "metadata": {},
     "output_type": "execute_result"
    }
   ],
   "source": [
    "max_end_time"
   ]
  },
  {
   "cell_type": "code",
   "execution_count": 44,
   "metadata": {},
   "outputs": [
    {
     "data": {
      "text/plain": [
       "27900.0"
      ]
     },
     "execution_count": 44,
     "metadata": {},
     "output_type": "execute_result"
    }
   ],
   "source": [
    "max_frame_number"
   ]
  },
  {
   "cell_type": "code",
   "execution_count": 50,
   "metadata": {},
   "outputs": [],
   "source": [
    "import numpy as np\n",
    "\n",
    "frame_interval = 1 / 30  # Interval between frames at 30 fps\n",
    "standard_timeline = np.arange(0, max_end_time, frame_interval)\n",
    "standard_frame_numbers = np.arange(0, max_frame_number + 1)\n"
   ]
  },
  {
   "cell_type": "code",
   "execution_count": 48,
   "metadata": {},
   "outputs": [
    {
     "data": {
      "text/plain": [
       "array([0.00000000e+00, 3.33333333e-02, 6.66666667e-02, ...,\n",
       "       9.29900000e+02, 9.29933333e+02, 9.29966667e+02])"
      ]
     },
     "execution_count": 48,
     "metadata": {},
     "output_type": "execute_result"
    }
   ],
   "source": [
    "standard_timeline"
   ]
  },
  {
   "cell_type": "code",
   "execution_count": 53,
   "metadata": {},
   "outputs": [
    {
     "data": {
      "text/plain": [
       "array([0.0000e+00, 1.0000e+00, 2.0000e+00, ..., 2.7898e+04, 2.7899e+04,\n",
       "       2.7900e+04])"
      ]
     },
     "execution_count": 53,
     "metadata": {},
     "output_type": "execute_result"
    }
   ],
   "source": [
    "standard_frame_numbers"
   ]
  },
  {
   "cell_type": "code",
   "execution_count": 52,
   "metadata": {},
   "outputs": [
    {
     "data": {
      "text/plain": [
       "27900.0"
      ]
     },
     "execution_count": 52,
     "metadata": {},
     "output_type": "execute_result"
    }
   ],
   "source": [
    "standard_frame_numbers[-1]"
   ]
  }
 ],
 "metadata": {
  "kernelspec": {
   "display_name": "BBOP",
   "language": "python",
   "name": "python3"
  },
  "language_info": {
   "codemirror_mode": {
    "name": "ipython",
    "version": 3
   },
   "file_extension": ".py",
   "mimetype": "text/x-python",
   "name": "python",
   "nbconvert_exporter": "python",
   "pygments_lexer": "ipython3",
   "version": "3.9.18"
  }
 },
 "nbformat": 4,
 "nbformat_minor": 2
}
