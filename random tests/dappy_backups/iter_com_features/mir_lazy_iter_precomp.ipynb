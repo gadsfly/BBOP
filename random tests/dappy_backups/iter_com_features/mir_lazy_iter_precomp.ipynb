{
 "cells": [
  {
   "cell_type": "code",
   "execution_count": 32,
   "metadata": {},
   "outputs": [
    {
     "name": "stderr",
     "output_type": "stream",
     "text": [
      "0it [00:00, ?it/s]"
     ]
    },
    {
     "name": "stderr",
     "output_type": "stream",
     "text": [
      "115it [00:06, 17.43it/s]\n"
     ]
    },
    {
     "name": "stdout",
     "output_type": "stream",
     "text": [
      "Centering poses to mid spine ...\n",
      "Rotating spine to xz plane ... \n",
      "Detected centered pose input - calculating relative velocities ... \n"
     ]
    },
    {
     "name": "stderr",
     "output_type": "stream",
     "text": [
      "100%|██████████| 115/115 [01:16<00:00,  1.50it/s]\n"
     ]
    },
    {
     "ename": "KeyboardInterrupt",
     "evalue": "",
     "output_type": "error",
     "traceback": [
      "\u001b[0;31m---------------------------------------------------------------------------\u001b[0m",
      "\u001b[0;31mKeyboardInterrupt\u001b[0m                         Traceback (most recent call last)",
      "Cell \u001b[0;32mIn[32], line 47\u001b[0m\n\u001b[1;32m     37\u001b[0m pose \u001b[38;5;241m=\u001b[39m preprocess\u001b[38;5;241m.\u001b[39mrotate_spine(preprocess\u001b[38;5;241m.\u001b[39mcenter_spine(pose, keypt_idx\u001b[38;5;241m=\u001b[39m\u001b[38;5;241m4\u001b[39m), keypt_idx\u001b[38;5;241m=\u001b[39m[\u001b[38;5;241m4\u001b[39m, \u001b[38;5;241m3\u001b[39m])\n\u001b[1;32m     39\u001b[0m rel_vel, rel_vel_labels \u001b[38;5;241m=\u001b[39m features\u001b[38;5;241m.\u001b[39mget_velocities(\n\u001b[1;32m     40\u001b[0m     pose,\n\u001b[1;32m     41\u001b[0m     ids,\n\u001b[0;32m   (...)\u001b[0m\n\u001b[1;32m     45\u001b[0m     f_s \u001b[38;5;241m=\u001b[39m \u001b[38;5;241m30\u001b[39m\n\u001b[1;32m     46\u001b[0m )\n\u001b[0;32m---> 47\u001b[0m \u001b[43mwrite\u001b[49m\u001b[38;5;241;43m.\u001b[39;49m\u001b[43mfeatures_h5\u001b[49m\u001b[43m(\u001b[49m\u001b[43mrel_vel\u001b[49m\u001b[43m,\u001b[49m\u001b[43m \u001b[49m\u001b[43mrel_vel_labels\u001b[49m\u001b[43m,\u001b[49m\u001b[43m \u001b[49m\u001b[43mpath\u001b[49m\u001b[38;5;241;43m=\u001b[39;49m\u001b[43mconfig\u001b[49m\u001b[43m[\u001b[49m\u001b[38;5;124;43m\"\u001b[39;49m\u001b[38;5;124;43mout_path\u001b[39;49m\u001b[38;5;124;43m\"\u001b[39;49m\u001b[43m]\u001b[49m\u001b[43m \u001b[49m\u001b[38;5;241;43m+\u001b[39;49m\u001b[43m \u001b[49m\u001b[38;5;124;43m\"\u001b[39;49m\u001b[38;5;124;43mvelocity.h5\u001b[39;49m\u001b[38;5;124;43m\"\u001b[39;49m\u001b[43m)\u001b[49m\n\u001b[1;32m     49\u001b[0m angles, angle_labels \u001b[38;5;241m=\u001b[39m features\u001b[38;5;241m.\u001b[39mget_angles(pose, connectivity\u001b[38;5;241m.\u001b[39mangles)\n\u001b[1;32m     51\u001b[0m \u001b[38;5;66;03m# Angular Velocities\u001b[39;00m\n",
      "File \u001b[0;32m~/mir_repos/dappy_24_nov/neuroposelib/src/neuroposelib/write.py:10\u001b[0m, in \u001b[0;36mfeatures_h5\u001b[0;34m(features, labels, path)\u001b[0m\n\u001b[1;32m      6\u001b[0m \u001b[38;5;28;01mdef\u001b[39;00m \u001b[38;5;21mfeatures_h5\u001b[39m(features: np\u001b[38;5;241m.\u001b[39mndarray, labels: List[\u001b[38;5;28mstr\u001b[39m], path: \u001b[38;5;28mstr\u001b[39m):\n\u001b[1;32m      7\u001b[0m \u001b[38;5;250m    \u001b[39m\u001b[38;5;124;03m\"\"\"\u001b[39;00m\n\u001b[1;32m      8\u001b[0m \u001b[38;5;124;03m    Writes features and labels to h5 file\u001b[39;00m\n\u001b[1;32m      9\u001b[0m \u001b[38;5;124;03m    \"\"\"\u001b[39;00m\n\u001b[0;32m---> 10\u001b[0m     hf \u001b[38;5;241m=\u001b[39m \u001b[43mh5py\u001b[49m\u001b[38;5;241;43m.\u001b[39;49m\u001b[43mFile\u001b[49m\u001b[43m(\u001b[49m\u001b[43mpath\u001b[49m\u001b[43m,\u001b[49m\u001b[43m \u001b[49m\u001b[38;5;124;43m\"\u001b[39;49m\u001b[38;5;124;43mw\u001b[39;49m\u001b[38;5;124;43m\"\u001b[39;49m\u001b[43m)\u001b[49m\n\u001b[1;32m     11\u001b[0m     hf\u001b[38;5;241m.\u001b[39mcreate_dataset(\u001b[38;5;124m\"\u001b[39m\u001b[38;5;124mfeatures\u001b[39m\u001b[38;5;124m\"\u001b[39m, data\u001b[38;5;241m=\u001b[39mfeatures)\n\u001b[1;32m     12\u001b[0m     str_dtype \u001b[38;5;241m=\u001b[39m h5py\u001b[38;5;241m.\u001b[39mspecial_dtype(vlen\u001b[38;5;241m=\u001b[39m\u001b[38;5;28mstr\u001b[39m)\n",
      "File \u001b[0;32m~/miniconda3/envs/neuroposelib/lib/python3.9/site-packages/h5py/_hl/files.py:561\u001b[0m, in \u001b[0;36mFile.__init__\u001b[0;34m(self, name, mode, driver, libver, userblock_size, swmr, rdcc_nslots, rdcc_nbytes, rdcc_w0, track_order, fs_strategy, fs_persist, fs_threshold, fs_page_size, page_buf_size, min_meta_keep, min_raw_keep, locking, alignment_threshold, alignment_interval, meta_block_size, **kwds)\u001b[0m\n\u001b[1;32m    552\u001b[0m     fapl \u001b[38;5;241m=\u001b[39m make_fapl(driver, libver, rdcc_nslots, rdcc_nbytes, rdcc_w0,\n\u001b[1;32m    553\u001b[0m                      locking, page_buf_size, min_meta_keep, min_raw_keep,\n\u001b[1;32m    554\u001b[0m                      alignment_threshold\u001b[38;5;241m=\u001b[39malignment_threshold,\n\u001b[1;32m    555\u001b[0m                      alignment_interval\u001b[38;5;241m=\u001b[39malignment_interval,\n\u001b[1;32m    556\u001b[0m                      meta_block_size\u001b[38;5;241m=\u001b[39mmeta_block_size,\n\u001b[1;32m    557\u001b[0m                      \u001b[38;5;241m*\u001b[39m\u001b[38;5;241m*\u001b[39mkwds)\n\u001b[1;32m    558\u001b[0m     fcpl \u001b[38;5;241m=\u001b[39m make_fcpl(track_order\u001b[38;5;241m=\u001b[39mtrack_order, fs_strategy\u001b[38;5;241m=\u001b[39mfs_strategy,\n\u001b[1;32m    559\u001b[0m                      fs_persist\u001b[38;5;241m=\u001b[39mfs_persist, fs_threshold\u001b[38;5;241m=\u001b[39mfs_threshold,\n\u001b[1;32m    560\u001b[0m                      fs_page_size\u001b[38;5;241m=\u001b[39mfs_page_size)\n\u001b[0;32m--> 561\u001b[0m     fid \u001b[38;5;241m=\u001b[39m \u001b[43mmake_fid\u001b[49m\u001b[43m(\u001b[49m\u001b[43mname\u001b[49m\u001b[43m,\u001b[49m\u001b[43m \u001b[49m\u001b[43mmode\u001b[49m\u001b[43m,\u001b[49m\u001b[43m \u001b[49m\u001b[43muserblock_size\u001b[49m\u001b[43m,\u001b[49m\u001b[43m \u001b[49m\u001b[43mfapl\u001b[49m\u001b[43m,\u001b[49m\u001b[43m \u001b[49m\u001b[43mfcpl\u001b[49m\u001b[43m,\u001b[49m\u001b[43m \u001b[49m\u001b[43mswmr\u001b[49m\u001b[38;5;241;43m=\u001b[39;49m\u001b[43mswmr\u001b[49m\u001b[43m)\u001b[49m\n\u001b[1;32m    563\u001b[0m \u001b[38;5;28;01mif\u001b[39;00m \u001b[38;5;28misinstance\u001b[39m(libver, \u001b[38;5;28mtuple\u001b[39m):\n\u001b[1;32m    564\u001b[0m     \u001b[38;5;28mself\u001b[39m\u001b[38;5;241m.\u001b[39m_libver \u001b[38;5;241m=\u001b[39m libver\n",
      "File \u001b[0;32m~/miniconda3/envs/neuroposelib/lib/python3.9/site-packages/h5py/_hl/files.py:241\u001b[0m, in \u001b[0;36mmake_fid\u001b[0;34m(name, mode, userblock_size, fapl, fcpl, swmr)\u001b[0m\n\u001b[1;32m    239\u001b[0m     fid \u001b[38;5;241m=\u001b[39m h5f\u001b[38;5;241m.\u001b[39mcreate(name, h5f\u001b[38;5;241m.\u001b[39mACC_EXCL, fapl\u001b[38;5;241m=\u001b[39mfapl, fcpl\u001b[38;5;241m=\u001b[39mfcpl)\n\u001b[1;32m    240\u001b[0m \u001b[38;5;28;01melif\u001b[39;00m mode \u001b[38;5;241m==\u001b[39m \u001b[38;5;124m'\u001b[39m\u001b[38;5;124mw\u001b[39m\u001b[38;5;124m'\u001b[39m:\n\u001b[0;32m--> 241\u001b[0m     fid \u001b[38;5;241m=\u001b[39m \u001b[43mh5f\u001b[49m\u001b[38;5;241;43m.\u001b[39;49m\u001b[43mcreate\u001b[49m\u001b[43m(\u001b[49m\u001b[43mname\u001b[49m\u001b[43m,\u001b[49m\u001b[43m \u001b[49m\u001b[43mh5f\u001b[49m\u001b[38;5;241;43m.\u001b[39;49m\u001b[43mACC_TRUNC\u001b[49m\u001b[43m,\u001b[49m\u001b[43m \u001b[49m\u001b[43mfapl\u001b[49m\u001b[38;5;241;43m=\u001b[39;49m\u001b[43mfapl\u001b[49m\u001b[43m,\u001b[49m\u001b[43m \u001b[49m\u001b[43mfcpl\u001b[49m\u001b[38;5;241;43m=\u001b[39;49m\u001b[43mfcpl\u001b[49m\u001b[43m)\u001b[49m\n\u001b[1;32m    242\u001b[0m \u001b[38;5;28;01melif\u001b[39;00m mode \u001b[38;5;241m==\u001b[39m \u001b[38;5;124m'\u001b[39m\u001b[38;5;124ma\u001b[39m\u001b[38;5;124m'\u001b[39m:\n\u001b[1;32m    243\u001b[0m     \u001b[38;5;66;03m# Open in append mode (read/write).\u001b[39;00m\n\u001b[1;32m    244\u001b[0m     \u001b[38;5;66;03m# If that fails, create a new file only if it won't clobber an\u001b[39;00m\n\u001b[1;32m    245\u001b[0m     \u001b[38;5;66;03m# existing one (ACC_EXCL)\u001b[39;00m\n\u001b[1;32m    246\u001b[0m     \u001b[38;5;28;01mtry\u001b[39;00m:\n",
      "File \u001b[0;32mh5py/_objects.pyx:54\u001b[0m, in \u001b[0;36mh5py._objects.with_phil.wrapper\u001b[0;34m()\u001b[0m\n",
      "File \u001b[0;32mh5py/_objects.pyx:55\u001b[0m, in \u001b[0;36mh5py._objects.with_phil.wrapper\u001b[0;34m()\u001b[0m\n",
      "File \u001b[0;32mh5py/h5f.pyx:122\u001b[0m, in \u001b[0;36mh5py.h5f.create\u001b[0;34m()\u001b[0m\n",
      "File \u001b[0;32mh5py/h5g.pyx:281\u001b[0m, in \u001b[0;36mh5py.h5g.GroupID.__init__\u001b[0;34m()\u001b[0m\n",
      "File \u001b[0;32mh5py/h5g.pyx:282\u001b[0m, in \u001b[0;36mh5py.h5g.GroupID.__init__\u001b[0;34m()\u001b[0m\n",
      "File \u001b[0;32m<frozen importlib._bootstrap>:398\u001b[0m, in \u001b[0;36mparent\u001b[0;34m(self)\u001b[0m\n",
      "\u001b[0;31mKeyboardInterrupt\u001b[0m: "
     ]
    }
   ],
   "source": [
    "from neuroposelib import read\n",
    "from neuroposelib import vis\n",
    "import numpy as np\n",
    "import time\n",
    "from IPython.display import Video\n",
    "from pathlib import Path\n",
    "import matplotlib.pyplot as plt\n",
    "# %matplotlib inline\n",
    "from neuroposelib import preprocess\n",
    "from neuroposelib import write\n",
    "from neuroposelib import features\n",
    "from neuroposelib import DataStruct as ds\n",
    "from neuroposelib.embed import Embed\n",
    "from neuroposelib import analysis\n",
    "import pandas as pd\n",
    "from neuroposelib.embed import Watershed\n",
    "\n",
    "config = read.config('/home/lq53/mir_repos/dappy_24_nov/byws_version/mir_1.yaml')\n",
    "\n",
    "connectivity = read.connectivity(\n",
    "    path=config[\"skeleton_path\"], skeleton_name=config[\"skeleton_name\"]\n",
    ")\n",
    "\n",
    "# Make out_path\n",
    "Path(config[\"out_path\"]).mkdir(parents=True, exist_ok=True)\n",
    "\n",
    "# meta, meta_by_frame = read.meta(config[\"data_path\"] + \"demo_meta.csv\", id=ids)\n",
    "pose, ids, meta, meta_by_frame = read.pose_from_meta(\n",
    "    path=config[\"meta_path\"], connectivity=connectivity, key=\"Prediction_path\", file_type=\"dannce\"\n",
    ")\n",
    "\n",
    "Path(config[\"out_path\"]).mkdir(parents=True, exist_ok=True)\n",
    "\n",
    "write.pose_h5(pose,ids, config['out_path'] + 'pose_merged_newcol.h5')\n",
    "\n",
    "\n",
    "pose = preprocess.rotate_spine(preprocess.center_spine(pose, keypt_idx=4), keypt_idx=[4, 3])\n",
    "\n",
    "rel_vel, rel_vel_labels = features.get_velocities(\n",
    "    pose,\n",
    "    ids,\n",
    "    connectivity.joint_names,\n",
    "    joints=np.delete(np.arange(18), 4),\n",
    "    widths=[5, 11, 51],\n",
    "    f_s = 30\n",
    ")\n",
    "write.features_h5(rel_vel, rel_vel_labels, path=config[\"out_path\"] + \"velocity.h5\")\n",
    "\n",
    "angles, angle_labels = features.get_angles(pose, connectivity.angles)\n",
    "\n",
    "# Angular Velocities\n",
    "angular_vel, angular_vel_labels = features.get_angular_vel(\n",
    "        angles,\n",
    "        angle_labels,\n",
    "        ids,\n",
    "        widths=[5, 11, 51],\n",
    "    )\n",
    "write.features_h5(\n",
    "    angular_vel, angular_vel_labels, path=config[\"out_path\"] + \"angular_velocity.h5\"\n",
    ")\n",
    "\n",
    "ego_pose, labels = features.get_ego_pose(pose, connectivity.joint_names)\n",
    "\n",
    "# Write\n",
    "write.features_h5(angles, angle_labels, path=config[\"out_path\"] + \"angels.h5\")\n",
    "write.features_h5(ego_pose, labels, path=config[\"out_path\"] + \"ego_pose.h5\")\n",
    "\n",
    "# Compute and save Euler angles (if applicable)\n",
    "euler_angles, euler_labels = features.get_euler_angles(pose, connectivity.angles)\n",
    "write.features_h5(\n",
    "    euler_angles, euler_labels, path=config[\"out_path\"] + \"euler_angles.h5\"\n",
    ")\n",
    "\n",
    "# Compute and save head angular velocities\n",
    "head_angular = features.get_head_angular(pose, ids, widths=[5, 10, 50])\n",
    "write.features_h5(\n",
    "    head_angular, [\"head_angular\"], path=config[\"out_path\"] + \"head_angular.h5\"\n",
    ")\n",
    "\n",
    "\n",
    "print(\"saved\")\n",
    "# del angles, angle_labels\n",
    "# del ego_pose, labels\n",
    "# del rel_vel, rel_vel_labels\n",
    "# del head_angular, euler_angles, euler_labels"
   ]
  },
  {
   "cell_type": "code",
   "execution_count": 33,
   "metadata": {},
   "outputs": [
    {
     "name": "stdout",
     "output_type": "stream",
     "text": [
      "Detected centered pose input - calculating relative velocities ... \n"
     ]
    },
    {
     "name": "stderr",
     "output_type": "stream",
     "text": [
      "100%|██████████| 115/115 [01:15<00:00,  1.52it/s]\n"
     ]
    },
    {
     "name": "stdout",
     "output_type": "stream",
     "text": [
      "Calculating joint angles ... \n"
     ]
    },
    {
     "name": "stderr",
     "output_type": "stream",
     "text": [
      "100%|██████████| 55/55 [00:04<00:00, 11.57it/s]\n"
     ]
    },
    {
     "name": "stdout",
     "output_type": "stream",
     "text": [
      "Calculating velocities of angles ... \n"
     ]
    },
    {
     "name": "stderr",
     "output_type": "stream",
     "text": [
      "100%|██████████| 115/115 [00:51<00:00,  2.24it/s]\n"
     ]
    },
    {
     "name": "stdout",
     "output_type": "stream",
     "text": [
      "Reformatting pose to egocentric pose features ... \n",
      "Calculating joint angles - Euler ... \n"
     ]
    },
    {
     "name": "stderr",
     "output_type": "stream",
     "text": [
      "  4%|▎         | 2/55 [00:01<00:35,  1.50it/s]/home/lq53/mir_repos/dappy_24_nov/neuroposelib/src/neuroposelib/features.py:165: RuntimeWarning: invalid value encountered in divide\n",
      "  v2_u = v2[:, plane_dict[key]] / np.expand_dims(\n",
      "  9%|▉         | 5/55 [00:02<00:14,  3.35it/s]/home/lq53/mir_repos/dappy_24_nov/neuroposelib/src/neuroposelib/features.py:162: RuntimeWarning: invalid value encountered in divide\n",
      "  v1_u = v1[:, plane_dict[key]] / np.expand_dims(\n",
      "100%|██████████| 55/55 [00:12<00:00,  4.47it/s]\n",
      "100%|██████████| 115/115 [00:01<00:00, 68.25it/s]\n"
     ]
    }
   ],
   "source": [
    "rel_vel, rel_vel_labels = features.get_velocities(\n",
    "    pose,\n",
    "    ids,\n",
    "    connectivity.joint_names,\n",
    "    joints=np.delete(np.arange(18), 4),\n",
    "    widths=[5, 11, 51],\n",
    "    f_s = 30\n",
    ")\n",
    "write.features_h5(rel_vel, rel_vel_labels, path=config[\"out_path\"] + \"velocity.h5\")\n",
    "\n",
    "angles, angle_labels = features.get_angles(pose, connectivity.angles)\n",
    "\n",
    "# Angular Velocities\n",
    "angular_vel, angular_vel_labels = features.get_angular_vel(\n",
    "        angles,\n",
    "        angle_labels,\n",
    "        ids,\n",
    "        widths=[5, 11, 51],\n",
    "    )\n",
    "write.features_h5(\n",
    "    angular_vel, angular_vel_labels, path=config[\"out_path\"] + \"angular_velocity.h5\"\n",
    ")\n",
    "\n",
    "ego_pose, labels = features.get_ego_pose(pose, connectivity.joint_names)\n",
    "\n",
    "# Write\n",
    "write.features_h5(angles, angle_labels, path=config[\"out_path\"] + \"angels.h5\")\n",
    "write.features_h5(ego_pose, labels, path=config[\"out_path\"] + \"ego_pose.h5\")\n",
    "\n",
    "# Compute and save Euler angles (if applicable)\n",
    "euler_angles, euler_labels = features.get_euler_angles(pose, connectivity.angles)\n",
    "write.features_h5(\n",
    "    euler_angles, euler_labels, path=config[\"out_path\"] + \"euler_angles.h5\"\n",
    ")\n",
    "\n",
    "# Compute and save head angular velocities\n",
    "head_angular = features.get_head_angular(pose, ids, widths=[5, 10, 50])\n",
    "write.features_h5(\n",
    "    head_angular, [\"head_angular\"], path=config[\"out_path\"] + \"head_angular.h5\"\n",
    ")"
   ]
  },
  {
   "cell_type": "code",
   "execution_count": 36,
   "metadata": {},
   "outputs": [
    {
     "name": "stdout",
     "output_type": "stream",
     "text": [
      "Calculating principal components ... \n"
     ]
    },
    {
     "ename": "NameError",
     "evalue": "name 'tqdm' is not defined",
     "output_type": "error",
     "traceback": [
      "\u001b[0;31m---------------------------------------------------------------------------\u001b[0m",
      "\u001b[0;31mNameError\u001b[0m                                 Traceback (most recent call last)",
      "Cell \u001b[0;32mIn[36], line 100\u001b[0m\n\u001b[1;32m     96\u001b[0m     \u001b[38;5;28;01mreturn\u001b[39;00m pca_feats, pc_labels\n\u001b[1;32m     99\u001b[0m \u001b[38;5;66;03m# Perform PCA on the combined features\u001b[39;00m\n\u001b[0;32m--> 100\u001b[0m pca_features, pca_labels \u001b[38;5;241m=\u001b[39m \u001b[43mpca\u001b[49m\u001b[43m(\u001b[49m\n\u001b[1;32m    101\u001b[0m \u001b[43m    \u001b[49m\u001b[43mfeatures\u001b[49m\u001b[38;5;241;43m=\u001b[39;49m\u001b[43mcombined_features\u001b[49m\u001b[43m,\u001b[49m\n\u001b[1;32m    102\u001b[0m \u001b[43m    \u001b[49m\u001b[43mlabels\u001b[49m\u001b[38;5;241;43m=\u001b[39;49m\u001b[43mcombined_labels\u001b[49m\u001b[43m,\u001b[49m\n\u001b[1;32m    103\u001b[0m \u001b[43m    \u001b[49m\u001b[43mcategories\u001b[49m\u001b[38;5;241;43m=\u001b[39;49m\u001b[43m[\u001b[49m\u001b[38;5;124;43m\"\u001b[39;49m\u001b[38;5;124;43mvel\u001b[39;49m\u001b[38;5;124;43m\"\u001b[39;49m\u001b[43m,\u001b[49m\u001b[43m \u001b[49m\u001b[38;5;124;43m\"\u001b[39;49m\u001b[38;5;124;43mavel\u001b[39;49m\u001b[38;5;124;43m\"\u001b[39;49m\u001b[43m,\u001b[49m\u001b[43m \u001b[49m\u001b[38;5;124;43m\"\u001b[39;49m\u001b[38;5;124;43mang\u001b[39;49m\u001b[38;5;124;43m\"\u001b[39;49m\u001b[43m,\u001b[49m\u001b[43m \u001b[49m\u001b[38;5;124;43m\"\u001b[39;49m\u001b[38;5;124;43mego_pose\u001b[39;49m\u001b[38;5;124;43m\"\u001b[39;49m\u001b[43m]\u001b[49m\u001b[43m,\u001b[49m\n\u001b[1;32m    104\u001b[0m \u001b[43m    \u001b[49m\u001b[43mn_pcs\u001b[49m\u001b[38;5;241;43m=\u001b[39;49m\u001b[38;5;241;43m10\u001b[39;49m\u001b[43m,\u001b[49m\n\u001b[1;32m    105\u001b[0m \u001b[43m    \u001b[49m\u001b[43mdownsample\u001b[49m\u001b[38;5;241;43m=\u001b[39;49m\u001b[38;5;241;43m1\u001b[39;49m\u001b[43m,\u001b[49m\n\u001b[1;32m    106\u001b[0m \u001b[43m    \u001b[49m\u001b[43mmethod\u001b[49m\u001b[38;5;241;43m=\u001b[39;49m\u001b[38;5;124;43m\"\u001b[39;49m\u001b[38;5;124;43mfbpca\u001b[39;49m\u001b[38;5;124;43m\"\u001b[39;49m\u001b[43m,\u001b[49m\n\u001b[1;32m    107\u001b[0m \u001b[43m)\u001b[49m\n\u001b[1;32m    109\u001b[0m \u001b[38;5;66;03m# Save or further analyze PCA results\u001b[39;00m\n\u001b[1;32m    110\u001b[0m \u001b[38;5;28mprint\u001b[39m(\u001b[38;5;124m\"\u001b[39m\u001b[38;5;124mPCA completed.\u001b[39m\u001b[38;5;124m\"\u001b[39m)\n",
      "Cell \u001b[0;32mIn[36], line 42\u001b[0m, in \u001b[0;36mpca\u001b[0;34m(features, labels, categories, n_pcs, downsample, method)\u001b[0m\n\u001b[1;32m     39\u001b[0m     \u001b[38;5;28;01mimport\u001b[39;00m \u001b[38;5;21;01mfbpca\u001b[39;00m\n\u001b[1;32m     41\u001b[0m num_cols \u001b[38;5;241m=\u001b[39m \u001b[38;5;241m0\u001b[39m\n\u001b[0;32m---> 42\u001b[0m \u001b[38;5;28;01mfor\u001b[39;00m i, cat \u001b[38;5;129;01min\u001b[39;00m \u001b[38;5;28menumerate\u001b[39m(\u001b[43mtqdm\u001b[49m(categories)):  \u001b[38;5;66;03m# Iterate through each feature category\u001b[39;00m\n\u001b[1;32m     43\u001b[0m     cat \u001b[38;5;241m+\u001b[39m\u001b[38;5;241m=\u001b[39m \u001b[38;5;124m\"\u001b[39m\u001b[38;5;124m_\u001b[39m\u001b[38;5;124m\"\u001b[39m\n\u001b[1;32m     44\u001b[0m     cols_idx \u001b[38;5;241m=\u001b[39m [\n\u001b[1;32m     45\u001b[0m         i\n\u001b[1;32m     46\u001b[0m         \u001b[38;5;28;01mfor\u001b[39;00m i, col \u001b[38;5;129;01min\u001b[39;00m \u001b[38;5;28menumerate\u001b[39m(labels)\n\u001b[1;32m     47\u001b[0m         \u001b[38;5;28;01mif\u001b[39;00m (col\u001b[38;5;241m.\u001b[39mstartswith(cat) \u001b[38;5;129;01mor\u001b[39;00m (\u001b[38;5;124m\"\u001b[39m\u001b[38;5;124m_\u001b[39m\u001b[38;5;124m\"\u001b[39m \u001b[38;5;241m+\u001b[39m cat \u001b[38;5;129;01min\u001b[39;00m col))\n\u001b[1;32m     48\u001b[0m     ]\n",
      "\u001b[0;31mNameError\u001b[0m: name 'tqdm' is not defined"
     ]
    }
   ],
   "source": [
    "# Ensure all feature datasets have the same number of samples\n",
    "assert rel_vel.shape[0] == angular_vel.shape[0] == angles.shape[0] == ego_pose.shape[0]\n",
    "\n",
    "# Combine features\n",
    "combined_features = np.hstack([rel_vel, angular_vel, angles, ego_pose])\n",
    "\n",
    "# Concatenate labels\n",
    "combined_labels = rel_vel_labels + angular_vel_labels + angle_labels + labels\n",
    "\n"
   ]
  },
  {
   "cell_type": "code",
   "execution_count": 42,
   "metadata": {},
   "outputs": [
    {
     "name": "stdout",
     "output_type": "stream",
     "text": [
      "Calculating principal components ... \n"
     ]
    },
    {
     "name": "stderr",
     "output_type": "stream",
     "text": [
      "  0%|          | 0/4 [00:00<?, ?it/s]"
     ]
    },
    {
     "name": "stdout",
     "output_type": "stream",
     "text": [
      "Category: vel_, Matching labels: ['rel_vel_norm_EarL_11', 'rel_vel_x_EarL_11', 'rel_vel_y_EarL_11', 'rel_vel_z_EarL_11', 'rel_vel_norm_EarR_11', 'rel_vel_x_EarR_11', 'rel_vel_y_EarR_11', 'rel_vel_z_EarR_11', 'rel_vel_norm_Snout_11', 'rel_vel_x_Snout_11', 'rel_vel_y_Snout_11', 'rel_vel_z_Snout_11', 'rel_vel_norm_SpineF_11', 'rel_vel_x_SpineF_11', 'rel_vel_y_SpineF_11', 'rel_vel_z_SpineF_11', 'rel_vel_norm_Tail(base)_11', 'rel_vel_x_Tail(base)_11', 'rel_vel_y_Tail(base)_11', 'rel_vel_z_Tail(base)_11', 'rel_vel_norm_Tail(mid)_11', 'rel_vel_x_Tail(mid)_11', 'rel_vel_y_Tail(mid)_11', 'rel_vel_z_Tail(mid)_11', 'rel_vel_norm_Tail(end)_11', 'rel_vel_x_Tail(end)_11', 'rel_vel_y_Tail(end)_11', 'rel_vel_z_Tail(end)_11', 'rel_vel_norm_ForepawL_11', 'rel_vel_x_ForepawL_11', 'rel_vel_y_ForepawL_11', 'rel_vel_z_ForepawL_11', 'rel_vel_norm_WristL_11', 'rel_vel_x_WristL_11', 'rel_vel_y_WristL_11', 'rel_vel_z_WristL_11', 'rel_vel_norm_ElbowL_11', 'rel_vel_x_ElbowL_11', 'rel_vel_y_ElbowL_11', 'rel_vel_z_ElbowL_11', 'rel_vel_norm_ShoulderL_11', 'rel_vel_x_ShoulderL_11', 'rel_vel_y_ShoulderL_11', 'rel_vel_z_ShoulderL_11', 'rel_vel_norm_ForepawR_11', 'rel_vel_x_ForepawR_11', 'rel_vel_y_ForepawR_11', 'rel_vel_z_ForepawR_11', 'rel_vel_norm_WristR_11', 'rel_vel_x_WristR_11', 'rel_vel_y_WristR_11', 'rel_vel_z_WristR_11', 'rel_vel_norm_ElbowR_11', 'rel_vel_x_ElbowR_11', 'rel_vel_y_ElbowR_11', 'rel_vel_z_ElbowR_11', 'rel_vel_norm_ShoulderR_11', 'rel_vel_x_ShoulderR_11', 'rel_vel_y_ShoulderR_11', 'rel_vel_z_ShoulderR_11', 'rel_vel_norm_HindpawL_11', 'rel_vel_x_HindpawL_11', 'rel_vel_y_HindpawL_11', 'rel_vel_z_HindpawL_11', 'rel_vel_norm_AnkleL_11', 'rel_vel_x_AnkleL_11', 'rel_vel_y_AnkleL_11', 'rel_vel_z_AnkleL_11', 'rel_vel_norm_EarL_23', 'rel_vel_x_EarL_23', 'rel_vel_y_EarL_23', 'rel_vel_z_EarL_23', 'rel_vel_norm_EarR_23', 'rel_vel_x_EarR_23', 'rel_vel_y_EarR_23', 'rel_vel_z_EarR_23', 'rel_vel_norm_Snout_23', 'rel_vel_x_Snout_23', 'rel_vel_y_Snout_23', 'rel_vel_z_Snout_23', 'rel_vel_norm_SpineF_23', 'rel_vel_x_SpineF_23', 'rel_vel_y_SpineF_23', 'rel_vel_z_SpineF_23', 'rel_vel_norm_Tail(base)_23', 'rel_vel_x_Tail(base)_23', 'rel_vel_y_Tail(base)_23', 'rel_vel_z_Tail(base)_23', 'rel_vel_norm_Tail(mid)_23', 'rel_vel_x_Tail(mid)_23', 'rel_vel_y_Tail(mid)_23', 'rel_vel_z_Tail(mid)_23', 'rel_vel_norm_Tail(end)_23', 'rel_vel_x_Tail(end)_23', 'rel_vel_y_Tail(end)_23', 'rel_vel_z_Tail(end)_23', 'rel_vel_norm_ForepawL_23', 'rel_vel_x_ForepawL_23', 'rel_vel_y_ForepawL_23', 'rel_vel_z_ForepawL_23', 'rel_vel_norm_WristL_23', 'rel_vel_x_WristL_23', 'rel_vel_y_WristL_23', 'rel_vel_z_WristL_23', 'rel_vel_norm_ElbowL_23', 'rel_vel_x_ElbowL_23', 'rel_vel_y_ElbowL_23', 'rel_vel_z_ElbowL_23', 'rel_vel_norm_ShoulderL_23', 'rel_vel_x_ShoulderL_23', 'rel_vel_y_ShoulderL_23', 'rel_vel_z_ShoulderL_23', 'rel_vel_norm_ForepawR_23', 'rel_vel_x_ForepawR_23', 'rel_vel_y_ForepawR_23', 'rel_vel_z_ForepawR_23', 'rel_vel_norm_WristR_23', 'rel_vel_x_WristR_23', 'rel_vel_y_WristR_23', 'rel_vel_z_WristR_23', 'rel_vel_norm_ElbowR_23', 'rel_vel_x_ElbowR_23', 'rel_vel_y_ElbowR_23', 'rel_vel_z_ElbowR_23', 'rel_vel_norm_ShoulderR_23', 'rel_vel_x_ShoulderR_23', 'rel_vel_y_ShoulderR_23', 'rel_vel_z_ShoulderR_23', 'rel_vel_norm_HindpawL_23', 'rel_vel_x_HindpawL_23', 'rel_vel_y_HindpawL_23', 'rel_vel_z_HindpawL_23', 'rel_vel_norm_AnkleL_23', 'rel_vel_x_AnkleL_23', 'rel_vel_y_AnkleL_23', 'rel_vel_z_AnkleL_23', 'rel_vel_norm_EarL_103', 'rel_vel_x_EarL_103', 'rel_vel_y_EarL_103', 'rel_vel_z_EarL_103', 'rel_vel_norm_EarR_103', 'rel_vel_x_EarR_103', 'rel_vel_y_EarR_103', 'rel_vel_z_EarR_103', 'rel_vel_norm_Snout_103', 'rel_vel_x_Snout_103', 'rel_vel_y_Snout_103', 'rel_vel_z_Snout_103', 'rel_vel_norm_SpineF_103', 'rel_vel_x_SpineF_103', 'rel_vel_y_SpineF_103', 'rel_vel_z_SpineF_103', 'rel_vel_norm_Tail(base)_103', 'rel_vel_x_Tail(base)_103', 'rel_vel_y_Tail(base)_103', 'rel_vel_z_Tail(base)_103', 'rel_vel_norm_Tail(mid)_103', 'rel_vel_x_Tail(mid)_103', 'rel_vel_y_Tail(mid)_103', 'rel_vel_z_Tail(mid)_103', 'rel_vel_norm_Tail(end)_103', 'rel_vel_x_Tail(end)_103', 'rel_vel_y_Tail(end)_103', 'rel_vel_z_Tail(end)_103', 'rel_vel_norm_ForepawL_103', 'rel_vel_x_ForepawL_103', 'rel_vel_y_ForepawL_103', 'rel_vel_z_ForepawL_103', 'rel_vel_norm_WristL_103', 'rel_vel_x_WristL_103', 'rel_vel_y_WristL_103', 'rel_vel_z_WristL_103', 'rel_vel_norm_ElbowL_103', 'rel_vel_x_ElbowL_103', 'rel_vel_y_ElbowL_103', 'rel_vel_z_ElbowL_103', 'rel_vel_norm_ShoulderL_103', 'rel_vel_x_ShoulderL_103', 'rel_vel_y_ShoulderL_103', 'rel_vel_z_ShoulderL_103', 'rel_vel_norm_ForepawR_103', 'rel_vel_x_ForepawR_103', 'rel_vel_y_ForepawR_103', 'rel_vel_z_ForepawR_103', 'rel_vel_norm_WristR_103', 'rel_vel_x_WristR_103', 'rel_vel_y_WristR_103', 'rel_vel_z_WristR_103', 'rel_vel_norm_ElbowR_103', 'rel_vel_x_ElbowR_103', 'rel_vel_y_ElbowR_103', 'rel_vel_z_ElbowR_103', 'rel_vel_norm_ShoulderR_103', 'rel_vel_x_ShoulderR_103', 'rel_vel_y_ShoulderR_103', 'rel_vel_z_ShoulderR_103', 'rel_vel_norm_HindpawL_103', 'rel_vel_x_HindpawL_103', 'rel_vel_y_HindpawL_103', 'rel_vel_z_HindpawL_103', 'rel_vel_norm_AnkleL_103', 'rel_vel_x_AnkleL_103', 'rel_vel_y_AnkleL_103', 'rel_vel_z_AnkleL_103', 'rel_vel_std_norm_EarL_11', 'rel_vel_std_x_EarL_11', 'rel_vel_std_y_EarL_11', 'rel_vel_std_z_EarL_11', 'rel_vel_std_norm_EarR_11', 'rel_vel_std_x_EarR_11', 'rel_vel_std_y_EarR_11', 'rel_vel_std_z_EarR_11', 'rel_vel_std_norm_Snout_11', 'rel_vel_std_x_Snout_11', 'rel_vel_std_y_Snout_11', 'rel_vel_std_z_Snout_11', 'rel_vel_std_norm_SpineF_11', 'rel_vel_std_x_SpineF_11', 'rel_vel_std_y_SpineF_11', 'rel_vel_std_z_SpineF_11', 'rel_vel_std_norm_Tail(base)_11', 'rel_vel_std_x_Tail(base)_11', 'rel_vel_std_y_Tail(base)_11', 'rel_vel_std_z_Tail(base)_11', 'rel_vel_std_norm_Tail(mid)_11', 'rel_vel_std_x_Tail(mid)_11', 'rel_vel_std_y_Tail(mid)_11', 'rel_vel_std_z_Tail(mid)_11', 'rel_vel_std_norm_Tail(end)_11', 'rel_vel_std_x_Tail(end)_11', 'rel_vel_std_y_Tail(end)_11', 'rel_vel_std_z_Tail(end)_11', 'rel_vel_std_norm_ForepawL_11', 'rel_vel_std_x_ForepawL_11', 'rel_vel_std_y_ForepawL_11', 'rel_vel_std_z_ForepawL_11', 'rel_vel_std_norm_WristL_11', 'rel_vel_std_x_WristL_11', 'rel_vel_std_y_WristL_11', 'rel_vel_std_z_WristL_11', 'rel_vel_std_norm_ElbowL_11', 'rel_vel_std_x_ElbowL_11', 'rel_vel_std_y_ElbowL_11', 'rel_vel_std_z_ElbowL_11', 'rel_vel_std_norm_ShoulderL_11', 'rel_vel_std_x_ShoulderL_11', 'rel_vel_std_y_ShoulderL_11', 'rel_vel_std_z_ShoulderL_11', 'rel_vel_std_norm_ForepawR_11', 'rel_vel_std_x_ForepawR_11', 'rel_vel_std_y_ForepawR_11', 'rel_vel_std_z_ForepawR_11', 'rel_vel_std_norm_WristR_11', 'rel_vel_std_x_WristR_11', 'rel_vel_std_y_WristR_11', 'rel_vel_std_z_WristR_11', 'rel_vel_std_norm_ElbowR_11', 'rel_vel_std_x_ElbowR_11', 'rel_vel_std_y_ElbowR_11', 'rel_vel_std_z_ElbowR_11', 'rel_vel_std_norm_ShoulderR_11', 'rel_vel_std_x_ShoulderR_11', 'rel_vel_std_y_ShoulderR_11', 'rel_vel_std_z_ShoulderR_11', 'rel_vel_std_norm_HindpawL_11', 'rel_vel_std_x_HindpawL_11', 'rel_vel_std_y_HindpawL_11', 'rel_vel_std_z_HindpawL_11', 'rel_vel_std_norm_AnkleL_11', 'rel_vel_std_x_AnkleL_11', 'rel_vel_std_y_AnkleL_11', 'rel_vel_std_z_AnkleL_11', 'rel_vel_std_norm_EarL_23', 'rel_vel_std_x_EarL_23', 'rel_vel_std_y_EarL_23', 'rel_vel_std_z_EarL_23', 'rel_vel_std_norm_EarR_23', 'rel_vel_std_x_EarR_23', 'rel_vel_std_y_EarR_23', 'rel_vel_std_z_EarR_23', 'rel_vel_std_norm_Snout_23', 'rel_vel_std_x_Snout_23', 'rel_vel_std_y_Snout_23', 'rel_vel_std_z_Snout_23', 'rel_vel_std_norm_SpineF_23', 'rel_vel_std_x_SpineF_23', 'rel_vel_std_y_SpineF_23', 'rel_vel_std_z_SpineF_23', 'rel_vel_std_norm_Tail(base)_23', 'rel_vel_std_x_Tail(base)_23', 'rel_vel_std_y_Tail(base)_23', 'rel_vel_std_z_Tail(base)_23', 'rel_vel_std_norm_Tail(mid)_23', 'rel_vel_std_x_Tail(mid)_23', 'rel_vel_std_y_Tail(mid)_23', 'rel_vel_std_z_Tail(mid)_23', 'rel_vel_std_norm_Tail(end)_23', 'rel_vel_std_x_Tail(end)_23', 'rel_vel_std_y_Tail(end)_23', 'rel_vel_std_z_Tail(end)_23', 'rel_vel_std_norm_ForepawL_23', 'rel_vel_std_x_ForepawL_23', 'rel_vel_std_y_ForepawL_23', 'rel_vel_std_z_ForepawL_23', 'rel_vel_std_norm_WristL_23', 'rel_vel_std_x_WristL_23', 'rel_vel_std_y_WristL_23', 'rel_vel_std_z_WristL_23', 'rel_vel_std_norm_ElbowL_23', 'rel_vel_std_x_ElbowL_23', 'rel_vel_std_y_ElbowL_23', 'rel_vel_std_z_ElbowL_23', 'rel_vel_std_norm_ShoulderL_23', 'rel_vel_std_x_ShoulderL_23', 'rel_vel_std_y_ShoulderL_23', 'rel_vel_std_z_ShoulderL_23', 'rel_vel_std_norm_ForepawR_23', 'rel_vel_std_x_ForepawR_23', 'rel_vel_std_y_ForepawR_23', 'rel_vel_std_z_ForepawR_23', 'rel_vel_std_norm_WristR_23', 'rel_vel_std_x_WristR_23', 'rel_vel_std_y_WristR_23', 'rel_vel_std_z_WristR_23', 'rel_vel_std_norm_ElbowR_23', 'rel_vel_std_x_ElbowR_23', 'rel_vel_std_y_ElbowR_23', 'rel_vel_std_z_ElbowR_23', 'rel_vel_std_norm_ShoulderR_23', 'rel_vel_std_x_ShoulderR_23', 'rel_vel_std_y_ShoulderR_23', 'rel_vel_std_z_ShoulderR_23', 'rel_vel_std_norm_HindpawL_23', 'rel_vel_std_x_HindpawL_23', 'rel_vel_std_y_HindpawL_23', 'rel_vel_std_z_HindpawL_23', 'rel_vel_std_norm_AnkleL_23', 'rel_vel_std_x_AnkleL_23', 'rel_vel_std_y_AnkleL_23', 'rel_vel_std_z_AnkleL_23', 'rel_vel_std_norm_EarL_103', 'rel_vel_std_x_EarL_103', 'rel_vel_std_y_EarL_103', 'rel_vel_std_z_EarL_103', 'rel_vel_std_norm_EarR_103', 'rel_vel_std_x_EarR_103', 'rel_vel_std_y_EarR_103', 'rel_vel_std_z_EarR_103', 'rel_vel_std_norm_Snout_103', 'rel_vel_std_x_Snout_103', 'rel_vel_std_y_Snout_103', 'rel_vel_std_z_Snout_103', 'rel_vel_std_norm_SpineF_103', 'rel_vel_std_x_SpineF_103', 'rel_vel_std_y_SpineF_103', 'rel_vel_std_z_SpineF_103', 'rel_vel_std_norm_Tail(base)_103', 'rel_vel_std_x_Tail(base)_103', 'rel_vel_std_y_Tail(base)_103', 'rel_vel_std_z_Tail(base)_103', 'rel_vel_std_norm_Tail(mid)_103', 'rel_vel_std_x_Tail(mid)_103', 'rel_vel_std_y_Tail(mid)_103', 'rel_vel_std_z_Tail(mid)_103', 'rel_vel_std_norm_Tail(end)_103', 'rel_vel_std_x_Tail(end)_103', 'rel_vel_std_y_Tail(end)_103', 'rel_vel_std_z_Tail(end)_103', 'rel_vel_std_norm_ForepawL_103', 'rel_vel_std_x_ForepawL_103', 'rel_vel_std_y_ForepawL_103', 'rel_vel_std_z_ForepawL_103', 'rel_vel_std_norm_WristL_103', 'rel_vel_std_x_WristL_103', 'rel_vel_std_y_WristL_103', 'rel_vel_std_z_WristL_103', 'rel_vel_std_norm_ElbowL_103', 'rel_vel_std_x_ElbowL_103', 'rel_vel_std_y_ElbowL_103', 'rel_vel_std_z_ElbowL_103', 'rel_vel_std_norm_ShoulderL_103', 'rel_vel_std_x_ShoulderL_103', 'rel_vel_std_y_ShoulderL_103', 'rel_vel_std_z_ShoulderL_103', 'rel_vel_std_norm_ForepawR_103', 'rel_vel_std_x_ForepawR_103', 'rel_vel_std_y_ForepawR_103', 'rel_vel_std_z_ForepawR_103', 'rel_vel_std_norm_WristR_103', 'rel_vel_std_x_WristR_103', 'rel_vel_std_y_WristR_103', 'rel_vel_std_z_WristR_103', 'rel_vel_std_norm_ElbowR_103', 'rel_vel_std_x_ElbowR_103', 'rel_vel_std_y_ElbowR_103', 'rel_vel_std_z_ElbowR_103', 'rel_vel_std_norm_ShoulderR_103', 'rel_vel_std_x_ShoulderR_103', 'rel_vel_std_y_ShoulderR_103', 'rel_vel_std_z_ShoulderR_103', 'rel_vel_std_norm_HindpawL_103', 'rel_vel_std_x_HindpawL_103', 'rel_vel_std_y_HindpawL_103', 'rel_vel_std_z_HindpawL_103', 'rel_vel_std_norm_AnkleL_103', 'rel_vel_std_x_AnkleL_103', 'rel_vel_std_y_AnkleL_103', 'rel_vel_std_z_AnkleL_103', 'avel_2_1_3_11', 'avel_2_0_3_11', 'avel_1_3_4_11', 'avel_0_3_4_11', 'avel_2_3_4_11', 'avel_3_4_5_11', 'avel_1_3_15_11', 'avel_0_3_15_11', 'avel_2_3_15_11', 'avel_4_3_15_11', 'avel_1_3_11_11', 'avel_0_3_11_11', 'avel_2_3_11_11', 'avel_4_3_11_11', 'avel_12_13_14_11', 'avel_13_14_15_11', 'avel_14_15_3_11', 'avel_8_9_10_11', 'avel_9_10_11_11', 'avel_10_11_3_11', 'avel_18_4_3_11', 'avel_18_4_5_11', 'avel_21_4_3_11', 'avel_21_4_5_11', 'avel_16_17_18_11', 'avel_17_18_4_11', 'avel_19_20_21_11', 'avel_20_21_4_11', 'avel_2_3_8_11', 'avel_2_3_9_11', 'avel_2_3_10_11', 'avel_2_3_12_11', 'avel_2_3_13_11', 'avel_2_3_14_11', 'avel_5_4_16_11', 'avel_5_4_17_11', 'avel_5_4_19_11', 'avel_5_4_20_11', 'avel_4_5_16_11', 'avel_4_5_17_11', 'avel_4_5_19_11', 'avel_4_5_20_11', 'avel_2_3_5_11', 'avel_2_4_16_11', 'avel_2_4_17_11', 'avel_2_4_18_11', 'avel_2_4_19_11', 'avel_2_4_20_11', 'avel_2_4_21_11', 'avel_2_0_16_11', 'avel_2_0_17_11', 'avel_2_0_18_11', 'avel_2_1_19_11', 'avel_2_1_20_11', 'avel_2_1_21_11', 'avel_2_1_3_23', 'avel_2_0_3_23', 'avel_1_3_4_23', 'avel_0_3_4_23', 'avel_2_3_4_23', 'avel_3_4_5_23', 'avel_1_3_15_23', 'avel_0_3_15_23', 'avel_2_3_15_23', 'avel_4_3_15_23', 'avel_1_3_11_23', 'avel_0_3_11_23', 'avel_2_3_11_23', 'avel_4_3_11_23', 'avel_12_13_14_23', 'avel_13_14_15_23', 'avel_14_15_3_23', 'avel_8_9_10_23', 'avel_9_10_11_23', 'avel_10_11_3_23', 'avel_18_4_3_23', 'avel_18_4_5_23', 'avel_21_4_3_23', 'avel_21_4_5_23', 'avel_16_17_18_23', 'avel_17_18_4_23', 'avel_19_20_21_23', 'avel_20_21_4_23', 'avel_2_3_8_23', 'avel_2_3_9_23', 'avel_2_3_10_23', 'avel_2_3_12_23', 'avel_2_3_13_23', 'avel_2_3_14_23', 'avel_5_4_16_23', 'avel_5_4_17_23', 'avel_5_4_19_23', 'avel_5_4_20_23', 'avel_4_5_16_23', 'avel_4_5_17_23', 'avel_4_5_19_23', 'avel_4_5_20_23', 'avel_2_3_5_23', 'avel_2_4_16_23', 'avel_2_4_17_23', 'avel_2_4_18_23', 'avel_2_4_19_23', 'avel_2_4_20_23', 'avel_2_4_21_23', 'avel_2_0_16_23', 'avel_2_0_17_23', 'avel_2_0_18_23', 'avel_2_1_19_23', 'avel_2_1_20_23', 'avel_2_1_21_23', 'avel_2_1_3_103', 'avel_2_0_3_103', 'avel_1_3_4_103', 'avel_0_3_4_103', 'avel_2_3_4_103', 'avel_3_4_5_103', 'avel_1_3_15_103', 'avel_0_3_15_103', 'avel_2_3_15_103', 'avel_4_3_15_103', 'avel_1_3_11_103', 'avel_0_3_11_103', 'avel_2_3_11_103', 'avel_4_3_11_103', 'avel_12_13_14_103', 'avel_13_14_15_103', 'avel_14_15_3_103', 'avel_8_9_10_103', 'avel_9_10_11_103', 'avel_10_11_3_103', 'avel_18_4_3_103', 'avel_18_4_5_103', 'avel_21_4_3_103', 'avel_21_4_5_103', 'avel_16_17_18_103', 'avel_17_18_4_103', 'avel_19_20_21_103', 'avel_20_21_4_103', 'avel_2_3_8_103', 'avel_2_3_9_103', 'avel_2_3_10_103', 'avel_2_3_12_103', 'avel_2_3_13_103', 'avel_2_3_14_103', 'avel_5_4_16_103', 'avel_5_4_17_103', 'avel_5_4_19_103', 'avel_5_4_20_103', 'avel_4_5_16_103', 'avel_4_5_17_103', 'avel_4_5_19_103', 'avel_4_5_20_103', 'avel_2_3_5_103', 'avel_2_4_16_103', 'avel_2_4_17_103', 'avel_2_4_18_103', 'avel_2_4_19_103', 'avel_2_4_20_103', 'avel_2_4_21_103', 'avel_2_0_16_103', 'avel_2_0_17_103', 'avel_2_0_18_103', 'avel_2_1_19_103', 'avel_2_1_20_103', 'avel_2_1_21_103', 'avel_std_2_1_3_11', 'avel_std_2_0_3_11', 'avel_std_1_3_4_11', 'avel_std_0_3_4_11', 'avel_std_2_3_4_11', 'avel_std_3_4_5_11', 'avel_std_1_3_15_11', 'avel_std_0_3_15_11', 'avel_std_2_3_15_11', 'avel_std_4_3_15_11', 'avel_std_1_3_11_11', 'avel_std_0_3_11_11', 'avel_std_2_3_11_11', 'avel_std_4_3_11_11', 'avel_std_12_13_14_11', 'avel_std_13_14_15_11', 'avel_std_14_15_3_11', 'avel_std_8_9_10_11', 'avel_std_9_10_11_11', 'avel_std_10_11_3_11', 'avel_std_18_4_3_11', 'avel_std_18_4_5_11', 'avel_std_21_4_3_11', 'avel_std_21_4_5_11', 'avel_std_16_17_18_11', 'avel_std_17_18_4_11', 'avel_std_19_20_21_11', 'avel_std_20_21_4_11', 'avel_std_2_3_8_11', 'avel_std_2_3_9_11', 'avel_std_2_3_10_11', 'avel_std_2_3_12_11', 'avel_std_2_3_13_11', 'avel_std_2_3_14_11', 'avel_std_5_4_16_11', 'avel_std_5_4_17_11', 'avel_std_5_4_19_11', 'avel_std_5_4_20_11', 'avel_std_4_5_16_11', 'avel_std_4_5_17_11', 'avel_std_4_5_19_11', 'avel_std_4_5_20_11', 'avel_std_2_3_5_11', 'avel_std_2_4_16_11', 'avel_std_2_4_17_11', 'avel_std_2_4_18_11', 'avel_std_2_4_19_11', 'avel_std_2_4_20_11', 'avel_std_2_4_21_11', 'avel_std_2_0_16_11', 'avel_std_2_0_17_11', 'avel_std_2_0_18_11', 'avel_std_2_1_19_11', 'avel_std_2_1_20_11', 'avel_std_2_1_21_11', 'avel_std_2_1_3_23', 'avel_std_2_0_3_23', 'avel_std_1_3_4_23', 'avel_std_0_3_4_23', 'avel_std_2_3_4_23', 'avel_std_3_4_5_23', 'avel_std_1_3_15_23', 'avel_std_0_3_15_23', 'avel_std_2_3_15_23', 'avel_std_4_3_15_23', 'avel_std_1_3_11_23', 'avel_std_0_3_11_23', 'avel_std_2_3_11_23', 'avel_std_4_3_11_23', 'avel_std_12_13_14_23', 'avel_std_13_14_15_23', 'avel_std_14_15_3_23', 'avel_std_8_9_10_23', 'avel_std_9_10_11_23', 'avel_std_10_11_3_23', 'avel_std_18_4_3_23', 'avel_std_18_4_5_23', 'avel_std_21_4_3_23', 'avel_std_21_4_5_23', 'avel_std_16_17_18_23', 'avel_std_17_18_4_23', 'avel_std_19_20_21_23', 'avel_std_20_21_4_23', 'avel_std_2_3_8_23', 'avel_std_2_3_9_23', 'avel_std_2_3_10_23', 'avel_std_2_3_12_23', 'avel_std_2_3_13_23', 'avel_std_2_3_14_23', 'avel_std_5_4_16_23', 'avel_std_5_4_17_23', 'avel_std_5_4_19_23', 'avel_std_5_4_20_23', 'avel_std_4_5_16_23', 'avel_std_4_5_17_23', 'avel_std_4_5_19_23', 'avel_std_4_5_20_23', 'avel_std_2_3_5_23', 'avel_std_2_4_16_23', 'avel_std_2_4_17_23', 'avel_std_2_4_18_23', 'avel_std_2_4_19_23', 'avel_std_2_4_20_23', 'avel_std_2_4_21_23', 'avel_std_2_0_16_23', 'avel_std_2_0_17_23', 'avel_std_2_0_18_23', 'avel_std_2_1_19_23', 'avel_std_2_1_20_23', 'avel_std_2_1_21_23', 'avel_std_2_1_3_103', 'avel_std_2_0_3_103', 'avel_std_1_3_4_103', 'avel_std_0_3_4_103', 'avel_std_2_3_4_103', 'avel_std_3_4_5_103', 'avel_std_1_3_15_103', 'avel_std_0_3_15_103', 'avel_std_2_3_15_103', 'avel_std_4_3_15_103', 'avel_std_1_3_11_103', 'avel_std_0_3_11_103', 'avel_std_2_3_11_103', 'avel_std_4_3_11_103', 'avel_std_12_13_14_103', 'avel_std_13_14_15_103', 'avel_std_14_15_3_103', 'avel_std_8_9_10_103', 'avel_std_9_10_11_103', 'avel_std_10_11_3_103', 'avel_std_18_4_3_103', 'avel_std_18_4_5_103', 'avel_std_21_4_3_103', 'avel_std_21_4_5_103', 'avel_std_16_17_18_103', 'avel_std_17_18_4_103', 'avel_std_19_20_21_103', 'avel_std_20_21_4_103', 'avel_std_2_3_8_103', 'avel_std_2_3_9_103', 'avel_std_2_3_10_103', 'avel_std_2_3_12_103', 'avel_std_2_3_13_103', 'avel_std_2_3_14_103', 'avel_std_5_4_16_103', 'avel_std_5_4_17_103', 'avel_std_5_4_19_103', 'avel_std_5_4_20_103', 'avel_std_4_5_16_103', 'avel_std_4_5_17_103', 'avel_std_4_5_19_103', 'avel_std_4_5_20_103', 'avel_std_2_3_5_103', 'avel_std_2_4_16_103', 'avel_std_2_4_17_103', 'avel_std_2_4_18_103', 'avel_std_2_4_19_103', 'avel_std_2_4_20_103', 'avel_std_2_4_21_103', 'avel_std_2_0_16_103', 'avel_std_2_0_17_103', 'avel_std_2_0_18_103', 'avel_std_2_1_19_103', 'avel_std_2_1_20_103', 'avel_std_2_1_21_103']\n",
      "Category: vel_, Columns: [0, 1, 2, 3, 4, 5, 6, 7, 8, 9, 10, 11, 12, 13, 14, 15, 16, 17, 18, 19, 20, 21, 22, 23, 24, 25, 26, 27, 28, 29, 30, 31, 32, 33, 34, 35, 36, 37, 38, 39, 40, 41, 42, 43, 44, 45, 46, 47, 48, 49, 50, 51, 52, 53, 54, 55, 56, 57, 58, 59, 60, 61, 62, 63, 64, 65, 66, 67, 68, 69, 70, 71, 72, 73, 74, 75, 76, 77, 78, 79, 80, 81, 82, 83, 84, 85, 86, 87, 88, 89, 90, 91, 92, 93, 94, 95, 96, 97, 98, 99, 100, 101, 102, 103, 104, 105, 106, 107, 108, 109, 110, 111, 112, 113, 114, 115, 116, 117, 118, 119, 120, 121, 122, 123, 124, 125, 126, 127, 128, 129, 130, 131, 132, 133, 134, 135, 136, 137, 138, 139, 140, 141, 142, 143, 144, 145, 146, 147, 148, 149, 150, 151, 152, 153, 154, 155, 156, 157, 158, 159, 160, 161, 162, 163, 164, 165, 166, 167, 168, 169, 170, 171, 172, 173, 174, 175, 176, 177, 178, 179, 180, 181, 182, 183, 184, 185, 186, 187, 188, 189, 190, 191, 192, 193, 194, 195, 196, 197, 198, 199, 200, 201, 202, 203, 204, 205, 206, 207, 208, 209, 210, 211, 212, 213, 214, 215, 216, 217, 218, 219, 220, 221, 222, 223, 224, 225, 226, 227, 228, 229, 230, 231, 232, 233, 234, 235, 236, 237, 238, 239, 240, 241, 242, 243, 244, 245, 246, 247, 248, 249, 250, 251, 252, 253, 254, 255, 256, 257, 258, 259, 260, 261, 262, 263, 264, 265, 266, 267, 268, 269, 270, 271, 272, 273, 274, 275, 276, 277, 278, 279, 280, 281, 282, 283, 284, 285, 286, 287, 288, 289, 290, 291, 292, 293, 294, 295, 296, 297, 298, 299, 300, 301, 302, 303, 304, 305, 306, 307, 308, 309, 310, 311, 312, 313, 314, 315, 316, 317, 318, 319, 320, 321, 322, 323, 324, 325, 326, 327, 328, 329, 330, 331, 332, 333, 334, 335, 336, 337, 338, 339, 340, 341, 342, 343, 344, 345, 346, 347, 348, 349, 350, 351, 352, 353, 354, 355, 356, 357, 358, 359, 360, 361, 362, 363, 364, 365, 366, 367, 368, 369, 370, 371, 372, 373, 374, 375, 376, 377, 378, 379, 380, 381, 382, 383, 384, 385, 386, 387, 388, 389, 390, 391, 392, 393, 394, 395, 396, 397, 398, 399, 400, 401, 402, 403, 404, 405, 406, 407], Feature shape: (3539000, 408)\n"
     ]
    },
    {
     "name": "stderr",
     "output_type": "stream",
     "text": [
      " 25%|██▌       | 1/4 [00:28<01:24, 28.32s/it]"
     ]
    },
    {
     "name": "stdout",
     "output_type": "stream",
     "text": [
      "Category: avel_, Matching labels: ['avel_2_1_3_11', 'avel_2_0_3_11', 'avel_1_3_4_11', 'avel_0_3_4_11', 'avel_2_3_4_11', 'avel_3_4_5_11', 'avel_1_3_15_11', 'avel_0_3_15_11', 'avel_2_3_15_11', 'avel_4_3_15_11', 'avel_1_3_11_11', 'avel_0_3_11_11', 'avel_2_3_11_11', 'avel_4_3_11_11', 'avel_12_13_14_11', 'avel_13_14_15_11', 'avel_14_15_3_11', 'avel_8_9_10_11', 'avel_9_10_11_11', 'avel_10_11_3_11', 'avel_18_4_3_11', 'avel_18_4_5_11', 'avel_21_4_3_11', 'avel_21_4_5_11', 'avel_16_17_18_11', 'avel_17_18_4_11', 'avel_19_20_21_11', 'avel_20_21_4_11', 'avel_2_3_8_11', 'avel_2_3_9_11', 'avel_2_3_10_11', 'avel_2_3_12_11', 'avel_2_3_13_11', 'avel_2_3_14_11', 'avel_5_4_16_11', 'avel_5_4_17_11', 'avel_5_4_19_11', 'avel_5_4_20_11', 'avel_4_5_16_11', 'avel_4_5_17_11', 'avel_4_5_19_11', 'avel_4_5_20_11', 'avel_2_3_5_11', 'avel_2_4_16_11', 'avel_2_4_17_11', 'avel_2_4_18_11', 'avel_2_4_19_11', 'avel_2_4_20_11', 'avel_2_4_21_11', 'avel_2_0_16_11', 'avel_2_0_17_11', 'avel_2_0_18_11', 'avel_2_1_19_11', 'avel_2_1_20_11', 'avel_2_1_21_11', 'avel_2_1_3_23', 'avel_2_0_3_23', 'avel_1_3_4_23', 'avel_0_3_4_23', 'avel_2_3_4_23', 'avel_3_4_5_23', 'avel_1_3_15_23', 'avel_0_3_15_23', 'avel_2_3_15_23', 'avel_4_3_15_23', 'avel_1_3_11_23', 'avel_0_3_11_23', 'avel_2_3_11_23', 'avel_4_3_11_23', 'avel_12_13_14_23', 'avel_13_14_15_23', 'avel_14_15_3_23', 'avel_8_9_10_23', 'avel_9_10_11_23', 'avel_10_11_3_23', 'avel_18_4_3_23', 'avel_18_4_5_23', 'avel_21_4_3_23', 'avel_21_4_5_23', 'avel_16_17_18_23', 'avel_17_18_4_23', 'avel_19_20_21_23', 'avel_20_21_4_23', 'avel_2_3_8_23', 'avel_2_3_9_23', 'avel_2_3_10_23', 'avel_2_3_12_23', 'avel_2_3_13_23', 'avel_2_3_14_23', 'avel_5_4_16_23', 'avel_5_4_17_23', 'avel_5_4_19_23', 'avel_5_4_20_23', 'avel_4_5_16_23', 'avel_4_5_17_23', 'avel_4_5_19_23', 'avel_4_5_20_23', 'avel_2_3_5_23', 'avel_2_4_16_23', 'avel_2_4_17_23', 'avel_2_4_18_23', 'avel_2_4_19_23', 'avel_2_4_20_23', 'avel_2_4_21_23', 'avel_2_0_16_23', 'avel_2_0_17_23', 'avel_2_0_18_23', 'avel_2_1_19_23', 'avel_2_1_20_23', 'avel_2_1_21_23', 'avel_2_1_3_103', 'avel_2_0_3_103', 'avel_1_3_4_103', 'avel_0_3_4_103', 'avel_2_3_4_103', 'avel_3_4_5_103', 'avel_1_3_15_103', 'avel_0_3_15_103', 'avel_2_3_15_103', 'avel_4_3_15_103', 'avel_1_3_11_103', 'avel_0_3_11_103', 'avel_2_3_11_103', 'avel_4_3_11_103', 'avel_12_13_14_103', 'avel_13_14_15_103', 'avel_14_15_3_103', 'avel_8_9_10_103', 'avel_9_10_11_103', 'avel_10_11_3_103', 'avel_18_4_3_103', 'avel_18_4_5_103', 'avel_21_4_3_103', 'avel_21_4_5_103', 'avel_16_17_18_103', 'avel_17_18_4_103', 'avel_19_20_21_103', 'avel_20_21_4_103', 'avel_2_3_8_103', 'avel_2_3_9_103', 'avel_2_3_10_103', 'avel_2_3_12_103', 'avel_2_3_13_103', 'avel_2_3_14_103', 'avel_5_4_16_103', 'avel_5_4_17_103', 'avel_5_4_19_103', 'avel_5_4_20_103', 'avel_4_5_16_103', 'avel_4_5_17_103', 'avel_4_5_19_103', 'avel_4_5_20_103', 'avel_2_3_5_103', 'avel_2_4_16_103', 'avel_2_4_17_103', 'avel_2_4_18_103', 'avel_2_4_19_103', 'avel_2_4_20_103', 'avel_2_4_21_103', 'avel_2_0_16_103', 'avel_2_0_17_103', 'avel_2_0_18_103', 'avel_2_1_19_103', 'avel_2_1_20_103', 'avel_2_1_21_103', 'avel_std_2_1_3_11', 'avel_std_2_0_3_11', 'avel_std_1_3_4_11', 'avel_std_0_3_4_11', 'avel_std_2_3_4_11', 'avel_std_3_4_5_11', 'avel_std_1_3_15_11', 'avel_std_0_3_15_11', 'avel_std_2_3_15_11', 'avel_std_4_3_15_11', 'avel_std_1_3_11_11', 'avel_std_0_3_11_11', 'avel_std_2_3_11_11', 'avel_std_4_3_11_11', 'avel_std_12_13_14_11', 'avel_std_13_14_15_11', 'avel_std_14_15_3_11', 'avel_std_8_9_10_11', 'avel_std_9_10_11_11', 'avel_std_10_11_3_11', 'avel_std_18_4_3_11', 'avel_std_18_4_5_11', 'avel_std_21_4_3_11', 'avel_std_21_4_5_11', 'avel_std_16_17_18_11', 'avel_std_17_18_4_11', 'avel_std_19_20_21_11', 'avel_std_20_21_4_11', 'avel_std_2_3_8_11', 'avel_std_2_3_9_11', 'avel_std_2_3_10_11', 'avel_std_2_3_12_11', 'avel_std_2_3_13_11', 'avel_std_2_3_14_11', 'avel_std_5_4_16_11', 'avel_std_5_4_17_11', 'avel_std_5_4_19_11', 'avel_std_5_4_20_11', 'avel_std_4_5_16_11', 'avel_std_4_5_17_11', 'avel_std_4_5_19_11', 'avel_std_4_5_20_11', 'avel_std_2_3_5_11', 'avel_std_2_4_16_11', 'avel_std_2_4_17_11', 'avel_std_2_4_18_11', 'avel_std_2_4_19_11', 'avel_std_2_4_20_11', 'avel_std_2_4_21_11', 'avel_std_2_0_16_11', 'avel_std_2_0_17_11', 'avel_std_2_0_18_11', 'avel_std_2_1_19_11', 'avel_std_2_1_20_11', 'avel_std_2_1_21_11', 'avel_std_2_1_3_23', 'avel_std_2_0_3_23', 'avel_std_1_3_4_23', 'avel_std_0_3_4_23', 'avel_std_2_3_4_23', 'avel_std_3_4_5_23', 'avel_std_1_3_15_23', 'avel_std_0_3_15_23', 'avel_std_2_3_15_23', 'avel_std_4_3_15_23', 'avel_std_1_3_11_23', 'avel_std_0_3_11_23', 'avel_std_2_3_11_23', 'avel_std_4_3_11_23', 'avel_std_12_13_14_23', 'avel_std_13_14_15_23', 'avel_std_14_15_3_23', 'avel_std_8_9_10_23', 'avel_std_9_10_11_23', 'avel_std_10_11_3_23', 'avel_std_18_4_3_23', 'avel_std_18_4_5_23', 'avel_std_21_4_3_23', 'avel_std_21_4_5_23', 'avel_std_16_17_18_23', 'avel_std_17_18_4_23', 'avel_std_19_20_21_23', 'avel_std_20_21_4_23', 'avel_std_2_3_8_23', 'avel_std_2_3_9_23', 'avel_std_2_3_10_23', 'avel_std_2_3_12_23', 'avel_std_2_3_13_23', 'avel_std_2_3_14_23', 'avel_std_5_4_16_23', 'avel_std_5_4_17_23', 'avel_std_5_4_19_23', 'avel_std_5_4_20_23', 'avel_std_4_5_16_23', 'avel_std_4_5_17_23', 'avel_std_4_5_19_23', 'avel_std_4_5_20_23', 'avel_std_2_3_5_23', 'avel_std_2_4_16_23', 'avel_std_2_4_17_23', 'avel_std_2_4_18_23', 'avel_std_2_4_19_23', 'avel_std_2_4_20_23', 'avel_std_2_4_21_23', 'avel_std_2_0_16_23', 'avel_std_2_0_17_23', 'avel_std_2_0_18_23', 'avel_std_2_1_19_23', 'avel_std_2_1_20_23', 'avel_std_2_1_21_23', 'avel_std_2_1_3_103', 'avel_std_2_0_3_103', 'avel_std_1_3_4_103', 'avel_std_0_3_4_103', 'avel_std_2_3_4_103', 'avel_std_3_4_5_103', 'avel_std_1_3_15_103', 'avel_std_0_3_15_103', 'avel_std_2_3_15_103', 'avel_std_4_3_15_103', 'avel_std_1_3_11_103', 'avel_std_0_3_11_103', 'avel_std_2_3_11_103', 'avel_std_4_3_11_103', 'avel_std_12_13_14_103', 'avel_std_13_14_15_103', 'avel_std_14_15_3_103', 'avel_std_8_9_10_103', 'avel_std_9_10_11_103', 'avel_std_10_11_3_103', 'avel_std_18_4_3_103', 'avel_std_18_4_5_103', 'avel_std_21_4_3_103', 'avel_std_21_4_5_103', 'avel_std_16_17_18_103', 'avel_std_17_18_4_103', 'avel_std_19_20_21_103', 'avel_std_20_21_4_103', 'avel_std_2_3_8_103', 'avel_std_2_3_9_103', 'avel_std_2_3_10_103', 'avel_std_2_3_12_103', 'avel_std_2_3_13_103', 'avel_std_2_3_14_103', 'avel_std_5_4_16_103', 'avel_std_5_4_17_103', 'avel_std_5_4_19_103', 'avel_std_5_4_20_103', 'avel_std_4_5_16_103', 'avel_std_4_5_17_103', 'avel_std_4_5_19_103', 'avel_std_4_5_20_103', 'avel_std_2_3_5_103', 'avel_std_2_4_16_103', 'avel_std_2_4_17_103', 'avel_std_2_4_18_103', 'avel_std_2_4_19_103', 'avel_std_2_4_20_103', 'avel_std_2_4_21_103', 'avel_std_2_0_16_103', 'avel_std_2_0_17_103', 'avel_std_2_0_18_103', 'avel_std_2_1_19_103', 'avel_std_2_1_20_103', 'avel_std_2_1_21_103']\n",
      "Category: avel_, Columns: [408, 409, 410, 411, 412, 413, 414, 415, 416, 417, 418, 419, 420, 421, 422, 423, 424, 425, 426, 427, 428, 429, 430, 431, 432, 433, 434, 435, 436, 437, 438, 439, 440, 441, 442, 443, 444, 445, 446, 447, 448, 449, 450, 451, 452, 453, 454, 455, 456, 457, 458, 459, 460, 461, 462, 463, 464, 465, 466, 467, 468, 469, 470, 471, 472, 473, 474, 475, 476, 477, 478, 479, 480, 481, 482, 483, 484, 485, 486, 487, 488, 489, 490, 491, 492, 493, 494, 495, 496, 497, 498, 499, 500, 501, 502, 503, 504, 505, 506, 507, 508, 509, 510, 511, 512, 513, 514, 515, 516, 517, 518, 519, 520, 521, 522, 523, 524, 525, 526, 527, 528, 529, 530, 531, 532, 533, 534, 535, 536, 537, 538, 539, 540, 541, 542, 543, 544, 545, 546, 547, 548, 549, 550, 551, 552, 553, 554, 555, 556, 557, 558, 559, 560, 561, 562, 563, 564, 565, 566, 567, 568, 569, 570, 571, 572, 573, 574, 575, 576, 577, 578, 579, 580, 581, 582, 583, 584, 585, 586, 587, 588, 589, 590, 591, 592, 593, 594, 595, 596, 597, 598, 599, 600, 601, 602, 603, 604, 605, 606, 607, 608, 609, 610, 611, 612, 613, 614, 615, 616, 617, 618, 619, 620, 621, 622, 623, 624, 625, 626, 627, 628, 629, 630, 631, 632, 633, 634, 635, 636, 637, 638, 639, 640, 641, 642, 643, 644, 645, 646, 647, 648, 649, 650, 651, 652, 653, 654, 655, 656, 657, 658, 659, 660, 661, 662, 663, 664, 665, 666, 667, 668, 669, 670, 671, 672, 673, 674, 675, 676, 677, 678, 679, 680, 681, 682, 683, 684, 685, 686, 687, 688, 689, 690, 691, 692, 693, 694, 695, 696, 697, 698, 699, 700, 701, 702, 703, 704, 705, 706, 707, 708, 709, 710, 711, 712, 713, 714, 715, 716, 717, 718, 719, 720, 721, 722, 723, 724, 725, 726, 727, 728, 729, 730, 731, 732, 733, 734, 735, 736, 737], Feature shape: (3539000, 330)\n"
     ]
    },
    {
     "name": "stderr",
     "output_type": "stream",
     "text": [
      " 50%|█████     | 2/4 [00:50<00:49, 24.70s/it]"
     ]
    },
    {
     "name": "stdout",
     "output_type": "stream",
     "text": [
      "Category: ang_, Matching labels: ['ang_2_1_3', 'ang_2_0_3', 'ang_1_3_4', 'ang_0_3_4', 'ang_2_3_4', 'ang_3_4_5', 'ang_1_3_15', 'ang_0_3_15', 'ang_2_3_15', 'ang_4_3_15', 'ang_1_3_11', 'ang_0_3_11', 'ang_2_3_11', 'ang_4_3_11', 'ang_12_13_14', 'ang_13_14_15', 'ang_14_15_3', 'ang_8_9_10', 'ang_9_10_11', 'ang_10_11_3', 'ang_18_4_3', 'ang_18_4_5', 'ang_21_4_3', 'ang_21_4_5', 'ang_16_17_18', 'ang_17_18_4', 'ang_19_20_21', 'ang_20_21_4', 'ang_2_3_8', 'ang_2_3_9', 'ang_2_3_10', 'ang_2_3_12', 'ang_2_3_13', 'ang_2_3_14', 'ang_5_4_16', 'ang_5_4_17', 'ang_5_4_19', 'ang_5_4_20', 'ang_4_5_16', 'ang_4_5_17', 'ang_4_5_19', 'ang_4_5_20', 'ang_2_3_5', 'ang_2_4_16', 'ang_2_4_17', 'ang_2_4_18', 'ang_2_4_19', 'ang_2_4_20', 'ang_2_4_21', 'ang_2_0_16', 'ang_2_0_17', 'ang_2_0_18', 'ang_2_1_19', 'ang_2_1_20', 'ang_2_1_21']\n",
      "Category: ang_, Columns: [738, 739, 740, 741, 742, 743, 744, 745, 746, 747, 748, 749, 750, 751, 752, 753, 754, 755, 756, 757, 758, 759, 760, 761, 762, 763, 764, 765, 766, 767, 768, 769, 770, 771, 772, 773, 774, 775, 776, 777, 778, 779, 780, 781, 782, 783, 784, 785, 786, 787, 788, 789, 790, 791, 792], Feature shape: (3539000, 55)\n"
     ]
    },
    {
     "name": "stderr",
     "output_type": "stream",
     "text": [
      "100%|██████████| 4/4 [00:55<00:00, 13.98s/it]"
     ]
    },
    {
     "name": "stdout",
     "output_type": "stream",
     "text": [
      "Category: ego_pose_, Matching labels: []\n",
      "Skipping category ego_pose_: no matching columns found.\n",
      "PCA completed.\n",
      "PCA features shape: (3539000, 40)\n",
      "PCA labels: ['vel_pc0', 'vel_pc1', 'vel_pc2', 'vel_pc3', 'vel_pc4', 'vel_pc5', 'vel_pc6', 'vel_pc7', 'vel_pc8', 'vel_pc9', 'avel_pc0', 'avel_pc1', 'avel_pc2', 'avel_pc3', 'avel_pc4', 'avel_pc5', 'avel_pc6', 'avel_pc7', 'avel_pc8', 'avel_pc9', 'ang_pc0', 'ang_pc1', 'ang_pc2', 'ang_pc3', 'ang_pc4', 'ang_pc5', 'ang_pc6', 'ang_pc7', 'ang_pc8', 'ang_pc9', 'ego_pose_pc0', 'ego_pose_pc1', 'ego_pose_pc2', 'ego_pose_pc3', 'ego_pose_pc4', 'ego_pose_pc5', 'ego_pose_pc6', 'ego_pose_pc7', 'ego_pose_pc8', 'ego_pose_pc9']\n"
     ]
    },
    {
     "name": "stderr",
     "output_type": "stream",
     "text": [
      "\n"
     ]
    }
   ],
   "source": [
    "from tqdm import tqdm\n",
    "from typing import Optional, Union, List, Tuple, Type\n",
    "def pca(\n",
    "    features: np.ndarray,\n",
    "    labels: List,\n",
    "    categories: List[str] = [\"vel\", \"ego_euc\", \"ang\", \"avel\"],\n",
    "    n_pcs: int = 10,\n",
    "    downsample: int = 1,\n",
    "    method=\"fbpca\",\n",
    "):\n",
    "    print(\"Calculating principal components ... \")\n",
    "\n",
    "    # Initializing the PCA method\n",
    "    # if method.startswith(\"torch\"):\n",
    "    #     import torch\n",
    "\n",
    "    #     pca_feats = torch.zeros(features.shape[0], len(categories) * n_pcs)\n",
    "    #     features = torch.tensor(features)\n",
    "    # else:\n",
    "    # Centering the features if not torch (pytorch does it itself)\n",
    "    features = features - features.mean(axis=0)\n",
    "    pca_feats = np.zeros(\n",
    "        (features.shape[0], len(categories) * n_pcs), dtype=features.dtype\n",
    "    )\n",
    "\n",
    "    if method == \"ipca\":\n",
    "        from sklearn.decomposition import IncrementalPCA\n",
    "\n",
    "        pca = IncrementalPCA(n_components=n_pcs, batch_size=None)\n",
    "    elif method.startswith(\"fbpca\"):\n",
    "        import fbpca\n",
    "\n",
    "    num_cols = 0\n",
    "    for i, cat in enumerate(tqdm(categories)):  # Iterate through each feature category\n",
    "        cat += \"_\"\n",
    "    \n",
    "        cols_idx = [\n",
    "            i\n",
    "            for i, col in enumerate(labels)\n",
    "            if (col.startswith(cat) or (\"_\" + cat in col))\n",
    "        ]\n",
    "        num_cols += len(cols_idx)\n",
    "        print(f\"Category: {cat}, Matching labels: {[label for label in combined_labels if cat in label]}\")\n",
    "        if not cols_idx:\n",
    "            print(f\"Skipping category {cat}: no matching columns found.\")\n",
    "            continue\n",
    "\n",
    "        if method == \"ipca\" or method == \"sklearn_pca\":\n",
    "            # import pdb; pdb.set_trace()\n",
    "            pca_feats[:, i * n_pcs : (i + 1) * n_pcs] = pca.fit_transform(\n",
    "                features[:, cols_idx]\n",
    "            )\n",
    "\n",
    "        # elif method.startswith(\"torch\"):\n",
    "        #     feat_cat = features[:, cols_idx]\n",
    "        #     if method.endswith(\"_gpu\"):\n",
    "        #         feat_cat = feat_cat.cuda()\n",
    "\n",
    "        #     if \"pca\" in method:\n",
    "        #         (_, _, V) = torch.pca_lowrank(feat_cat)\n",
    "        #     elif \"svd\" in method:\n",
    "        #         feat_cat -= feat_cat.mean()\n",
    "        #         (_, _, V) = torch.linalg.svd(feat_cat)\n",
    "\n",
    "        #     if method.endswith(\"_gpu\"):\n",
    "        #         pca_feats[:, i * n_pcs : (i + 1) * n_pcs] = (\n",
    "        #             torch.matmul(feat_cat, V[:, :n_pcs]).detach().cpu()\n",
    "        #         )\n",
    "        #         feat_cat.detach().cpu()\n",
    "        #         V.detach().cpu()\n",
    "        #     else:\n",
    "        #         pca_feats[:, i * n_pcs : (i + 1) * n_pcs] = torch.matmul(\n",
    "        #             feat_cat, V[:, :n_pcs]\n",
    "        #         )\n",
    "\n",
    "        elif method == \"fbpca\":\n",
    "            print(f\"Category: {cat}, Columns: {cols_idx}, Feature shape: {features[:, cols_idx].shape}\")\n",
    "\n",
    "            (_, _, V) = fbpca.pca(\n",
    "                features[::downsample, cols_idx].astype(np.float64), k=n_pcs\n",
    "            )\n",
    "            pca_feats[:, i * n_pcs : (i + 1) * n_pcs] = np.matmul(\n",
    "                features[:, cols_idx], V.astype(features.dtype).T\n",
    "            )\n",
    "\n",
    "    # if method.startswith(\"torch_pca\"):\n",
    "    #     pca_feats = pca_feats.numpy()\n",
    "\n",
    "    # assert num_cols == features.shape[1]\n",
    "\n",
    "    pc_labels = [\n",
    "        \"_\".join([cat, \"pc\" + str(i)]) for cat in categories for i in range(n_pcs)\n",
    "    ]\n",
    "\n",
    "    return pca_feats, pc_labels\n",
    "\n",
    " \n",
    "# Perform PCA on the combined features\n",
    "pca_features, pca_labels = pca(\n",
    "    features=combined_features,\n",
    "    labels=combined_labels,\n",
    "    categories=[\"vel\", \"avel\", \"ang\", \"ego_pose\"],\n",
    "    n_pcs=10,\n",
    "    downsample=1,\n",
    "    method=\"fbpca\",\n",
    ")\n",
    "\n",
    "# Save or further analyze PCA results\n",
    "print(\"PCA completed.\")\n",
    "print(\"PCA features shape:\", pca_features.shape)\n",
    "print(\"PCA labels:\", pca_labels)"
   ]
  },
  {
   "cell_type": "code",
   "execution_count": 44,
   "metadata": {},
   "outputs": [],
   "source": [
    "write.features_h5(pca_features, pca_labels, path=config[\"out_path\"] + \"_combined_pca.h5\")"
   ]
  },
  {
   "cell_type": "code",
   "execution_count": 45,
   "metadata": {},
   "outputs": [
    {
     "name": "stdout",
     "output_type": "stream",
     "text": [
      "Calculating wavelets ... \n",
      "Calculating wavelets for video 0.0\n"
     ]
    },
    {
     "name": "stderr",
     "output_type": "stream",
     "text": [
      "100%|██████████| 40/40 [00:01<00:00, 27.79it/s]\n"
     ]
    },
    {
     "name": "stdout",
     "output_type": "stream",
     "text": [
      "Calculating wavelets for video 1.0\n"
     ]
    },
    {
     "name": "stderr",
     "output_type": "stream",
     "text": [
      "100%|██████████| 40/40 [00:01<00:00, 28.09it/s]\n"
     ]
    },
    {
     "name": "stdout",
     "output_type": "stream",
     "text": [
      "Calculating wavelets for video 2.0\n"
     ]
    },
    {
     "name": "stderr",
     "output_type": "stream",
     "text": [
      "100%|██████████| 40/40 [00:01<00:00, 28.08it/s]\n"
     ]
    },
    {
     "name": "stdout",
     "output_type": "stream",
     "text": [
      "Calculating wavelets for video 3.0\n"
     ]
    },
    {
     "name": "stderr",
     "output_type": "stream",
     "text": [
      "100%|██████████| 40/40 [00:01<00:00, 27.99it/s]\n"
     ]
    },
    {
     "name": "stdout",
     "output_type": "stream",
     "text": [
      "Calculating wavelets for video 4.0\n"
     ]
    },
    {
     "name": "stderr",
     "output_type": "stream",
     "text": [
      "100%|██████████| 40/40 [00:01<00:00, 27.91it/s]\n"
     ]
    },
    {
     "name": "stdout",
     "output_type": "stream",
     "text": [
      "Calculating wavelets for video 5.0\n"
     ]
    },
    {
     "name": "stderr",
     "output_type": "stream",
     "text": [
      "100%|██████████| 40/40 [00:01<00:00, 27.83it/s]\n"
     ]
    },
    {
     "name": "stdout",
     "output_type": "stream",
     "text": [
      "Calculating wavelets for video 6.0\n"
     ]
    },
    {
     "name": "stderr",
     "output_type": "stream",
     "text": [
      "100%|██████████| 40/40 [00:01<00:00, 27.94it/s]\n"
     ]
    },
    {
     "name": "stdout",
     "output_type": "stream",
     "text": [
      "Calculating wavelets for video 7.0\n"
     ]
    },
    {
     "name": "stderr",
     "output_type": "stream",
     "text": [
      "100%|██████████| 40/40 [00:01<00:00, 27.97it/s]\n"
     ]
    },
    {
     "name": "stdout",
     "output_type": "stream",
     "text": [
      "Calculating wavelets for video 8.0\n"
     ]
    },
    {
     "name": "stderr",
     "output_type": "stream",
     "text": [
      "100%|██████████| 40/40 [00:01<00:00, 27.79it/s]\n"
     ]
    },
    {
     "name": "stdout",
     "output_type": "stream",
     "text": [
      "Calculating wavelets for video 9.0\n"
     ]
    },
    {
     "name": "stderr",
     "output_type": "stream",
     "text": [
      "100%|██████████| 40/40 [00:01<00:00, 27.81it/s]\n"
     ]
    },
    {
     "name": "stdout",
     "output_type": "stream",
     "text": [
      "Calculating wavelets for video 10.0\n"
     ]
    },
    {
     "name": "stderr",
     "output_type": "stream",
     "text": [
      "100%|██████████| 40/40 [00:01<00:00, 38.32it/s]\n"
     ]
    },
    {
     "name": "stdout",
     "output_type": "stream",
     "text": [
      "Calculating wavelets for video 11.0\n"
     ]
    },
    {
     "name": "stderr",
     "output_type": "stream",
     "text": [
      "100%|██████████| 40/40 [00:01<00:00, 38.37it/s]\n"
     ]
    },
    {
     "name": "stdout",
     "output_type": "stream",
     "text": [
      "Calculating wavelets for video 12.0\n"
     ]
    },
    {
     "name": "stderr",
     "output_type": "stream",
     "text": [
      "100%|██████████| 40/40 [00:01<00:00, 38.73it/s]\n"
     ]
    },
    {
     "name": "stdout",
     "output_type": "stream",
     "text": [
      "Calculating wavelets for video 13.0\n"
     ]
    },
    {
     "name": "stderr",
     "output_type": "stream",
     "text": [
      "100%|██████████| 40/40 [00:01<00:00, 38.66it/s]\n"
     ]
    },
    {
     "name": "stdout",
     "output_type": "stream",
     "text": [
      "Calculating wavelets for video 14.0\n"
     ]
    },
    {
     "name": "stderr",
     "output_type": "stream",
     "text": [
      "100%|██████████| 40/40 [00:01<00:00, 38.39it/s]\n"
     ]
    },
    {
     "name": "stdout",
     "output_type": "stream",
     "text": [
      "Calculating wavelets for video 15.0\n"
     ]
    },
    {
     "name": "stderr",
     "output_type": "stream",
     "text": [
      "100%|██████████| 40/40 [00:01<00:00, 38.88it/s]\n"
     ]
    },
    {
     "name": "stdout",
     "output_type": "stream",
     "text": [
      "Calculating wavelets for video 16.0\n"
     ]
    },
    {
     "name": "stderr",
     "output_type": "stream",
     "text": [
      "100%|██████████| 40/40 [00:01<00:00, 38.46it/s]\n"
     ]
    },
    {
     "name": "stdout",
     "output_type": "stream",
     "text": [
      "Calculating wavelets for video 17.0\n"
     ]
    },
    {
     "name": "stderr",
     "output_type": "stream",
     "text": [
      "100%|██████████| 40/40 [00:01<00:00, 38.36it/s]\n"
     ]
    },
    {
     "name": "stdout",
     "output_type": "stream",
     "text": [
      "Calculating wavelets for video 18.0\n"
     ]
    },
    {
     "name": "stderr",
     "output_type": "stream",
     "text": [
      "100%|██████████| 40/40 [00:01<00:00, 38.77it/s]\n"
     ]
    },
    {
     "name": "stdout",
     "output_type": "stream",
     "text": [
      "Calculating wavelets for video 19.0\n"
     ]
    },
    {
     "name": "stderr",
     "output_type": "stream",
     "text": [
      "100%|██████████| 40/40 [00:01<00:00, 38.23it/s]\n"
     ]
    },
    {
     "name": "stdout",
     "output_type": "stream",
     "text": [
      "Calculating wavelets for video 20.0\n"
     ]
    },
    {
     "name": "stderr",
     "output_type": "stream",
     "text": [
      "100%|██████████| 40/40 [00:01<00:00, 38.63it/s]\n"
     ]
    },
    {
     "name": "stdout",
     "output_type": "stream",
     "text": [
      "Calculating wavelets for video 21.0\n"
     ]
    },
    {
     "name": "stderr",
     "output_type": "stream",
     "text": [
      "100%|██████████| 40/40 [00:01<00:00, 38.02it/s]\n"
     ]
    },
    {
     "name": "stdout",
     "output_type": "stream",
     "text": [
      "Calculating wavelets for video 22.0\n"
     ]
    },
    {
     "name": "stderr",
     "output_type": "stream",
     "text": [
      "100%|██████████| 40/40 [00:01<00:00, 38.38it/s]\n"
     ]
    },
    {
     "name": "stdout",
     "output_type": "stream",
     "text": [
      "Calculating wavelets for video 23.0\n"
     ]
    },
    {
     "name": "stderr",
     "output_type": "stream",
     "text": [
      "100%|██████████| 40/40 [00:01<00:00, 37.13it/s]\n"
     ]
    },
    {
     "name": "stdout",
     "output_type": "stream",
     "text": [
      "Calculating wavelets for video 24.0\n"
     ]
    },
    {
     "name": "stderr",
     "output_type": "stream",
     "text": [
      "100%|██████████| 40/40 [00:01<00:00, 36.66it/s]\n"
     ]
    },
    {
     "name": "stdout",
     "output_type": "stream",
     "text": [
      "Calculating wavelets for video 25.0\n"
     ]
    },
    {
     "name": "stderr",
     "output_type": "stream",
     "text": [
      "100%|██████████| 40/40 [00:01<00:00, 37.69it/s]\n"
     ]
    },
    {
     "name": "stdout",
     "output_type": "stream",
     "text": [
      "Calculating wavelets for video 26.0\n"
     ]
    },
    {
     "name": "stderr",
     "output_type": "stream",
     "text": [
      "100%|██████████| 40/40 [00:01<00:00, 38.26it/s]\n"
     ]
    },
    {
     "name": "stdout",
     "output_type": "stream",
     "text": [
      "Calculating wavelets for video 27.0\n"
     ]
    },
    {
     "name": "stderr",
     "output_type": "stream",
     "text": [
      "100%|██████████| 40/40 [00:01<00:00, 37.75it/s]\n"
     ]
    },
    {
     "name": "stdout",
     "output_type": "stream",
     "text": [
      "Calculating wavelets for video 28.0\n"
     ]
    },
    {
     "name": "stderr",
     "output_type": "stream",
     "text": [
      "100%|██████████| 40/40 [00:01<00:00, 38.17it/s]\n"
     ]
    },
    {
     "name": "stdout",
     "output_type": "stream",
     "text": [
      "Calculating wavelets for video 29.0\n"
     ]
    },
    {
     "name": "stderr",
     "output_type": "stream",
     "text": [
      "100%|██████████| 40/40 [00:01<00:00, 38.66it/s]\n"
     ]
    },
    {
     "name": "stdout",
     "output_type": "stream",
     "text": [
      "Calculating wavelets for video 30.0\n"
     ]
    },
    {
     "name": "stderr",
     "output_type": "stream",
     "text": [
      "100%|██████████| 40/40 [00:01<00:00, 38.78it/s]\n"
     ]
    },
    {
     "name": "stdout",
     "output_type": "stream",
     "text": [
      "Calculating wavelets for video 31.0\n"
     ]
    },
    {
     "name": "stderr",
     "output_type": "stream",
     "text": [
      "100%|██████████| 40/40 [00:01<00:00, 37.96it/s]\n"
     ]
    },
    {
     "name": "stdout",
     "output_type": "stream",
     "text": [
      "Calculating wavelets for video 32.0\n"
     ]
    },
    {
     "name": "stderr",
     "output_type": "stream",
     "text": [
      "100%|██████████| 40/40 [00:01<00:00, 38.27it/s]\n"
     ]
    },
    {
     "name": "stdout",
     "output_type": "stream",
     "text": [
      "Calculating wavelets for video 33.0\n"
     ]
    },
    {
     "name": "stderr",
     "output_type": "stream",
     "text": [
      "100%|██████████| 40/40 [00:01<00:00, 38.21it/s]\n"
     ]
    },
    {
     "name": "stdout",
     "output_type": "stream",
     "text": [
      "Calculating wavelets for video 34.0\n"
     ]
    },
    {
     "name": "stderr",
     "output_type": "stream",
     "text": [
      "100%|██████████| 40/40 [00:01<00:00, 38.63it/s]\n"
     ]
    },
    {
     "name": "stdout",
     "output_type": "stream",
     "text": [
      "Calculating wavelets for video 35.0\n"
     ]
    },
    {
     "name": "stderr",
     "output_type": "stream",
     "text": [
      "100%|██████████| 40/40 [00:01<00:00, 37.51it/s]\n"
     ]
    },
    {
     "name": "stdout",
     "output_type": "stream",
     "text": [
      "Calculating wavelets for video 36.0\n"
     ]
    },
    {
     "name": "stderr",
     "output_type": "stream",
     "text": [
      "100%|██████████| 40/40 [00:01<00:00, 38.32it/s]\n"
     ]
    },
    {
     "name": "stdout",
     "output_type": "stream",
     "text": [
      "Calculating wavelets for video 37.0\n"
     ]
    },
    {
     "name": "stderr",
     "output_type": "stream",
     "text": [
      "100%|██████████| 40/40 [00:01<00:00, 38.24it/s]\n"
     ]
    },
    {
     "name": "stdout",
     "output_type": "stream",
     "text": [
      "Calculating wavelets for video 38.0\n"
     ]
    },
    {
     "name": "stderr",
     "output_type": "stream",
     "text": [
      "100%|██████████| 40/40 [00:01<00:00, 38.95it/s]\n"
     ]
    },
    {
     "name": "stdout",
     "output_type": "stream",
     "text": [
      "Calculating wavelets for video 39.0\n"
     ]
    },
    {
     "name": "stderr",
     "output_type": "stream",
     "text": [
      "100%|██████████| 40/40 [00:01<00:00, 38.96it/s]\n"
     ]
    },
    {
     "name": "stdout",
     "output_type": "stream",
     "text": [
      "Calculating wavelets for video 40.0\n"
     ]
    },
    {
     "name": "stderr",
     "output_type": "stream",
     "text": [
      "100%|██████████| 40/40 [00:01<00:00, 38.82it/s]\n"
     ]
    },
    {
     "name": "stdout",
     "output_type": "stream",
     "text": [
      "Calculating wavelets for video 41.0\n"
     ]
    },
    {
     "name": "stderr",
     "output_type": "stream",
     "text": [
      "100%|██████████| 40/40 [00:01<00:00, 39.01it/s]\n"
     ]
    },
    {
     "name": "stdout",
     "output_type": "stream",
     "text": [
      "Calculating wavelets for video 42.0\n"
     ]
    },
    {
     "name": "stderr",
     "output_type": "stream",
     "text": [
      "100%|██████████| 40/40 [00:01<00:00, 38.98it/s]\n"
     ]
    },
    {
     "name": "stdout",
     "output_type": "stream",
     "text": [
      "Calculating wavelets for video 43.0\n"
     ]
    },
    {
     "name": "stderr",
     "output_type": "stream",
     "text": [
      "100%|██████████| 40/40 [00:00<00:00, 57.34it/s]\n"
     ]
    },
    {
     "name": "stdout",
     "output_type": "stream",
     "text": [
      "Calculating wavelets for video 44.0\n"
     ]
    },
    {
     "name": "stderr",
     "output_type": "stream",
     "text": [
      "100%|██████████| 40/40 [00:00<00:00, 57.40it/s]\n"
     ]
    },
    {
     "name": "stdout",
     "output_type": "stream",
     "text": [
      "Calculating wavelets for video 45.0\n"
     ]
    },
    {
     "name": "stderr",
     "output_type": "stream",
     "text": [
      "100%|██████████| 40/40 [00:01<00:00, 38.79it/s]\n"
     ]
    },
    {
     "name": "stdout",
     "output_type": "stream",
     "text": [
      "Calculating wavelets for video 46.0\n"
     ]
    },
    {
     "name": "stderr",
     "output_type": "stream",
     "text": [
      "100%|██████████| 40/40 [00:01<00:00, 38.68it/s]\n"
     ]
    },
    {
     "name": "stdout",
     "output_type": "stream",
     "text": [
      "Calculating wavelets for video 47.0\n"
     ]
    },
    {
     "name": "stderr",
     "output_type": "stream",
     "text": [
      "100%|██████████| 40/40 [00:01<00:00, 38.78it/s]\n"
     ]
    },
    {
     "name": "stdout",
     "output_type": "stream",
     "text": [
      "Calculating wavelets for video 48.0\n"
     ]
    },
    {
     "name": "stderr",
     "output_type": "stream",
     "text": [
      "100%|██████████| 40/40 [00:00<00:00, 56.52it/s]\n"
     ]
    },
    {
     "name": "stdout",
     "output_type": "stream",
     "text": [
      "Calculating wavelets for video 49.0\n"
     ]
    },
    {
     "name": "stderr",
     "output_type": "stream",
     "text": [
      "100%|██████████| 40/40 [00:00<00:00, 54.39it/s]\n"
     ]
    },
    {
     "name": "stdout",
     "output_type": "stream",
     "text": [
      "Calculating wavelets for video 50.0\n"
     ]
    },
    {
     "name": "stderr",
     "output_type": "stream",
     "text": [
      "100%|██████████| 40/40 [00:00<00:00, 55.84it/s]\n"
     ]
    },
    {
     "name": "stdout",
     "output_type": "stream",
     "text": [
      "Calculating wavelets for video 51.0\n"
     ]
    },
    {
     "name": "stderr",
     "output_type": "stream",
     "text": [
      "100%|██████████| 40/40 [00:00<00:00, 56.82it/s]\n"
     ]
    },
    {
     "name": "stdout",
     "output_type": "stream",
     "text": [
      "Calculating wavelets for video 52.0\n"
     ]
    },
    {
     "name": "stderr",
     "output_type": "stream",
     "text": [
      "100%|██████████| 40/40 [00:00<00:00, 56.60it/s]\n"
     ]
    },
    {
     "name": "stdout",
     "output_type": "stream",
     "text": [
      "Calculating wavelets for video 53.0\n"
     ]
    },
    {
     "name": "stderr",
     "output_type": "stream",
     "text": [
      "100%|██████████| 40/40 [00:00<00:00, 56.61it/s]\n"
     ]
    },
    {
     "name": "stdout",
     "output_type": "stream",
     "text": [
      "Calculating wavelets for video 54.0\n"
     ]
    },
    {
     "name": "stderr",
     "output_type": "stream",
     "text": [
      "100%|██████████| 40/40 [00:00<00:00, 55.21it/s]\n"
     ]
    },
    {
     "name": "stdout",
     "output_type": "stream",
     "text": [
      "Calculating wavelets for video 55.0\n"
     ]
    },
    {
     "name": "stderr",
     "output_type": "stream",
     "text": [
      "100%|██████████| 40/40 [00:00<00:00, 55.28it/s]\n"
     ]
    },
    {
     "name": "stdout",
     "output_type": "stream",
     "text": [
      "Calculating wavelets for video 56.0\n"
     ]
    },
    {
     "name": "stderr",
     "output_type": "stream",
     "text": [
      "100%|██████████| 40/40 [00:00<00:00, 53.88it/s]\n"
     ]
    },
    {
     "name": "stdout",
     "output_type": "stream",
     "text": [
      "Calculating wavelets for video 57.0\n"
     ]
    },
    {
     "name": "stderr",
     "output_type": "stream",
     "text": [
      "100%|██████████| 40/40 [00:00<00:00, 57.07it/s]\n"
     ]
    },
    {
     "name": "stdout",
     "output_type": "stream",
     "text": [
      "Calculating wavelets for video 58.0\n"
     ]
    },
    {
     "name": "stderr",
     "output_type": "stream",
     "text": [
      "100%|██████████| 40/40 [00:00<00:00, 43.42it/s]\n"
     ]
    },
    {
     "name": "stdout",
     "output_type": "stream",
     "text": [
      "Calculating wavelets for video 59.0\n"
     ]
    },
    {
     "name": "stderr",
     "output_type": "stream",
     "text": [
      "100%|██████████| 40/40 [00:00<00:00, 45.72it/s]\n"
     ]
    },
    {
     "name": "stdout",
     "output_type": "stream",
     "text": [
      "Calculating wavelets for video 60.0\n"
     ]
    },
    {
     "name": "stderr",
     "output_type": "stream",
     "text": [
      "100%|██████████| 40/40 [00:00<00:00, 49.44it/s]\n"
     ]
    },
    {
     "name": "stdout",
     "output_type": "stream",
     "text": [
      "Calculating wavelets for video 61.0\n"
     ]
    },
    {
     "name": "stderr",
     "output_type": "stream",
     "text": [
      "100%|██████████| 40/40 [00:00<00:00, 66.24it/s]\n"
     ]
    },
    {
     "name": "stdout",
     "output_type": "stream",
     "text": [
      "Calculating wavelets for video 62.0\n"
     ]
    },
    {
     "name": "stderr",
     "output_type": "stream",
     "text": [
      "100%|██████████| 40/40 [00:00<00:00, 45.36it/s]\n"
     ]
    },
    {
     "name": "stdout",
     "output_type": "stream",
     "text": [
      "Calculating wavelets for video 63.0\n"
     ]
    },
    {
     "name": "stderr",
     "output_type": "stream",
     "text": [
      "100%|██████████| 40/40 [00:00<00:00, 44.95it/s]\n"
     ]
    },
    {
     "name": "stdout",
     "output_type": "stream",
     "text": [
      "Calculating wavelets for video 64.0\n"
     ]
    },
    {
     "name": "stderr",
     "output_type": "stream",
     "text": [
      "100%|██████████| 40/40 [00:00<00:00, 45.34it/s]\n"
     ]
    },
    {
     "name": "stdout",
     "output_type": "stream",
     "text": [
      "Calculating wavelets for video 65.0\n"
     ]
    },
    {
     "name": "stderr",
     "output_type": "stream",
     "text": [
      "100%|██████████| 40/40 [00:00<00:00, 46.60it/s]\n"
     ]
    },
    {
     "name": "stdout",
     "output_type": "stream",
     "text": [
      "Calculating wavelets for video 66.0\n"
     ]
    },
    {
     "name": "stderr",
     "output_type": "stream",
     "text": [
      "100%|██████████| 40/40 [00:00<00:00, 45.73it/s]\n"
     ]
    },
    {
     "name": "stdout",
     "output_type": "stream",
     "text": [
      "Calculating wavelets for video 67.0\n"
     ]
    },
    {
     "name": "stderr",
     "output_type": "stream",
     "text": [
      "100%|██████████| 40/40 [00:00<00:00, 46.66it/s]\n"
     ]
    },
    {
     "name": "stdout",
     "output_type": "stream",
     "text": [
      "Calculating wavelets for video 68.0\n"
     ]
    },
    {
     "name": "stderr",
     "output_type": "stream",
     "text": [
      "100%|██████████| 40/40 [00:00<00:00, 46.24it/s]\n"
     ]
    },
    {
     "name": "stdout",
     "output_type": "stream",
     "text": [
      "Calculating wavelets for video 69.0\n"
     ]
    },
    {
     "name": "stderr",
     "output_type": "stream",
     "text": [
      "100%|██████████| 40/40 [00:00<00:00, 46.12it/s]\n"
     ]
    },
    {
     "name": "stdout",
     "output_type": "stream",
     "text": [
      "Calculating wavelets for video 70.0\n"
     ]
    },
    {
     "name": "stderr",
     "output_type": "stream",
     "text": [
      "100%|██████████| 40/40 [00:00<00:00, 45.93it/s]\n"
     ]
    },
    {
     "name": "stdout",
     "output_type": "stream",
     "text": [
      "Calculating wavelets for video 71.0\n"
     ]
    },
    {
     "name": "stderr",
     "output_type": "stream",
     "text": [
      "100%|██████████| 40/40 [00:00<00:00, 133.04it/s]\n"
     ]
    },
    {
     "name": "stdout",
     "output_type": "stream",
     "text": [
      "Calculating wavelets for video 72.0\n"
     ]
    },
    {
     "name": "stderr",
     "output_type": "stream",
     "text": [
      "100%|██████████| 40/40 [00:01<00:00, 27.32it/s]\n"
     ]
    },
    {
     "name": "stdout",
     "output_type": "stream",
     "text": [
      "Calculating wavelets for video 73.0\n"
     ]
    },
    {
     "name": "stderr",
     "output_type": "stream",
     "text": [
      "100%|██████████| 40/40 [00:00<00:00, 46.36it/s]\n"
     ]
    },
    {
     "name": "stdout",
     "output_type": "stream",
     "text": [
      "Calculating wavelets for video 74.0\n"
     ]
    },
    {
     "name": "stderr",
     "output_type": "stream",
     "text": [
      "100%|██████████| 40/40 [00:00<00:00, 45.57it/s]\n"
     ]
    },
    {
     "name": "stdout",
     "output_type": "stream",
     "text": [
      "Calculating wavelets for video 75.0\n"
     ]
    },
    {
     "name": "stderr",
     "output_type": "stream",
     "text": [
      "100%|██████████| 40/40 [00:00<00:00, 46.35it/s]\n"
     ]
    },
    {
     "name": "stdout",
     "output_type": "stream",
     "text": [
      "Calculating wavelets for video 76.0\n"
     ]
    },
    {
     "name": "stderr",
     "output_type": "stream",
     "text": [
      "100%|██████████| 40/40 [00:00<00:00, 46.81it/s]\n"
     ]
    },
    {
     "name": "stdout",
     "output_type": "stream",
     "text": [
      "Calculating wavelets for video 77.0\n"
     ]
    },
    {
     "name": "stderr",
     "output_type": "stream",
     "text": [
      "100%|██████████| 40/40 [00:00<00:00, 46.58it/s]\n"
     ]
    },
    {
     "name": "stdout",
     "output_type": "stream",
     "text": [
      "Calculating wavelets for video 78.0\n"
     ]
    },
    {
     "name": "stderr",
     "output_type": "stream",
     "text": [
      "100%|██████████| 40/40 [00:00<00:00, 46.53it/s]\n"
     ]
    },
    {
     "name": "stdout",
     "output_type": "stream",
     "text": [
      "Calculating wavelets for video 79.0\n"
     ]
    },
    {
     "name": "stderr",
     "output_type": "stream",
     "text": [
      "100%|██████████| 40/40 [00:00<00:00, 46.56it/s]\n"
     ]
    },
    {
     "name": "stdout",
     "output_type": "stream",
     "text": [
      "Calculating wavelets for video 80.0\n"
     ]
    },
    {
     "name": "stderr",
     "output_type": "stream",
     "text": [
      "100%|██████████| 40/40 [00:00<00:00, 46.15it/s]\n"
     ]
    },
    {
     "name": "stdout",
     "output_type": "stream",
     "text": [
      "Calculating wavelets for video 81.0\n"
     ]
    },
    {
     "name": "stderr",
     "output_type": "stream",
     "text": [
      "100%|██████████| 40/40 [00:00<00:00, 45.67it/s]\n"
     ]
    },
    {
     "name": "stdout",
     "output_type": "stream",
     "text": [
      "Calculating wavelets for video 82.0\n"
     ]
    },
    {
     "name": "stderr",
     "output_type": "stream",
     "text": [
      "100%|██████████| 40/40 [00:00<00:00, 45.57it/s]\n"
     ]
    },
    {
     "name": "stdout",
     "output_type": "stream",
     "text": [
      "Calculating wavelets for video 83.0\n"
     ]
    },
    {
     "name": "stderr",
     "output_type": "stream",
     "text": [
      "100%|██████████| 40/40 [00:00<00:00, 44.89it/s]\n"
     ]
    },
    {
     "name": "stdout",
     "output_type": "stream",
     "text": [
      "Calculating wavelets for video 84.0\n"
     ]
    },
    {
     "name": "stderr",
     "output_type": "stream",
     "text": [
      "100%|██████████| 40/40 [00:00<00:00, 45.59it/s]\n"
     ]
    },
    {
     "name": "stdout",
     "output_type": "stream",
     "text": [
      "Calculating wavelets for video 85.0\n"
     ]
    },
    {
     "name": "stderr",
     "output_type": "stream",
     "text": [
      "100%|██████████| 40/40 [00:00<00:00, 45.43it/s]\n"
     ]
    },
    {
     "name": "stdout",
     "output_type": "stream",
     "text": [
      "Calculating wavelets for video 86.0\n"
     ]
    },
    {
     "name": "stderr",
     "output_type": "stream",
     "text": [
      "100%|██████████| 40/40 [00:00<00:00, 45.49it/s]\n"
     ]
    },
    {
     "name": "stdout",
     "output_type": "stream",
     "text": [
      "Calculating wavelets for video 87.0\n"
     ]
    },
    {
     "name": "stderr",
     "output_type": "stream",
     "text": [
      "100%|██████████| 40/40 [00:00<00:00, 46.12it/s]\n"
     ]
    },
    {
     "name": "stdout",
     "output_type": "stream",
     "text": [
      "Calculating wavelets for video 88.0\n"
     ]
    },
    {
     "name": "stderr",
     "output_type": "stream",
     "text": [
      "100%|██████████| 40/40 [00:00<00:00, 46.20it/s]\n"
     ]
    },
    {
     "name": "stdout",
     "output_type": "stream",
     "text": [
      "Calculating wavelets for video 89.0\n"
     ]
    },
    {
     "name": "stderr",
     "output_type": "stream",
     "text": [
      "100%|██████████| 40/40 [00:00<00:00, 46.39it/s]\n"
     ]
    },
    {
     "name": "stdout",
     "output_type": "stream",
     "text": [
      "Calculating wavelets for video 90.0\n"
     ]
    },
    {
     "name": "stderr",
     "output_type": "stream",
     "text": [
      "100%|██████████| 40/40 [00:00<00:00, 46.10it/s]\n"
     ]
    },
    {
     "name": "stdout",
     "output_type": "stream",
     "text": [
      "Calculating wavelets for video 91.0\n"
     ]
    },
    {
     "name": "stderr",
     "output_type": "stream",
     "text": [
      "100%|██████████| 40/40 [00:00<00:00, 46.46it/s]\n"
     ]
    },
    {
     "name": "stdout",
     "output_type": "stream",
     "text": [
      "Calculating wavelets for video 92.0\n"
     ]
    },
    {
     "name": "stderr",
     "output_type": "stream",
     "text": [
      "100%|██████████| 40/40 [00:00<00:00, 46.32it/s]\n"
     ]
    },
    {
     "name": "stdout",
     "output_type": "stream",
     "text": [
      "Calculating wavelets for video 93.0\n"
     ]
    },
    {
     "name": "stderr",
     "output_type": "stream",
     "text": [
      "100%|██████████| 40/40 [00:00<00:00, 46.07it/s]\n"
     ]
    },
    {
     "name": "stdout",
     "output_type": "stream",
     "text": [
      "Calculating wavelets for video 94.0\n"
     ]
    },
    {
     "name": "stderr",
     "output_type": "stream",
     "text": [
      "100%|██████████| 40/40 [00:00<00:00, 46.47it/s]\n"
     ]
    },
    {
     "name": "stdout",
     "output_type": "stream",
     "text": [
      "Calculating wavelets for video 95.0\n"
     ]
    },
    {
     "name": "stderr",
     "output_type": "stream",
     "text": [
      "100%|██████████| 40/40 [00:00<00:00, 46.68it/s]\n"
     ]
    },
    {
     "name": "stdout",
     "output_type": "stream",
     "text": [
      "Calculating wavelets for video 96.0\n"
     ]
    },
    {
     "name": "stderr",
     "output_type": "stream",
     "text": [
      "100%|██████████| 40/40 [00:00<00:00, 46.21it/s]\n"
     ]
    },
    {
     "name": "stdout",
     "output_type": "stream",
     "text": [
      "Calculating wavelets for video 97.0\n"
     ]
    },
    {
     "name": "stderr",
     "output_type": "stream",
     "text": [
      "100%|██████████| 40/40 [00:00<00:00, 46.23it/s]\n"
     ]
    },
    {
     "name": "stdout",
     "output_type": "stream",
     "text": [
      "Calculating wavelets for video 98.0\n"
     ]
    },
    {
     "name": "stderr",
     "output_type": "stream",
     "text": [
      "100%|██████████| 40/40 [00:00<00:00, 46.58it/s]\n"
     ]
    },
    {
     "name": "stdout",
     "output_type": "stream",
     "text": [
      "Calculating wavelets for video 99.0\n"
     ]
    },
    {
     "name": "stderr",
     "output_type": "stream",
     "text": [
      "100%|██████████| 40/40 [00:00<00:00, 46.44it/s]\n"
     ]
    },
    {
     "name": "stdout",
     "output_type": "stream",
     "text": [
      "Calculating wavelets for video 100.0\n"
     ]
    },
    {
     "name": "stderr",
     "output_type": "stream",
     "text": [
      "100%|██████████| 40/40 [00:00<00:00, 45.86it/s]\n"
     ]
    },
    {
     "name": "stdout",
     "output_type": "stream",
     "text": [
      "Calculating wavelets for video 101.0\n"
     ]
    },
    {
     "name": "stderr",
     "output_type": "stream",
     "text": [
      "100%|██████████| 40/40 [00:00<00:00, 46.07it/s]\n"
     ]
    },
    {
     "name": "stdout",
     "output_type": "stream",
     "text": [
      "Calculating wavelets for video 102.0\n"
     ]
    },
    {
     "name": "stderr",
     "output_type": "stream",
     "text": [
      "100%|██████████| 40/40 [00:00<00:00, 46.52it/s]\n"
     ]
    },
    {
     "name": "stdout",
     "output_type": "stream",
     "text": [
      "Calculating wavelets for video 103.0\n"
     ]
    },
    {
     "name": "stderr",
     "output_type": "stream",
     "text": [
      "100%|██████████| 40/40 [00:00<00:00, 46.28it/s]\n"
     ]
    },
    {
     "name": "stdout",
     "output_type": "stream",
     "text": [
      "Calculating wavelets for video 104.0\n"
     ]
    },
    {
     "name": "stderr",
     "output_type": "stream",
     "text": [
      "100%|██████████| 40/40 [00:00<00:00, 46.40it/s]\n"
     ]
    },
    {
     "name": "stdout",
     "output_type": "stream",
     "text": [
      "Calculating wavelets for video 105.0\n"
     ]
    },
    {
     "name": "stderr",
     "output_type": "stream",
     "text": [
      "100%|██████████| 40/40 [00:00<00:00, 46.60it/s]\n"
     ]
    },
    {
     "name": "stdout",
     "output_type": "stream",
     "text": [
      "Calculating wavelets for video 106.0\n"
     ]
    },
    {
     "name": "stderr",
     "output_type": "stream",
     "text": [
      "100%|██████████| 40/40 [00:00<00:00, 46.39it/s]\n"
     ]
    },
    {
     "name": "stdout",
     "output_type": "stream",
     "text": [
      "Calculating wavelets for video 107.0\n"
     ]
    },
    {
     "name": "stderr",
     "output_type": "stream",
     "text": [
      "100%|██████████| 40/40 [00:00<00:00, 46.48it/s]\n"
     ]
    },
    {
     "name": "stdout",
     "output_type": "stream",
     "text": [
      "Calculating wavelets for video 108.0\n"
     ]
    },
    {
     "name": "stderr",
     "output_type": "stream",
     "text": [
      "100%|██████████| 40/40 [00:00<00:00, 45.83it/s]\n"
     ]
    },
    {
     "name": "stdout",
     "output_type": "stream",
     "text": [
      "Calculating wavelets for video 109.0\n"
     ]
    },
    {
     "name": "stderr",
     "output_type": "stream",
     "text": [
      "100%|██████████| 40/40 [00:00<00:00, 46.13it/s]\n"
     ]
    },
    {
     "name": "stdout",
     "output_type": "stream",
     "text": [
      "Calculating wavelets for video 110.0\n"
     ]
    },
    {
     "name": "stderr",
     "output_type": "stream",
     "text": [
      "100%|██████████| 40/40 [00:00<00:00, 45.99it/s]\n"
     ]
    },
    {
     "name": "stdout",
     "output_type": "stream",
     "text": [
      "Calculating wavelets for video 111.0\n"
     ]
    },
    {
     "name": "stderr",
     "output_type": "stream",
     "text": [
      "100%|██████████| 40/40 [00:00<00:00, 46.15it/s]\n"
     ]
    },
    {
     "name": "stdout",
     "output_type": "stream",
     "text": [
      "Calculating wavelets for video 112.0\n"
     ]
    },
    {
     "name": "stderr",
     "output_type": "stream",
     "text": [
      "100%|██████████| 40/40 [00:00<00:00, 46.20it/s]\n"
     ]
    },
    {
     "name": "stdout",
     "output_type": "stream",
     "text": [
      "Calculating wavelets for video 113.0\n"
     ]
    },
    {
     "name": "stderr",
     "output_type": "stream",
     "text": [
      "100%|██████████| 40/40 [00:00<00:00, 88.56it/s]\n"
     ]
    },
    {
     "name": "stdout",
     "output_type": "stream",
     "text": [
      "Calculating wavelets for video 114.0\n"
     ]
    },
    {
     "name": "stderr",
     "output_type": "stream",
     "text": [
      "100%|██████████| 40/40 [00:00<00:00, 46.10it/s]\n"
     ]
    }
   ],
   "source": [
    "pc_feats, pc_labels = pca_features, pca_labels\n",
    "\n",
    "wlet_feats, wlet_labels = features.wavelet(\n",
    "    pc_feats, pc_labels, ids, f_s=30, freq=np.linspace(1, 25, 25), w0=5\n",
    ")\n",
    "\n",
    "write.features_h5(wlet_feats, wlet_labels, path=config[\"out_path\"] + \"_wavelets.h5\")\n"
   ]
  },
  {
   "cell_type": "code",
   "execution_count": null,
   "metadata": {},
   "outputs": [
    {
     "name": "stdout",
     "output_type": "stream",
     "text": [
      "Calculating principal components ... \n"
     ]
    },
    {
     "name": "stderr",
     "output_type": "stream",
     "text": [
      "100%|██████████| 1/1 [00:20<00:00, 20.49s/it]\n"
     ]
    },
    {
     "name": "stdout",
     "output_type": "stream",
     "text": [
      "Running fitsne via openTSNE\n",
      "--------------------------------------------------------------------------------\n",
      "TSNE(early_exaggeration=12, exaggeration=1.5, n_jobs=-1,\n",
      "     negative_gradient_method='fft', neighbors='annoy', perplexity=50,\n",
      "     verbose=True)\n",
      "--------------------------------------------------------------------------------\n",
      "===> Finding 150 nearest neighbors using Annoy approximate search using euclidean distance...\n",
      "   --> Time elapsed: 66.30 seconds\n",
      "===> Calculating affinity matrix...\n",
      "   --> Time elapsed: 10.18 seconds\n",
      "===> Calculating PCA-based initialization...\n",
      "   --> Time elapsed: 0.06 seconds\n",
      "===> Running optimization with exaggeration=12.00, lr=29491.67 for 250 iterations...\n",
      "Iteration   50, KL divergence 7.1468, 50 iterations in 3.3233 sec\n",
      "Iteration  100, KL divergence 7.1304, 50 iterations in 3.3146 sec\n",
      "Iteration  150, KL divergence 7.1191, 50 iterations in 3.3814 sec\n",
      "Iteration  200, KL divergence 7.1161, 50 iterations in 3.2285 sec\n",
      "Iteration  250, KL divergence 7.1148, 50 iterations in 3.3972 sec\n",
      "   --> Time elapsed: 16.65 seconds\n",
      "===> Running optimization with exaggeration=1.50, lr=235933.33 for 500 iterations...\n",
      "Iteration   50, KL divergence 5.1967, 50 iterations in 3.2985 sec\n",
      "Iteration  100, KL divergence 4.9435, 50 iterations in 3.4120 sec\n",
      "Iteration  150, KL divergence 4.8115, 50 iterations in 3.6545 sec\n",
      "Iteration  200, KL divergence 4.7274, 50 iterations in 3.8995 sec\n",
      "Iteration  250, KL divergence 4.6671, 50 iterations in 4.1428 sec\n",
      "Iteration  300, KL divergence 4.6209, 50 iterations in 4.4077 sec\n",
      "Iteration  350, KL divergence 4.5837, 50 iterations in 4.5508 sec\n",
      "Iteration  400, KL divergence 4.5527, 50 iterations in 4.8893 sec\n",
      "Iteration  450, KL divergence 4.5264, 50 iterations in 5.2341 sec\n",
      "Iteration  500, KL divergence 4.5037, 50 iterations in 5.6575 sec\n",
      "   --> Time elapsed: 43.15 seconds\n",
      "Calculating new histogram ranges\n",
      "Calculating watershed\n",
      "84 clusters detected\n",
      "(83,) unique clusters detected\n",
      "[ 1  2  3  4  5  6  7  8  9 10 11 12 13 14 15 16 17 18 19 20 21 22 23 24\n",
      " 25 26 27 28 29 30 31 32 33 34 35 36 37 38 39 40 41 42 43 44 45 46 47 48\n",
      " 49 50 51 52 53 54 55 56 57 58 59 60 61 62 63 64 65 66 67 68 69 70 71 72\n",
      " 73 74 75 76 77 78 79 80 81 82 83]\n",
      "Writing Data Object to pickle\n",
      "Calculating cluster occupancies \n"
     ]
    },
    {
     "name": "stderr",
     "output_type": "stream",
     "text": [
      "100%|██████████| 115/115 [00:00<00:00, 8417.30it/s]\n"
     ]
    },
    {
     "name": "stdout",
     "output_type": "stream",
     "text": [
      "Detected labels not the same shape as pose...\n",
      "Assuming labels downsampled by 10\n"
     ]
    },
    {
     "name": "stderr",
     "output_type": "stream",
     "text": [
      "  0%|          | 0/83 [00:00<?, ?it/s]"
     ]
    },
    {
     "name": "stdout",
     "output_type": "stream",
     "text": [
      "[2072620, 2107270, 2102360, 2113090, 2108000, 2107530, 2071700, 2073280, 2098170]\n"
     ]
    },
    {
     "name": "stderr",
     "output_type": "stream",
     "text": [
      "100%|██████████| 100/100 [00:33<00:00,  3.00it/s]\n",
      "  1%|          | 1/83 [00:33<46:14, 33.84s/it]"
     ]
    },
    {
     "name": "stdout",
     "output_type": "stream",
     "text": [
      "[2029590, 2056350, 2049310, 2027220, 2015340, 2000450, 2045960, 2057950, 2036170]\n"
     ]
    },
    {
     "name": "stderr",
     "output_type": "stream",
     "text": [
      "100%|██████████| 100/100 [00:33<00:00,  3.01it/s]\n",
      "  2%|▏         | 2/83 [01:07<45:36, 33.79s/it]"
     ]
    },
    {
     "name": "stdout",
     "output_type": "stream",
     "text": [
      "[2074300, 3465510, 3461020, 3457630, 2071420, 3281720, 2108660, 2079080, 3461940]\n"
     ]
    },
    {
     "name": "stderr",
     "output_type": "stream",
     "text": [
      "100%|██████████| 100/100 [00:33<00:00,  2.95it/s]\n",
      "  4%|▎         | 3/83 [01:42<45:30, 34.13s/it]"
     ]
    },
    {
     "name": "stdout",
     "output_type": "stream",
     "text": [
      "[2096370, 2079610, 2100700, 2095740, 2084540, 2083350, 2090010, 2097830, 2060880]\n"
     ]
    },
    {
     "name": "stderr",
     "output_type": "stream",
     "text": [
      "100%|██████████| 100/100 [00:33<00:00,  2.96it/s]\n",
      "  5%|▍         | 4/83 [02:16<45:03, 34.22s/it]"
     ]
    },
    {
     "name": "stdout",
     "output_type": "stream",
     "text": [
      "[2082150, 3464940, 606100, 2116790, 3094630, 2104140, 3459280, 3460410, 2096050]\n"
     ]
    },
    {
     "name": "stderr",
     "output_type": "stream",
     "text": [
      "100%|██████████| 100/100 [00:33<00:00,  2.99it/s]\n",
      "  6%|▌         | 5/83 [02:50<44:23, 34.15s/it]"
     ]
    },
    {
     "name": "stdout",
     "output_type": "stream",
     "text": [
      "[2051300, 2092110, 2084070, 2105820, 2052330, 2109620, 2065310, 2091700, 2016260]\n"
     ]
    },
    {
     "name": "stderr",
     "output_type": "stream",
     "text": [
      "100%|██████████| 100/100 [00:33<00:00,  3.01it/s]\n",
      "  7%|▋         | 6/83 [03:24<43:38, 34.01s/it]"
     ]
    },
    {
     "name": "stdout",
     "output_type": "stream",
     "text": [
      "[71750, 1805120, 80700, 3266740, 1035610, 1007630, 3035630, 515610, 1021680]\n"
     ]
    },
    {
     "name": "stderr",
     "output_type": "stream",
     "text": [
      "100%|██████████| 100/100 [00:34<00:00,  2.94it/s]\n",
      "  8%|▊         | 7/83 [03:58<43:19, 34.21s/it]"
     ]
    },
    {
     "name": "stdout",
     "output_type": "stream",
     "text": [
      "[3251110, 2197270, 2696040, 3240340, 3240890, 2715180, 3242780, 2330010, 3288880]\n"
     ]
    },
    {
     "name": "stderr",
     "output_type": "stream",
     "text": [
      "100%|██████████| 100/100 [00:33<00:00,  2.98it/s]\n",
      " 10%|▉         | 8/83 [04:32<42:42, 34.16s/it]"
     ]
    },
    {
     "name": "stdout",
     "output_type": "stream",
     "text": [
      "[2569310, 3340870, 3240150, 1676620, 3538710, 3256760, 2193400, 3248190, 3237900]\n"
     ]
    },
    {
     "name": "stderr",
     "output_type": "stream",
     "text": [
      "100%|██████████| 100/100 [00:33<00:00,  3.00it/s]\n",
      " 11%|█         | 9/83 [05:06<41:59, 34.05s/it]"
     ]
    },
    {
     "name": "stdout",
     "output_type": "stream",
     "text": [
      "[2540110, 1304050, 849280, 358860, 708930, 797760, 1305340, 1630890, 2822150]\n"
     ]
    },
    {
     "name": "stderr",
     "output_type": "stream",
     "text": [
      "100%|██████████| 100/100 [00:33<00:00,  2.95it/s]\n",
      " 12%|█▏        | 10/83 [05:41<41:33, 34.16s/it]"
     ]
    },
    {
     "name": "stdout",
     "output_type": "stream",
     "text": [
      "[3247300, 3256520, 3237840, 3254750, 3249980, 3270710, 3336370, 3006940, 1996450]\n"
     ]
    },
    {
     "name": "stderr",
     "output_type": "stream",
     "text": [
      "100%|██████████| 100/100 [00:33<00:00,  2.99it/s]\n",
      " 13%|█▎        | 11/83 [06:15<40:55, 34.10s/it]"
     ]
    },
    {
     "name": "stdout",
     "output_type": "stream",
     "text": [
      "[1996510, 3319310, 2063670, 3336030, 3136260, 2124390, 2001690, 2083600, 3255740]\n"
     ]
    },
    {
     "name": "stderr",
     "output_type": "stream",
     "text": [
      "100%|██████████| 100/100 [00:33<00:00,  2.99it/s]\n",
      " 14%|█▍        | 12/83 [06:49<40:18, 34.07s/it]"
     ]
    },
    {
     "name": "stdout",
     "output_type": "stream",
     "text": [
      "[3300300, 2593080, 2579620, 2196930, 3315540, 3277710, 2270890, 260260, 624860]\n"
     ]
    },
    {
     "name": "stderr",
     "output_type": "stream",
     "text": [
      "100%|██████████| 100/100 [00:33<00:00,  2.98it/s]\n",
      " 16%|█▌        | 13/83 [07:23<39:45, 34.09s/it]"
     ]
    },
    {
     "name": "stdout",
     "output_type": "stream",
     "text": [
      "[1687400, 2435600, 1323680, 59240, 99500, 515680, 902000, 67080, 3272690]\n"
     ]
    },
    {
     "name": "stderr",
     "output_type": "stream",
     "text": [
      "100%|██████████| 100/100 [00:33<00:00,  3.01it/s]\n",
      " 17%|█▋        | 14/83 [07:56<39:05, 33.99s/it]"
     ]
    },
    {
     "name": "stdout",
     "output_type": "stream",
     "text": [
      "[1540010, 2397980, 3286460, 233950, 2203580, 1101720, 298540, 262590, 822700]\n"
     ]
    },
    {
     "name": "stderr",
     "output_type": "stream",
     "text": [
      "100%|██████████| 100/100 [00:33<00:00,  3.01it/s]\n",
      " 18%|█▊        | 15/83 [08:30<38:26, 33.91s/it]"
     ]
    },
    {
     "name": "stdout",
     "output_type": "stream",
     "text": [
      "[3108890, 2669290, 2630010, 2028590, 2189750, 2168110, 298500, 3512550, 3238440]\n"
     ]
    },
    {
     "name": "stderr",
     "output_type": "stream",
     "text": [
      "100%|██████████| 100/100 [00:33<00:00,  2.97it/s]\n",
      " 19%|█▉        | 16/83 [09:04<37:58, 34.01s/it]"
     ]
    },
    {
     "name": "stdout",
     "output_type": "stream",
     "text": [
      "[3455010, 3137680, 3268200, 3343380, 3345700, 2871140, 3479770, 3267250, 2719010]\n"
     ]
    },
    {
     "name": "stderr",
     "output_type": "stream",
     "text": [
      "100%|██████████| 100/100 [00:33<00:00,  2.99it/s]\n",
      " 20%|██        | 17/83 [09:38<37:24, 34.01s/it]"
     ]
    },
    {
     "name": "stdout",
     "output_type": "stream",
     "text": [
      "[2536000, 1052150, 2556160, 334080, 3150960, 509660, 1817410, 2781030, 1763350]\n"
     ]
    },
    {
     "name": "stderr",
     "output_type": "stream",
     "text": [
      "100%|██████████| 100/100 [00:33<00:00,  3.01it/s]\n",
      " 22%|██▏       | 18/83 [10:12<36:44, 33.92s/it]"
     ]
    },
    {
     "name": "stdout",
     "output_type": "stream",
     "text": [
      "[1065600, 2156240, 3416720, 1328690, 2666600, 3414430, 2993240, 3064890, 1064360]\n"
     ]
    },
    {
     "name": "stderr",
     "output_type": "stream",
     "text": [
      "100%|██████████| 100/100 [00:33<00:00,  2.98it/s]\n",
      " 23%|██▎       | 19/83 [10:46<36:13, 33.97s/it]"
     ]
    },
    {
     "name": "stdout",
     "output_type": "stream",
     "text": [
      "[3022510, 2198640, 3339040, 3299310, 3004370, 3019970, 3140530, 2709030, 2188460]\n"
     ]
    },
    {
     "name": "stderr",
     "output_type": "stream",
     "text": [
      "100%|██████████| 100/100 [00:33<00:00,  3.02it/s]\n",
      " 24%|██▍       | 20/83 [11:20<35:34, 33.88s/it]"
     ]
    },
    {
     "name": "stdout",
     "output_type": "stream",
     "text": [
      "[2783040, 2808410, 1136000, 2811240, 2803140, 3317430, 86020, 2755730, 2773630]\n"
     ]
    },
    {
     "name": "stderr",
     "output_type": "stream",
     "text": [
      "100%|██████████| 100/100 [00:33<00:00,  3.00it/s]\n",
      " 25%|██▌       | 21/83 [11:54<35:00, 33.87s/it]"
     ]
    },
    {
     "name": "stdout",
     "output_type": "stream",
     "text": [
      "[990960, 1755510, 1850670, 340050, 1487460, 1304240, 261690, 375510, 1382860]\n"
     ]
    },
    {
     "name": "stderr",
     "output_type": "stream",
     "text": [
      "100%|██████████| 100/100 [00:33<00:00,  2.97it/s]\n",
      " 27%|██▋       | 22/83 [12:28<34:32, 33.97s/it]"
     ]
    },
    {
     "name": "stdout",
     "output_type": "stream",
     "text": [
      "[213680, 2291390, 1051160, 1083960, 928630, 732330, 806170, 428210, 1505770]\n"
     ]
    },
    {
     "name": "stderr",
     "output_type": "stream",
     "text": [
      "100%|██████████| 100/100 [00:33<00:00,  2.96it/s]\n",
      " 28%|██▊       | 23/83 [13:02<34:04, 34.07s/it]"
     ]
    },
    {
     "name": "stdout",
     "output_type": "stream",
     "text": [
      "[2556150, 2899800, 3163860, 3177380, 1805050, 1384550, 779120, 420590, 3223860]\n"
     ]
    },
    {
     "name": "stderr",
     "output_type": "stream",
     "text": [
      "100%|██████████| 100/100 [00:33<00:00,  3.00it/s]\n",
      " 29%|██▉       | 24/83 [13:36<33:27, 34.02s/it]"
     ]
    },
    {
     "name": "stdout",
     "output_type": "stream",
     "text": [
      "[503820, 775170, 634070, 1971770, 2987030, 633010, 2947240, 2690620, 355920]\n"
     ]
    },
    {
     "name": "stderr",
     "output_type": "stream",
     "text": [
      "100%|██████████| 100/100 [00:33<00:00,  3.01it/s]\n",
      " 30%|███       | 25/83 [14:10<32:47, 33.93s/it]"
     ]
    },
    {
     "name": "stdout",
     "output_type": "stream",
     "text": [
      "[1622830, 931660, 2492240, 2826380, 905140, 377730, 2435240, 2149410, 1310700]\n"
     ]
    },
    {
     "name": "stderr",
     "output_type": "stream",
     "text": [
      "100%|██████████| 100/100 [00:33<00:00,  2.96it/s]\n",
      " 31%|███▏      | 26/83 [14:44<32:22, 34.07s/it]"
     ]
    },
    {
     "name": "stdout",
     "output_type": "stream",
     "text": [
      "[1793980, 2699650, 2157940, 1498990, 1286490, 976750, 2780540, 482500, 1422170]\n"
     ]
    },
    {
     "name": "stderr",
     "output_type": "stream",
     "text": [
      "100%|██████████| 100/100 [00:33<00:00,  2.96it/s]\n",
      " 33%|███▎      | 27/83 [15:19<31:52, 34.15s/it]"
     ]
    },
    {
     "name": "stdout",
     "output_type": "stream",
     "text": [
      "[3123120, 2479140, 3491170, 1185650, 1698750, 2537200, 1387730, 2799710, 3537570]\n"
     ]
    },
    {
     "name": "stderr",
     "output_type": "stream",
     "text": [
      "100%|██████████| 100/100 [00:33<00:00,  2.97it/s]\n",
      " 34%|███▎      | 28/83 [15:53<31:18, 34.16s/it]"
     ]
    },
    {
     "name": "stdout",
     "output_type": "stream",
     "text": [
      "[2792440, 387090, 3063990, 3334200, 2347230, 3087440, 2782110, 2782470, 2138430]\n"
     ]
    },
    {
     "name": "stderr",
     "output_type": "stream",
     "text": [
      "100%|██████████| 100/100 [00:33<00:00,  2.96it/s]\n",
      " 35%|███▍      | 29/83 [16:27<30:47, 34.21s/it]"
     ]
    },
    {
     "name": "stdout",
     "output_type": "stream",
     "text": [
      "[3400910, 842560, 2780750, 3418360, 3217770, 2622340, 3187120, 195650, 2216820]\n"
     ]
    },
    {
     "name": "stderr",
     "output_type": "stream",
     "text": [
      "100%|██████████| 100/100 [00:33<00:00,  2.94it/s]\n",
      " 36%|███▌      | 30/83 [17:02<30:18, 34.32s/it]"
     ]
    },
    {
     "name": "stdout",
     "output_type": "stream",
     "text": [
      "[1032630, 1376120, 477550, 3187270, 2910350, 1862610, 1087000, 854130, 508760]\n"
     ]
    },
    {
     "name": "stderr",
     "output_type": "stream",
     "text": [
      "100%|██████████| 100/100 [00:33<00:00,  2.95it/s]\n",
      " 37%|███▋      | 31/83 [17:36<29:47, 34.37s/it]"
     ]
    },
    {
     "name": "stdout",
     "output_type": "stream",
     "text": [
      "[1952850, 2851530, 945180, 3026690, 317110, 2985250, 2890250, 2647960, 3402010]\n"
     ]
    },
    {
     "name": "stderr",
     "output_type": "stream",
     "text": [
      "100%|██████████| 100/100 [00:33<00:00,  2.95it/s]\n",
      " 39%|███▊      | 32/83 [18:11<29:13, 34.38s/it]"
     ]
    },
    {
     "name": "stdout",
     "output_type": "stream",
     "text": [
      "[3527230, 2415590, 2454200, 3285450, 2300550, 2311780, 1713080, 2392080, 3536940]\n"
     ]
    },
    {
     "name": "stderr",
     "output_type": "stream",
     "text": []
    }
   ],
   "source": [
    "# PCA on wavelet features\n",
    "pc_wlet, pc_wlet_labels = features.pca(\n",
    "    wlet_feats,\n",
    "    wlet_labels,\n",
    "    # categories=[\"wlet_ego_euc\"],\n",
    "    categories=[\"wlet_ang\"],\n",
    "    n_pcs=5,\n",
    "    method=\"fbpca\",\n",
    ")\n",
    "\n",
    "del wlet_feats, wlet_labels\n",
    "pc_feats = np.hstack((pc_feats, pc_wlet))\n",
    "pc_labels += pc_wlet_labels\n",
    "del pc_wlet, pc_wlet_labels\n",
    "\n",
    "write.features_h5(\n",
    "    pc_feats, pc_labels, path=\"\".join([config[\"out_path\"], \"_pca_on_wavelets.h5\"])\n",
    ")\n",
    "\n",
    "\n",
    "\n",
    "\n",
    "data_obj = ds.DataStruct(\n",
    "    pose=pose,\n",
    "    id=ids,\n",
    "    meta=meta,\n",
    "    meta_by_frame=meta_by_frame,\n",
    "    connectivity=connectivity,\n",
    ")\n",
    "\n",
    "data_obj.features = pc_feats\n",
    "# When using high framerate data, downsampling may be necessary in order to \n",
    "# discover granular structure in embedding\n",
    "data_obj = data_obj[:: config[\"downsample\"], :]\n",
    "\n",
    "\n",
    "embedder = Embed(\n",
    "    embed_method=config[\"single_embed\"][\"method\"],\n",
    "    perplexity=config[\"single_embed\"][\"perplexity\"],\n",
    "    lr=config[\"single_embed\"][\"lr\"],\n",
    ")\n",
    "data_obj.embed_vals = embedder.embed(data_obj.features, save_self=True)\n",
    "\n",
    "# Watershed clustering\n",
    "data_obj.ws = Watershed(\n",
    "    sigma=config[\"single_embed\"][\"sigma\"], max_clip=1, log_out=True, pad_factor=0.05\n",
    ")\n",
    "data_obj.data[\"Cluster\"] = data_obj.ws.fit_predict(data=data_obj.embed_vals)\n",
    "print(\"Writing Data Object to pickle\")\n",
    "data_obj.write_pickle(''.join([config['out_path'],'/']))\n",
    "\n",
    "\n",
    "\n",
    "freq, combined_keys = analysis.cluster_freq_by_cat(\n",
    "                        data_obj.data[\"Cluster\"].values, cat=data_obj.id\n",
    "                    )\n",
    "freq_df = pd.DataFrame(freq.T, columns=combined_keys)\n",
    "freq_df.to_csv(''.join([config['out_path'],'/cluster_occupancy.csv']))\n",
    "\n",
    "vis.pose.sample_grid3D(\n",
    "    pose-pose.mean(axis=-2, keepdims=True),\n",
    "    connectivity=connectivity,\n",
    "    \n",
    "    labels=data_obj.data[\"Cluster\"],\n",
    "    n_samples=9,\n",
    "    centered=True,\n",
    "    N_FRAMES=100,\n",
    "    fps=30,\n",
    "    dpi=100,\n",
    "    watershed=data_obj.ws,\n",
    "    embed_vals=None,\n",
    "    VID_NAME = \"cluster\",\n",
    "    filepath=config[\"out_path\"],\n",
    ")"
   ]
  },
  {
   "cell_type": "code",
   "execution_count": 43,
   "metadata": {},
   "outputs": [
    {
     "name": "stdout",
     "output_type": "stream",
     "text": [
      "Features loaded at path /home/lq53/mir_repos/dappy_24_nov/byws_version/250109_opti_combb/50_p/ego_pose.h5\n",
      "Features loaded at path /home/lq53/mir_repos/dappy_24_nov/byws_version/250109_opti_combb/50_p/angels.h5\n",
      "Calculating principal components ... \n"
     ]
    },
    {
     "name": "stderr",
     "output_type": "stream",
     "text": [
      "100%|██████████| 2/2 [00:00<00:00, 31068.92it/s]\n"
     ]
    },
    {
     "name": "stdout",
     "output_type": "stream",
     "text": [
      "Category: ego_pose_, Matching labels: []\n",
      "Skipping category ego_pose_: no matching columns found.\n",
      "Category: angle_, Matching labels: []\n",
      "Skipping category angle_: no matching columns found.\n",
      "Calculating wavelets ... \n",
      "Calculating wavelets for video None\n"
     ]
    },
    {
     "name": "stderr",
     "output_type": "stream",
     "text": [
      "  0%|          | 0/20 [00:00<?, ?it/s]\n"
     ]
    },
    {
     "ename": "ValueError",
     "evalue": "volume and kernel should have the same dimensionality",
     "output_type": "error",
     "traceback": [
      "\u001b[0;31m---------------------------------------------------------------------------\u001b[0m",
      "\u001b[0;31mValueError\u001b[0m                                Traceback (most recent call last)",
      "Cell \u001b[0;32mIn[43], line 72\u001b[0m\n\u001b[1;32m     69\u001b[0m write\u001b[38;5;241m.\u001b[39mfeatures_h5(pc_feats, pc_labels, path\u001b[38;5;241m=\u001b[39mout_path \u001b[38;5;241m+\u001b[39m \u001b[38;5;124m\"\u001b[39m\u001b[38;5;124mpca_features.h5\u001b[39m\u001b[38;5;124m\"\u001b[39m)\n\u001b[1;32m     71\u001b[0m \u001b[38;5;66;03m# Wavelet transformation\u001b[39;00m\n\u001b[0;32m---> 72\u001b[0m wlet_feats, wlet_labels \u001b[38;5;241m=\u001b[39m \u001b[43mfeatures\u001b[49m\u001b[38;5;241;43m.\u001b[39;49m\u001b[43mwavelet\u001b[49m\u001b[43m(\u001b[49m\n\u001b[1;32m     73\u001b[0m \u001b[43m    \u001b[49m\u001b[43mpc_feats\u001b[49m\u001b[43m,\u001b[49m\u001b[43m \u001b[49m\u001b[43mpc_labels\u001b[49m\u001b[43m,\u001b[49m\u001b[43m \u001b[49m\u001b[43mids\u001b[49m\u001b[38;5;241;43m=\u001b[39;49m\u001b[38;5;28;43;01mNone\u001b[39;49;00m\u001b[43m,\u001b[49m\u001b[43m \u001b[49m\u001b[43mf_s\u001b[49m\u001b[38;5;241;43m=\u001b[39;49m\u001b[38;5;241;43m30\u001b[39;49m\u001b[43m,\u001b[49m\u001b[43m \u001b[49m\u001b[43mfreq\u001b[49m\u001b[38;5;241;43m=\u001b[39;49m\u001b[43mnp\u001b[49m\u001b[38;5;241;43m.\u001b[39;49m\u001b[43mlinspace\u001b[49m\u001b[43m(\u001b[49m\u001b[38;5;241;43m1\u001b[39;49m\u001b[43m,\u001b[49m\u001b[43m \u001b[49m\u001b[38;5;241;43m25\u001b[39;49m\u001b[43m,\u001b[49m\u001b[43m \u001b[49m\u001b[38;5;241;43m25\u001b[39;49m\u001b[43m)\u001b[49m\u001b[43m,\u001b[49m\u001b[43m \u001b[49m\u001b[43mw0\u001b[49m\u001b[38;5;241;43m=\u001b[39;49m\u001b[38;5;241;43m5\u001b[39;49m\n\u001b[1;32m     74\u001b[0m \u001b[43m\u001b[49m\u001b[43m)\u001b[49m\n\u001b[1;32m     75\u001b[0m write\u001b[38;5;241m.\u001b[39mfeatures_h5(wlet_feats, wlet_labels, path\u001b[38;5;241m=\u001b[39mout_path \u001b[38;5;241m+\u001b[39m \u001b[38;5;124m\"\u001b[39m\u001b[38;5;124mwavelets.h5\u001b[39m\u001b[38;5;124m\"\u001b[39m)\n\u001b[1;32m     77\u001b[0m \u001b[38;5;66;03m# PCA on wavelet features\u001b[39;00m\n",
      "File \u001b[0;32m~/mir_repos/dappy_24_nov/neuroposelib/src/neuroposelib/features.py:335\u001b[0m, in \u001b[0;36mwavelet\u001b[0;34m(features, labels, ids, f_s, freq, w0)\u001b[0m\n\u001b[1;32m    332\u001b[0m     \u001b[38;5;28mprint\u001b[39m(\u001b[38;5;124m\"\u001b[39m\u001b[38;5;124mCalculating wavelets for video \u001b[39m\u001b[38;5;124m\"\u001b[39m \u001b[38;5;241m+\u001b[39m \u001b[38;5;28mstr\u001b[39m(i))\n\u001b[1;32m    333\u001b[0m     \u001b[38;5;28;01mfor\u001b[39;00m j \u001b[38;5;129;01min\u001b[39;00m tqdm(\u001b[38;5;28mrange\u001b[39m(features\u001b[38;5;241m.\u001b[39mshape[\u001b[38;5;241m1\u001b[39m])):\n\u001b[1;32m    334\u001b[0m         wlet_feats[ids \u001b[38;5;241m==\u001b[39m i, j \u001b[38;5;241m*\u001b[39m \u001b[38;5;28mlen\u001b[39m(freq) : (j \u001b[38;5;241m+\u001b[39m \u001b[38;5;241m1\u001b[39m) \u001b[38;5;241m*\u001b[39m \u001b[38;5;28mlen\u001b[39m(freq)] \u001b[38;5;241m=\u001b[39m np\u001b[38;5;241m.\u001b[39mabs(\n\u001b[0;32m--> 335\u001b[0m             \u001b[43mcwt\u001b[49m\u001b[43m(\u001b[49m\u001b[43mfeatures\u001b[49m\u001b[43m[\u001b[49m\u001b[43mids\u001b[49m\u001b[43m \u001b[49m\u001b[38;5;241;43m==\u001b[39;49m\u001b[43m \u001b[49m\u001b[43mi\u001b[49m\u001b[43m,\u001b[49m\u001b[43m \u001b[49m\u001b[43mj\u001b[49m\u001b[43m]\u001b[49m\u001b[43m,\u001b[49m\u001b[43m \u001b[49m\u001b[43mmorlet2\u001b[49m\u001b[43m,\u001b[49m\u001b[43m \u001b[49m\u001b[43mwidths\u001b[49m\u001b[43m,\u001b[49m\u001b[43m \u001b[49m\u001b[43mw\u001b[49m\u001b[38;5;241;43m=\u001b[39;49m\u001b[43mw0\u001b[49m\u001b[43m)\u001b[49m\u001b[38;5;241m.\u001b[39mT\n\u001b[1;32m    336\u001b[0m         )\n\u001b[1;32m    337\u001b[0m \u001b[38;5;28;01mreturn\u001b[39;00m wlet_feats, wlet_labels\n",
      "File \u001b[0;32m~/miniconda3/envs/neuroposelib/lib/python3.9/site-packages/scipy/signal/_wavelets.py:540\u001b[0m, in \u001b[0;36mcwt\u001b[0;34m(data, wavelet, widths, dtype, **kwargs)\u001b[0m\n\u001b[1;32m    460\u001b[0m \u001b[38;5;250m\u001b[39m\u001b[38;5;124;03m\"\"\"\u001b[39;00m\n\u001b[1;32m    461\u001b[0m \u001b[38;5;124;03mContinuous wavelet transform.\u001b[39;00m\n\u001b[1;32m    462\u001b[0m \n\u001b[0;32m   (...)\u001b[0m\n\u001b[1;32m    537\u001b[0m \u001b[38;5;124;03m>>> plt.show()\u001b[39;00m\n\u001b[1;32m    538\u001b[0m \u001b[38;5;124;03m\"\"\"\u001b[39;00m\n\u001b[1;32m    539\u001b[0m warnings\u001b[38;5;241m.\u001b[39mwarn(_msg \u001b[38;5;241m%\u001b[39m \u001b[38;5;124m'\u001b[39m\u001b[38;5;124mcwt\u001b[39m\u001b[38;5;124m'\u001b[39m, \u001b[38;5;167;01mDeprecationWarning\u001b[39;00m, stacklevel\u001b[38;5;241m=\u001b[39m\u001b[38;5;241m2\u001b[39m)\n\u001b[0;32m--> 540\u001b[0m \u001b[38;5;28;01mreturn\u001b[39;00m \u001b[43m_cwt\u001b[49m\u001b[43m(\u001b[49m\u001b[43mdata\u001b[49m\u001b[43m,\u001b[49m\u001b[43m \u001b[49m\u001b[43mwavelet\u001b[49m\u001b[43m,\u001b[49m\u001b[43m \u001b[49m\u001b[43mwidths\u001b[49m\u001b[43m,\u001b[49m\u001b[43m \u001b[49m\u001b[43mdtype\u001b[49m\u001b[43m,\u001b[49m\u001b[43m \u001b[49m\u001b[38;5;241;43m*\u001b[39;49m\u001b[38;5;241;43m*\u001b[39;49m\u001b[43mkwargs\u001b[49m\u001b[43m)\u001b[49m\n",
      "File \u001b[0;32m~/miniconda3/envs/neuroposelib/lib/python3.9/site-packages/scipy/signal/_wavelets.py:555\u001b[0m, in \u001b[0;36m_cwt\u001b[0;34m(data, wavelet, widths, dtype, **kwargs)\u001b[0m\n\u001b[1;32m    553\u001b[0m     N \u001b[38;5;241m=\u001b[39m np\u001b[38;5;241m.\u001b[39mmin([\u001b[38;5;241m10\u001b[39m \u001b[38;5;241m*\u001b[39m width, \u001b[38;5;28mlen\u001b[39m(data)])\n\u001b[1;32m    554\u001b[0m     wavelet_data \u001b[38;5;241m=\u001b[39m np\u001b[38;5;241m.\u001b[39mconj(wavelet(N, width, \u001b[38;5;241m*\u001b[39m\u001b[38;5;241m*\u001b[39mkwargs)[::\u001b[38;5;241m-\u001b[39m\u001b[38;5;241m1\u001b[39m])\n\u001b[0;32m--> 555\u001b[0m     output[ind] \u001b[38;5;241m=\u001b[39m \u001b[43mconvolve\u001b[49m\u001b[43m(\u001b[49m\u001b[43mdata\u001b[49m\u001b[43m,\u001b[49m\u001b[43m \u001b[49m\u001b[43mwavelet_data\u001b[49m\u001b[43m,\u001b[49m\u001b[43m \u001b[49m\u001b[43mmode\u001b[49m\u001b[38;5;241;43m=\u001b[39;49m\u001b[38;5;124;43m'\u001b[39;49m\u001b[38;5;124;43msame\u001b[39;49m\u001b[38;5;124;43m'\u001b[39;49m\u001b[43m)\u001b[49m\n\u001b[1;32m    556\u001b[0m \u001b[38;5;28;01mreturn\u001b[39;00m output\n",
      "File \u001b[0;32m~/miniconda3/envs/neuroposelib/lib/python3.9/site-packages/scipy/signal/_signaltools.py:1404\u001b[0m, in \u001b[0;36mconvolve\u001b[0;34m(in1, in2, mode, method)\u001b[0m\n\u001b[1;32m   1402\u001b[0m     \u001b[38;5;28;01mreturn\u001b[39;00m volume \u001b[38;5;241m*\u001b[39m kernel\n\u001b[1;32m   1403\u001b[0m \u001b[38;5;28;01melif\u001b[39;00m volume\u001b[38;5;241m.\u001b[39mndim \u001b[38;5;241m!=\u001b[39m kernel\u001b[38;5;241m.\u001b[39mndim:\n\u001b[0;32m-> 1404\u001b[0m     \u001b[38;5;28;01mraise\u001b[39;00m \u001b[38;5;167;01mValueError\u001b[39;00m(\u001b[38;5;124m\"\u001b[39m\u001b[38;5;124mvolume and kernel should have the same \u001b[39m\u001b[38;5;124m\"\u001b[39m\n\u001b[1;32m   1405\u001b[0m                      \u001b[38;5;124m\"\u001b[39m\u001b[38;5;124mdimensionality\u001b[39m\u001b[38;5;124m\"\u001b[39m)\n\u001b[1;32m   1407\u001b[0m \u001b[38;5;28;01mif\u001b[39;00m _inputs_swap_needed(mode, volume\u001b[38;5;241m.\u001b[39mshape, kernel\u001b[38;5;241m.\u001b[39mshape):\n\u001b[1;32m   1408\u001b[0m     \u001b[38;5;66;03m# Convolution is commutative; order doesn't have any effect on output\u001b[39;00m\n\u001b[1;32m   1409\u001b[0m     volume, kernel \u001b[38;5;241m=\u001b[39m kernel, volume\n",
      "\u001b[0;31mValueError\u001b[0m: volume and kernel should have the same dimensionality"
     ]
    }
   ],
   "source": [
    "# import yaml\n",
    "# from pathlib import Path\n",
    "# import subprocess\n",
    "# import numpy as np\n",
    "# from neuroposelib import read, write, features\n",
    "\n",
    "# Path to precomputed features\n",
    "base_out_path = config[\"out_path\"]\n",
    "#\"/home/lq53/mir_repos/dappy_24_nov/byws_version/250109_opti_combinations/\"\n",
    "feature_files = {\n",
    "    \"ego_pose\": base_out_path + \"ego_pose.h5\",\n",
    "    \"angle\": base_out_path + \"angels.h5\",\n",
    "    \"velocity\": base_out_path + \"velocity.h5\",\n",
    "    \"angular_velocity\": base_out_path + \"angular_velocity.h5\",\n",
    "    \"head_angular\": base_out_path + \"head_angular.h5\",\n",
    "    \"euler_angles\": base_out_path + \"euler_angles.h5\",\n",
    "}\n",
    "\n",
    "# Feature combinations to test\n",
    "# feature_combinations = [\n",
    "#     [\"ego_pose\", \"angle\", \"velocity\"], #0\n",
    "#     [\"ego_pose\", \"angle\", \"velocity\", \"angular_velocity\"], #combo1\n",
    "#     [\"ego_pose\", \"angle\", \"velocity\", \"head_angular\"],\n",
    "#     [\"ego_pose\", \"angle\", \"velocity\", \"euler_angles\"],\n",
    "# ]\n",
    "feature_combinations = [\n",
    "    [\"ego_pose\", \"angle\"],\n",
    "    [\"velocity\"],\n",
    "    [\"angular_velocity\"],\n",
    "]\n",
    "\n",
    "# Iterate over combinations\n",
    "for i, combination in enumerate(feature_combinations):\n",
    "    # Set up paths\n",
    "    out_path = f\"{base_out_path}combo_{i}/\"\n",
    "    Path(out_path).mkdir(parents=True, exist_ok=True)\n",
    "\n",
    "    # Load and combine selected features\n",
    "    combined_features = []\n",
    "    combined_labels = []\n",
    "\n",
    "    for feature in combination:\n",
    "        # features_data, labels = read.features_h5(feature_files[feature])\n",
    "        # combined_features.append(features_data)\n",
    "        # combined_labels += labels\n",
    "        \n",
    "        # features_data, labels = read.features_h5(feature_files[feature])\n",
    "        # combined_features.append(features_data)\n",
    "\n",
    "        # # Repeat labels for each row in the feature\n",
    "        # labels_repeated = np.tile(labels, (features_data.shape[0] // len(labels), 1))\n",
    "        # combined_labels.append(labels_repeated)\n",
    "\n",
    "        features_data, labels = read.features_h5(feature_files[feature])\n",
    "        combined_features.append(features_data)\n",
    "\n",
    "    combined_features = np.hstack(combined_features)\n",
    "    # combined_labels = np.vstack(combined_labels)\n",
    "\n",
    "\n",
    "    # Perform PCA\n",
    "    pc_feats, pc_labels = pca(\n",
    "        combined_features,\n",
    "        combined_labels,\n",
    "        categories=combination,\n",
    "        n_pcs=10,\n",
    "        method=\"fbpca\",\n",
    "    )\n",
    "    write.features_h5(pc_feats, pc_labels, path=out_path + \"pca_features.h5\")\n",
    "\n",
    "    # Wavelet transformation\n",
    "    wlet_feats, wlet_labels = features.wavelet(\n",
    "        pc_feats, pc_labels, ids=None, f_s=30, freq=np.linspace(1, 25, 25), w0=5\n",
    "    )\n",
    "    write.features_h5(wlet_feats, wlet_labels, path=out_path + \"wavelets.h5\")\n",
    "\n",
    "    # PCA on wavelet features\n",
    "    pc_wlet, pc_wlet_labels = features.pca(\n",
    "        wlet_feats, wlet_labels, categories=[\"wlet_ang\"], n_pcs=5, method=\"fbpca\"\n",
    "    )\n",
    "    del wlet_feats, wlet_labels\n",
    "    pc_feats = np.hstack((pc_feats, pc_wlet))\n",
    "    pc_labels += pc_wlet_labels\n",
    "    del pc_wlet, pc_wlet_labels\n",
    "\n",
    "    \n",
    "    write.features_h5(pc_feats, pc_labels, path=out_path + \"pca_on_wavelets.h5\")\n",
    "\n",
    "    # Embedding and clustering\n",
    "    data_obj = ds.DataStruct(\n",
    "    pose=pose,\n",
    "    id=ids,\n",
    "    meta=meta,\n",
    "    meta_by_frame=meta_by_frame,\n",
    "    connectivity=connectivity,\n",
    "    )\n",
    "\n",
    "\n",
    "    data_obj.features = pc_feats\n",
    "    data_obj = data_obj[:: config[\"downsample\"], :]\n",
    "\n",
    "    embedder = Embed(\n",
    "        embed_method=config[\"single_embed\"][\"method\"],\n",
    "        perplexity=config[\"single_embed\"][\"perplexity\"],\n",
    "        lr=config[\"single_embed\"][\"lr\"],\n",
    "    )\n",
    "    data_obj.embed_vals = embedder.embed(data_obj.features, save_self=True)\n",
    "\n",
    "    data_obj.ws = Watershed(\n",
    "        sigma=config[\"single_embed\"][\"sigma\"], max_clip=1, log_out=True, pad_factor=0.05\n",
    "    )\n",
    "    data_obj.data[\"Cluster\"] = data_obj.ws.fit_predict(data=data_obj.embed_vals)\n",
    "    data_obj.write_pickle(out_path + \"data_object.pkl\")\n",
    "\n",
    "    # Save cluster frequencies\n",
    "    freq, combined_keys = analysis.cluster_freq_by_cat(\n",
    "        data_obj.data[\"Cluster\"].values, cat=data_obj.id\n",
    "    )\n",
    "    freq_df = pd.DataFrame(freq.T, columns=combined_keys)\n",
    "    freq_df.to_csv(out_path + \"cluster_occupancy.csv\")\n",
    "\n",
    "    # Visualization\n",
    "    vis.pose.sample_grid3D(\n",
    "    pose-pose.mean(axis=-2, keepdims=True),\n",
    "    connectivity=connectivity,\n",
    "    labels=data_obj.data[\"Cluster\"],\n",
    "    n_samples=9,\n",
    "    centered=True,\n",
    "    N_FRAMES=100,\n",
    "    fps=30,\n",
    "    dpi=100,\n",
    "    watershed=data_obj.ws,\n",
    "    embed_vals=None,\n",
    "    VID_NAME = \"cluster\",\n",
    "    filepath=config[\"out_path\"],\n",
    "    )\n",
    "\n",
    "    print(f\"Combination {i}: {combination} completed and saved to {out_path}.\")\n",
    "\n",
    "print(\"All combinations processed.\")"
   ]
  },
  {
   "cell_type": "code",
   "execution_count": 27,
   "metadata": {},
   "outputs": [
    {
     "name": "stdout",
     "output_type": "stream",
     "text": [
      "Combination 0: ['ego_pose', 'angle']\n",
      "Combined features shape: (3539000, 121)\n"
     ]
    }
   ],
   "source": [
    "print(f\"Combination {i}: {combination}\")\n",
    "print(f\"Combined features shape: {combined_features.shape}\")\n"
   ]
  },
  {
   "cell_type": "code",
   "execution_count": 20,
   "metadata": {},
   "outputs": [
    {
     "name": "stdout",
     "output_type": "stream",
     "text": [
      "Features loaded at path /home/lq53/mir_repos/dappy_24_nov/byws_version/250109_opti_combb/50_p/ego_pose.h5\n",
      "Feature: ego_pose, Labels shape: ['ego_euc_EarL_x', 'ego_euc_EarL_y', 'ego_euc_EarL_z', 'ego_euc_EarR_x', 'ego_euc_EarR_y', 'ego_euc_EarR_z', 'ego_euc_Snout_x', 'ego_euc_Snout_y', 'ego_euc_Snout_z', 'ego_euc_SpineF_x', 'ego_euc_SpineF_y', 'ego_euc_SpineF_z', 'ego_euc_SpineM_x', 'ego_euc_SpineM_y', 'ego_euc_SpineM_z', 'ego_euc_Tail(base)_x', 'ego_euc_Tail(base)_y', 'ego_euc_Tail(base)_z', 'ego_euc_Tail(mid)_x', 'ego_euc_Tail(mid)_y', 'ego_euc_Tail(mid)_z', 'ego_euc_Tail(end)_x', 'ego_euc_Tail(end)_y', 'ego_euc_Tail(end)_z', 'ego_euc_ForepawL_x', 'ego_euc_ForepawL_y', 'ego_euc_ForepawL_z', 'ego_euc_WristL_x', 'ego_euc_WristL_y', 'ego_euc_WristL_z', 'ego_euc_ElbowL_x', 'ego_euc_ElbowL_y', 'ego_euc_ElbowL_z', 'ego_euc_ShoulderL_x', 'ego_euc_ShoulderL_y', 'ego_euc_ShoulderL_z', 'ego_euc_ForepawR_x', 'ego_euc_ForepawR_y', 'ego_euc_ForepawR_z', 'ego_euc_WristR_x', 'ego_euc_WristR_y', 'ego_euc_WristR_z', 'ego_euc_ElbowR_x', 'ego_euc_ElbowR_y', 'ego_euc_ElbowR_z', 'ego_euc_ShoulderR_x', 'ego_euc_ShoulderR_y', 'ego_euc_ShoulderR_z', 'ego_euc_HindpawL_x', 'ego_euc_HindpawL_y', 'ego_euc_HindpawL_z', 'ego_euc_AnkleL_x', 'ego_euc_AnkleL_y', 'ego_euc_AnkleL_z', 'ego_euc_KneeL_x', 'ego_euc_KneeL_y', 'ego_euc_KneeL_z', 'ego_euc_HindpawR_x', 'ego_euc_HindpawR_y', 'ego_euc_HindpawR_z', 'ego_euc_AnkleR_x', 'ego_euc_AnkleR_y', 'ego_euc_AnkleR_z', 'ego_euc_KneeR,_x', 'ego_euc_KneeR,_y', 'ego_euc_KneeR,_z']\n",
      "Features loaded at path /home/lq53/mir_repos/dappy_24_nov/byws_version/250109_opti_combb/50_p/angels.h5\n",
      "Feature: angle, Labels shape: ['ego_euc_EarL_x', 'ego_euc_EarL_y', 'ego_euc_EarL_z', 'ego_euc_EarR_x', 'ego_euc_EarR_y', 'ego_euc_EarR_z', 'ego_euc_Snout_x', 'ego_euc_Snout_y', 'ego_euc_Snout_z', 'ego_euc_SpineF_x', 'ego_euc_SpineF_y', 'ego_euc_SpineF_z', 'ego_euc_SpineM_x', 'ego_euc_SpineM_y', 'ego_euc_SpineM_z', 'ego_euc_Tail(base)_x', 'ego_euc_Tail(base)_y', 'ego_euc_Tail(base)_z', 'ego_euc_Tail(mid)_x', 'ego_euc_Tail(mid)_y', 'ego_euc_Tail(mid)_z', 'ego_euc_Tail(end)_x', 'ego_euc_Tail(end)_y', 'ego_euc_Tail(end)_z', 'ego_euc_ForepawL_x', 'ego_euc_ForepawL_y', 'ego_euc_ForepawL_z', 'ego_euc_WristL_x', 'ego_euc_WristL_y', 'ego_euc_WristL_z', 'ego_euc_ElbowL_x', 'ego_euc_ElbowL_y', 'ego_euc_ElbowL_z', 'ego_euc_ShoulderL_x', 'ego_euc_ShoulderL_y', 'ego_euc_ShoulderL_z', 'ego_euc_ForepawR_x', 'ego_euc_ForepawR_y', 'ego_euc_ForepawR_z', 'ego_euc_WristR_x', 'ego_euc_WristR_y', 'ego_euc_WristR_z', 'ego_euc_ElbowR_x', 'ego_euc_ElbowR_y', 'ego_euc_ElbowR_z', 'ego_euc_ShoulderR_x', 'ego_euc_ShoulderR_y', 'ego_euc_ShoulderR_z', 'ego_euc_HindpawL_x', 'ego_euc_HindpawL_y', 'ego_euc_HindpawL_z', 'ego_euc_AnkleL_x', 'ego_euc_AnkleL_y', 'ego_euc_AnkleL_z', 'ego_euc_KneeL_x', 'ego_euc_KneeL_y', 'ego_euc_KneeL_z', 'ego_euc_HindpawR_x', 'ego_euc_HindpawR_y', 'ego_euc_HindpawR_z', 'ego_euc_AnkleR_x', 'ego_euc_AnkleR_y', 'ego_euc_AnkleR_z', 'ego_euc_KneeR,_x', 'ego_euc_KneeR,_y', 'ego_euc_KneeR,_z']\n",
      "Features loaded at path /home/lq53/mir_repos/dappy_24_nov/byws_version/250109_opti_combb/50_p/velocity.h5\n",
      "Feature: velocity, Labels shape: ['abs_vel_norm_EarL_11', 'abs_vel_x_EarL_11', 'abs_vel_y_EarL_11', 'abs_vel_z_EarL_11', 'abs_vel_norm_EarR_11', 'abs_vel_x_EarR_11', 'abs_vel_y_EarR_11', 'abs_vel_z_EarR_11', 'abs_vel_norm_Snout_11', 'abs_vel_x_Snout_11', 'abs_vel_y_Snout_11', 'abs_vel_z_Snout_11', 'abs_vel_norm_SpineF_11', 'abs_vel_x_SpineF_11', 'abs_vel_y_SpineF_11', 'abs_vel_z_SpineF_11', 'abs_vel_norm_Tail(base)_11', 'abs_vel_x_Tail(base)_11', 'abs_vel_y_Tail(base)_11', 'abs_vel_z_Tail(base)_11', 'abs_vel_norm_Tail(mid)_11', 'abs_vel_x_Tail(mid)_11', 'abs_vel_y_Tail(mid)_11', 'abs_vel_z_Tail(mid)_11', 'abs_vel_norm_Tail(end)_11', 'abs_vel_x_Tail(end)_11', 'abs_vel_y_Tail(end)_11', 'abs_vel_z_Tail(end)_11', 'abs_vel_norm_ForepawL_11', 'abs_vel_x_ForepawL_11', 'abs_vel_y_ForepawL_11', 'abs_vel_z_ForepawL_11', 'abs_vel_norm_WristL_11', 'abs_vel_x_WristL_11', 'abs_vel_y_WristL_11', 'abs_vel_z_WristL_11', 'abs_vel_norm_ElbowL_11', 'abs_vel_x_ElbowL_11', 'abs_vel_y_ElbowL_11', 'abs_vel_z_ElbowL_11', 'abs_vel_norm_ShoulderL_11', 'abs_vel_x_ShoulderL_11', 'abs_vel_y_ShoulderL_11', 'abs_vel_z_ShoulderL_11', 'abs_vel_norm_ForepawR_11', 'abs_vel_x_ForepawR_11', 'abs_vel_y_ForepawR_11', 'abs_vel_z_ForepawR_11', 'abs_vel_norm_WristR_11', 'abs_vel_x_WristR_11', 'abs_vel_y_WristR_11', 'abs_vel_z_WristR_11', 'abs_vel_norm_ElbowR_11', 'abs_vel_x_ElbowR_11', 'abs_vel_y_ElbowR_11', 'abs_vel_z_ElbowR_11', 'abs_vel_norm_ShoulderR_11', 'abs_vel_x_ShoulderR_11', 'abs_vel_y_ShoulderR_11', 'abs_vel_z_ShoulderR_11', 'abs_vel_norm_HindpawL_11', 'abs_vel_x_HindpawL_11', 'abs_vel_y_HindpawL_11', 'abs_vel_z_HindpawL_11', 'abs_vel_norm_AnkleL_11', 'abs_vel_x_AnkleL_11', 'abs_vel_y_AnkleL_11', 'abs_vel_z_AnkleL_11', 'abs_vel_norm_EarL_23', 'abs_vel_x_EarL_23', 'abs_vel_y_EarL_23', 'abs_vel_z_EarL_23', 'abs_vel_norm_EarR_23', 'abs_vel_x_EarR_23', 'abs_vel_y_EarR_23', 'abs_vel_z_EarR_23', 'abs_vel_norm_Snout_23', 'abs_vel_x_Snout_23', 'abs_vel_y_Snout_23', 'abs_vel_z_Snout_23', 'abs_vel_norm_SpineF_23', 'abs_vel_x_SpineF_23', 'abs_vel_y_SpineF_23', 'abs_vel_z_SpineF_23', 'abs_vel_norm_Tail(base)_23', 'abs_vel_x_Tail(base)_23', 'abs_vel_y_Tail(base)_23', 'abs_vel_z_Tail(base)_23', 'abs_vel_norm_Tail(mid)_23', 'abs_vel_x_Tail(mid)_23', 'abs_vel_y_Tail(mid)_23', 'abs_vel_z_Tail(mid)_23', 'abs_vel_norm_Tail(end)_23', 'abs_vel_x_Tail(end)_23', 'abs_vel_y_Tail(end)_23', 'abs_vel_z_Tail(end)_23', 'abs_vel_norm_ForepawL_23', 'abs_vel_x_ForepawL_23', 'abs_vel_y_ForepawL_23', 'abs_vel_z_ForepawL_23', 'abs_vel_norm_WristL_23', 'abs_vel_x_WristL_23', 'abs_vel_y_WristL_23', 'abs_vel_z_WristL_23', 'abs_vel_norm_ElbowL_23', 'abs_vel_x_ElbowL_23', 'abs_vel_y_ElbowL_23', 'abs_vel_z_ElbowL_23', 'abs_vel_norm_ShoulderL_23', 'abs_vel_x_ShoulderL_23', 'abs_vel_y_ShoulderL_23', 'abs_vel_z_ShoulderL_23', 'abs_vel_norm_ForepawR_23', 'abs_vel_x_ForepawR_23', 'abs_vel_y_ForepawR_23', 'abs_vel_z_ForepawR_23', 'abs_vel_norm_WristR_23', 'abs_vel_x_WristR_23', 'abs_vel_y_WristR_23', 'abs_vel_z_WristR_23', 'abs_vel_norm_ElbowR_23', 'abs_vel_x_ElbowR_23', 'abs_vel_y_ElbowR_23', 'abs_vel_z_ElbowR_23', 'abs_vel_norm_ShoulderR_23', 'abs_vel_x_ShoulderR_23', 'abs_vel_y_ShoulderR_23', 'abs_vel_z_ShoulderR_23', 'abs_vel_norm_HindpawL_23', 'abs_vel_x_HindpawL_23', 'abs_vel_y_HindpawL_23', 'abs_vel_z_HindpawL_23', 'abs_vel_norm_AnkleL_23', 'abs_vel_x_AnkleL_23', 'abs_vel_y_AnkleL_23', 'abs_vel_z_AnkleL_23', 'abs_vel_norm_EarL_103', 'abs_vel_x_EarL_103', 'abs_vel_y_EarL_103', 'abs_vel_z_EarL_103', 'abs_vel_norm_EarR_103', 'abs_vel_x_EarR_103', 'abs_vel_y_EarR_103', 'abs_vel_z_EarR_103', 'abs_vel_norm_Snout_103', 'abs_vel_x_Snout_103', 'abs_vel_y_Snout_103', 'abs_vel_z_Snout_103', 'abs_vel_norm_SpineF_103', 'abs_vel_x_SpineF_103', 'abs_vel_y_SpineF_103', 'abs_vel_z_SpineF_103', 'abs_vel_norm_Tail(base)_103', 'abs_vel_x_Tail(base)_103', 'abs_vel_y_Tail(base)_103', 'abs_vel_z_Tail(base)_103', 'abs_vel_norm_Tail(mid)_103', 'abs_vel_x_Tail(mid)_103', 'abs_vel_y_Tail(mid)_103', 'abs_vel_z_Tail(mid)_103', 'abs_vel_norm_Tail(end)_103', 'abs_vel_x_Tail(end)_103', 'abs_vel_y_Tail(end)_103', 'abs_vel_z_Tail(end)_103', 'abs_vel_norm_ForepawL_103', 'abs_vel_x_ForepawL_103', 'abs_vel_y_ForepawL_103', 'abs_vel_z_ForepawL_103', 'abs_vel_norm_WristL_103', 'abs_vel_x_WristL_103', 'abs_vel_y_WristL_103', 'abs_vel_z_WristL_103', 'abs_vel_norm_ElbowL_103', 'abs_vel_x_ElbowL_103', 'abs_vel_y_ElbowL_103', 'abs_vel_z_ElbowL_103', 'abs_vel_norm_ShoulderL_103', 'abs_vel_x_ShoulderL_103', 'abs_vel_y_ShoulderL_103', 'abs_vel_z_ShoulderL_103', 'abs_vel_norm_ForepawR_103', 'abs_vel_x_ForepawR_103', 'abs_vel_y_ForepawR_103', 'abs_vel_z_ForepawR_103', 'abs_vel_norm_WristR_103', 'abs_vel_x_WristR_103', 'abs_vel_y_WristR_103', 'abs_vel_z_WristR_103', 'abs_vel_norm_ElbowR_103', 'abs_vel_x_ElbowR_103', 'abs_vel_y_ElbowR_103', 'abs_vel_z_ElbowR_103', 'abs_vel_norm_ShoulderR_103', 'abs_vel_x_ShoulderR_103', 'abs_vel_y_ShoulderR_103', 'abs_vel_z_ShoulderR_103', 'abs_vel_norm_HindpawL_103', 'abs_vel_x_HindpawL_103', 'abs_vel_y_HindpawL_103', 'abs_vel_z_HindpawL_103', 'abs_vel_norm_AnkleL_103', 'abs_vel_x_AnkleL_103', 'abs_vel_y_AnkleL_103', 'abs_vel_z_AnkleL_103', 'abs_vel_std_norm_EarL_11', 'abs_vel_std_x_EarL_11', 'abs_vel_std_y_EarL_11', 'abs_vel_std_z_EarL_11', 'abs_vel_std_norm_EarR_11', 'abs_vel_std_x_EarR_11', 'abs_vel_std_y_EarR_11', 'abs_vel_std_z_EarR_11', 'abs_vel_std_norm_Snout_11', 'abs_vel_std_x_Snout_11', 'abs_vel_std_y_Snout_11', 'abs_vel_std_z_Snout_11', 'abs_vel_std_norm_SpineF_11', 'abs_vel_std_x_SpineF_11', 'abs_vel_std_y_SpineF_11', 'abs_vel_std_z_SpineF_11', 'abs_vel_std_norm_Tail(base)_11', 'abs_vel_std_x_Tail(base)_11', 'abs_vel_std_y_Tail(base)_11', 'abs_vel_std_z_Tail(base)_11', 'abs_vel_std_norm_Tail(mid)_11', 'abs_vel_std_x_Tail(mid)_11', 'abs_vel_std_y_Tail(mid)_11', 'abs_vel_std_z_Tail(mid)_11', 'abs_vel_std_norm_Tail(end)_11', 'abs_vel_std_x_Tail(end)_11', 'abs_vel_std_y_Tail(end)_11', 'abs_vel_std_z_Tail(end)_11', 'abs_vel_std_norm_ForepawL_11', 'abs_vel_std_x_ForepawL_11', 'abs_vel_std_y_ForepawL_11', 'abs_vel_std_z_ForepawL_11', 'abs_vel_std_norm_WristL_11', 'abs_vel_std_x_WristL_11', 'abs_vel_std_y_WristL_11', 'abs_vel_std_z_WristL_11', 'abs_vel_std_norm_ElbowL_11', 'abs_vel_std_x_ElbowL_11', 'abs_vel_std_y_ElbowL_11', 'abs_vel_std_z_ElbowL_11', 'abs_vel_std_norm_ShoulderL_11', 'abs_vel_std_x_ShoulderL_11', 'abs_vel_std_y_ShoulderL_11', 'abs_vel_std_z_ShoulderL_11', 'abs_vel_std_norm_ForepawR_11', 'abs_vel_std_x_ForepawR_11', 'abs_vel_std_y_ForepawR_11', 'abs_vel_std_z_ForepawR_11', 'abs_vel_std_norm_WristR_11', 'abs_vel_std_x_WristR_11', 'abs_vel_std_y_WristR_11', 'abs_vel_std_z_WristR_11', 'abs_vel_std_norm_ElbowR_11', 'abs_vel_std_x_ElbowR_11', 'abs_vel_std_y_ElbowR_11', 'abs_vel_std_z_ElbowR_11', 'abs_vel_std_norm_ShoulderR_11', 'abs_vel_std_x_ShoulderR_11', 'abs_vel_std_y_ShoulderR_11', 'abs_vel_std_z_ShoulderR_11', 'abs_vel_std_norm_HindpawL_11', 'abs_vel_std_x_HindpawL_11', 'abs_vel_std_y_HindpawL_11', 'abs_vel_std_z_HindpawL_11', 'abs_vel_std_norm_AnkleL_11', 'abs_vel_std_x_AnkleL_11', 'abs_vel_std_y_AnkleL_11', 'abs_vel_std_z_AnkleL_11', 'abs_vel_std_norm_EarL_23', 'abs_vel_std_x_EarL_23', 'abs_vel_std_y_EarL_23', 'abs_vel_std_z_EarL_23', 'abs_vel_std_norm_EarR_23', 'abs_vel_std_x_EarR_23', 'abs_vel_std_y_EarR_23', 'abs_vel_std_z_EarR_23', 'abs_vel_std_norm_Snout_23', 'abs_vel_std_x_Snout_23', 'abs_vel_std_y_Snout_23', 'abs_vel_std_z_Snout_23', 'abs_vel_std_norm_SpineF_23', 'abs_vel_std_x_SpineF_23', 'abs_vel_std_y_SpineF_23', 'abs_vel_std_z_SpineF_23', 'abs_vel_std_norm_Tail(base)_23', 'abs_vel_std_x_Tail(base)_23', 'abs_vel_std_y_Tail(base)_23', 'abs_vel_std_z_Tail(base)_23', 'abs_vel_std_norm_Tail(mid)_23', 'abs_vel_std_x_Tail(mid)_23', 'abs_vel_std_y_Tail(mid)_23', 'abs_vel_std_z_Tail(mid)_23', 'abs_vel_std_norm_Tail(end)_23', 'abs_vel_std_x_Tail(end)_23', 'abs_vel_std_y_Tail(end)_23', 'abs_vel_std_z_Tail(end)_23', 'abs_vel_std_norm_ForepawL_23', 'abs_vel_std_x_ForepawL_23', 'abs_vel_std_y_ForepawL_23', 'abs_vel_std_z_ForepawL_23', 'abs_vel_std_norm_WristL_23', 'abs_vel_std_x_WristL_23', 'abs_vel_std_y_WristL_23', 'abs_vel_std_z_WristL_23', 'abs_vel_std_norm_ElbowL_23', 'abs_vel_std_x_ElbowL_23', 'abs_vel_std_y_ElbowL_23', 'abs_vel_std_z_ElbowL_23', 'abs_vel_std_norm_ShoulderL_23', 'abs_vel_std_x_ShoulderL_23', 'abs_vel_std_y_ShoulderL_23', 'abs_vel_std_z_ShoulderL_23', 'abs_vel_std_norm_ForepawR_23', 'abs_vel_std_x_ForepawR_23', 'abs_vel_std_y_ForepawR_23', 'abs_vel_std_z_ForepawR_23', 'abs_vel_std_norm_WristR_23', 'abs_vel_std_x_WristR_23', 'abs_vel_std_y_WristR_23', 'abs_vel_std_z_WristR_23', 'abs_vel_std_norm_ElbowR_23', 'abs_vel_std_x_ElbowR_23', 'abs_vel_std_y_ElbowR_23', 'abs_vel_std_z_ElbowR_23', 'abs_vel_std_norm_ShoulderR_23', 'abs_vel_std_x_ShoulderR_23', 'abs_vel_std_y_ShoulderR_23', 'abs_vel_std_z_ShoulderR_23', 'abs_vel_std_norm_HindpawL_23', 'abs_vel_std_x_HindpawL_23', 'abs_vel_std_y_HindpawL_23', 'abs_vel_std_z_HindpawL_23', 'abs_vel_std_norm_AnkleL_23', 'abs_vel_std_x_AnkleL_23', 'abs_vel_std_y_AnkleL_23', 'abs_vel_std_z_AnkleL_23', 'abs_vel_std_norm_EarL_103', 'abs_vel_std_x_EarL_103', 'abs_vel_std_y_EarL_103', 'abs_vel_std_z_EarL_103', 'abs_vel_std_norm_EarR_103', 'abs_vel_std_x_EarR_103', 'abs_vel_std_y_EarR_103', 'abs_vel_std_z_EarR_103', 'abs_vel_std_norm_Snout_103', 'abs_vel_std_x_Snout_103', 'abs_vel_std_y_Snout_103', 'abs_vel_std_z_Snout_103', 'abs_vel_std_norm_SpineF_103', 'abs_vel_std_x_SpineF_103', 'abs_vel_std_y_SpineF_103', 'abs_vel_std_z_SpineF_103', 'abs_vel_std_norm_Tail(base)_103', 'abs_vel_std_x_Tail(base)_103', 'abs_vel_std_y_Tail(base)_103', 'abs_vel_std_z_Tail(base)_103', 'abs_vel_std_norm_Tail(mid)_103', 'abs_vel_std_x_Tail(mid)_103', 'abs_vel_std_y_Tail(mid)_103', 'abs_vel_std_z_Tail(mid)_103', 'abs_vel_std_norm_Tail(end)_103', 'abs_vel_std_x_Tail(end)_103', 'abs_vel_std_y_Tail(end)_103', 'abs_vel_std_z_Tail(end)_103', 'abs_vel_std_norm_ForepawL_103', 'abs_vel_std_x_ForepawL_103', 'abs_vel_std_y_ForepawL_103', 'abs_vel_std_z_ForepawL_103', 'abs_vel_std_norm_WristL_103', 'abs_vel_std_x_WristL_103', 'abs_vel_std_y_WristL_103', 'abs_vel_std_z_WristL_103', 'abs_vel_std_norm_ElbowL_103', 'abs_vel_std_x_ElbowL_103', 'abs_vel_std_y_ElbowL_103', 'abs_vel_std_z_ElbowL_103', 'abs_vel_std_norm_ShoulderL_103', 'abs_vel_std_x_ShoulderL_103', 'abs_vel_std_y_ShoulderL_103', 'abs_vel_std_z_ShoulderL_103', 'abs_vel_std_norm_ForepawR_103', 'abs_vel_std_x_ForepawR_103', 'abs_vel_std_y_ForepawR_103', 'abs_vel_std_z_ForepawR_103', 'abs_vel_std_norm_WristR_103', 'abs_vel_std_x_WristR_103', 'abs_vel_std_y_WristR_103', 'abs_vel_std_z_WristR_103', 'abs_vel_std_norm_ElbowR_103', 'abs_vel_std_x_ElbowR_103', 'abs_vel_std_y_ElbowR_103', 'abs_vel_std_z_ElbowR_103', 'abs_vel_std_norm_ShoulderR_103', 'abs_vel_std_x_ShoulderR_103', 'abs_vel_std_y_ShoulderR_103', 'abs_vel_std_z_ShoulderR_103', 'abs_vel_std_norm_HindpawL_103', 'abs_vel_std_x_HindpawL_103', 'abs_vel_std_y_HindpawL_103', 'abs_vel_std_z_HindpawL_103', 'abs_vel_std_norm_AnkleL_103', 'abs_vel_std_x_AnkleL_103', 'abs_vel_std_y_AnkleL_103', 'abs_vel_std_z_AnkleL_103']\n"
     ]
    }
   ],
   "source": [
    "for feature in combination:\n",
    "    features_data, labels = read.features_h5(feature_files[feature])\n",
    "    print(f\"Feature: {feature}, Labels shape: {labels}\")\n"
   ]
  },
  {
   "cell_type": "code",
   "execution_count": 16,
   "metadata": {},
   "outputs": [
    {
     "name": "stdout",
     "output_type": "stream",
     "text": [
      "Combined features shape: (3539000, 529)\n",
      "Combined labels length: 540\n"
     ]
    },
    {
     "ename": "AssertionError",
     "evalue": "Mismatch in feature and label dimensions",
     "output_type": "error",
     "traceback": [
      "\u001b[0;31m---------------------------------------------------------------------------\u001b[0m",
      "\u001b[0;31mAssertionError\u001b[0m                            Traceback (most recent call last)",
      "Cell \u001b[0;32mIn[16], line 3\u001b[0m\n\u001b[1;32m      1\u001b[0m \u001b[38;5;28mprint\u001b[39m(\u001b[38;5;124mf\u001b[39m\u001b[38;5;124m\"\u001b[39m\u001b[38;5;124mCombined features shape: \u001b[39m\u001b[38;5;132;01m{\u001b[39;00mcombined_features\u001b[38;5;241m.\u001b[39mshape\u001b[38;5;132;01m}\u001b[39;00m\u001b[38;5;124m\"\u001b[39m)\n\u001b[1;32m      2\u001b[0m \u001b[38;5;28mprint\u001b[39m(\u001b[38;5;124mf\u001b[39m\u001b[38;5;124m\"\u001b[39m\u001b[38;5;124mCombined labels length: \u001b[39m\u001b[38;5;132;01m{\u001b[39;00m\u001b[38;5;28mlen\u001b[39m(combined_labels)\u001b[38;5;132;01m}\u001b[39;00m\u001b[38;5;124m\"\u001b[39m)\n\u001b[0;32m----> 3\u001b[0m \u001b[38;5;28;01massert\u001b[39;00m combined_features\u001b[38;5;241m.\u001b[39mshape[\u001b[38;5;241m0\u001b[39m] \u001b[38;5;241m==\u001b[39m \u001b[38;5;28mlen\u001b[39m(combined_labels), \u001b[38;5;124m\"\u001b[39m\u001b[38;5;124mMismatch in feature and label dimensions\u001b[39m\u001b[38;5;124m\"\u001b[39m\n",
      "\u001b[0;31mAssertionError\u001b[0m: Mismatch in feature and label dimensions"
     ]
    }
   ],
   "source": [
    "print(f\"Combined features shape: {combined_features.shape}\")\n",
    "print(f\"Combined labels length: {len(combined_labels)}\")\n",
    "assert combined_features.shape[0] == len(combined_labels), \"Mismatch in feature and label dimensions\"\n"
   ]
  },
  {
   "cell_type": "code",
   "execution_count": 22,
   "metadata": {},
   "outputs": [
    {
     "name": "stdout",
     "output_type": "stream",
     "text": [
      "Features loaded at path /home/lq53/mir_repos/dappy_24_nov/byws_version/250109_opti_combb/50_p/ego_pose.h5\n",
      "Feature: ego_pose, Number of Labels: 66\n",
      "Labels: ['ego_euc_EarL_x', 'ego_euc_EarL_y', 'ego_euc_EarL_z', 'ego_euc_EarR_x', 'ego_euc_EarR_y', 'ego_euc_EarR_z', 'ego_euc_Snout_x', 'ego_euc_Snout_y', 'ego_euc_Snout_z', 'ego_euc_SpineF_x']...\n",
      "--------------------------------------------------\n",
      "Features loaded at path /home/lq53/mir_repos/dappy_24_nov/byws_version/250109_opti_combb/50_p/angels.h5\n",
      "Feature: angle, Number of Labels: 66\n",
      "Labels: ['ego_euc_EarL_x', 'ego_euc_EarL_y', 'ego_euc_EarL_z', 'ego_euc_EarR_x', 'ego_euc_EarR_y', 'ego_euc_EarR_z', 'ego_euc_Snout_x', 'ego_euc_Snout_y', 'ego_euc_Snout_z', 'ego_euc_SpineF_x']...\n",
      "--------------------------------------------------\n",
      "Features loaded at path /home/lq53/mir_repos/dappy_24_nov/byws_version/250109_opti_combb/50_p/velocity.h5\n",
      "Feature: velocity, Number of Labels: 408\n",
      "Labels: ['abs_vel_norm_EarL_11', 'abs_vel_x_EarL_11', 'abs_vel_y_EarL_11', 'abs_vel_z_EarL_11', 'abs_vel_norm_EarR_11', 'abs_vel_x_EarR_11', 'abs_vel_y_EarR_11', 'abs_vel_z_EarR_11', 'abs_vel_norm_Snout_11', 'abs_vel_x_Snout_11']...\n",
      "--------------------------------------------------\n",
      "Features loaded at path /home/lq53/mir_repos/dappy_24_nov/byws_version/250109_opti_combb/50_p/angular_velocity.h5\n",
      "Feature: angular_velocity, Number of Labels: 330\n",
      "Labels: ['avel_2_1_3_11', 'avel_2_0_3_11', 'avel_1_3_4_11', 'avel_0_3_4_11', 'avel_2_3_4_11', 'avel_3_4_5_11', 'avel_1_3_15_11', 'avel_0_3_15_11', 'avel_2_3_15_11', 'avel_4_3_15_11']...\n",
      "--------------------------------------------------\n",
      "Features loaded at path /home/lq53/mir_repos/dappy_24_nov/byws_version/250109_opti_combb/50_p/head_angular.h5\n",
      "Feature: head_angular, Number of Labels: 1\n",
      "Labels: ['head_angular']...\n",
      "--------------------------------------------------\n",
      "Features loaded at path /home/lq53/mir_repos/dappy_24_nov/byws_version/250109_opti_combb/50_p/euler_angles.h5\n",
      "Feature: euler_angles, Number of Labels: 165\n",
      "Labels: ['ang_2_1_3_xy', 'ang_2_1_3_xz', 'ang_2_1_3_yz', 'ang_2_0_3_xy', 'ang_2_0_3_xz', 'ang_2_0_3_yz', 'ang_1_3_4_xy', 'ang_1_3_4_xz', 'ang_1_3_4_yz', 'ang_0_3_4_xy']...\n",
      "--------------------------------------------------\n"
     ]
    }
   ],
   "source": [
    "for feature in feature_files.keys():\n",
    "    _, labels = read.features_h5(feature_files[feature])\n",
    "    print(f\"Feature: {feature}, Number of Labels: {len(labels)}\")\n",
    "    print(f\"Labels: {labels[:10]}...\")  # Print a preview of the first 10 labels\n",
    "    print(\"-\" * 50)\n"
   ]
  }
 ],
 "metadata": {
  "kernelspec": {
   "display_name": "neuroposelib",
   "language": "python",
   "name": "python3"
  },
  "language_info": {
   "codemirror_mode": {
    "name": "ipython",
    "version": 3
   },
   "file_extension": ".py",
   "mimetype": "text/x-python",
   "name": "python",
   "nbconvert_exporter": "python",
   "pygments_lexer": "ipython3",
   "version": "3.9.19"
  }
 },
 "nbformat": 4,
 "nbformat_minor": 2
}
